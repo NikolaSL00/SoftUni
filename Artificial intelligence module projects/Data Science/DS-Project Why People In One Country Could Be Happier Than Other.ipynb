{
 "cells": [
  {
   "cell_type": "code",
   "execution_count": 1,
   "id": "dbe387b1",
   "metadata": {},
   "outputs": [],
   "source": [
    "%matplotlib inline"
   ]
  },
  {
   "cell_type": "code",
   "execution_count": 2,
   "id": "428d84de",
   "metadata": {},
   "outputs": [],
   "source": [
    "import numpy as np\n",
    "import pandas as pd\n",
    "import matplotlib.pyplot as plt\n",
    "\n",
    "from nose.tools import *\n",
    "\n",
    "from scipy.stats import ttest_ind\n",
    "\n",
    "import seaborn as sns\n",
    "from geopy.geocoders import Nominatim\n",
    "import folium\n",
    "from folium.plugins import MarkerCluster"
   ]
  },
  {
   "cell_type": "markdown",
   "id": "d66a8c70",
   "metadata": {},
   "source": [
    "# DS-Project Why People In One Country Could Be Happier Than Other "
   ]
  },
  {
   "cell_type": "markdown",
   "id": "9d699234",
   "metadata": {},
   "source": [
    "### Introduction\n",
    "There are many factors which could have influence over the happiness of the people. Our mission is observe several of these factors and to find out which of them has the main effect over the people's happiness.\n",
    "\n",
    "The goal of this lab is to explore the data, prepare it for working, visualize it, and perform testing of hypothesis.\n",
    "\n",
    "The original dataset is located [happiness data](https://www.kaggle.com/unsdsn/world-happiness), [air-quality data](http://aidef.apps.eea.europa.eu/?source=%7B%22query%22%3A%7B%22query_string%22%3A%7B%22query%22%3A%22Air%20quality%20annual%20statistics%22%2C%22default_operator%22%3A%22OR%22%2C%22analyze_wildcard%22%3Atrue%7D%7D%2C%22display_type%22%3A%22tabular%22%7D) and [alcohol consumption data](https://www.kaggle.com/sansuthi/alcohol-consumption). You can read the page for more information about the data and variables."
   ]
  },
  {
   "cell_type": "markdown",
   "id": "d491b347",
   "metadata": {},
   "source": [
    "# Table of contents \n",
    "<u><ol>\n",
    "    <li><a href=\"#1\">What is happiness and why it is important to be happy</a></li>\n",
    "    <li><a href=\"#2\">What are the factors for the happiness</a></li>\n",
    "    <li><a href=\"#3\">Working with the data</a></li>\n",
    "    <li><a href=\"#4\">Conclusion</a></li>\n",
    "    </ol></u>"
   ]
  },
  {
   "cell_type": "markdown",
   "id": "aed9ac33",
   "metadata": {},
   "source": [
    "<a id=\"1\"></a>"
   ]
  },
  {
   "cell_type": "markdown",
   "id": "e44f5b2e",
   "metadata": {},
   "source": [
    "## 1. What is happiness and why it is important to be happy"
   ]
  },
  {
   "cell_type": "markdown",
   "id": "bcd0f0c7",
   "metadata": {},
   "source": [
    "![Failed to load the picture](https://static.independent.co.uk/2021/05/25/17/newFile-6.jpg?width=982&height=726&auto=webp&quality=75)"
   ]
  },
  {
   "cell_type": "markdown",
   "id": "2d4f2ada",
   "metadata": {},
   "source": [
    "Happiness is a sense of well-being, joy, or contentment. When people are successful, or safe, or lucky, they feel happiness.\n",
    "\n",
    "\n",
    "We all like to have these positive feelings. Besides feeling good, positive emotions do good things for our brains and bodies. They lower stress hormones, help ease anxiety and depression, and improve our immune system. <b>Feeling some positive emotions every day has a big effect on our happiness and well-being.</b>\n",
    "\n",
    "\n",
    "Happiness has also been linked to better decision-making and improved creativity. So, rather than success being the key to happiness, research shows that happiness could in fact be the key to success. But it doesn't just help us function better: <b>happiness also brings substantial benefits for society as a whole.</b>"
   ]
  },
  {
   "cell_type": "markdown",
   "id": "16e20e5a",
   "metadata": {},
   "source": [
    "<a id=\"2\"></a>"
   ]
  },
  {
   "cell_type": "markdown",
   "id": "3a5d630b",
   "metadata": {},
   "source": [
    "# 2. What are the factors for the happiness"
   ]
  },
  {
   "cell_type": "markdown",
   "id": "dd0bdfab",
   "metadata": {},
   "source": [
    "A research identifies five main factors that contribute to happiness: social relationships, temperament/adaptation, money, society and culture, and positive thinking styles. Happy people have strong social relationships. According to the scientists of the research, wealth actually is correlated with happiness, particularly in poorer societies. - We will test that correlation in our data <a href=\"#12\">Testing the hypothesis</a>\n",
    "\n",
    "\n",
    "[link to the research](https://www.psychologicalscience.org/observer/serious-research-on-happiness)"
   ]
  },
  {
   "cell_type": "markdown",
   "id": "74b0cbce",
   "metadata": {},
   "source": [
    "<a id=\"3\"></a>"
   ]
  },
  {
   "cell_type": "markdown",
   "id": "7ef916ea",
   "metadata": {},
   "source": [
    "# 3. Working with the data\n"
   ]
  },
  {
   "cell_type": "markdown",
   "id": "9932b511",
   "metadata": {},
   "source": [
    "## Steps\n",
    "\n",
    "In this assignment, we will go through the following steps.\n",
    "<li><a href=\"#11\">1. Read the datasets</a></li>\n",
    "<li><a href=\"#22\">2. Re-organize the datasets, perform tests on the data to see if it meets our expectations and clean the data</a></li>\n",
    "<li><a href=\"#33\">3. Explore the data to find a feature to investigate</a></li>\n",
    "<li><a href=\"#44\">4. Formulate and test a hypothesis</a></li>"
   ]
  },
  {
   "cell_type": "markdown",
   "id": "32dae432",
   "metadata": {},
   "source": [
    "<a id=\"11\"></a>"
   ]
  },
  {
   "cell_type": "markdown",
   "id": "924a50df",
   "metadata": {},
   "source": [
    "## 1. Read the datasets"
   ]
  },
  {
   "cell_type": "markdown",
   "id": "2e9a7f0b",
   "metadata": {},
   "source": [
    "<b>First we have to read our data.</b>\n",
    "\n",
    "\n",
    "For the dataset with happiness score by country we have a different '.csv' file for every year. Unfortunately the columns in each dataset are different so we have to make them equal. It will be hard to write a function doing this task, because a column for the same thing is called with different name in each dataset, so we have to clean the data by a hand."
   ]
  },
  {
   "cell_type": "code",
   "execution_count": 3,
   "id": "a9cfa77f",
   "metadata": {},
   "outputs": [],
   "source": [
    "happiness_by_country_2015 = pd.read_csv(\"2015.csv\")\n",
    "happiness_by_country_2015.drop('Standard Error', inplace=True, axis=1)\n",
    "happiness_by_country_2015.drop('Dystopia Residual', inplace=True, axis=1)\n",
    "happiness_by_country_2015.drop('Region', inplace=True, axis=1)\n",
    "happiness_by_country_2015.drop('Generosity', inplace=True, axis=1)\n",
    "happiness_by_country_2015['Health (Life Expectancy)'] = happiness_by_country_2015['Health (Life Expectancy)'] * 100"
   ]
  },
  {
   "cell_type": "markdown",
   "id": "d7a13b8e",
   "metadata": {},
   "source": [
    "### <b>Description of the dataset:</b>\n",
    "\n",
    "Happiness Rank - Rank of the country based on the Happiness Score.\n",
    "\n",
    "Happiness Score - A metric measured in 2015 by asking the sampled people the question: \"How would you rate your happiness on a scale of 0 to 10 where 10 is the happiest.\"\n",
    "\n",
    "Standard Error - The standard error of the happiness score.\n",
    "\n",
    "Economy(GDP per capita) - The extent to which GDP contributes to the calculation of the Happiness Score.\n",
    "\n",
    "Family - The extent to which Family contributes to the calculation of the Happiness Score\n",
    "\n",
    "Health (life expectancy) - The extent to which Life expectancy contributed to the calculation of the Happiness Score\n",
    "\n",
    "Freedom - The extent to which Freedom contributed to the calculation of the Happiness Score.\n",
    "\n",
    "Trust (Government Corruption) - The extent to which Perception of Corruption contributes to Happiness Score."
   ]
  },
  {
   "cell_type": "code",
   "execution_count": 4,
   "id": "56c7bb4c",
   "metadata": {},
   "outputs": [],
   "source": [
    "happiness_by_country_2016 = pd.read_csv(\"2016.csv\")\n",
    "happiness_by_country_2016.drop('Lower Confidence Interval', inplace=True, axis=1)\n",
    "happiness_by_country_2016.drop('Upper Confidence Interval', inplace=True, axis=1)\n",
    "happiness_by_country_2016.drop('Dystopia Residual', inplace=True, axis=1)\n",
    "happiness_by_country_2016.drop('Region', inplace=True, axis=1)\n",
    "happiness_by_country_2016.drop('Generosity', inplace=True, axis=1)\n",
    "happiness_by_country_2016['Health (Life Expectancy)'] = happiness_by_country_2016['Health (Life Expectancy)'] * 100"
   ]
  },
  {
   "cell_type": "code",
   "execution_count": 5,
   "id": "7bcf15f0",
   "metadata": {},
   "outputs": [],
   "source": [
    "happiness_by_country_2017 = pd.read_csv(\"2017.csv\")\n",
    "happiness_by_country_2017.drop('Whisker.high', inplace=True, axis=1)\n",
    "happiness_by_country_2017.drop('Whisker.low', inplace=True, axis=1)\n",
    "happiness_by_country_2017.drop('Dystopia.Residual', inplace=True, axis=1)\n",
    "happiness_by_country_2017.columns = ['Country', 'Happiness Rank', 'Happiness Score',\n",
    "       'Economy (GDP per Capita)', 'Family', 'Health (Life Expectancy)',\n",
    "       'Freedom', 'Trust (Government Corruption)', 'Generosity']\n",
    "happiness_by_country_2017['Health (Life Expectancy)'] = happiness_by_country_2017['Health (Life Expectancy)'] * 100\n",
    "happiness_by_country_2017.drop('Generosity', inplace=True, axis=1)"
   ]
  },
  {
   "cell_type": "code",
   "execution_count": 6,
   "id": "3e3bba98",
   "metadata": {},
   "outputs": [],
   "source": [
    "happiness_by_country_2018 = pd.read_csv(\"2018.csv\")\n",
    "happiness_by_country_2018.columns = ['Happiness Rank', 'Country', 'Happiness Score',\n",
    "       'Economy (GDP per Capita)', 'Family', 'Health (Life Expectancy)',\n",
    "       'Freedom', 'Generosity', 'Trust (Government Corruption)']\n",
    "happiness_by_country_2018['Health (Life Expectancy)'] = happiness_by_country_2018['Health (Life Expectancy)'] * 100\n",
    "happiness_by_country_2018.drop('Generosity', inplace=True, axis=1)"
   ]
  },
  {
   "cell_type": "code",
   "execution_count": 7,
   "id": "1096898f",
   "metadata": {},
   "outputs": [],
   "source": [
    "happiness_by_country_2019 = pd.read_csv(\"2019.csv\")\n",
    "happiness_by_country_2019.columns\n",
    "happiness_by_country_2019.columns = ['Happiness Rank', 'Country', 'Happiness Score',\n",
    "       'Economy (GDP per Capita)', 'Family', 'Health (Life Expectancy)',\n",
    "       'Freedom', 'Generosity', 'Trust (Government Corruption)']\n",
    "happiness_by_country_2019['Health (Life Expectancy)'] = happiness_by_country_2019['Health (Life Expectancy)'] * 100\n",
    "happiness_by_country_2019.drop('Generosity', inplace=True, axis=1)"
   ]
  },
  {
   "cell_type": "markdown",
   "id": "9c651bdc",
   "metadata": {},
   "source": [
    "In order to have more features that we can observe, we want to include some more dataframes. In that case we will include dataframe with air-quality value of every country and a dataframe with alcohol consumption. We have to clean and order the data from both dataframes."
   ]
  },
  {
   "cell_type": "markdown",
   "id": "6851ef70",
   "metadata": {},
   "source": [
    "Now we will read the dataframe with the air-quality values."
   ]
  },
  {
   "cell_type": "code",
   "execution_count": 8,
   "id": "8062a369",
   "metadata": {},
   "outputs": [],
   "source": [
    "new_dataset = pd.read_csv('data.csv')"
   ]
  },
  {
   "cell_type": "markdown",
   "id": "2f6c1405",
   "metadata": {},
   "source": [
    " Now let's read the last dataset that contains information about the alcohol consumption by countries"
   ]
  },
  {
   "cell_type": "code",
   "execution_count": 9,
   "id": "efa4c330",
   "metadata": {},
   "outputs": [],
   "source": [
    "dataset_with_alcohol_consumption_by_country = pd.read_csv(\"gapminder_alcohol.csv\")"
   ]
  },
  {
   "cell_type": "markdown",
   "id": "bd07a0a0",
   "metadata": {},
   "source": [
    "### Description of  the dataset:\n",
    "\n",
    "country: Unique Identifier\n",
    "\n",
    "\n",
    "incomeperperson: Gross Domestic Product per capita in constant 2000 US$. The inflation but not the differences in the cost of living between countries has been taken into account.\n",
    "\n",
    "\n",
    "alcconsumption: Alcohol consumption per adult (age 15+), litres Recorded and estimated average alcohol consumption, adult (15+) per capita consumption in litres pure alcohol\n",
    "\n",
    "\n",
    "suicideper100TH: Suicide, age adjusted, per 100 000 Mortality due to self-inflicted injury, per 100 000 standard population, age adjusted\n",
    "\n",
    "\n",
    "employrate: Total employees age 15+ (% of population) Percentage of total population, age above 15, that has been employed during the given year.\n",
    "\n",
    "\n",
    "urbanrate: Urban population (% of total) Urban population refers to people living in urban areas as defined by national statistical offices (calculated using World Bank population estimates and urban ratios from the United Nations World Urbanization Prospects)"
   ]
  },
  {
   "cell_type": "markdown",
   "id": "fc9fcbca",
   "metadata": {},
   "source": [
    "<a id=\"22\"></a>"
   ]
  },
  {
   "cell_type": "markdown",
   "id": "724599e4",
   "metadata": {},
   "source": [
    "## 2. Re-organize the datasets, perform tests on the data to see if it meets our expectations and clean the data"
   ]
  },
  {
   "cell_type": "markdown",
   "id": "ef971ee4",
   "metadata": {},
   "source": [
    "Let's start with the first read dataset - that with the countries and the happiness score by every year in the period 2015-2019"
   ]
  },
  {
   "cell_type": "markdown",
   "id": "559898c5",
   "metadata": {},
   "source": [
    "Now we have the data for each year, but we have to put all the data in one table.\n",
    "\n",
    "First create a column for storing the year of the observation, because when we merge the tables this information will be loosen."
   ]
  },
  {
   "cell_type": "code",
   "execution_count": 10,
   "id": "eb87b4f1",
   "metadata": {},
   "outputs": [],
   "source": [
    "def create_column_with_years(df, year):\n",
    "    df[\"year\"] = year\n",
    "create_column_with_years(happiness_by_country_2015, 2015)\n",
    "create_column_with_years(happiness_by_country_2016, 2016)\n",
    "create_column_with_years(happiness_by_country_2017, 2017)\n",
    "create_column_with_years(happiness_by_country_2018, 2018)\n",
    "create_column_with_years(happiness_by_country_2019, 2019)"
   ]
  },
  {
   "cell_type": "markdown",
   "id": "11c2df17",
   "metadata": {},
   "source": [
    "Next step is to concatenate the tables in one big table:"
   ]
  },
  {
   "cell_type": "code",
   "execution_count": 11,
   "id": "9feafcf3",
   "metadata": {},
   "outputs": [
    {
     "data": {
      "text/html": [
       "<div>\n",
       "<style scoped>\n",
       "    .dataframe tbody tr th:only-of-type {\n",
       "        vertical-align: middle;\n",
       "    }\n",
       "\n",
       "    .dataframe tbody tr th {\n",
       "        vertical-align: top;\n",
       "    }\n",
       "\n",
       "    .dataframe thead th {\n",
       "        text-align: right;\n",
       "    }\n",
       "</style>\n",
       "<table border=\"1\" class=\"dataframe\">\n",
       "  <thead>\n",
       "    <tr style=\"text-align: right;\">\n",
       "      <th></th>\n",
       "      <th>Country</th>\n",
       "      <th>Happiness Rank</th>\n",
       "      <th>Happiness Score</th>\n",
       "      <th>Economy (GDP per Capita)</th>\n",
       "      <th>Family</th>\n",
       "      <th>Health (Life Expectancy)</th>\n",
       "      <th>Freedom</th>\n",
       "      <th>Trust (Government Corruption)</th>\n",
       "      <th>year</th>\n",
       "    </tr>\n",
       "  </thead>\n",
       "  <tbody>\n",
       "    <tr>\n",
       "      <th>0</th>\n",
       "      <td>Switzerland</td>\n",
       "      <td>1</td>\n",
       "      <td>7.587</td>\n",
       "      <td>1.39651</td>\n",
       "      <td>1.34951</td>\n",
       "      <td>94.143</td>\n",
       "      <td>0.66557</td>\n",
       "      <td>0.41978</td>\n",
       "      <td>2015</td>\n",
       "    </tr>\n",
       "    <tr>\n",
       "      <th>1</th>\n",
       "      <td>Iceland</td>\n",
       "      <td>2</td>\n",
       "      <td>7.561</td>\n",
       "      <td>1.30232</td>\n",
       "      <td>1.40223</td>\n",
       "      <td>94.784</td>\n",
       "      <td>0.62877</td>\n",
       "      <td>0.14145</td>\n",
       "      <td>2015</td>\n",
       "    </tr>\n",
       "    <tr>\n",
       "      <th>2</th>\n",
       "      <td>Denmark</td>\n",
       "      <td>3</td>\n",
       "      <td>7.527</td>\n",
       "      <td>1.32548</td>\n",
       "      <td>1.36058</td>\n",
       "      <td>87.464</td>\n",
       "      <td>0.64938</td>\n",
       "      <td>0.48357</td>\n",
       "      <td>2015</td>\n",
       "    </tr>\n",
       "    <tr>\n",
       "      <th>3</th>\n",
       "      <td>Norway</td>\n",
       "      <td>4</td>\n",
       "      <td>7.522</td>\n",
       "      <td>1.45900</td>\n",
       "      <td>1.33095</td>\n",
       "      <td>88.521</td>\n",
       "      <td>0.66973</td>\n",
       "      <td>0.36503</td>\n",
       "      <td>2015</td>\n",
       "    </tr>\n",
       "    <tr>\n",
       "      <th>4</th>\n",
       "      <td>Canada</td>\n",
       "      <td>5</td>\n",
       "      <td>7.427</td>\n",
       "      <td>1.32629</td>\n",
       "      <td>1.32261</td>\n",
       "      <td>90.563</td>\n",
       "      <td>0.63297</td>\n",
       "      <td>0.32957</td>\n",
       "      <td>2015</td>\n",
       "    </tr>\n",
       "    <tr>\n",
       "      <th>...</th>\n",
       "      <td>...</td>\n",
       "      <td>...</td>\n",
       "      <td>...</td>\n",
       "      <td>...</td>\n",
       "      <td>...</td>\n",
       "      <td>...</td>\n",
       "      <td>...</td>\n",
       "      <td>...</td>\n",
       "      <td>...</td>\n",
       "    </tr>\n",
       "    <tr>\n",
       "      <th>151</th>\n",
       "      <td>Rwanda</td>\n",
       "      <td>152</td>\n",
       "      <td>3.334</td>\n",
       "      <td>0.35900</td>\n",
       "      <td>0.71100</td>\n",
       "      <td>61.400</td>\n",
       "      <td>0.55500</td>\n",
       "      <td>0.41100</td>\n",
       "      <td>2019</td>\n",
       "    </tr>\n",
       "    <tr>\n",
       "      <th>152</th>\n",
       "      <td>Tanzania</td>\n",
       "      <td>153</td>\n",
       "      <td>3.231</td>\n",
       "      <td>0.47600</td>\n",
       "      <td>0.88500</td>\n",
       "      <td>49.900</td>\n",
       "      <td>0.41700</td>\n",
       "      <td>0.14700</td>\n",
       "      <td>2019</td>\n",
       "    </tr>\n",
       "    <tr>\n",
       "      <th>153</th>\n",
       "      <td>Afghanistan</td>\n",
       "      <td>154</td>\n",
       "      <td>3.203</td>\n",
       "      <td>0.35000</td>\n",
       "      <td>0.51700</td>\n",
       "      <td>36.100</td>\n",
       "      <td>0.00000</td>\n",
       "      <td>0.02500</td>\n",
       "      <td>2019</td>\n",
       "    </tr>\n",
       "    <tr>\n",
       "      <th>154</th>\n",
       "      <td>Central African Republic</td>\n",
       "      <td>155</td>\n",
       "      <td>3.083</td>\n",
       "      <td>0.02600</td>\n",
       "      <td>0.00000</td>\n",
       "      <td>10.500</td>\n",
       "      <td>0.22500</td>\n",
       "      <td>0.03500</td>\n",
       "      <td>2019</td>\n",
       "    </tr>\n",
       "    <tr>\n",
       "      <th>155</th>\n",
       "      <td>South Sudan</td>\n",
       "      <td>156</td>\n",
       "      <td>2.853</td>\n",
       "      <td>0.30600</td>\n",
       "      <td>0.57500</td>\n",
       "      <td>29.500</td>\n",
       "      <td>0.01000</td>\n",
       "      <td>0.09100</td>\n",
       "      <td>2019</td>\n",
       "    </tr>\n",
       "  </tbody>\n",
       "</table>\n",
       "<p>782 rows × 9 columns</p>\n",
       "</div>"
      ],
      "text/plain": [
       "                      Country  Happiness Rank  Happiness Score  \\\n",
       "0                 Switzerland               1            7.587   \n",
       "1                     Iceland               2            7.561   \n",
       "2                     Denmark               3            7.527   \n",
       "3                      Norway               4            7.522   \n",
       "4                      Canada               5            7.427   \n",
       "..                        ...             ...              ...   \n",
       "151                    Rwanda             152            3.334   \n",
       "152                  Tanzania             153            3.231   \n",
       "153               Afghanistan             154            3.203   \n",
       "154  Central African Republic             155            3.083   \n",
       "155               South Sudan             156            2.853   \n",
       "\n",
       "     Economy (GDP per Capita)   Family  Health (Life Expectancy)  Freedom  \\\n",
       "0                     1.39651  1.34951                    94.143  0.66557   \n",
       "1                     1.30232  1.40223                    94.784  0.62877   \n",
       "2                     1.32548  1.36058                    87.464  0.64938   \n",
       "3                     1.45900  1.33095                    88.521  0.66973   \n",
       "4                     1.32629  1.32261                    90.563  0.63297   \n",
       "..                        ...      ...                       ...      ...   \n",
       "151                   0.35900  0.71100                    61.400  0.55500   \n",
       "152                   0.47600  0.88500                    49.900  0.41700   \n",
       "153                   0.35000  0.51700                    36.100  0.00000   \n",
       "154                   0.02600  0.00000                    10.500  0.22500   \n",
       "155                   0.30600  0.57500                    29.500  0.01000   \n",
       "\n",
       "     Trust (Government Corruption)  year  \n",
       "0                          0.41978  2015  \n",
       "1                          0.14145  2015  \n",
       "2                          0.48357  2015  \n",
       "3                          0.36503  2015  \n",
       "4                          0.32957  2015  \n",
       "..                             ...   ...  \n",
       "151                        0.41100  2019  \n",
       "152                        0.14700  2019  \n",
       "153                        0.02500  2019  \n",
       "154                        0.03500  2019  \n",
       "155                        0.09100  2019  \n",
       "\n",
       "[782 rows x 9 columns]"
      ]
     },
     "execution_count": 11,
     "metadata": {},
     "output_type": "execute_result"
    }
   ],
   "source": [
    "frames = [happiness_by_country_2015, happiness_by_country_2016, happiness_by_country_2017, happiness_by_country_2018, happiness_by_country_2019]\n",
    "from_2015_to_2021_df = pd.concat(frames)\n",
    "from_2015_to_2021_df"
   ]
  },
  {
   "cell_type": "markdown",
   "id": "f4635e09",
   "metadata": {},
   "source": [
    "We must check if we have None-s in the data:"
   ]
  },
  {
   "cell_type": "code",
   "execution_count": 12,
   "id": "fd6aaaf9",
   "metadata": {},
   "outputs": [
    {
     "name": "stdout",
     "output_type": "stream",
     "text": [
      "<class 'pandas.core.frame.DataFrame'>\n",
      "Int64Index: 782 entries, 0 to 155\n",
      "Data columns (total 9 columns):\n",
      " #   Column                         Non-Null Count  Dtype  \n",
      "---  ------                         --------------  -----  \n",
      " 0   Country                        782 non-null    object \n",
      " 1   Happiness Rank                 782 non-null    int64  \n",
      " 2   Happiness Score                782 non-null    float64\n",
      " 3   Economy (GDP per Capita)       782 non-null    float64\n",
      " 4   Family                         782 non-null    float64\n",
      " 5   Health (Life Expectancy)       782 non-null    float64\n",
      " 6   Freedom                        782 non-null    float64\n",
      " 7   Trust (Government Corruption)  781 non-null    float64\n",
      " 8   year                           782 non-null    int64  \n",
      "dtypes: float64(6), int64(2), object(1)\n",
      "memory usage: 61.1+ KB\n"
     ]
    }
   ],
   "source": [
    "from_2015_to_2021_df.info()"
   ]
  },
  {
   "cell_type": "markdown",
   "id": "37eaa64b",
   "metadata": {},
   "source": [
    "We found that in column 'Trust (Government Corruption)' there is a null value so we should think what to do with it. "
   ]
  },
  {
   "cell_type": "code",
   "execution_count": 13,
   "id": "36af3ef1",
   "metadata": {},
   "outputs": [
    {
     "data": {
      "text/html": [
       "<div>\n",
       "<style scoped>\n",
       "    .dataframe tbody tr th:only-of-type {\n",
       "        vertical-align: middle;\n",
       "    }\n",
       "\n",
       "    .dataframe tbody tr th {\n",
       "        vertical-align: top;\n",
       "    }\n",
       "\n",
       "    .dataframe thead th {\n",
       "        text-align: right;\n",
       "    }\n",
       "</style>\n",
       "<table border=\"1\" class=\"dataframe\">\n",
       "  <thead>\n",
       "    <tr style=\"text-align: right;\">\n",
       "      <th></th>\n",
       "      <th>Country</th>\n",
       "      <th>Happiness Rank</th>\n",
       "      <th>Happiness Score</th>\n",
       "      <th>Economy (GDP per Capita)</th>\n",
       "      <th>Family</th>\n",
       "      <th>Health (Life Expectancy)</th>\n",
       "      <th>Freedom</th>\n",
       "      <th>Trust (Government Corruption)</th>\n",
       "      <th>year</th>\n",
       "    </tr>\n",
       "  </thead>\n",
       "  <tbody>\n",
       "    <tr>\n",
       "      <th>19</th>\n",
       "      <td>United Arab Emirates</td>\n",
       "      <td>20</td>\n",
       "      <td>6.774</td>\n",
       "      <td>2.096</td>\n",
       "      <td>0.776</td>\n",
       "      <td>67.0</td>\n",
       "      <td>0.284</td>\n",
       "      <td>NaN</td>\n",
       "      <td>2018</td>\n",
       "    </tr>\n",
       "  </tbody>\n",
       "</table>\n",
       "</div>"
      ],
      "text/plain": [
       "                 Country  Happiness Rank  Happiness Score  \\\n",
       "19  United Arab Emirates              20            6.774   \n",
       "\n",
       "    Economy (GDP per Capita)  Family  Health (Life Expectancy)  Freedom  \\\n",
       "19                     2.096   0.776                      67.0    0.284   \n",
       "\n",
       "    Trust (Government Corruption)  year  \n",
       "19                            NaN  2018  "
      ]
     },
     "execution_count": 13,
     "metadata": {},
     "output_type": "execute_result"
    }
   ],
   "source": [
    "from_2015_to_2021_df[from_2015_to_2021_df[\"Trust (Government Corruption)\"].isna() == True]"
   ]
  },
  {
   "cell_type": "markdown",
   "id": "bf21f925",
   "metadata": {},
   "source": [
    "We found that the null value of the column is for the United Arab Emirates in 2018. We could fill with the mean value of 2019 and 2017 and that's what we are going to do, because we don't want to delete the row and loose information."
   ]
  },
  {
   "cell_type": "code",
   "execution_count": 14,
   "id": "e6a1fcd8",
   "metadata": {},
   "outputs": [
    {
     "data": {
      "text/html": [
       "<div>\n",
       "<style scoped>\n",
       "    .dataframe tbody tr th:only-of-type {\n",
       "        vertical-align: middle;\n",
       "    }\n",
       "\n",
       "    .dataframe tbody tr th {\n",
       "        vertical-align: top;\n",
       "    }\n",
       "\n",
       "    .dataframe thead th {\n",
       "        text-align: right;\n",
       "    }\n",
       "</style>\n",
       "<table border=\"1\" class=\"dataframe\">\n",
       "  <thead>\n",
       "    <tr style=\"text-align: right;\">\n",
       "      <th></th>\n",
       "      <th>Country</th>\n",
       "      <th>Happiness Rank</th>\n",
       "      <th>Happiness Score</th>\n",
       "      <th>Economy (GDP per Capita)</th>\n",
       "      <th>Family</th>\n",
       "      <th>Health (Life Expectancy)</th>\n",
       "      <th>Freedom</th>\n",
       "      <th>Trust (Government Corruption)</th>\n",
       "      <th>year</th>\n",
       "    </tr>\n",
       "  </thead>\n",
       "  <tbody>\n",
       "    <tr>\n",
       "      <th>19</th>\n",
       "      <td>United Arab Emirates</td>\n",
       "      <td>20</td>\n",
       "      <td>6.901</td>\n",
       "      <td>1.427270</td>\n",
       "      <td>1.12575</td>\n",
       "      <td>80.925000</td>\n",
       "      <td>0.641570</td>\n",
       "      <td>0.385830</td>\n",
       "      <td>2015</td>\n",
       "    </tr>\n",
       "    <tr>\n",
       "      <th>27</th>\n",
       "      <td>United Arab Emirates</td>\n",
       "      <td>28</td>\n",
       "      <td>6.573</td>\n",
       "      <td>1.573520</td>\n",
       "      <td>0.87114</td>\n",
       "      <td>72.993000</td>\n",
       "      <td>0.562150</td>\n",
       "      <td>0.355610</td>\n",
       "      <td>2016</td>\n",
       "    </tr>\n",
       "    <tr>\n",
       "      <th>20</th>\n",
       "      <td>United Arab Emirates</td>\n",
       "      <td>21</td>\n",
       "      <td>6.648</td>\n",
       "      <td>1.626343</td>\n",
       "      <td>1.26641</td>\n",
       "      <td>72.679824</td>\n",
       "      <td>0.608345</td>\n",
       "      <td>0.360942</td>\n",
       "      <td>2017</td>\n",
       "    </tr>\n",
       "    <tr>\n",
       "      <th>19</th>\n",
       "      <td>United Arab Emirates</td>\n",
       "      <td>20</td>\n",
       "      <td>6.774</td>\n",
       "      <td>2.096000</td>\n",
       "      <td>0.77600</td>\n",
       "      <td>67.000000</td>\n",
       "      <td>0.284000</td>\n",
       "      <td>NaN</td>\n",
       "      <td>2018</td>\n",
       "    </tr>\n",
       "    <tr>\n",
       "      <th>20</th>\n",
       "      <td>United Arab Emirates</td>\n",
       "      <td>21</td>\n",
       "      <td>6.825</td>\n",
       "      <td>1.503000</td>\n",
       "      <td>1.31000</td>\n",
       "      <td>82.500000</td>\n",
       "      <td>0.598000</td>\n",
       "      <td>0.182000</td>\n",
       "      <td>2019</td>\n",
       "    </tr>\n",
       "  </tbody>\n",
       "</table>\n",
       "</div>"
      ],
      "text/plain": [
       "                 Country  Happiness Rank  Happiness Score  \\\n",
       "19  United Arab Emirates              20            6.901   \n",
       "27  United Arab Emirates              28            6.573   \n",
       "20  United Arab Emirates              21            6.648   \n",
       "19  United Arab Emirates              20            6.774   \n",
       "20  United Arab Emirates              21            6.825   \n",
       "\n",
       "    Economy (GDP per Capita)   Family  Health (Life Expectancy)   Freedom  \\\n",
       "19                  1.427270  1.12575                 80.925000  0.641570   \n",
       "27                  1.573520  0.87114                 72.993000  0.562150   \n",
       "20                  1.626343  1.26641                 72.679824  0.608345   \n",
       "19                  2.096000  0.77600                 67.000000  0.284000   \n",
       "20                  1.503000  1.31000                 82.500000  0.598000   \n",
       "\n",
       "    Trust (Government Corruption)  year  \n",
       "19                       0.385830  2015  \n",
       "27                       0.355610  2016  \n",
       "20                       0.360942  2017  \n",
       "19                            NaN  2018  \n",
       "20                       0.182000  2019  "
      ]
     },
     "execution_count": 14,
     "metadata": {},
     "output_type": "execute_result"
    }
   ],
   "source": [
    "from_2015_to_2021_df[from_2015_to_2021_df[\"Country\"] == \"United Arab Emirates\"]"
   ]
  },
  {
   "cell_type": "code",
   "execution_count": 15,
   "id": "e8cb2502",
   "metadata": {},
   "outputs": [],
   "source": [
    "sum = from_2015_to_2021_df[ (from_2015_to_2021_df[\"Country\"] == \"United Arab Emirates\") & (from_2015_to_2021_df[\"year\"] == 2017)]['Trust (Government Corruption)'].values[0]\n",
    "sum += from_2015_to_2021_df[(from_2015_to_2021_df[\"Country\"] == \"United Arab Emirates\") & (from_2015_to_2021_df[\"year\"] == 2019)]['Trust (Government Corruption)'].values[0]\n",
    "sum /= 2\n",
    "from_2015_to_2021_df['Trust (Government Corruption)'].fillna(sum ,inplace=True)"
   ]
  },
  {
   "cell_type": "code",
   "execution_count": 16,
   "id": "ef320701",
   "metadata": {},
   "outputs": [
    {
     "data": {
      "text/html": [
       "<div>\n",
       "<style scoped>\n",
       "    .dataframe tbody tr th:only-of-type {\n",
       "        vertical-align: middle;\n",
       "    }\n",
       "\n",
       "    .dataframe tbody tr th {\n",
       "        vertical-align: top;\n",
       "    }\n",
       "\n",
       "    .dataframe thead th {\n",
       "        text-align: right;\n",
       "    }\n",
       "</style>\n",
       "<table border=\"1\" class=\"dataframe\">\n",
       "  <thead>\n",
       "    <tr style=\"text-align: right;\">\n",
       "      <th></th>\n",
       "      <th>Country</th>\n",
       "      <th>Happiness Rank</th>\n",
       "      <th>Happiness Score</th>\n",
       "      <th>Economy (GDP per Capita)</th>\n",
       "      <th>Family</th>\n",
       "      <th>Health (Life Expectancy)</th>\n",
       "      <th>Freedom</th>\n",
       "      <th>Trust (Government Corruption)</th>\n",
       "      <th>year</th>\n",
       "    </tr>\n",
       "  </thead>\n",
       "  <tbody>\n",
       "    <tr>\n",
       "      <th>19</th>\n",
       "      <td>United Arab Emirates</td>\n",
       "      <td>20</td>\n",
       "      <td>6.901</td>\n",
       "      <td>1.427270</td>\n",
       "      <td>1.12575</td>\n",
       "      <td>80.925000</td>\n",
       "      <td>0.641570</td>\n",
       "      <td>0.385830</td>\n",
       "      <td>2015</td>\n",
       "    </tr>\n",
       "    <tr>\n",
       "      <th>27</th>\n",
       "      <td>United Arab Emirates</td>\n",
       "      <td>28</td>\n",
       "      <td>6.573</td>\n",
       "      <td>1.573520</td>\n",
       "      <td>0.87114</td>\n",
       "      <td>72.993000</td>\n",
       "      <td>0.562150</td>\n",
       "      <td>0.355610</td>\n",
       "      <td>2016</td>\n",
       "    </tr>\n",
       "    <tr>\n",
       "      <th>20</th>\n",
       "      <td>United Arab Emirates</td>\n",
       "      <td>21</td>\n",
       "      <td>6.648</td>\n",
       "      <td>1.626343</td>\n",
       "      <td>1.26641</td>\n",
       "      <td>72.679824</td>\n",
       "      <td>0.608345</td>\n",
       "      <td>0.360942</td>\n",
       "      <td>2017</td>\n",
       "    </tr>\n",
       "    <tr>\n",
       "      <th>19</th>\n",
       "      <td>United Arab Emirates</td>\n",
       "      <td>20</td>\n",
       "      <td>6.774</td>\n",
       "      <td>2.096000</td>\n",
       "      <td>0.77600</td>\n",
       "      <td>67.000000</td>\n",
       "      <td>0.284000</td>\n",
       "      <td>0.271471</td>\n",
       "      <td>2018</td>\n",
       "    </tr>\n",
       "    <tr>\n",
       "      <th>20</th>\n",
       "      <td>United Arab Emirates</td>\n",
       "      <td>21</td>\n",
       "      <td>6.825</td>\n",
       "      <td>1.503000</td>\n",
       "      <td>1.31000</td>\n",
       "      <td>82.500000</td>\n",
       "      <td>0.598000</td>\n",
       "      <td>0.182000</td>\n",
       "      <td>2019</td>\n",
       "    </tr>\n",
       "  </tbody>\n",
       "</table>\n",
       "</div>"
      ],
      "text/plain": [
       "                 Country  Happiness Rank  Happiness Score  \\\n",
       "19  United Arab Emirates              20            6.901   \n",
       "27  United Arab Emirates              28            6.573   \n",
       "20  United Arab Emirates              21            6.648   \n",
       "19  United Arab Emirates              20            6.774   \n",
       "20  United Arab Emirates              21            6.825   \n",
       "\n",
       "    Economy (GDP per Capita)   Family  Health (Life Expectancy)   Freedom  \\\n",
       "19                  1.427270  1.12575                 80.925000  0.641570   \n",
       "27                  1.573520  0.87114                 72.993000  0.562150   \n",
       "20                  1.626343  1.26641                 72.679824  0.608345   \n",
       "19                  2.096000  0.77600                 67.000000  0.284000   \n",
       "20                  1.503000  1.31000                 82.500000  0.598000   \n",
       "\n",
       "    Trust (Government Corruption)  year  \n",
       "19                       0.385830  2015  \n",
       "27                       0.355610  2016  \n",
       "20                       0.360942  2017  \n",
       "19                       0.271471  2018  \n",
       "20                       0.182000  2019  "
      ]
     },
     "execution_count": 16,
     "metadata": {},
     "output_type": "execute_result"
    }
   ],
   "source": [
    "from_2015_to_2021_df[from_2015_to_2021_df[\"Country\"] == \"United Arab Emirates\"]"
   ]
  },
  {
   "cell_type": "markdown",
   "id": "ed230d73",
   "metadata": {},
   "source": [
    "We will set as an index for the table the \"Happiness rank\" column, but before that we will sort the table by 'happiness score' in descending order. Then we will set the hapiness rank column as an index"
   ]
  },
  {
   "cell_type": "code",
   "execution_count": 17,
   "id": "6645ada8",
   "metadata": {},
   "outputs": [],
   "source": [
    "def reset_index(df, new_name_of_index_column:str):\n",
    "    df.reset_index(inplace=True, drop=True)\n",
    "    if new_name_of_index_column in df.columns:\n",
    "        df.drop(new_name_of_index_column,inplace=True, axis = 1)\n",
    "    df.index += 1\n",
    "    df.index.name = new_name_of_index_column"
   ]
  },
  {
   "cell_type": "code",
   "execution_count": 18,
   "id": "d18c8752",
   "metadata": {},
   "outputs": [
    {
     "data": {
      "text/html": [
       "<div>\n",
       "<style scoped>\n",
       "    .dataframe tbody tr th:only-of-type {\n",
       "        vertical-align: middle;\n",
       "    }\n",
       "\n",
       "    .dataframe tbody tr th {\n",
       "        vertical-align: top;\n",
       "    }\n",
       "\n",
       "    .dataframe thead th {\n",
       "        text-align: right;\n",
       "    }\n",
       "</style>\n",
       "<table border=\"1\" class=\"dataframe\">\n",
       "  <thead>\n",
       "    <tr style=\"text-align: right;\">\n",
       "      <th></th>\n",
       "      <th>Country</th>\n",
       "      <th>Happiness Score</th>\n",
       "      <th>Economy (GDP per Capita)</th>\n",
       "      <th>Family</th>\n",
       "      <th>Health (Life Expectancy)</th>\n",
       "      <th>Freedom</th>\n",
       "      <th>Trust (Government Corruption)</th>\n",
       "      <th>year</th>\n",
       "    </tr>\n",
       "    <tr>\n",
       "      <th>Happiness Rank</th>\n",
       "      <th></th>\n",
       "      <th></th>\n",
       "      <th></th>\n",
       "      <th></th>\n",
       "      <th></th>\n",
       "      <th></th>\n",
       "      <th></th>\n",
       "      <th></th>\n",
       "    </tr>\n",
       "  </thead>\n",
       "  <tbody>\n",
       "    <tr>\n",
       "      <th>1</th>\n",
       "      <td>Finland</td>\n",
       "      <td>7.769</td>\n",
       "      <td>1.340000</td>\n",
       "      <td>1.587000</td>\n",
       "      <td>98.600000</td>\n",
       "      <td>0.596000</td>\n",
       "      <td>0.393000</td>\n",
       "      <td>2019</td>\n",
       "    </tr>\n",
       "    <tr>\n",
       "      <th>2</th>\n",
       "      <td>Finland</td>\n",
       "      <td>7.632</td>\n",
       "      <td>1.305000</td>\n",
       "      <td>1.592000</td>\n",
       "      <td>87.400000</td>\n",
       "      <td>0.681000</td>\n",
       "      <td>0.393000</td>\n",
       "      <td>2018</td>\n",
       "    </tr>\n",
       "    <tr>\n",
       "      <th>3</th>\n",
       "      <td>Denmark</td>\n",
       "      <td>7.600</td>\n",
       "      <td>1.383000</td>\n",
       "      <td>1.573000</td>\n",
       "      <td>99.600000</td>\n",
       "      <td>0.592000</td>\n",
       "      <td>0.410000</td>\n",
       "      <td>2019</td>\n",
       "    </tr>\n",
       "    <tr>\n",
       "      <th>4</th>\n",
       "      <td>Norway</td>\n",
       "      <td>7.594</td>\n",
       "      <td>1.456000</td>\n",
       "      <td>1.582000</td>\n",
       "      <td>86.100000</td>\n",
       "      <td>0.686000</td>\n",
       "      <td>0.340000</td>\n",
       "      <td>2018</td>\n",
       "    </tr>\n",
       "    <tr>\n",
       "      <th>5</th>\n",
       "      <td>Switzerland</td>\n",
       "      <td>7.587</td>\n",
       "      <td>1.396510</td>\n",
       "      <td>1.349510</td>\n",
       "      <td>94.143000</td>\n",
       "      <td>0.665570</td>\n",
       "      <td>0.419780</td>\n",
       "      <td>2015</td>\n",
       "    </tr>\n",
       "    <tr>\n",
       "      <th>...</th>\n",
       "      <td>...</td>\n",
       "      <td>...</td>\n",
       "      <td>...</td>\n",
       "      <td>...</td>\n",
       "      <td>...</td>\n",
       "      <td>...</td>\n",
       "      <td>...</td>\n",
       "      <td>...</td>\n",
       "    </tr>\n",
       "    <tr>\n",
       "      <th>778</th>\n",
       "      <td>Burundi</td>\n",
       "      <td>2.905</td>\n",
       "      <td>0.068310</td>\n",
       "      <td>0.234420</td>\n",
       "      <td>15.747000</td>\n",
       "      <td>0.043200</td>\n",
       "      <td>0.094190</td>\n",
       "      <td>2016</td>\n",
       "    </tr>\n",
       "    <tr>\n",
       "      <th>779</th>\n",
       "      <td>Burundi</td>\n",
       "      <td>2.905</td>\n",
       "      <td>0.091623</td>\n",
       "      <td>0.629794</td>\n",
       "      <td>15.161079</td>\n",
       "      <td>0.059901</td>\n",
       "      <td>0.204435</td>\n",
       "      <td>2017</td>\n",
       "    </tr>\n",
       "    <tr>\n",
       "      <th>780</th>\n",
       "      <td>South Sudan</td>\n",
       "      <td>2.853</td>\n",
       "      <td>0.306000</td>\n",
       "      <td>0.575000</td>\n",
       "      <td>29.500000</td>\n",
       "      <td>0.010000</td>\n",
       "      <td>0.091000</td>\n",
       "      <td>2019</td>\n",
       "    </tr>\n",
       "    <tr>\n",
       "      <th>781</th>\n",
       "      <td>Togo</td>\n",
       "      <td>2.839</td>\n",
       "      <td>0.208680</td>\n",
       "      <td>0.139950</td>\n",
       "      <td>28.443000</td>\n",
       "      <td>0.364530</td>\n",
       "      <td>0.107310</td>\n",
       "      <td>2015</td>\n",
       "    </tr>\n",
       "    <tr>\n",
       "      <th>782</th>\n",
       "      <td>Central African Republic</td>\n",
       "      <td>2.693</td>\n",
       "      <td>0.000000</td>\n",
       "      <td>0.000000</td>\n",
       "      <td>1.877269</td>\n",
       "      <td>0.270842</td>\n",
       "      <td>0.280876</td>\n",
       "      <td>2017</td>\n",
       "    </tr>\n",
       "  </tbody>\n",
       "</table>\n",
       "<p>782 rows × 8 columns</p>\n",
       "</div>"
      ],
      "text/plain": [
       "                                 Country  Happiness Score  \\\n",
       "Happiness Rank                                              \n",
       "1                                Finland            7.769   \n",
       "2                                Finland            7.632   \n",
       "3                                Denmark            7.600   \n",
       "4                                 Norway            7.594   \n",
       "5                            Switzerland            7.587   \n",
       "...                                  ...              ...   \n",
       "778                              Burundi            2.905   \n",
       "779                              Burundi            2.905   \n",
       "780                          South Sudan            2.853   \n",
       "781                                 Togo            2.839   \n",
       "782             Central African Republic            2.693   \n",
       "\n",
       "                Economy (GDP per Capita)    Family  Health (Life Expectancy)  \\\n",
       "Happiness Rank                                                                 \n",
       "1                               1.340000  1.587000                 98.600000   \n",
       "2                               1.305000  1.592000                 87.400000   \n",
       "3                               1.383000  1.573000                 99.600000   \n",
       "4                               1.456000  1.582000                 86.100000   \n",
       "5                               1.396510  1.349510                 94.143000   \n",
       "...                                  ...       ...                       ...   \n",
       "778                             0.068310  0.234420                 15.747000   \n",
       "779                             0.091623  0.629794                 15.161079   \n",
       "780                             0.306000  0.575000                 29.500000   \n",
       "781                             0.208680  0.139950                 28.443000   \n",
       "782                             0.000000  0.000000                  1.877269   \n",
       "\n",
       "                 Freedom  Trust (Government Corruption)  year  \n",
       "Happiness Rank                                                 \n",
       "1               0.596000                       0.393000  2019  \n",
       "2               0.681000                       0.393000  2018  \n",
       "3               0.592000                       0.410000  2019  \n",
       "4               0.686000                       0.340000  2018  \n",
       "5               0.665570                       0.419780  2015  \n",
       "...                  ...                            ...   ...  \n",
       "778             0.043200                       0.094190  2016  \n",
       "779             0.059901                       0.204435  2017  \n",
       "780             0.010000                       0.091000  2019  \n",
       "781             0.364530                       0.107310  2015  \n",
       "782             0.270842                       0.280876  2017  \n",
       "\n",
       "[782 rows x 8 columns]"
      ]
     },
     "execution_count": 18,
     "metadata": {},
     "output_type": "execute_result"
    }
   ],
   "source": [
    "from_2015_to_2021_df.sort_values(by = ['Happiness Score'], axis=0, ascending=False, inplace=True, kind='quicksort', na_position='last', key=None)\n",
    "reset_index(from_2015_to_2021_df, \"Happiness Rank\")\n",
    "from_2015_to_2021_df"
   ]
  },
  {
   "cell_type": "markdown",
   "id": "5cb14c39",
   "metadata": {},
   "source": [
    "<b>Now let's do the simillar steps to the second dataset:</b>"
   ]
  },
  {
   "cell_type": "code",
   "execution_count": 19,
   "id": "f585cdd4",
   "metadata": {},
   "outputs": [
    {
     "data": {
      "text/plain": [
       "<bound method NDFrame.describe of                    CountryOrTerritory  ReportingYear  \\\n",
       "0                           Gibraltar           2013   \n",
       "1                           Gibraltar           2013   \n",
       "2                           Gibraltar           2013   \n",
       "3                           Gibraltar           2014   \n",
       "4                           Gibraltar           2014   \n",
       "...                               ...            ...   \n",
       "1060897  Kosovo (under UNSCR 1244/99)           2018   \n",
       "1060898  Kosovo (under UNSCR 1244/99)           2018   \n",
       "1060899  Kosovo (under UNSCR 1244/99)           2018   \n",
       "1060900                       Austria           2015   \n",
       "1060901                       Austria           2015   \n",
       "\n",
       "                          UpdateTime       StationLocalId  \\\n",
       "0        2020-07-31T07:42:16.256666Z  GIB_Station_GB0050A   \n",
       "1        2020-07-31T07:42:16.256666Z  GIB_Station_GB0051A   \n",
       "2        2020-07-31T07:42:16.256666Z  GIB_Station_GB0050A   \n",
       "3            2019-03-20T09:18:12.92Z  GIB_Station_GB0050A   \n",
       "4            2019-03-20T09:18:12.92Z  GIB_Station_GB0050A   \n",
       "...                              ...                  ...   \n",
       "1060897  2020-10-03T23:39:21.306666Z          STA-XK0003A   \n",
       "1060898  2020-10-03T23:39:21.306666Z          STA-XK0002A   \n",
       "1060899  2020-10-03T23:39:21.306666Z          STA-XK0004A   \n",
       "1060900  2019-02-08T08:42:25.753333Z           STA.09.AKC   \n",
       "1060901  2019-02-08T08:42:25.753333Z           STA.09.AKC   \n",
       "\n",
       "           SamplingPointLocalId  SamplingPoint_Latitude  \\\n",
       "0          GIB_SamplingPoint_14               36.133317   \n",
       "1           GIB_SamplingPoint_4               36.112824   \n",
       "2           GIB_SamplingPoint_3               36.133317   \n",
       "3           GIB_SamplingPoint_8               36.133317   \n",
       "4          GIB_SamplingPoint_13               36.133317   \n",
       "...                         ...                     ...   \n",
       "1060897   SPO-XK0003A_00008_100               42.373100   \n",
       "1060898   SPO-XK0002A_00008_100               42.393471   \n",
       "1060899   SPO-XK0004A_00008_100               42.533000   \n",
       "1060900  SPO.09.AKC.65448.449.1               48.219517   \n",
       "1060901  SPO.09.AKC.65441.450.1               48.219517   \n",
       "\n",
       "         SamplingPoint_Longitude                                Pollutant  \\\n",
       "0                      -5.353175                            Benzene (air)   \n",
       "1                      -5.350188                              Ozone (air)   \n",
       "2                      -5.353175                    Nitrogen oxides (air)   \n",
       "3                      -5.353175                    Sulphur dioxide (air)   \n",
       "4                      -5.353175                      1.3 Butadiene (air)   \n",
       "...                          ...                                      ...   \n",
       "1060897                20.532700                   Nitrogen dioxide (air)   \n",
       "1060898                21.092636                   Nitrogen dioxide (air)   \n",
       "1060899                20.528000                   Nitrogen dioxide (air)   \n",
       "1060900                16.345552  i-Octane (2,2,4-trimethylpentane) (air)   \n",
       "1060901                16.345552         i-Pentane (2-methylbutane) (air)   \n",
       "\n",
       "                                           AggregationType  \\\n",
       "0                            Annual mean / 1 calendar year   \n",
       "1                            Annual mean / 1 calendar year   \n",
       "2                            Annual mean / 1 calendar year   \n",
       "3                            Annual mean / 1 calendar year   \n",
       "4                            Annual mean / 1 calendar year   \n",
       "...                                                    ...   \n",
       "1060897  1 year 99.79 %ile of hourly values in a given ...   \n",
       "1060898  1 year 99.79 %ile of hourly values in a given ...   \n",
       "1060899  1 year 99.79 %ile of hourly values in a given ...   \n",
       "1060900           1 year 50 %ile of daily values in a year   \n",
       "1060901           1 year 50 %ile of daily values in a year   \n",
       "\n",
       "                   Namespace    Unit BeginPosition EndPosition   Validity  \\\n",
       "0            gib.air-quality  ug.m-3    2013-01-01  2014-01-01  Not valid   \n",
       "1            gib.air-quality  ug.m-3    2013-01-01  2014-01-01      Valid   \n",
       "2            gib.air-quality  ug.m-3    2013-01-01  2014-01-01      Valid   \n",
       "3            gib.air-quality  ug.m-3    2014-01-01  2015-01-01      Valid   \n",
       "4            gib.air-quality  ug.m-3    2014-01-01  2015-01-01      Valid   \n",
       "...                      ...     ...           ...         ...        ...   \n",
       "1060897  XK.EPA-HI-KOSOVO.AQ  ug.m-3    2018-01-01  2019-01-01  Not valid   \n",
       "1060898  XK.EPA-HI-KOSOVO.AQ  ug.m-3    2018-01-01  2019-01-01  Not valid   \n",
       "1060899  XK.EPA-HI-KOSOVO.AQ  ug.m-3    2018-01-01  2019-01-01  Not valid   \n",
       "1060900        AT.0008.20.AQ  ug.m-3    2015-01-01  2016-01-01  Not valid   \n",
       "1060901        AT.0008.20.AQ  ug.m-3    2015-01-01  2016-01-01  Not valid   \n",
       "\n",
       "         Verification  DataCoverage  DataCapture  TimeCoverage     AQValue  \n",
       "0            Verified     73.915525   100.000000     73.915525    1.640737  \n",
       "1            Verified     98.230594   100.000000     98.230594   57.781173  \n",
       "2            Verified     88.070776   100.000000     88.070776   85.032896  \n",
       "3            Verified     97.305936    97.305936    100.000000   10.167268  \n",
       "4            Verified     86.141553    86.141553    100.000000    0.236077  \n",
       "...               ...           ...          ...           ...         ...  \n",
       "1060897      Verified     61.506849   100.000000     61.506849   69.870990  \n",
       "1060898      Verified     61.004566   100.000000     61.004566  143.523600  \n",
       "1060899      Verified     38.892694   100.000000     38.892694   69.137320  \n",
       "1060900  Not verified      0.000000     0.000000    100.000000    0.000000  \n",
       "1060901  Not verified      0.000000     0.000000    100.000000    0.000000  \n",
       "\n",
       "[1060902 rows x 19 columns]>"
      ]
     },
     "execution_count": 19,
     "metadata": {},
     "output_type": "execute_result"
    }
   ],
   "source": [
    "new_dataset.describe"
   ]
  },
  {
   "cell_type": "code",
   "execution_count": 20,
   "id": "05e78054",
   "metadata": {},
   "outputs": [
    {
     "name": "stdout",
     "output_type": "stream",
     "text": [
      "<class 'pandas.core.frame.DataFrame'>\n",
      "RangeIndex: 1060902 entries, 0 to 1060901\n",
      "Data columns (total 19 columns):\n",
      " #   Column                   Non-Null Count    Dtype  \n",
      "---  ------                   --------------    -----  \n",
      " 0   CountryOrTerritory       1060902 non-null  object \n",
      " 1   ReportingYear            1060902 non-null  int64  \n",
      " 2   UpdateTime               1060902 non-null  object \n",
      " 3   StationLocalId           1060902 non-null  object \n",
      " 4   SamplingPointLocalId     1060902 non-null  object \n",
      " 5   SamplingPoint_Latitude   1060902 non-null  float64\n",
      " 6   SamplingPoint_Longitude  1060902 non-null  float64\n",
      " 7   Pollutant                1060902 non-null  object \n",
      " 8   AggregationType          1060902 non-null  object \n",
      " 9   Namespace                1060902 non-null  object \n",
      " 10  Unit                     1060902 non-null  object \n",
      " 11  BeginPosition            1060902 non-null  object \n",
      " 12  EndPosition              1060902 non-null  object \n",
      " 13  Validity                 1060902 non-null  object \n",
      " 14  Verification             1060902 non-null  object \n",
      " 15  DataCoverage             1060902 non-null  float64\n",
      " 16  DataCapture              1060902 non-null  float64\n",
      " 17  TimeCoverage             1060902 non-null  float64\n",
      " 18  AQValue                  1060902 non-null  float64\n",
      "dtypes: float64(6), int64(1), object(12)\n",
      "memory usage: 153.8+ MB\n"
     ]
    }
   ],
   "source": [
    "new_dataset.info()"
   ]
  },
  {
   "cell_type": "markdown",
   "id": "6aef2383",
   "metadata": {},
   "source": [
    "We have to take the columns that are interesting for our study, so we will take only - 'CountryOrTerritory', 'ReportingYear' and 'AQValue'."
   ]
  },
  {
   "cell_type": "code",
   "execution_count": 21,
   "id": "172fb4f0",
   "metadata": {},
   "outputs": [],
   "source": [
    "new_dataset_filtered = new_dataset[['CountryOrTerritory','ReportingYear','AQValue']]"
   ]
  },
  {
   "cell_type": "markdown",
   "id": "b0758913",
   "metadata": {},
   "source": [
    "We want to have one value for air-quality for each year, so in order to do that we will take the mean value of all observations in one year. "
   ]
  },
  {
   "cell_type": "code",
   "execution_count": 22,
   "id": "38391c29",
   "metadata": {},
   "outputs": [
    {
     "data": {
      "text/html": [
       "<div>\n",
       "<style scoped>\n",
       "    .dataframe tbody tr th:only-of-type {\n",
       "        vertical-align: middle;\n",
       "    }\n",
       "\n",
       "    .dataframe tbody tr th {\n",
       "        vertical-align: top;\n",
       "    }\n",
       "\n",
       "    .dataframe thead th {\n",
       "        text-align: right;\n",
       "    }\n",
       "</style>\n",
       "<table border=\"1\" class=\"dataframe\">\n",
       "  <thead>\n",
       "    <tr style=\"text-align: right;\">\n",
       "      <th></th>\n",
       "      <th>CountryOrTerritory</th>\n",
       "      <th>ReportingYear</th>\n",
       "      <th>AQValue</th>\n",
       "    </tr>\n",
       "  </thead>\n",
       "  <tbody>\n",
       "    <tr>\n",
       "      <th>0</th>\n",
       "      <td>Albania</td>\n",
       "      <td>2011</td>\n",
       "      <td>72838.323082</td>\n",
       "    </tr>\n",
       "    <tr>\n",
       "      <th>1</th>\n",
       "      <td>Albania</td>\n",
       "      <td>2012</td>\n",
       "      <td>36420.111541</td>\n",
       "    </tr>\n",
       "    <tr>\n",
       "      <th>2</th>\n",
       "      <td>Albania</td>\n",
       "      <td>2013</td>\n",
       "      <td>19092.159250</td>\n",
       "    </tr>\n",
       "    <tr>\n",
       "      <th>3</th>\n",
       "      <td>Albania</td>\n",
       "      <td>2014</td>\n",
       "      <td>1610.197031</td>\n",
       "    </tr>\n",
       "    <tr>\n",
       "      <th>4</th>\n",
       "      <td>Albania</td>\n",
       "      <td>2015</td>\n",
       "      <td>1082.209315</td>\n",
       "    </tr>\n",
       "    <tr>\n",
       "      <th>...</th>\n",
       "      <td>...</td>\n",
       "      <td>...</td>\n",
       "      <td>...</td>\n",
       "    </tr>\n",
       "    <tr>\n",
       "      <th>360</th>\n",
       "      <td>United Kingdom</td>\n",
       "      <td>2015</td>\n",
       "      <td>238.685470</td>\n",
       "    </tr>\n",
       "    <tr>\n",
       "      <th>361</th>\n",
       "      <td>United Kingdom</td>\n",
       "      <td>2016</td>\n",
       "      <td>321.948099</td>\n",
       "    </tr>\n",
       "    <tr>\n",
       "      <th>362</th>\n",
       "      <td>United Kingdom</td>\n",
       "      <td>2017</td>\n",
       "      <td>299.533952</td>\n",
       "    </tr>\n",
       "    <tr>\n",
       "      <th>363</th>\n",
       "      <td>United Kingdom</td>\n",
       "      <td>2018</td>\n",
       "      <td>331.476312</td>\n",
       "    </tr>\n",
       "    <tr>\n",
       "      <th>364</th>\n",
       "      <td>United Kingdom</td>\n",
       "      <td>2019</td>\n",
       "      <td>116.642585</td>\n",
       "    </tr>\n",
       "  </tbody>\n",
       "</table>\n",
       "<p>365 rows × 3 columns</p>\n",
       "</div>"
      ],
      "text/plain": [
       "    CountryOrTerritory  ReportingYear       AQValue\n",
       "0              Albania           2011  72838.323082\n",
       "1              Albania           2012  36420.111541\n",
       "2              Albania           2013  19092.159250\n",
       "3              Albania           2014   1610.197031\n",
       "4              Albania           2015   1082.209315\n",
       "..                 ...            ...           ...\n",
       "360     United Kingdom           2015    238.685470\n",
       "361     United Kingdom           2016    321.948099\n",
       "362     United Kingdom           2017    299.533952\n",
       "363     United Kingdom           2018    331.476312\n",
       "364     United Kingdom           2019    116.642585\n",
       "\n",
       "[365 rows x 3 columns]"
      ]
     },
     "execution_count": 22,
     "metadata": {},
     "output_type": "execute_result"
    }
   ],
   "source": [
    "result_AQValue_df = new_dataset_filtered.groupby([\"CountryOrTerritory\",\"ReportingYear\"], as_index = False)[\"AQValue\"].mean()\n",
    "result_AQValue_df"
   ]
  },
  {
   "cell_type": "markdown",
   "id": "15f19542",
   "metadata": {},
   "source": [
    "In the dataset we can see that \"Kosovo\" has strange name - \"Kosovo (under UNSCR 1244/99)\", we would like to rename it."
   ]
  },
  {
   "cell_type": "code",
   "execution_count": 23,
   "id": "44fba7b2",
   "metadata": {},
   "outputs": [],
   "source": [
    "result_AQValue_df[\"CountryOrTerritory\"].replace(\"Kosovo (under UNSCR 1244/99)\", \"Kosovo\", inplace = True)"
   ]
  },
  {
   "cell_type": "markdown",
   "id": "ae499085",
   "metadata": {},
   "source": [
    "Then we will rename the features of the dataset too."
   ]
  },
  {
   "cell_type": "code",
   "execution_count": 24,
   "id": "6408da04",
   "metadata": {},
   "outputs": [
    {
     "data": {
      "text/html": [
       "<div>\n",
       "<style scoped>\n",
       "    .dataframe tbody tr th:only-of-type {\n",
       "        vertical-align: middle;\n",
       "    }\n",
       "\n",
       "    .dataframe tbody tr th {\n",
       "        vertical-align: top;\n",
       "    }\n",
       "\n",
       "    .dataframe thead th {\n",
       "        text-align: right;\n",
       "    }\n",
       "</style>\n",
       "<table border=\"1\" class=\"dataframe\">\n",
       "  <thead>\n",
       "    <tr style=\"text-align: right;\">\n",
       "      <th></th>\n",
       "      <th>Country</th>\n",
       "      <th>year</th>\n",
       "      <th>AQValue</th>\n",
       "    </tr>\n",
       "  </thead>\n",
       "  <tbody>\n",
       "    <tr>\n",
       "      <th>185</th>\n",
       "      <td>Kosovo</td>\n",
       "      <td>2011</td>\n",
       "      <td>57.954738</td>\n",
       "    </tr>\n",
       "    <tr>\n",
       "      <th>186</th>\n",
       "      <td>Kosovo</td>\n",
       "      <td>2012</td>\n",
       "      <td>58.773939</td>\n",
       "    </tr>\n",
       "    <tr>\n",
       "      <th>187</th>\n",
       "      <td>Kosovo</td>\n",
       "      <td>2013</td>\n",
       "      <td>15770.931909</td>\n",
       "    </tr>\n",
       "    <tr>\n",
       "      <th>188</th>\n",
       "      <td>Kosovo</td>\n",
       "      <td>2014</td>\n",
       "      <td>23351.796887</td>\n",
       "    </tr>\n",
       "    <tr>\n",
       "      <th>189</th>\n",
       "      <td>Kosovo</td>\n",
       "      <td>2015</td>\n",
       "      <td>3038.142048</td>\n",
       "    </tr>\n",
       "    <tr>\n",
       "      <th>190</th>\n",
       "      <td>Kosovo</td>\n",
       "      <td>2016</td>\n",
       "      <td>5048.175811</td>\n",
       "    </tr>\n",
       "    <tr>\n",
       "      <th>191</th>\n",
       "      <td>Kosovo</td>\n",
       "      <td>2017</td>\n",
       "      <td>346.447529</td>\n",
       "    </tr>\n",
       "    <tr>\n",
       "      <th>192</th>\n",
       "      <td>Kosovo</td>\n",
       "      <td>2018</td>\n",
       "      <td>1341.078129</td>\n",
       "    </tr>\n",
       "    <tr>\n",
       "      <th>193</th>\n",
       "      <td>Kosovo</td>\n",
       "      <td>2019</td>\n",
       "      <td>164.538785</td>\n",
       "    </tr>\n",
       "  </tbody>\n",
       "</table>\n",
       "</div>"
      ],
      "text/plain": [
       "    Country  year       AQValue\n",
       "185  Kosovo  2011     57.954738\n",
       "186  Kosovo  2012     58.773939\n",
       "187  Kosovo  2013  15770.931909\n",
       "188  Kosovo  2014  23351.796887\n",
       "189  Kosovo  2015   3038.142048\n",
       "190  Kosovo  2016   5048.175811\n",
       "191  Kosovo  2017    346.447529\n",
       "192  Kosovo  2018   1341.078129\n",
       "193  Kosovo  2019    164.538785"
      ]
     },
     "execution_count": 24,
     "metadata": {},
     "output_type": "execute_result"
    }
   ],
   "source": [
    "result_AQValue_df.columns = [\"Country\",\"year\",\"AQValue\"]\n",
    "result_AQValue_df[result_AQValue_df[\"Country\"] == \"Kosovo\"]"
   ]
  },
  {
   "cell_type": "markdown",
   "id": "c1143ce7",
   "metadata": {},
   "source": [
    "Now we have the observations on each country for the period 2011-2019. But our main dataset include only the period between 2015-2019, so we will filter the rows."
   ]
  },
  {
   "cell_type": "code",
   "execution_count": 25,
   "id": "9fafc91f",
   "metadata": {},
   "outputs": [
    {
     "data": {
      "text/html": [
       "<div>\n",
       "<style scoped>\n",
       "    .dataframe tbody tr th:only-of-type {\n",
       "        vertical-align: middle;\n",
       "    }\n",
       "\n",
       "    .dataframe tbody tr th {\n",
       "        vertical-align: top;\n",
       "    }\n",
       "\n",
       "    .dataframe thead th {\n",
       "        text-align: right;\n",
       "    }\n",
       "</style>\n",
       "<table border=\"1\" class=\"dataframe\">\n",
       "  <thead>\n",
       "    <tr style=\"text-align: right;\">\n",
       "      <th></th>\n",
       "      <th>Country</th>\n",
       "      <th>year</th>\n",
       "      <th>AQValue</th>\n",
       "    </tr>\n",
       "  </thead>\n",
       "  <tbody>\n",
       "    <tr>\n",
       "      <th>189</th>\n",
       "      <td>Kosovo</td>\n",
       "      <td>2015</td>\n",
       "      <td>3038.142048</td>\n",
       "    </tr>\n",
       "    <tr>\n",
       "      <th>190</th>\n",
       "      <td>Kosovo</td>\n",
       "      <td>2016</td>\n",
       "      <td>5048.175811</td>\n",
       "    </tr>\n",
       "    <tr>\n",
       "      <th>191</th>\n",
       "      <td>Kosovo</td>\n",
       "      <td>2017</td>\n",
       "      <td>346.447529</td>\n",
       "    </tr>\n",
       "    <tr>\n",
       "      <th>192</th>\n",
       "      <td>Kosovo</td>\n",
       "      <td>2018</td>\n",
       "      <td>1341.078129</td>\n",
       "    </tr>\n",
       "    <tr>\n",
       "      <th>193</th>\n",
       "      <td>Kosovo</td>\n",
       "      <td>2019</td>\n",
       "      <td>164.538785</td>\n",
       "    </tr>\n",
       "  </tbody>\n",
       "</table>\n",
       "</div>"
      ],
      "text/plain": [
       "    Country  year      AQValue\n",
       "189  Kosovo  2015  3038.142048\n",
       "190  Kosovo  2016  5048.175811\n",
       "191  Kosovo  2017   346.447529\n",
       "192  Kosovo  2018  1341.078129\n",
       "193  Kosovo  2019   164.538785"
      ]
     },
     "execution_count": 25,
     "metadata": {},
     "output_type": "execute_result"
    }
   ],
   "source": [
    "result_AQValue_df = result_AQValue_df[result_AQValue_df[\"year\"] >= 2015]\n",
    "result_AQValue_df[result_AQValue_df[\"Country\"] == \"Kosovo\"]"
   ]
  },
  {
   "cell_type": "markdown",
   "id": "c8e46b87",
   "metadata": {},
   "source": [
    "Now it is time to merge the two datasets into one and that will save observation if both datasets has the name and year of this country."
   ]
  },
  {
   "cell_type": "code",
   "execution_count": 26,
   "id": "a1e32f3c",
   "metadata": {},
   "outputs": [
    {
     "data": {
      "text/html": [
       "<div>\n",
       "<style scoped>\n",
       "    .dataframe tbody tr th:only-of-type {\n",
       "        vertical-align: middle;\n",
       "    }\n",
       "\n",
       "    .dataframe tbody tr th {\n",
       "        vertical-align: top;\n",
       "    }\n",
       "\n",
       "    .dataframe thead th {\n",
       "        text-align: right;\n",
       "    }\n",
       "</style>\n",
       "<table border=\"1\" class=\"dataframe\">\n",
       "  <thead>\n",
       "    <tr style=\"text-align: right;\">\n",
       "      <th></th>\n",
       "      <th>Country</th>\n",
       "      <th>year</th>\n",
       "      <th>AQValue</th>\n",
       "      <th>Happiness Score</th>\n",
       "      <th>Economy (GDP per Capita)</th>\n",
       "      <th>Family</th>\n",
       "      <th>Health (Life Expectancy)</th>\n",
       "      <th>Freedom</th>\n",
       "      <th>Trust (Government Corruption)</th>\n",
       "    </tr>\n",
       "  </thead>\n",
       "  <tbody>\n",
       "    <tr>\n",
       "      <th>20</th>\n",
       "      <td>Bulgaria</td>\n",
       "      <td>2015</td>\n",
       "      <td>750.925714</td>\n",
       "      <td>4.218</td>\n",
       "      <td>1.012160</td>\n",
       "      <td>1.106140</td>\n",
       "      <td>76.649000</td>\n",
       "      <td>0.305870</td>\n",
       "      <td>0.008720</td>\n",
       "    </tr>\n",
       "    <tr>\n",
       "      <th>21</th>\n",
       "      <td>Bulgaria</td>\n",
       "      <td>2016</td>\n",
       "      <td>570.671862</td>\n",
       "      <td>4.217</td>\n",
       "      <td>1.113060</td>\n",
       "      <td>0.925420</td>\n",
       "      <td>67.806000</td>\n",
       "      <td>0.212190</td>\n",
       "      <td>0.006150</td>\n",
       "    </tr>\n",
       "    <tr>\n",
       "      <th>22</th>\n",
       "      <td>Bulgaria</td>\n",
       "      <td>2017</td>\n",
       "      <td>560.058555</td>\n",
       "      <td>4.714</td>\n",
       "      <td>1.161459</td>\n",
       "      <td>1.434379</td>\n",
       "      <td>70.821768</td>\n",
       "      <td>0.289232</td>\n",
       "      <td>0.113178</td>\n",
       "    </tr>\n",
       "    <tr>\n",
       "      <th>23</th>\n",
       "      <td>Bulgaria</td>\n",
       "      <td>2018</td>\n",
       "      <td>495.693208</td>\n",
       "      <td>4.933</td>\n",
       "      <td>1.054000</td>\n",
       "      <td>1.515000</td>\n",
       "      <td>71.200000</td>\n",
       "      <td>0.359000</td>\n",
       "      <td>0.009000</td>\n",
       "    </tr>\n",
       "    <tr>\n",
       "      <th>24</th>\n",
       "      <td>Bulgaria</td>\n",
       "      <td>2019</td>\n",
       "      <td>214.874952</td>\n",
       "      <td>5.011</td>\n",
       "      <td>1.092000</td>\n",
       "      <td>1.513000</td>\n",
       "      <td>81.500000</td>\n",
       "      <td>0.311000</td>\n",
       "      <td>0.004000</td>\n",
       "    </tr>\n",
       "  </tbody>\n",
       "</table>\n",
       "</div>"
      ],
      "text/plain": [
       "     Country  year     AQValue  Happiness Score  Economy (GDP per Capita)  \\\n",
       "20  Bulgaria  2015  750.925714            4.218                  1.012160   \n",
       "21  Bulgaria  2016  570.671862            4.217                  1.113060   \n",
       "22  Bulgaria  2017  560.058555            4.714                  1.161459   \n",
       "23  Bulgaria  2018  495.693208            4.933                  1.054000   \n",
       "24  Bulgaria  2019  214.874952            5.011                  1.092000   \n",
       "\n",
       "      Family  Health (Life Expectancy)   Freedom  \\\n",
       "20  1.106140                 76.649000  0.305870   \n",
       "21  0.925420                 67.806000  0.212190   \n",
       "22  1.434379                 70.821768  0.289232   \n",
       "23  1.515000                 71.200000  0.359000   \n",
       "24  1.513000                 81.500000  0.311000   \n",
       "\n",
       "    Trust (Government Corruption)  \n",
       "20                       0.008720  \n",
       "21                       0.006150  \n",
       "22                       0.113178  \n",
       "23                       0.009000  \n",
       "24                       0.004000  "
      ]
     },
     "execution_count": 26,
     "metadata": {},
     "output_type": "execute_result"
    }
   ],
   "source": [
    "AQValue_and_happiness_df = pd.merge(result_AQValue_df, from_2015_to_2021_df)\n",
    "AQValue_and_happiness_df[AQValue_and_happiness_df[\"Country\"] == \"Bulgaria\"]"
   ]
  },
  {
   "cell_type": "markdown",
   "id": "4aa05949",
   "metadata": {},
   "source": [
    "We have to set up the indexes, again."
   ]
  },
  {
   "cell_type": "code",
   "execution_count": 27,
   "id": "64a1e2db",
   "metadata": {},
   "outputs": [
    {
     "data": {
      "text/html": [
       "<div>\n",
       "<style scoped>\n",
       "    .dataframe tbody tr th:only-of-type {\n",
       "        vertical-align: middle;\n",
       "    }\n",
       "\n",
       "    .dataframe tbody tr th {\n",
       "        vertical-align: top;\n",
       "    }\n",
       "\n",
       "    .dataframe thead th {\n",
       "        text-align: right;\n",
       "    }\n",
       "</style>\n",
       "<table border=\"1\" class=\"dataframe\">\n",
       "  <thead>\n",
       "    <tr style=\"text-align: right;\">\n",
       "      <th></th>\n",
       "      <th>Country</th>\n",
       "      <th>year</th>\n",
       "      <th>AQValue</th>\n",
       "      <th>Happiness Score</th>\n",
       "      <th>Economy (GDP per Capita)</th>\n",
       "      <th>Family</th>\n",
       "      <th>Health (Life Expectancy)</th>\n",
       "      <th>Freedom</th>\n",
       "      <th>Trust (Government Corruption)</th>\n",
       "    </tr>\n",
       "    <tr>\n",
       "      <th>Happiness Rank</th>\n",
       "      <th></th>\n",
       "      <th></th>\n",
       "      <th></th>\n",
       "      <th></th>\n",
       "      <th></th>\n",
       "      <th></th>\n",
       "      <th></th>\n",
       "      <th></th>\n",
       "      <th></th>\n",
       "    </tr>\n",
       "  </thead>\n",
       "  <tbody>\n",
       "    <tr>\n",
       "      <th>1</th>\n",
       "      <td>Finland</td>\n",
       "      <td>2019</td>\n",
       "      <td>146.887879</td>\n",
       "      <td>7.769</td>\n",
       "      <td>1.340000</td>\n",
       "      <td>1.587000</td>\n",
       "      <td>98.600000</td>\n",
       "      <td>0.59600</td>\n",
       "      <td>0.393000</td>\n",
       "    </tr>\n",
       "    <tr>\n",
       "      <th>2</th>\n",
       "      <td>Finland</td>\n",
       "      <td>2018</td>\n",
       "      <td>455.536366</td>\n",
       "      <td>7.632</td>\n",
       "      <td>1.305000</td>\n",
       "      <td>1.592000</td>\n",
       "      <td>87.400000</td>\n",
       "      <td>0.68100</td>\n",
       "      <td>0.393000</td>\n",
       "    </tr>\n",
       "    <tr>\n",
       "      <th>3</th>\n",
       "      <td>Denmark</td>\n",
       "      <td>2019</td>\n",
       "      <td>242.051139</td>\n",
       "      <td>7.600</td>\n",
       "      <td>1.383000</td>\n",
       "      <td>1.573000</td>\n",
       "      <td>99.600000</td>\n",
       "      <td>0.59200</td>\n",
       "      <td>0.410000</td>\n",
       "    </tr>\n",
       "    <tr>\n",
       "      <th>4</th>\n",
       "      <td>Norway</td>\n",
       "      <td>2018</td>\n",
       "      <td>316.289536</td>\n",
       "      <td>7.594</td>\n",
       "      <td>1.456000</td>\n",
       "      <td>1.582000</td>\n",
       "      <td>86.100000</td>\n",
       "      <td>0.68600</td>\n",
       "      <td>0.340000</td>\n",
       "    </tr>\n",
       "    <tr>\n",
       "      <th>5</th>\n",
       "      <td>Switzerland</td>\n",
       "      <td>2015</td>\n",
       "      <td>3372.066520</td>\n",
       "      <td>7.587</td>\n",
       "      <td>1.396510</td>\n",
       "      <td>1.349510</td>\n",
       "      <td>94.143000</td>\n",
       "      <td>0.66557</td>\n",
       "      <td>0.419780</td>\n",
       "    </tr>\n",
       "    <tr>\n",
       "      <th>...</th>\n",
       "      <td>...</td>\n",
       "      <td>...</td>\n",
       "      <td>...</td>\n",
       "      <td>...</td>\n",
       "      <td>...</td>\n",
       "      <td>...</td>\n",
       "      <td>...</td>\n",
       "      <td>...</td>\n",
       "      <td>...</td>\n",
       "    </tr>\n",
       "    <tr>\n",
       "      <th>182</th>\n",
       "      <td>Georgia</td>\n",
       "      <td>2015</td>\n",
       "      <td>28182.499919</td>\n",
       "      <td>4.297</td>\n",
       "      <td>0.741900</td>\n",
       "      <td>0.385620</td>\n",
       "      <td>72.926000</td>\n",
       "      <td>0.40577</td>\n",
       "      <td>0.383310</td>\n",
       "    </tr>\n",
       "    <tr>\n",
       "      <th>183</th>\n",
       "      <td>Georgia</td>\n",
       "      <td>2017</td>\n",
       "      <td>7995.112309</td>\n",
       "      <td>4.286</td>\n",
       "      <td>0.950613</td>\n",
       "      <td>0.570615</td>\n",
       "      <td>64.954698</td>\n",
       "      <td>0.30941</td>\n",
       "      <td>0.054009</td>\n",
       "    </tr>\n",
       "    <tr>\n",
       "      <th>184</th>\n",
       "      <td>Georgia</td>\n",
       "      <td>2016</td>\n",
       "      <td>27162.194262</td>\n",
       "      <td>4.252</td>\n",
       "      <td>0.837920</td>\n",
       "      <td>0.192490</td>\n",
       "      <td>64.035000</td>\n",
       "      <td>0.32461</td>\n",
       "      <td>0.318800</td>\n",
       "    </tr>\n",
       "    <tr>\n",
       "      <th>185</th>\n",
       "      <td>Bulgaria</td>\n",
       "      <td>2015</td>\n",
       "      <td>750.925714</td>\n",
       "      <td>4.218</td>\n",
       "      <td>1.012160</td>\n",
       "      <td>1.106140</td>\n",
       "      <td>76.649000</td>\n",
       "      <td>0.30587</td>\n",
       "      <td>0.008720</td>\n",
       "    </tr>\n",
       "    <tr>\n",
       "      <th>186</th>\n",
       "      <td>Bulgaria</td>\n",
       "      <td>2016</td>\n",
       "      <td>570.671862</td>\n",
       "      <td>4.217</td>\n",
       "      <td>1.113060</td>\n",
       "      <td>0.925420</td>\n",
       "      <td>67.806000</td>\n",
       "      <td>0.21219</td>\n",
       "      <td>0.006150</td>\n",
       "    </tr>\n",
       "  </tbody>\n",
       "</table>\n",
       "<p>186 rows × 9 columns</p>\n",
       "</div>"
      ],
      "text/plain": [
       "                    Country  year       AQValue  Happiness Score  \\\n",
       "Happiness Rank                                                     \n",
       "1                   Finland  2019    146.887879            7.769   \n",
       "2                   Finland  2018    455.536366            7.632   \n",
       "3                   Denmark  2019    242.051139            7.600   \n",
       "4                    Norway  2018    316.289536            7.594   \n",
       "5               Switzerland  2015   3372.066520            7.587   \n",
       "...                     ...   ...           ...              ...   \n",
       "182                 Georgia  2015  28182.499919            4.297   \n",
       "183                 Georgia  2017   7995.112309            4.286   \n",
       "184                 Georgia  2016  27162.194262            4.252   \n",
       "185                Bulgaria  2015    750.925714            4.218   \n",
       "186                Bulgaria  2016    570.671862            4.217   \n",
       "\n",
       "                Economy (GDP per Capita)    Family  Health (Life Expectancy)  \\\n",
       "Happiness Rank                                                                 \n",
       "1                               1.340000  1.587000                 98.600000   \n",
       "2                               1.305000  1.592000                 87.400000   \n",
       "3                               1.383000  1.573000                 99.600000   \n",
       "4                               1.456000  1.582000                 86.100000   \n",
       "5                               1.396510  1.349510                 94.143000   \n",
       "...                                  ...       ...                       ...   \n",
       "182                             0.741900  0.385620                 72.926000   \n",
       "183                             0.950613  0.570615                 64.954698   \n",
       "184                             0.837920  0.192490                 64.035000   \n",
       "185                             1.012160  1.106140                 76.649000   \n",
       "186                             1.113060  0.925420                 67.806000   \n",
       "\n",
       "                Freedom  Trust (Government Corruption)  \n",
       "Happiness Rank                                          \n",
       "1               0.59600                       0.393000  \n",
       "2               0.68100                       0.393000  \n",
       "3               0.59200                       0.410000  \n",
       "4               0.68600                       0.340000  \n",
       "5               0.66557                       0.419780  \n",
       "...                 ...                            ...  \n",
       "182             0.40577                       0.383310  \n",
       "183             0.30941                       0.054009  \n",
       "184             0.32461                       0.318800  \n",
       "185             0.30587                       0.008720  \n",
       "186             0.21219                       0.006150  \n",
       "\n",
       "[186 rows x 9 columns]"
      ]
     },
     "execution_count": 27,
     "metadata": {},
     "output_type": "execute_result"
    }
   ],
   "source": [
    "AQValue_and_happiness_df.sort_values(by = ['Happiness Score'], axis=0, ascending=False, inplace=True, kind='quicksort', na_position='last', key=None)\n",
    "reset_index(AQValue_and_happiness_df, \"Happiness Rank\")\n",
    "AQValue_and_happiness_df"
   ]
  },
  {
   "cell_type": "markdown",
   "id": "c654f0ba",
   "metadata": {},
   "source": [
    "<b>Now let's do the simillar steps to the third dataset:</b>"
   ]
  },
  {
   "cell_type": "code",
   "execution_count": 28,
   "id": "46e59dd3",
   "metadata": {},
   "outputs": [
    {
     "name": "stdout",
     "output_type": "stream",
     "text": [
      "<class 'pandas.core.frame.DataFrame'>\n",
      "RangeIndex: 213 entries, 0 to 212\n",
      "Data columns (total 6 columns):\n",
      " #   Column           Non-Null Count  Dtype  \n",
      "---  ------           --------------  -----  \n",
      " 0   country          213 non-null    object \n",
      " 1   alcconsumption   187 non-null    float64\n",
      " 2   incomeperperson  190 non-null    float64\n",
      " 3   suicideper100th  191 non-null    float64\n",
      " 4   employrate       178 non-null    float64\n",
      " 5   urbanrate        203 non-null    float64\n",
      "dtypes: float64(5), object(1)\n",
      "memory usage: 10.1+ KB\n"
     ]
    }
   ],
   "source": [
    "dataset_with_alcohol_consumption_by_country.info()"
   ]
  },
  {
   "cell_type": "markdown",
   "id": "ccc2dc67",
   "metadata": {},
   "source": [
    "This dataset has many more problems compared with the previous two. We have to clear it and order the data.\n",
    "\n",
    "The column called \"employrate\" has 35 empty observations. But we have only \"Serbia\" as a country in the common dataset so we can drop all other countries. Then we have to fill the information for Serbia and we will do this searching on Google ->\n",
    "\n",
    "\"Employment Rate in Serbia averaged 43.89 percent from 2008 until 2021, reaching an all time high of 49.90 percent in the third quarter of 2020 and a record low of 34.30 percent in the first quarter of 2012\""
   ]
  },
  {
   "cell_type": "code",
   "execution_count": 29,
   "id": "0de051fd",
   "metadata": {},
   "outputs": [
    {
     "data": {
      "text/html": [
       "<div>\n",
       "<style scoped>\n",
       "    .dataframe tbody tr th:only-of-type {\n",
       "        vertical-align: middle;\n",
       "    }\n",
       "\n",
       "    .dataframe tbody tr th {\n",
       "        vertical-align: top;\n",
       "    }\n",
       "\n",
       "    .dataframe thead th {\n",
       "        text-align: right;\n",
       "    }\n",
       "</style>\n",
       "<table border=\"1\" class=\"dataframe\">\n",
       "  <thead>\n",
       "    <tr style=\"text-align: right;\">\n",
       "      <th></th>\n",
       "      <th>country</th>\n",
       "      <th>alcconsumption</th>\n",
       "      <th>incomeperperson</th>\n",
       "      <th>suicideper100th</th>\n",
       "      <th>employrate</th>\n",
       "      <th>urbanrate</th>\n",
       "    </tr>\n",
       "  </thead>\n",
       "  <tbody>\n",
       "    <tr>\n",
       "      <th>169</th>\n",
       "      <td>Serbia</td>\n",
       "      <td>12.21</td>\n",
       "      <td>1194.711433</td>\n",
       "      <td>13.71634</td>\n",
       "      <td>43.89</td>\n",
       "      <td>52.04</td>\n",
       "    </tr>\n",
       "  </tbody>\n",
       "</table>\n",
       "</div>"
      ],
      "text/plain": [
       "    country  alcconsumption  incomeperperson  suicideper100th  employrate  \\\n",
       "169  Serbia           12.21      1194.711433         13.71634       43.89   \n",
       "\n",
       "     urbanrate  \n",
       "169      52.04  "
      ]
     },
     "execution_count": 29,
     "metadata": {},
     "output_type": "execute_result"
    }
   ],
   "source": [
    "df_drop = dataset_with_alcohol_consumption_by_country[(dataset_with_alcohol_consumption_by_country[\"employrate\"].isna()) & (dataset_with_alcohol_consumption_by_country[\"country\"] != \"Serbia\")]\n",
    "dataset_with_alcohol_consumption_by_country.drop(df_drop.index, inplace = True)\n",
    "dataset_with_alcohol_consumption_by_country[\"employrate\"].fillna(43.89,inplace = True)\n",
    "dataset_with_alcohol_consumption_by_country[dataset_with_alcohol_consumption_by_country[\"country\"] == \"Serbia\"]"
   ]
  },
  {
   "cell_type": "code",
   "execution_count": 30,
   "id": "2b61508d",
   "metadata": {},
   "outputs": [
    {
     "name": "stdout",
     "output_type": "stream",
     "text": [
      "<class 'pandas.core.frame.DataFrame'>\n",
      "Int64Index: 179 entries, 0 to 212\n",
      "Data columns (total 6 columns):\n",
      " #   Column           Non-Null Count  Dtype  \n",
      "---  ------           --------------  -----  \n",
      " 0   country          179 non-null    object \n",
      " 1   alcconsumption   167 non-null    float64\n",
      " 2   incomeperperson  167 non-null    float64\n",
      " 3   suicideper100th  170 non-null    float64\n",
      " 4   employrate       179 non-null    float64\n",
      " 5   urbanrate        174 non-null    float64\n",
      "dtypes: float64(5), object(1)\n",
      "memory usage: 9.8+ KB\n"
     ]
    }
   ],
   "source": [
    "dataset_with_alcohol_consumption_by_country.info()"
   ]
  },
  {
   "cell_type": "code",
   "execution_count": 31,
   "id": "081e0c85",
   "metadata": {},
   "outputs": [
    {
     "data": {
      "text/html": [
       "<div>\n",
       "<style scoped>\n",
       "    .dataframe tbody tr th:only-of-type {\n",
       "        vertical-align: middle;\n",
       "    }\n",
       "\n",
       "    .dataframe tbody tr th {\n",
       "        vertical-align: top;\n",
       "    }\n",
       "\n",
       "    .dataframe thead th {\n",
       "        text-align: right;\n",
       "    }\n",
       "</style>\n",
       "<table border=\"1\" class=\"dataframe\">\n",
       "  <thead>\n",
       "    <tr style=\"text-align: right;\">\n",
       "      <th></th>\n",
       "      <th>country</th>\n",
       "      <th>alcconsumption</th>\n",
       "      <th>incomeperperson</th>\n",
       "      <th>suicideper100th</th>\n",
       "      <th>employrate</th>\n",
       "      <th>urbanrate</th>\n",
       "    </tr>\n",
       "  </thead>\n",
       "  <tbody>\n",
       "    <tr>\n",
       "      <th>75</th>\n",
       "      <td>Guadeloupe</td>\n",
       "      <td>NaN</td>\n",
       "      <td>NaN</td>\n",
       "      <td>NaN</td>\n",
       "      <td>43.099998</td>\n",
       "      <td>NaN</td>\n",
       "    </tr>\n",
       "    <tr>\n",
       "      <th>83</th>\n",
       "      <td>Hong Kong, China</td>\n",
       "      <td>NaN</td>\n",
       "      <td>35536.072470</td>\n",
       "      <td>NaN</td>\n",
       "      <td>59.000000</td>\n",
       "      <td>100.00</td>\n",
       "    </tr>\n",
       "    <tr>\n",
       "      <th>99</th>\n",
       "      <td>Korea, Dem. Rep.</td>\n",
       "      <td>NaN</td>\n",
       "      <td>NaN</td>\n",
       "      <td>4.735673</td>\n",
       "      <td>64.599998</td>\n",
       "      <td>62.68</td>\n",
       "    </tr>\n",
       "    <tr>\n",
       "      <th>112</th>\n",
       "      <td>Macao, China</td>\n",
       "      <td>NaN</td>\n",
       "      <td>33923.313870</td>\n",
       "      <td>NaN</td>\n",
       "      <td>63.599998</td>\n",
       "      <td>100.00</td>\n",
       "    </tr>\n",
       "    <tr>\n",
       "      <th>117</th>\n",
       "      <td>Maldives</td>\n",
       "      <td>NaN</td>\n",
       "      <td>4038.857818</td>\n",
       "      <td>22.353479</td>\n",
       "      <td>56.900002</td>\n",
       "      <td>37.86</td>\n",
       "    </tr>\n",
       "    <tr>\n",
       "      <th>121</th>\n",
       "      <td>Martinique</td>\n",
       "      <td>NaN</td>\n",
       "      <td>NaN</td>\n",
       "      <td>NaN</td>\n",
       "      <td>42.500000</td>\n",
       "      <td>NaN</td>\n",
       "    </tr>\n",
       "    <tr>\n",
       "      <th>137</th>\n",
       "      <td>Netherlands Antilles</td>\n",
       "      <td>NaN</td>\n",
       "      <td>NaN</td>\n",
       "      <td>NaN</td>\n",
       "      <td>53.500000</td>\n",
       "      <td>92.68</td>\n",
       "    </tr>\n",
       "    <tr>\n",
       "      <th>155</th>\n",
       "      <td>Puerto Rico</td>\n",
       "      <td>NaN</td>\n",
       "      <td>15822.112140</td>\n",
       "      <td>NaN</td>\n",
       "      <td>42.400002</td>\n",
       "      <td>98.32</td>\n",
       "    </tr>\n",
       "    <tr>\n",
       "      <th>157</th>\n",
       "      <td>Reunion</td>\n",
       "      <td>NaN</td>\n",
       "      <td>NaN</td>\n",
       "      <td>NaN</td>\n",
       "      <td>44.200001</td>\n",
       "      <td>NaN</td>\n",
       "    </tr>\n",
       "    <tr>\n",
       "      <th>170</th>\n",
       "      <td>Serbia and Montenegro</td>\n",
       "      <td>NaN</td>\n",
       "      <td>NaN</td>\n",
       "      <td>14.469648</td>\n",
       "      <td>48.700001</td>\n",
       "      <td>NaN</td>\n",
       "    </tr>\n",
       "    <tr>\n",
       "      <th>187</th>\n",
       "      <td>Taiwan</td>\n",
       "      <td>NaN</td>\n",
       "      <td>NaN</td>\n",
       "      <td>NaN</td>\n",
       "      <td>54.500000</td>\n",
       "      <td>NaN</td>\n",
       "    </tr>\n",
       "    <tr>\n",
       "      <th>209</th>\n",
       "      <td>West Bank and Gaza</td>\n",
       "      <td>NaN</td>\n",
       "      <td>NaN</td>\n",
       "      <td>NaN</td>\n",
       "      <td>32.000000</td>\n",
       "      <td>71.90</td>\n",
       "    </tr>\n",
       "  </tbody>\n",
       "</table>\n",
       "</div>"
      ],
      "text/plain": [
       "                   country  alcconsumption  incomeperperson  suicideper100th  \\\n",
       "75              Guadeloupe             NaN              NaN              NaN   \n",
       "83        Hong Kong, China             NaN     35536.072470              NaN   \n",
       "99        Korea, Dem. Rep.             NaN              NaN         4.735673   \n",
       "112           Macao, China             NaN     33923.313870              NaN   \n",
       "117               Maldives             NaN      4038.857818        22.353479   \n",
       "121             Martinique             NaN              NaN              NaN   \n",
       "137   Netherlands Antilles             NaN              NaN              NaN   \n",
       "155            Puerto Rico             NaN     15822.112140              NaN   \n",
       "157                Reunion             NaN              NaN              NaN   \n",
       "170  Serbia and Montenegro             NaN              NaN        14.469648   \n",
       "187                 Taiwan             NaN              NaN              NaN   \n",
       "209     West Bank and Gaza             NaN              NaN              NaN   \n",
       "\n",
       "     employrate  urbanrate  \n",
       "75    43.099998        NaN  \n",
       "83    59.000000     100.00  \n",
       "99    64.599998      62.68  \n",
       "112   63.599998     100.00  \n",
       "117   56.900002      37.86  \n",
       "121   42.500000        NaN  \n",
       "137   53.500000      92.68  \n",
       "155   42.400002      98.32  \n",
       "157   44.200001        NaN  \n",
       "170   48.700001        NaN  \n",
       "187   54.500000        NaN  \n",
       "209   32.000000      71.90  "
      ]
     },
     "execution_count": 31,
     "metadata": {},
     "output_type": "execute_result"
    }
   ],
   "source": [
    "dataset_with_alcohol_consumption_by_country[dataset_with_alcohol_consumption_by_country[\"alcconsumption\"].isna()]"
   ]
  },
  {
   "cell_type": "markdown",
   "id": "00d7ab90",
   "metadata": {},
   "source": [
    "While almost every \"country\" of those with null values in \"alcconsumption\" column are missing from the common table, we can delete them."
   ]
  },
  {
   "cell_type": "code",
   "execution_count": 32,
   "id": "9da37e31",
   "metadata": {},
   "outputs": [
    {
     "name": "stdout",
     "output_type": "stream",
     "text": [
      "<class 'pandas.core.frame.DataFrame'>\n",
      "Int64Index: 167 entries, 0 to 212\n",
      "Data columns (total 6 columns):\n",
      " #   Column           Non-Null Count  Dtype  \n",
      "---  ------           --------------  -----  \n",
      " 0   country          167 non-null    object \n",
      " 1   alcconsumption   167 non-null    float64\n",
      " 2   incomeperperson  163 non-null    float64\n",
      " 3   suicideper100th  167 non-null    float64\n",
      " 4   employrate       167 non-null    float64\n",
      " 5   urbanrate        167 non-null    float64\n",
      "dtypes: float64(5), object(1)\n",
      "memory usage: 9.1+ KB\n"
     ]
    }
   ],
   "source": [
    "list_for_drop = dataset_with_alcohol_consumption_by_country[dataset_with_alcohol_consumption_by_country[\"alcconsumption\"].isna()]\n",
    "dataset_with_alcohol_consumption_by_country.drop(list_for_drop.index, inplace = True)\n",
    "dataset_with_alcohol_consumption_by_country.info()"
   ]
  },
  {
   "cell_type": "markdown",
   "id": "60aefe1a",
   "metadata": {},
   "source": [
    "We have one more column( 'incomeperperson' ) with null values, so let's see what can we do there."
   ]
  },
  {
   "cell_type": "code",
   "execution_count": 33,
   "id": "07996838",
   "metadata": {},
   "outputs": [
    {
     "data": {
      "text/html": [
       "<div>\n",
       "<style scoped>\n",
       "    .dataframe tbody tr th:only-of-type {\n",
       "        vertical-align: middle;\n",
       "    }\n",
       "\n",
       "    .dataframe tbody tr th {\n",
       "        vertical-align: top;\n",
       "    }\n",
       "\n",
       "    .dataframe thead th {\n",
       "        text-align: right;\n",
       "    }\n",
       "</style>\n",
       "<table border=\"1\" class=\"dataframe\">\n",
       "  <thead>\n",
       "    <tr style=\"text-align: right;\">\n",
       "      <th></th>\n",
       "      <th>country</th>\n",
       "      <th>alcconsumption</th>\n",
       "      <th>incomeperperson</th>\n",
       "      <th>suicideper100th</th>\n",
       "      <th>employrate</th>\n",
       "      <th>urbanrate</th>\n",
       "    </tr>\n",
       "  </thead>\n",
       "  <tbody>\n",
       "    <tr>\n",
       "      <th>0</th>\n",
       "      <td>Afghanistan</td>\n",
       "      <td>0.03</td>\n",
       "      <td>NaN</td>\n",
       "      <td>6.684385</td>\n",
       "      <td>55.700001</td>\n",
       "      <td>24.04</td>\n",
       "    </tr>\n",
       "    <tr>\n",
       "      <th>101</th>\n",
       "      <td>Kuwait</td>\n",
       "      <td>0.10</td>\n",
       "      <td>NaN</td>\n",
       "      <td>1.498057</td>\n",
       "      <td>65.699997</td>\n",
       "      <td>98.36</td>\n",
       "    </tr>\n",
       "    <tr>\n",
       "      <th>132</th>\n",
       "      <td>Myanmar</td>\n",
       "      <td>0.58</td>\n",
       "      <td>NaN</td>\n",
       "      <td>10.114997</td>\n",
       "      <td>74.699997</td>\n",
       "      <td>32.58</td>\n",
       "    </tr>\n",
       "    <tr>\n",
       "      <th>177</th>\n",
       "      <td>Somalia</td>\n",
       "      <td>0.50</td>\n",
       "      <td>NaN</td>\n",
       "      <td>29.864164</td>\n",
       "      <td>66.000000</td>\n",
       "      <td>36.52</td>\n",
       "    </tr>\n",
       "  </tbody>\n",
       "</table>\n",
       "</div>"
      ],
      "text/plain": [
       "         country  alcconsumption  incomeperperson  suicideper100th  \\\n",
       "0    Afghanistan            0.03              NaN         6.684385   \n",
       "101       Kuwait            0.10              NaN         1.498057   \n",
       "132      Myanmar            0.58              NaN        10.114997   \n",
       "177      Somalia            0.50              NaN        29.864164   \n",
       "\n",
       "     employrate  urbanrate  \n",
       "0     55.700001      24.04  \n",
       "101   65.699997      98.36  \n",
       "132   74.699997      32.58  \n",
       "177   66.000000      36.52  "
      ]
     },
     "execution_count": 33,
     "metadata": {},
     "output_type": "execute_result"
    }
   ],
   "source": [
    "dataset_with_alcohol_consumption_by_country[dataset_with_alcohol_consumption_by_country[\"incomeperperson\"].isna()]"
   ]
  },
  {
   "cell_type": "markdown",
   "id": "a56c2759",
   "metadata": {},
   "source": [
    "Again we have none of these countries in the common table so we can delete them.\n",
    "\n",
    "Now, let's try to merge one more time the tables. In order to do that we have to rename the columns of the alcohol-consumption dataset."
   ]
  },
  {
   "cell_type": "code",
   "execution_count": 34,
   "id": "b6bf5717",
   "metadata": {},
   "outputs": [],
   "source": [
    "dataset_with_alcohol_consumption_by_country.columns = [\"Country\", \"alcohol_consumption\", \"income_per_person\", \"suicide_rate_per_100\",\"employ_rate\",\"urban_rate\"]"
   ]
  },
  {
   "cell_type": "code",
   "execution_count": 35,
   "id": "de46c5f6",
   "metadata": {},
   "outputs": [],
   "source": [
    "alcohol_consumption_AQValue_and_happiness_df = pd.merge(AQValue_and_happiness_df, dataset_with_alcohol_consumption_by_country)"
   ]
  },
  {
   "cell_type": "code",
   "execution_count": 36,
   "id": "67cccd2d",
   "metadata": {},
   "outputs": [
    {
     "data": {
      "text/html": [
       "<div>\n",
       "<style scoped>\n",
       "    .dataframe tbody tr th:only-of-type {\n",
       "        vertical-align: middle;\n",
       "    }\n",
       "\n",
       "    .dataframe tbody tr th {\n",
       "        vertical-align: top;\n",
       "    }\n",
       "\n",
       "    .dataframe thead th {\n",
       "        text-align: right;\n",
       "    }\n",
       "</style>\n",
       "<table border=\"1\" class=\"dataframe\">\n",
       "  <thead>\n",
       "    <tr style=\"text-align: right;\">\n",
       "      <th></th>\n",
       "      <th>Country</th>\n",
       "      <th>year</th>\n",
       "      <th>AQValue</th>\n",
       "      <th>Happiness Score</th>\n",
       "      <th>Economy (GDP per Capita)</th>\n",
       "      <th>Family</th>\n",
       "      <th>Health (Life Expectancy)</th>\n",
       "      <th>Freedom</th>\n",
       "      <th>Trust (Government Corruption)</th>\n",
       "      <th>alcohol_consumption</th>\n",
       "      <th>income_per_person</th>\n",
       "      <th>suicide_rate_per_100</th>\n",
       "      <th>employ_rate</th>\n",
       "      <th>urban_rate</th>\n",
       "    </tr>\n",
       "    <tr>\n",
       "      <th>Happiness Rank</th>\n",
       "      <th></th>\n",
       "      <th></th>\n",
       "      <th></th>\n",
       "      <th></th>\n",
       "      <th></th>\n",
       "      <th></th>\n",
       "      <th></th>\n",
       "      <th></th>\n",
       "      <th></th>\n",
       "      <th></th>\n",
       "      <th></th>\n",
       "      <th></th>\n",
       "      <th></th>\n",
       "      <th></th>\n",
       "    </tr>\n",
       "  </thead>\n",
       "  <tbody>\n",
       "    <tr>\n",
       "      <th>1</th>\n",
       "      <td>Finland</td>\n",
       "      <td>2019</td>\n",
       "      <td>146.887879</td>\n",
       "      <td>7.769</td>\n",
       "      <td>1.340000</td>\n",
       "      <td>1.587000</td>\n",
       "      <td>98.600000</td>\n",
       "      <td>0.596000</td>\n",
       "      <td>0.393000</td>\n",
       "      <td>13.10</td>\n",
       "      <td>27110.731590</td>\n",
       "      <td>16.23437</td>\n",
       "      <td>57.200001</td>\n",
       "      <td>63.30</td>\n",
       "    </tr>\n",
       "    <tr>\n",
       "      <th>2</th>\n",
       "      <td>Finland</td>\n",
       "      <td>2018</td>\n",
       "      <td>455.536366</td>\n",
       "      <td>7.632</td>\n",
       "      <td>1.305000</td>\n",
       "      <td>1.592000</td>\n",
       "      <td>87.400000</td>\n",
       "      <td>0.681000</td>\n",
       "      <td>0.393000</td>\n",
       "      <td>13.10</td>\n",
       "      <td>27110.731590</td>\n",
       "      <td>16.23437</td>\n",
       "      <td>57.200001</td>\n",
       "      <td>63.30</td>\n",
       "    </tr>\n",
       "    <tr>\n",
       "      <th>3</th>\n",
       "      <td>Finland</td>\n",
       "      <td>2017</td>\n",
       "      <td>168.748344</td>\n",
       "      <td>7.469</td>\n",
       "      <td>1.443572</td>\n",
       "      <td>1.540247</td>\n",
       "      <td>80.915767</td>\n",
       "      <td>0.617951</td>\n",
       "      <td>0.245483</td>\n",
       "      <td>13.10</td>\n",
       "      <td>27110.731590</td>\n",
       "      <td>16.23437</td>\n",
       "      <td>57.200001</td>\n",
       "      <td>63.30</td>\n",
       "    </tr>\n",
       "    <tr>\n",
       "      <th>4</th>\n",
       "      <td>Finland</td>\n",
       "      <td>2016</td>\n",
       "      <td>287.209049</td>\n",
       "      <td>7.413</td>\n",
       "      <td>1.405980</td>\n",
       "      <td>1.134640</td>\n",
       "      <td>81.091000</td>\n",
       "      <td>0.571040</td>\n",
       "      <td>0.410040</td>\n",
       "      <td>13.10</td>\n",
       "      <td>27110.731590</td>\n",
       "      <td>16.23437</td>\n",
       "      <td>57.200001</td>\n",
       "      <td>63.30</td>\n",
       "    </tr>\n",
       "    <tr>\n",
       "      <th>5</th>\n",
       "      <td>Finland</td>\n",
       "      <td>2015</td>\n",
       "      <td>330.986899</td>\n",
       "      <td>7.406</td>\n",
       "      <td>1.290250</td>\n",
       "      <td>1.318260</td>\n",
       "      <td>88.911000</td>\n",
       "      <td>0.641690</td>\n",
       "      <td>0.413720</td>\n",
       "      <td>13.10</td>\n",
       "      <td>27110.731590</td>\n",
       "      <td>16.23437</td>\n",
       "      <td>57.200001</td>\n",
       "      <td>63.30</td>\n",
       "    </tr>\n",
       "    <tr>\n",
       "      <th>...</th>\n",
       "      <td>...</td>\n",
       "      <td>...</td>\n",
       "      <td>...</td>\n",
       "      <td>...</td>\n",
       "      <td>...</td>\n",
       "      <td>...</td>\n",
       "      <td>...</td>\n",
       "      <td>...</td>\n",
       "      <td>...</td>\n",
       "      <td>...</td>\n",
       "      <td>...</td>\n",
       "      <td>...</td>\n",
       "      <td>...</td>\n",
       "      <td>...</td>\n",
       "    </tr>\n",
       "    <tr>\n",
       "      <th>166</th>\n",
       "      <td>Georgia</td>\n",
       "      <td>2019</td>\n",
       "      <td>229.465868</td>\n",
       "      <td>4.519</td>\n",
       "      <td>0.886000</td>\n",
       "      <td>0.666000</td>\n",
       "      <td>75.200000</td>\n",
       "      <td>0.346000</td>\n",
       "      <td>0.164000</td>\n",
       "      <td>6.66</td>\n",
       "      <td>1258.762596</td>\n",
       "      <td>1.57435</td>\n",
       "      <td>55.599998</td>\n",
       "      <td>52.74</td>\n",
       "    </tr>\n",
       "    <tr>\n",
       "      <th>167</th>\n",
       "      <td>Georgia</td>\n",
       "      <td>2018</td>\n",
       "      <td>0.214286</td>\n",
       "      <td>4.340</td>\n",
       "      <td>0.853000</td>\n",
       "      <td>0.592000</td>\n",
       "      <td>64.300000</td>\n",
       "      <td>0.375000</td>\n",
       "      <td>0.215000</td>\n",
       "      <td>6.66</td>\n",
       "      <td>1258.762596</td>\n",
       "      <td>1.57435</td>\n",
       "      <td>55.599998</td>\n",
       "      <td>52.74</td>\n",
       "    </tr>\n",
       "    <tr>\n",
       "      <th>168</th>\n",
       "      <td>Georgia</td>\n",
       "      <td>2015</td>\n",
       "      <td>28182.499919</td>\n",
       "      <td>4.297</td>\n",
       "      <td>0.741900</td>\n",
       "      <td>0.385620</td>\n",
       "      <td>72.926000</td>\n",
       "      <td>0.405770</td>\n",
       "      <td>0.383310</td>\n",
       "      <td>6.66</td>\n",
       "      <td>1258.762596</td>\n",
       "      <td>1.57435</td>\n",
       "      <td>55.599998</td>\n",
       "      <td>52.74</td>\n",
       "    </tr>\n",
       "    <tr>\n",
       "      <th>169</th>\n",
       "      <td>Georgia</td>\n",
       "      <td>2017</td>\n",
       "      <td>7995.112309</td>\n",
       "      <td>4.286</td>\n",
       "      <td>0.950613</td>\n",
       "      <td>0.570615</td>\n",
       "      <td>64.954698</td>\n",
       "      <td>0.309410</td>\n",
       "      <td>0.054009</td>\n",
       "      <td>6.66</td>\n",
       "      <td>1258.762596</td>\n",
       "      <td>1.57435</td>\n",
       "      <td>55.599998</td>\n",
       "      <td>52.74</td>\n",
       "    </tr>\n",
       "    <tr>\n",
       "      <th>170</th>\n",
       "      <td>Georgia</td>\n",
       "      <td>2016</td>\n",
       "      <td>27162.194262</td>\n",
       "      <td>4.252</td>\n",
       "      <td>0.837920</td>\n",
       "      <td>0.192490</td>\n",
       "      <td>64.035000</td>\n",
       "      <td>0.324610</td>\n",
       "      <td>0.318800</td>\n",
       "      <td>6.66</td>\n",
       "      <td>1258.762596</td>\n",
       "      <td>1.57435</td>\n",
       "      <td>55.599998</td>\n",
       "      <td>52.74</td>\n",
       "    </tr>\n",
       "  </tbody>\n",
       "</table>\n",
       "<p>170 rows × 14 columns</p>\n",
       "</div>"
      ],
      "text/plain": [
       "                Country  year       AQValue  Happiness Score  \\\n",
       "Happiness Rank                                                 \n",
       "1               Finland  2019    146.887879            7.769   \n",
       "2               Finland  2018    455.536366            7.632   \n",
       "3               Finland  2017    168.748344            7.469   \n",
       "4               Finland  2016    287.209049            7.413   \n",
       "5               Finland  2015    330.986899            7.406   \n",
       "...                 ...   ...           ...              ...   \n",
       "166             Georgia  2019    229.465868            4.519   \n",
       "167             Georgia  2018      0.214286            4.340   \n",
       "168             Georgia  2015  28182.499919            4.297   \n",
       "169             Georgia  2017   7995.112309            4.286   \n",
       "170             Georgia  2016  27162.194262            4.252   \n",
       "\n",
       "                Economy (GDP per Capita)    Family  Health (Life Expectancy)  \\\n",
       "Happiness Rank                                                                 \n",
       "1                               1.340000  1.587000                 98.600000   \n",
       "2                               1.305000  1.592000                 87.400000   \n",
       "3                               1.443572  1.540247                 80.915767   \n",
       "4                               1.405980  1.134640                 81.091000   \n",
       "5                               1.290250  1.318260                 88.911000   \n",
       "...                                  ...       ...                       ...   \n",
       "166                             0.886000  0.666000                 75.200000   \n",
       "167                             0.853000  0.592000                 64.300000   \n",
       "168                             0.741900  0.385620                 72.926000   \n",
       "169                             0.950613  0.570615                 64.954698   \n",
       "170                             0.837920  0.192490                 64.035000   \n",
       "\n",
       "                 Freedom  Trust (Government Corruption)  alcohol_consumption  \\\n",
       "Happiness Rank                                                                 \n",
       "1               0.596000                       0.393000                13.10   \n",
       "2               0.681000                       0.393000                13.10   \n",
       "3               0.617951                       0.245483                13.10   \n",
       "4               0.571040                       0.410040                13.10   \n",
       "5               0.641690                       0.413720                13.10   \n",
       "...                  ...                            ...                  ...   \n",
       "166             0.346000                       0.164000                 6.66   \n",
       "167             0.375000                       0.215000                 6.66   \n",
       "168             0.405770                       0.383310                 6.66   \n",
       "169             0.309410                       0.054009                 6.66   \n",
       "170             0.324610                       0.318800                 6.66   \n",
       "\n",
       "                income_per_person  suicide_rate_per_100  employ_rate  \\\n",
       "Happiness Rank                                                         \n",
       "1                    27110.731590              16.23437    57.200001   \n",
       "2                    27110.731590              16.23437    57.200001   \n",
       "3                    27110.731590              16.23437    57.200001   \n",
       "4                    27110.731590              16.23437    57.200001   \n",
       "5                    27110.731590              16.23437    57.200001   \n",
       "...                           ...                   ...          ...   \n",
       "166                   1258.762596               1.57435    55.599998   \n",
       "167                   1258.762596               1.57435    55.599998   \n",
       "168                   1258.762596               1.57435    55.599998   \n",
       "169                   1258.762596               1.57435    55.599998   \n",
       "170                   1258.762596               1.57435    55.599998   \n",
       "\n",
       "                urban_rate  \n",
       "Happiness Rank              \n",
       "1                    63.30  \n",
       "2                    63.30  \n",
       "3                    63.30  \n",
       "4                    63.30  \n",
       "5                    63.30  \n",
       "...                    ...  \n",
       "166                  52.74  \n",
       "167                  52.74  \n",
       "168                  52.74  \n",
       "169                  52.74  \n",
       "170                  52.74  \n",
       "\n",
       "[170 rows x 14 columns]"
      ]
     },
     "execution_count": 36,
     "metadata": {},
     "output_type": "execute_result"
    }
   ],
   "source": [
    "reset_index(alcohol_consumption_AQValue_and_happiness_df, \"Happiness Rank\")\n",
    "alcohol_consumption_AQValue_and_happiness_df"
   ]
  },
  {
   "cell_type": "markdown",
   "id": "6edf76b3",
   "metadata": {},
   "source": [
    "Unfortunately, the values from the new dataset fixed by the period of time (2015-2019), but however, we will try to extract something intresting."
   ]
  },
  {
   "cell_type": "code",
   "execution_count": 37,
   "id": "6e2df125",
   "metadata": {},
   "outputs": [
    {
     "name": "stdout",
     "output_type": "stream",
     "text": [
      "<class 'pandas.core.frame.DataFrame'>\n",
      "RangeIndex: 170 entries, 1 to 170\n",
      "Data columns (total 14 columns):\n",
      " #   Column                         Non-Null Count  Dtype  \n",
      "---  ------                         --------------  -----  \n",
      " 0   Country                        170 non-null    object \n",
      " 1   year                           170 non-null    int64  \n",
      " 2   AQValue                        170 non-null    float64\n",
      " 3   Happiness Score                170 non-null    float64\n",
      " 4   Economy (GDP per Capita)       170 non-null    float64\n",
      " 5   Family                         170 non-null    float64\n",
      " 6   Health (Life Expectancy)       170 non-null    float64\n",
      " 7   Freedom                        170 non-null    float64\n",
      " 8   Trust (Government Corruption)  170 non-null    float64\n",
      " 9   alcohol_consumption            170 non-null    float64\n",
      " 10  income_per_person              170 non-null    float64\n",
      " 11  suicide_rate_per_100           170 non-null    float64\n",
      " 12  employ_rate                    170 non-null    float64\n",
      " 13  urban_rate                     170 non-null    float64\n",
      "dtypes: float64(12), int64(1), object(1)\n",
      "memory usage: 18.7+ KB\n"
     ]
    }
   ],
   "source": [
    "alcohol_consumption_AQValue_and_happiness_df.info()"
   ]
  },
  {
   "cell_type": "markdown",
   "id": "e97fcb6a",
   "metadata": {},
   "source": [
    "Finally we have valid values and ordered dataset, so we can continue with experimenting with the columns."
   ]
  },
  {
   "cell_type": "code",
   "execution_count": 38,
   "id": "10ba3abc",
   "metadata": {},
   "outputs": [
    {
     "data": {
      "text/html": [
       "<div>\n",
       "<style scoped>\n",
       "    .dataframe tbody tr th:only-of-type {\n",
       "        vertical-align: middle;\n",
       "    }\n",
       "\n",
       "    .dataframe tbody tr th {\n",
       "        vertical-align: top;\n",
       "    }\n",
       "\n",
       "    .dataframe thead th {\n",
       "        text-align: right;\n",
       "    }\n",
       "</style>\n",
       "<table border=\"1\" class=\"dataframe\">\n",
       "  <thead>\n",
       "    <tr style=\"text-align: right;\">\n",
       "      <th></th>\n",
       "      <th>Country</th>\n",
       "      <th>year</th>\n",
       "      <th>AQValue</th>\n",
       "      <th>Happiness Score</th>\n",
       "      <th>Economy (GDP per Capita)</th>\n",
       "      <th>Family</th>\n",
       "      <th>Health (Life Expectancy)</th>\n",
       "      <th>Freedom</th>\n",
       "      <th>Trust (Government Corruption)</th>\n",
       "      <th>alcohol_consumption</th>\n",
       "      <th>income_per_person</th>\n",
       "      <th>suicide_rate_per_100</th>\n",
       "      <th>employ_rate</th>\n",
       "      <th>urban_rate</th>\n",
       "    </tr>\n",
       "    <tr>\n",
       "      <th>Happiness Rank</th>\n",
       "      <th></th>\n",
       "      <th></th>\n",
       "      <th></th>\n",
       "      <th></th>\n",
       "      <th></th>\n",
       "      <th></th>\n",
       "      <th></th>\n",
       "      <th></th>\n",
       "      <th></th>\n",
       "      <th></th>\n",
       "      <th></th>\n",
       "      <th></th>\n",
       "      <th></th>\n",
       "      <th></th>\n",
       "    </tr>\n",
       "  </thead>\n",
       "  <tbody>\n",
       "    <tr>\n",
       "      <th>156</th>\n",
       "      <td>Bulgaria</td>\n",
       "      <td>2019</td>\n",
       "      <td>214.874952</td>\n",
       "      <td>5.011</td>\n",
       "      <td>1.092000</td>\n",
       "      <td>1.513000</td>\n",
       "      <td>81.500000</td>\n",
       "      <td>0.311000</td>\n",
       "      <td>0.004000</td>\n",
       "      <td>11.4</td>\n",
       "      <td>2549.558474</td>\n",
       "      <td>9.216544</td>\n",
       "      <td>47.299999</td>\n",
       "      <td>71.1</td>\n",
       "    </tr>\n",
       "    <tr>\n",
       "      <th>157</th>\n",
       "      <td>Bulgaria</td>\n",
       "      <td>2018</td>\n",
       "      <td>495.693208</td>\n",
       "      <td>4.933</td>\n",
       "      <td>1.054000</td>\n",
       "      <td>1.515000</td>\n",
       "      <td>71.200000</td>\n",
       "      <td>0.359000</td>\n",
       "      <td>0.009000</td>\n",
       "      <td>11.4</td>\n",
       "      <td>2549.558474</td>\n",
       "      <td>9.216544</td>\n",
       "      <td>47.299999</td>\n",
       "      <td>71.1</td>\n",
       "    </tr>\n",
       "    <tr>\n",
       "      <th>158</th>\n",
       "      <td>Bulgaria</td>\n",
       "      <td>2017</td>\n",
       "      <td>560.058555</td>\n",
       "      <td>4.714</td>\n",
       "      <td>1.161459</td>\n",
       "      <td>1.434379</td>\n",
       "      <td>70.821768</td>\n",
       "      <td>0.289232</td>\n",
       "      <td>0.113178</td>\n",
       "      <td>11.4</td>\n",
       "      <td>2549.558474</td>\n",
       "      <td>9.216544</td>\n",
       "      <td>47.299999</td>\n",
       "      <td>71.1</td>\n",
       "    </tr>\n",
       "    <tr>\n",
       "      <th>159</th>\n",
       "      <td>Bulgaria</td>\n",
       "      <td>2015</td>\n",
       "      <td>750.925714</td>\n",
       "      <td>4.218</td>\n",
       "      <td>1.012160</td>\n",
       "      <td>1.106140</td>\n",
       "      <td>76.649000</td>\n",
       "      <td>0.305870</td>\n",
       "      <td>0.008720</td>\n",
       "      <td>11.4</td>\n",
       "      <td>2549.558474</td>\n",
       "      <td>9.216544</td>\n",
       "      <td>47.299999</td>\n",
       "      <td>71.1</td>\n",
       "    </tr>\n",
       "    <tr>\n",
       "      <th>160</th>\n",
       "      <td>Bulgaria</td>\n",
       "      <td>2016</td>\n",
       "      <td>570.671862</td>\n",
       "      <td>4.217</td>\n",
       "      <td>1.113060</td>\n",
       "      <td>0.925420</td>\n",
       "      <td>67.806000</td>\n",
       "      <td>0.212190</td>\n",
       "      <td>0.006150</td>\n",
       "      <td>11.4</td>\n",
       "      <td>2549.558474</td>\n",
       "      <td>9.216544</td>\n",
       "      <td>47.299999</td>\n",
       "      <td>71.1</td>\n",
       "    </tr>\n",
       "  </tbody>\n",
       "</table>\n",
       "</div>"
      ],
      "text/plain": [
       "                 Country  year     AQValue  Happiness Score  \\\n",
       "Happiness Rank                                                \n",
       "156             Bulgaria  2019  214.874952            5.011   \n",
       "157             Bulgaria  2018  495.693208            4.933   \n",
       "158             Bulgaria  2017  560.058555            4.714   \n",
       "159             Bulgaria  2015  750.925714            4.218   \n",
       "160             Bulgaria  2016  570.671862            4.217   \n",
       "\n",
       "                Economy (GDP per Capita)    Family  Health (Life Expectancy)  \\\n",
       "Happiness Rank                                                                 \n",
       "156                             1.092000  1.513000                 81.500000   \n",
       "157                             1.054000  1.515000                 71.200000   \n",
       "158                             1.161459  1.434379                 70.821768   \n",
       "159                             1.012160  1.106140                 76.649000   \n",
       "160                             1.113060  0.925420                 67.806000   \n",
       "\n",
       "                 Freedom  Trust (Government Corruption)  alcohol_consumption  \\\n",
       "Happiness Rank                                                                 \n",
       "156             0.311000                       0.004000                 11.4   \n",
       "157             0.359000                       0.009000                 11.4   \n",
       "158             0.289232                       0.113178                 11.4   \n",
       "159             0.305870                       0.008720                 11.4   \n",
       "160             0.212190                       0.006150                 11.4   \n",
       "\n",
       "                income_per_person  suicide_rate_per_100  employ_rate  \\\n",
       "Happiness Rank                                                         \n",
       "156                   2549.558474              9.216544    47.299999   \n",
       "157                   2549.558474              9.216544    47.299999   \n",
       "158                   2549.558474              9.216544    47.299999   \n",
       "159                   2549.558474              9.216544    47.299999   \n",
       "160                   2549.558474              9.216544    47.299999   \n",
       "\n",
       "                urban_rate  \n",
       "Happiness Rank              \n",
       "156                   71.1  \n",
       "157                   71.1  \n",
       "158                   71.1  \n",
       "159                   71.1  \n",
       "160                   71.1  "
      ]
     },
     "execution_count": 38,
     "metadata": {},
     "output_type": "execute_result"
    }
   ],
   "source": [
    "alcohol_consumption_AQValue_and_happiness_df[alcohol_consumption_AQValue_and_happiness_df[\"Country\"] == \"Bulgaria\"]"
   ]
  },
  {
   "cell_type": "markdown",
   "id": "d80374a1",
   "metadata": {},
   "source": [
    "<a id=\"33\"></a>\n"
   ]
  },
  {
   "cell_type": "markdown",
   "id": "08a1c808",
   "metadata": {},
   "source": [
    "## 3. Explore the data to find a feature to investigate"
   ]
  },
  {
   "cell_type": "markdown",
   "id": "046d98bc",
   "metadata": {},
   "source": [
    "\n",
    "\n",
    "We can observe the range of the \"Happiness Score\" column"
   ]
  },
  {
   "cell_type": "code",
   "execution_count": 39,
   "id": "9e9f1365",
   "metadata": {},
   "outputs": [
    {
     "data": {
      "text/plain": [
       "(4.217, 7.769)"
      ]
     },
     "execution_count": 39,
     "metadata": {},
     "output_type": "execute_result"
    }
   ],
   "source": [
    "alcohol_consumption_AQValue_and_happiness_df[\"Happiness Score\"].min(),alcohol_consumption_AQValue_and_happiness_df[\"Happiness Score\"].max()"
   ]
  },
  {
   "cell_type": "code",
   "execution_count": 40,
   "id": "56efc2ba",
   "metadata": {},
   "outputs": [
    {
     "data": {
      "image/png": "[encoded data removed]",
      "text/plain": [
       "<Figure size 432x288 with 1 Axes>"
      ]
     },
     "metadata": {
      "needs_background": "light"
     },
     "output_type": "display_data"
    }
   ],
   "source": [
    "plt.hist(alcohol_consumption_AQValue_and_happiness_df[\"Happiness Score\"], bins = \"fd\")\n",
    "\n",
    "plt.title(\"Happiness score in countries\")\n",
    "plt.xlabel(\"Happiness score\")\n",
    "plt.ylabel(\"Count\")\n",
    "plt.show()"
   ]
  },
  {
   "cell_type": "markdown",
   "id": "aafb2177",
   "metadata": {},
   "source": [
    "This looks like a binomial distribution. Let's find a treshold and separete the data into two subsets - happy_people, unhappy_people"
   ]
  },
  {
   "cell_type": "code",
   "execution_count": 41,
   "id": "b55d1bb6",
   "metadata": {},
   "outputs": [
    {
     "data": {
      "text/plain": [
       "-0.12959762711400252"
      ]
     },
     "execution_count": 41,
     "metadata": {},
     "output_type": "execute_result"
    }
   ],
   "source": [
    "alcohol_consumption_AQValue_and_happiness_df[\"Happiness Score\"].skew()"
   ]
  },
  {
   "cell_type": "code",
   "execution_count": 42,
   "id": "c33b7902",
   "metadata": {},
   "outputs": [
    {
     "data": {
      "text/plain": [
       "6.20505882577335"
      ]
     },
     "execution_count": 42,
     "metadata": {},
     "output_type": "execute_result"
    }
   ],
   "source": [
    "mean_value = alcohol_consumption_AQValue_and_happiness_df['Happiness Score'].mean()\n",
    "mean_value"
   ]
  },
  {
   "cell_type": "code",
   "execution_count": 43,
   "id": "f39a8498",
   "metadata": {},
   "outputs": [
    {
     "data": {
      "text/plain": [
       "6.094"
      ]
     },
     "execution_count": 43,
     "metadata": {},
     "output_type": "execute_result"
    }
   ],
   "source": [
    "median_value = np.median(alcohol_consumption_AQValue_and_happiness_df['Happiness Score'])\n",
    "median_value"
   ]
  },
  {
   "cell_type": "markdown",
   "id": "7f26fa0f",
   "metadata": {},
   "source": [
    "Here as out distribution has little skew we can use both the mean or the median of it. In that case we will use the median. "
   ]
  },
  {
   "cell_type": "code",
   "execution_count": 44,
   "id": "5112f7b2",
   "metadata": {},
   "outputs": [],
   "source": [
    "happy_people = alcohol_consumption_AQValue_and_happiness_df[alcohol_consumption_AQValue_and_happiness_df['Happiness Score'] > median_value]"
   ]
  },
  {
   "cell_type": "code",
   "execution_count": 45,
   "id": "f2426d02",
   "metadata": {},
   "outputs": [],
   "source": [
    "unhappy_people = alcohol_consumption_AQValue_and_happiness_df[alcohol_consumption_AQValue_and_happiness_df['Happiness Score'] <= median_value]"
   ]
  },
  {
   "cell_type": "code",
   "execution_count": 46,
   "id": "0e095cf8",
   "metadata": {},
   "outputs": [
    {
     "data": {
      "text/plain": [
       "(85, 85)"
      ]
     },
     "execution_count": 46,
     "metadata": {},
     "output_type": "execute_result"
    }
   ],
   "source": [
    "len(happy_people),len(unhappy_people)"
   ]
  },
  {
   "cell_type": "markdown",
   "id": "eb3e7ca7",
   "metadata": {},
   "source": [
    "We can see that we had perfectly separated the countries into two groups using the median as a threshold."
   ]
  },
  {
   "cell_type": "code",
   "execution_count": 47,
   "id": "48a06b03",
   "metadata": {},
   "outputs": [],
   "source": [
    "def plot_histograms(dataset,column,name_y,title):\n",
    "    plt.hist(dataset[column], bins = \"fd\")\n",
    "\n",
    "    plt.title(title)\n",
    "    plt.xlabel(column)\n",
    "    plt.ylabel(name_y)\n",
    "    plt.show()"
   ]
  },
  {
   "cell_type": "code",
   "execution_count": 48,
   "id": "71053e25",
   "metadata": {},
   "outputs": [
    {
     "data": {
      "image/png": "[encoded data removed]",
      "text/plain": [
       "<Figure size 432x288 with 1 Axes>"
      ]
     },
     "metadata": {
      "needs_background": "light"
     },
     "output_type": "display_data"
    }
   ],
   "source": [
    "plot_histograms(happy_people,\"Happiness Score\",\"Count\",\"Happiness Score in the happy countries\")"
   ]
  },
  {
   "cell_type": "code",
   "execution_count": 49,
   "id": "81974029",
   "metadata": {},
   "outputs": [
    {
     "data": {
      "text/plain": [
       "-0.46102897231670914"
      ]
     },
     "execution_count": 49,
     "metadata": {},
     "output_type": "execute_result"
    }
   ],
   "source": [
    "happy_people[\"Happiness Score\"].skew()"
   ]
  },
  {
   "cell_type": "code",
   "execution_count": 50,
   "id": "8d9ef4d4",
   "metadata": {},
   "outputs": [
    {
     "data": {
      "image/png": "[encoded data removed]",
      "text/plain": [
       "<Figure size 432x288 with 1 Axes>"
      ]
     },
     "metadata": {
      "needs_background": "light"
     },
     "output_type": "display_data"
    }
   ],
   "source": [
    "plot_histograms(unhappy_people,\"Happiness Score\",\"Count\",\"Happiness Score in the unhappy countries\")"
   ]
  },
  {
   "cell_type": "code",
   "execution_count": 51,
   "id": "343cf118",
   "metadata": {},
   "outputs": [
    {
     "data": {
      "text/plain": [
       "-0.6991846279983804"
      ]
     },
     "execution_count": 51,
     "metadata": {},
     "output_type": "execute_result"
    }
   ],
   "source": [
    "unhappy_people[\"Happiness Score\"].skew()"
   ]
  },
  {
   "cell_type": "markdown",
   "id": "c36f452f",
   "metadata": {},
   "source": [
    "Let's see the distributions of the \"AQValue\" columns"
   ]
  },
  {
   "cell_type": "code",
   "execution_count": 52,
   "id": "01564e68",
   "metadata": {},
   "outputs": [
    {
     "data": {
      "image/png": "[encoded data removed]",
      "text/plain": [
       "<Figure size 432x288 with 1 Axes>"
      ]
     },
     "metadata": {
      "needs_background": "light"
     },
     "output_type": "display_data"
    }
   ],
   "source": [
    "plot_histograms(happy_people,\"AQValue\",\"Count\",\"AQValue in the happy countries\")"
   ]
  },
  {
   "cell_type": "code",
   "execution_count": 53,
   "id": "95a98361",
   "metadata": {},
   "outputs": [
    {
     "data": {
      "text/plain": [
       "1.278622674320489"
      ]
     },
     "execution_count": 53,
     "metadata": {},
     "output_type": "execute_result"
    }
   ],
   "source": [
    "happy_people[\"AQValue\"].skew()"
   ]
  },
  {
   "cell_type": "code",
   "execution_count": 54,
   "id": "4807cd44",
   "metadata": {},
   "outputs": [
    {
     "data": {
      "image/png": "[encoded data removed]",
      "text/plain": [
       "<Figure size 432x288 with 1 Axes>"
      ]
     },
     "metadata": {
      "needs_background": "light"
     },
     "output_type": "display_data"
    }
   ],
   "source": [
    "plot_histograms(unhappy_people,\"AQValue\",\"Count\",\"AQValue in the unhappy countries\")"
   ]
  },
  {
   "cell_type": "code",
   "execution_count": 55,
   "id": "37153507",
   "metadata": {},
   "outputs": [
    {
     "data": {
      "image/png": "[encoded data removed]",
      "text/plain": [
       "<Figure size 432x288 with 1 Axes>"
      ]
     },
     "metadata": {
      "needs_background": "light"
     },
     "output_type": "display_data"
    }
   ],
   "source": [
    "plot_histograms(unhappy_people[unhappy_people[\"AQValue\"] <= 5000],\"AQValue\",\"Count\",\"AQValue in the unhappy countries\")"
   ]
  },
  {
   "cell_type": "code",
   "execution_count": 56,
   "id": "b6b09103",
   "metadata": {},
   "outputs": [
    {
     "data": {
      "text/plain": [
       "5.3506091373262885"
      ]
     },
     "execution_count": 56,
     "metadata": {},
     "output_type": "execute_result"
    }
   ],
   "source": [
    "unhappy_people[\"AQValue\"].skew()"
   ]
  },
  {
   "cell_type": "code",
   "execution_count": 57,
   "id": "2db9bb09",
   "metadata": {},
   "outputs": [
    {
     "data": {
      "text/html": [
       "<div>\n",
       "<style scoped>\n",
       "    .dataframe tbody tr th:only-of-type {\n",
       "        vertical-align: middle;\n",
       "    }\n",
       "\n",
       "    .dataframe tbody tr th {\n",
       "        vertical-align: top;\n",
       "    }\n",
       "\n",
       "    .dataframe thead th {\n",
       "        text-align: right;\n",
       "    }\n",
       "</style>\n",
       "<table border=\"1\" class=\"dataframe\">\n",
       "  <thead>\n",
       "    <tr style=\"text-align: right;\">\n",
       "      <th></th>\n",
       "      <th>year</th>\n",
       "      <th>AQValue</th>\n",
       "      <th>Happiness Score</th>\n",
       "      <th>Economy (GDP per Capita)</th>\n",
       "      <th>Family</th>\n",
       "      <th>Health (Life Expectancy)</th>\n",
       "      <th>Freedom</th>\n",
       "      <th>Trust (Government Corruption)</th>\n",
       "      <th>alcohol_consumption</th>\n",
       "      <th>income_per_person</th>\n",
       "      <th>suicide_rate_per_100</th>\n",
       "      <th>employ_rate</th>\n",
       "      <th>urban_rate</th>\n",
       "    </tr>\n",
       "  </thead>\n",
       "  <tbody>\n",
       "    <tr>\n",
       "      <th>year</th>\n",
       "      <td>1.000000</td>\n",
       "      <td>-0.255373</td>\n",
       "      <td>0.193144</td>\n",
       "      <td>0.055266</td>\n",
       "      <td>0.449671</td>\n",
       "      <td>0.252195</td>\n",
       "      <td>0.098127</td>\n",
       "      <td>-0.038498</td>\n",
       "      <td>-0.038733</td>\n",
       "      <td>-0.055494</td>\n",
       "      <td>-0.056811</td>\n",
       "      <td>-0.003182</td>\n",
       "      <td>-0.006384</td>\n",
       "    </tr>\n",
       "    <tr>\n",
       "      <th>AQValue</th>\n",
       "      <td>-0.255373</td>\n",
       "      <td>1.000000</td>\n",
       "      <td>-0.367743</td>\n",
       "      <td>-0.421231</td>\n",
       "      <td>-0.497943</td>\n",
       "      <td>-0.086569</td>\n",
       "      <td>-0.041796</td>\n",
       "      <td>0.441528</td>\n",
       "      <td>-0.264031</td>\n",
       "      <td>-0.097845</td>\n",
       "      <td>-0.260021</td>\n",
       "      <td>0.085635</td>\n",
       "      <td>-0.217956</td>\n",
       "    </tr>\n",
       "    <tr>\n",
       "      <th>Happiness Score</th>\n",
       "      <td>0.193144</td>\n",
       "      <td>-0.367743</td>\n",
       "      <td>1.000000</td>\n",
       "      <td>0.682467</td>\n",
       "      <td>0.607694</td>\n",
       "      <td>0.248782</td>\n",
       "      <td>0.233528</td>\n",
       "      <td>-0.170265</td>\n",
       "      <td>0.429017</td>\n",
       "      <td>0.466145</td>\n",
       "      <td>0.394632</td>\n",
       "      <td>0.105884</td>\n",
       "      <td>0.287165</td>\n",
       "    </tr>\n",
       "    <tr>\n",
       "      <th>Economy (GDP per Capita)</th>\n",
       "      <td>0.055266</td>\n",
       "      <td>-0.421231</td>\n",
       "      <td>0.682467</td>\n",
       "      <td>1.000000</td>\n",
       "      <td>0.536589</td>\n",
       "      <td>0.204017</td>\n",
       "      <td>0.158057</td>\n",
       "      <td>-0.111296</td>\n",
       "      <td>0.416621</td>\n",
       "      <td>0.699687</td>\n",
       "      <td>0.225929</td>\n",
       "      <td>0.295259</td>\n",
       "      <td>0.586956</td>\n",
       "    </tr>\n",
       "    <tr>\n",
       "      <th>Family</th>\n",
       "      <td>0.449671</td>\n",
       "      <td>-0.497943</td>\n",
       "      <td>0.607694</td>\n",
       "      <td>0.536589</td>\n",
       "      <td>1.000000</td>\n",
       "      <td>0.226478</td>\n",
       "      <td>0.240521</td>\n",
       "      <td>-0.196725</td>\n",
       "      <td>0.395312</td>\n",
       "      <td>0.253386</td>\n",
       "      <td>0.392655</td>\n",
       "      <td>-0.006923</td>\n",
       "      <td>0.430403</td>\n",
       "    </tr>\n",
       "    <tr>\n",
       "      <th>Health (Life Expectancy)</th>\n",
       "      <td>0.252195</td>\n",
       "      <td>-0.086569</td>\n",
       "      <td>0.248782</td>\n",
       "      <td>0.204017</td>\n",
       "      <td>0.226478</td>\n",
       "      <td>1.000000</td>\n",
       "      <td>0.116695</td>\n",
       "      <td>-0.274485</td>\n",
       "      <td>-0.048904</td>\n",
       "      <td>0.655344</td>\n",
       "      <td>-0.336034</td>\n",
       "      <td>0.200784</td>\n",
       "      <td>0.029801</td>\n",
       "    </tr>\n",
       "    <tr>\n",
       "      <th>Freedom</th>\n",
       "      <td>0.098127</td>\n",
       "      <td>-0.041796</td>\n",
       "      <td>0.233528</td>\n",
       "      <td>0.158057</td>\n",
       "      <td>0.240521</td>\n",
       "      <td>0.116695</td>\n",
       "      <td>1.000000</td>\n",
       "      <td>0.155935</td>\n",
       "      <td>0.283233</td>\n",
       "      <td>0.084427</td>\n",
       "      <td>0.078247</td>\n",
       "      <td>0.569291</td>\n",
       "      <td>-0.108250</td>\n",
       "    </tr>\n",
       "    <tr>\n",
       "      <th>Trust (Government Corruption)</th>\n",
       "      <td>-0.038498</td>\n",
       "      <td>0.441528</td>\n",
       "      <td>-0.170265</td>\n",
       "      <td>-0.111296</td>\n",
       "      <td>-0.196725</td>\n",
       "      <td>-0.274485</td>\n",
       "      <td>0.155935</td>\n",
       "      <td>1.000000</td>\n",
       "      <td>-0.217373</td>\n",
       "      <td>-0.115003</td>\n",
       "      <td>-0.173538</td>\n",
       "      <td>0.169972</td>\n",
       "      <td>-0.071176</td>\n",
       "    </tr>\n",
       "    <tr>\n",
       "      <th>alcohol_consumption</th>\n",
       "      <td>-0.038733</td>\n",
       "      <td>-0.264031</td>\n",
       "      <td>0.429017</td>\n",
       "      <td>0.416621</td>\n",
       "      <td>0.395312</td>\n",
       "      <td>-0.048904</td>\n",
       "      <td>0.283233</td>\n",
       "      <td>-0.217373</td>\n",
       "      <td>1.000000</td>\n",
       "      <td>0.033206</td>\n",
       "      <td>0.715118</td>\n",
       "      <td>0.246090</td>\n",
       "      <td>0.103172</td>\n",
       "    </tr>\n",
       "    <tr>\n",
       "      <th>income_per_person</th>\n",
       "      <td>-0.055494</td>\n",
       "      <td>-0.097845</td>\n",
       "      <td>0.466145</td>\n",
       "      <td>0.699687</td>\n",
       "      <td>0.253386</td>\n",
       "      <td>0.655344</td>\n",
       "      <td>0.084427</td>\n",
       "      <td>-0.115003</td>\n",
       "      <td>0.033206</td>\n",
       "      <td>1.000000</td>\n",
       "      <td>-0.223631</td>\n",
       "      <td>0.325556</td>\n",
       "      <td>0.344667</td>\n",
       "    </tr>\n",
       "    <tr>\n",
       "      <th>suicide_rate_per_100</th>\n",
       "      <td>-0.056811</td>\n",
       "      <td>-0.260021</td>\n",
       "      <td>0.394632</td>\n",
       "      <td>0.225929</td>\n",
       "      <td>0.392655</td>\n",
       "      <td>-0.336034</td>\n",
       "      <td>0.078247</td>\n",
       "      <td>-0.173538</td>\n",
       "      <td>0.715118</td>\n",
       "      <td>-0.223631</td>\n",
       "      <td>1.000000</td>\n",
       "      <td>0.071682</td>\n",
       "      <td>0.093284</td>\n",
       "    </tr>\n",
       "    <tr>\n",
       "      <th>employ_rate</th>\n",
       "      <td>-0.003182</td>\n",
       "      <td>0.085635</td>\n",
       "      <td>0.105884</td>\n",
       "      <td>0.295259</td>\n",
       "      <td>-0.006923</td>\n",
       "      <td>0.200784</td>\n",
       "      <td>0.569291</td>\n",
       "      <td>0.169972</td>\n",
       "      <td>0.246090</td>\n",
       "      <td>0.325556</td>\n",
       "      <td>0.071682</td>\n",
       "      <td>1.000000</td>\n",
       "      <td>0.175050</td>\n",
       "    </tr>\n",
       "    <tr>\n",
       "      <th>urban_rate</th>\n",
       "      <td>-0.006384</td>\n",
       "      <td>-0.217956</td>\n",
       "      <td>0.287165</td>\n",
       "      <td>0.586956</td>\n",
       "      <td>0.430403</td>\n",
       "      <td>0.029801</td>\n",
       "      <td>-0.108250</td>\n",
       "      <td>-0.071176</td>\n",
       "      <td>0.103172</td>\n",
       "      <td>0.344667</td>\n",
       "      <td>0.093284</td>\n",
       "      <td>0.175050</td>\n",
       "      <td>1.000000</td>\n",
       "    </tr>\n",
       "  </tbody>\n",
       "</table>\n",
       "</div>"
      ],
      "text/plain": [
       "                                   year   AQValue  Happiness Score  \\\n",
       "year                           1.000000 -0.255373         0.193144   \n",
       "AQValue                       -0.255373  1.000000        -0.367743   \n",
       "Happiness Score                0.193144 -0.367743         1.000000   \n",
       "Economy (GDP per Capita)       0.055266 -0.421231         0.682467   \n",
       "Family                         0.449671 -0.497943         0.607694   \n",
       "Health (Life Expectancy)       0.252195 -0.086569         0.248782   \n",
       "Freedom                        0.098127 -0.041796         0.233528   \n",
       "Trust (Government Corruption) -0.038498  0.441528        -0.170265   \n",
       "alcohol_consumption           -0.038733 -0.264031         0.429017   \n",
       "income_per_person             -0.055494 -0.097845         0.466145   \n",
       "suicide_rate_per_100          -0.056811 -0.260021         0.394632   \n",
       "employ_rate                   -0.003182  0.085635         0.105884   \n",
       "urban_rate                    -0.006384 -0.217956         0.287165   \n",
       "\n",
       "                               Economy (GDP per Capita)    Family  \\\n",
       "year                                           0.055266  0.449671   \n",
       "AQValue                                       -0.421231 -0.497943   \n",
       "Happiness Score                                0.682467  0.607694   \n",
       "Economy (GDP per Capita)                       1.000000  0.536589   \n",
       "Family                                         0.536589  1.000000   \n",
       "Health (Life Expectancy)                       0.204017  0.226478   \n",
       "Freedom                                        0.158057  0.240521   \n",
       "Trust (Government Corruption)                 -0.111296 -0.196725   \n",
       "alcohol_consumption                            0.416621  0.395312   \n",
       "income_per_person                              0.699687  0.253386   \n",
       "suicide_rate_per_100                           0.225929  0.392655   \n",
       "employ_rate                                    0.295259 -0.006923   \n",
       "urban_rate                                     0.586956  0.430403   \n",
       "\n",
       "                               Health (Life Expectancy)   Freedom  \\\n",
       "year                                           0.252195  0.098127   \n",
       "AQValue                                       -0.086569 -0.041796   \n",
       "Happiness Score                                0.248782  0.233528   \n",
       "Economy (GDP per Capita)                       0.204017  0.158057   \n",
       "Family                                         0.226478  0.240521   \n",
       "Health (Life Expectancy)                       1.000000  0.116695   \n",
       "Freedom                                        0.116695  1.000000   \n",
       "Trust (Government Corruption)                 -0.274485  0.155935   \n",
       "alcohol_consumption                           -0.048904  0.283233   \n",
       "income_per_person                              0.655344  0.084427   \n",
       "suicide_rate_per_100                          -0.336034  0.078247   \n",
       "employ_rate                                    0.200784  0.569291   \n",
       "urban_rate                                     0.029801 -0.108250   \n",
       "\n",
       "                               Trust (Government Corruption)  \\\n",
       "year                                               -0.038498   \n",
       "AQValue                                             0.441528   \n",
       "Happiness Score                                    -0.170265   \n",
       "Economy (GDP per Capita)                           -0.111296   \n",
       "Family                                             -0.196725   \n",
       "Health (Life Expectancy)                           -0.274485   \n",
       "Freedom                                             0.155935   \n",
       "Trust (Government Corruption)                       1.000000   \n",
       "alcohol_consumption                                -0.217373   \n",
       "income_per_person                                  -0.115003   \n",
       "suicide_rate_per_100                               -0.173538   \n",
       "employ_rate                                         0.169972   \n",
       "urban_rate                                         -0.071176   \n",
       "\n",
       "                               alcohol_consumption  income_per_person  \\\n",
       "year                                     -0.038733          -0.055494   \n",
       "AQValue                                  -0.264031          -0.097845   \n",
       "Happiness Score                           0.429017           0.466145   \n",
       "Economy (GDP per Capita)                  0.416621           0.699687   \n",
       "Family                                    0.395312           0.253386   \n",
       "Health (Life Expectancy)                 -0.048904           0.655344   \n",
       "Freedom                                   0.283233           0.084427   \n",
       "Trust (Government Corruption)            -0.217373          -0.115003   \n",
       "alcohol_consumption                       1.000000           0.033206   \n",
       "income_per_person                         0.033206           1.000000   \n",
       "suicide_rate_per_100                      0.715118          -0.223631   \n",
       "employ_rate                               0.246090           0.325556   \n",
       "urban_rate                                0.103172           0.344667   \n",
       "\n",
       "                               suicide_rate_per_100  employ_rate  urban_rate  \n",
       "year                                      -0.056811    -0.003182   -0.006384  \n",
       "AQValue                                   -0.260021     0.085635   -0.217956  \n",
       "Happiness Score                            0.394632     0.105884    0.287165  \n",
       "Economy (GDP per Capita)                   0.225929     0.295259    0.586956  \n",
       "Family                                     0.392655    -0.006923    0.430403  \n",
       "Health (Life Expectancy)                  -0.336034     0.200784    0.029801  \n",
       "Freedom                                    0.078247     0.569291   -0.108250  \n",
       "Trust (Government Corruption)             -0.173538     0.169972   -0.071176  \n",
       "alcohol_consumption                        0.715118     0.246090    0.103172  \n",
       "income_per_person                         -0.223631     0.325556    0.344667  \n",
       "suicide_rate_per_100                       1.000000     0.071682    0.093284  \n",
       "employ_rate                                0.071682     1.000000    0.175050  \n",
       "urban_rate                                 0.093284     0.175050    1.000000  "
      ]
     },
     "execution_count": 57,
     "metadata": {},
     "output_type": "execute_result"
    }
   ],
   "source": [
    "unhappy_people.corr()"
   ]
  },
  {
   "cell_type": "code",
   "execution_count": 58,
   "id": "3036fd10",
   "metadata": {},
   "outputs": [
    {
     "data": {
      "text/html": [
       "<div>\n",
       "<style scoped>\n",
       "    .dataframe tbody tr th:only-of-type {\n",
       "        vertical-align: middle;\n",
       "    }\n",
       "\n",
       "    .dataframe tbody tr th {\n",
       "        vertical-align: top;\n",
       "    }\n",
       "\n",
       "    .dataframe thead th {\n",
       "        text-align: right;\n",
       "    }\n",
       "</style>\n",
       "<table border=\"1\" class=\"dataframe\">\n",
       "  <thead>\n",
       "    <tr style=\"text-align: right;\">\n",
       "      <th></th>\n",
       "      <th>year</th>\n",
       "      <th>AQValue</th>\n",
       "      <th>Happiness Score</th>\n",
       "      <th>Economy (GDP per Capita)</th>\n",
       "      <th>Family</th>\n",
       "      <th>Health (Life Expectancy)</th>\n",
       "      <th>Freedom</th>\n",
       "      <th>Trust (Government Corruption)</th>\n",
       "      <th>alcohol_consumption</th>\n",
       "      <th>income_per_person</th>\n",
       "      <th>suicide_rate_per_100</th>\n",
       "      <th>employ_rate</th>\n",
       "      <th>urban_rate</th>\n",
       "    </tr>\n",
       "  </thead>\n",
       "  <tbody>\n",
       "    <tr>\n",
       "      <th>year</th>\n",
       "      <td>1.000000</td>\n",
       "      <td>-0.283851</td>\n",
       "      <td>-0.069039</td>\n",
       "      <td>-0.072556</td>\n",
       "      <td>0.695128</td>\n",
       "      <td>0.498324</td>\n",
       "      <td>-0.283628</td>\n",
       "      <td>-0.204480</td>\n",
       "      <td>0.075805</td>\n",
       "      <td>-0.126436</td>\n",
       "      <td>0.108927</td>\n",
       "      <td>-0.073682</td>\n",
       "      <td>-0.116792</td>\n",
       "    </tr>\n",
       "    <tr>\n",
       "      <th>AQValue</th>\n",
       "      <td>-0.283851</td>\n",
       "      <td>1.000000</td>\n",
       "      <td>-0.218785</td>\n",
       "      <td>-0.017623</td>\n",
       "      <td>-0.225866</td>\n",
       "      <td>-0.040316</td>\n",
       "      <td>0.060710</td>\n",
       "      <td>-0.106611</td>\n",
       "      <td>0.042052</td>\n",
       "      <td>-0.024955</td>\n",
       "      <td>-0.001355</td>\n",
       "      <td>-0.299102</td>\n",
       "      <td>-0.175070</td>\n",
       "    </tr>\n",
       "    <tr>\n",
       "      <th>Happiness Score</th>\n",
       "      <td>-0.069039</td>\n",
       "      <td>-0.218785</td>\n",
       "      <td>1.000000</td>\n",
       "      <td>0.403187</td>\n",
       "      <td>0.112054</td>\n",
       "      <td>-0.008368</td>\n",
       "      <td>0.673285</td>\n",
       "      <td>0.632989</td>\n",
       "      <td>-0.168003</td>\n",
       "      <td>0.638453</td>\n",
       "      <td>0.056000</td>\n",
       "      <td>0.764411</td>\n",
       "      <td>0.101402</td>\n",
       "    </tr>\n",
       "    <tr>\n",
       "      <th>Economy (GDP per Capita)</th>\n",
       "      <td>-0.072556</td>\n",
       "      <td>-0.017623</td>\n",
       "      <td>0.403187</td>\n",
       "      <td>1.000000</td>\n",
       "      <td>-0.109345</td>\n",
       "      <td>-0.273097</td>\n",
       "      <td>0.240517</td>\n",
       "      <td>0.509513</td>\n",
       "      <td>0.057024</td>\n",
       "      <td>0.775002</td>\n",
       "      <td>0.051966</td>\n",
       "      <td>0.300560</td>\n",
       "      <td>0.004762</td>\n",
       "    </tr>\n",
       "    <tr>\n",
       "      <th>Family</th>\n",
       "      <td>0.695128</td>\n",
       "      <td>-0.225866</td>\n",
       "      <td>0.112054</td>\n",
       "      <td>-0.109345</td>\n",
       "      <td>1.000000</td>\n",
       "      <td>0.401760</td>\n",
       "      <td>0.113878</td>\n",
       "      <td>-0.006621</td>\n",
       "      <td>-0.002728</td>\n",
       "      <td>-0.025981</td>\n",
       "      <td>0.051443</td>\n",
       "      <td>0.143854</td>\n",
       "      <td>-0.076771</td>\n",
       "    </tr>\n",
       "    <tr>\n",
       "      <th>Health (Life Expectancy)</th>\n",
       "      <td>0.498324</td>\n",
       "      <td>-0.040316</td>\n",
       "      <td>-0.008368</td>\n",
       "      <td>-0.273097</td>\n",
       "      <td>0.401760</td>\n",
       "      <td>1.000000</td>\n",
       "      <td>-0.217114</td>\n",
       "      <td>-0.251758</td>\n",
       "      <td>-0.044343</td>\n",
       "      <td>0.033265</td>\n",
       "      <td>-0.086226</td>\n",
       "      <td>0.005310</td>\n",
       "      <td>0.001033</td>\n",
       "    </tr>\n",
       "    <tr>\n",
       "      <th>Freedom</th>\n",
       "      <td>-0.283628</td>\n",
       "      <td>0.060710</td>\n",
       "      <td>0.673285</td>\n",
       "      <td>0.240517</td>\n",
       "      <td>0.113878</td>\n",
       "      <td>-0.217114</td>\n",
       "      <td>1.000000</td>\n",
       "      <td>0.572624</td>\n",
       "      <td>-0.269959</td>\n",
       "      <td>0.467743</td>\n",
       "      <td>-0.001190</td>\n",
       "      <td>0.476076</td>\n",
       "      <td>0.091696</td>\n",
       "    </tr>\n",
       "    <tr>\n",
       "      <th>Trust (Government Corruption)</th>\n",
       "      <td>-0.204480</td>\n",
       "      <td>-0.106611</td>\n",
       "      <td>0.632989</td>\n",
       "      <td>0.509513</td>\n",
       "      <td>-0.006621</td>\n",
       "      <td>-0.251758</td>\n",
       "      <td>0.572624</td>\n",
       "      <td>1.000000</td>\n",
       "      <td>-0.037591</td>\n",
       "      <td>0.522017</td>\n",
       "      <td>-0.065877</td>\n",
       "      <td>0.372717</td>\n",
       "      <td>0.083823</td>\n",
       "    </tr>\n",
       "    <tr>\n",
       "      <th>alcohol_consumption</th>\n",
       "      <td>0.075805</td>\n",
       "      <td>0.042052</td>\n",
       "      <td>-0.168003</td>\n",
       "      <td>0.057024</td>\n",
       "      <td>-0.002728</td>\n",
       "      <td>-0.044343</td>\n",
       "      <td>-0.269959</td>\n",
       "      <td>-0.037591</td>\n",
       "      <td>1.000000</td>\n",
       "      <td>0.051536</td>\n",
       "      <td>0.411966</td>\n",
       "      <td>-0.093159</td>\n",
       "      <td>-0.639612</td>\n",
       "    </tr>\n",
       "    <tr>\n",
       "      <th>income_per_person</th>\n",
       "      <td>-0.126436</td>\n",
       "      <td>-0.024955</td>\n",
       "      <td>0.638453</td>\n",
       "      <td>0.775002</td>\n",
       "      <td>-0.025981</td>\n",
       "      <td>0.033265</td>\n",
       "      <td>0.467743</td>\n",
       "      <td>0.522017</td>\n",
       "      <td>0.051536</td>\n",
       "      <td>1.000000</td>\n",
       "      <td>0.075678</td>\n",
       "      <td>0.530146</td>\n",
       "      <td>0.109511</td>\n",
       "    </tr>\n",
       "    <tr>\n",
       "      <th>suicide_rate_per_100</th>\n",
       "      <td>0.108927</td>\n",
       "      <td>-0.001355</td>\n",
       "      <td>0.056000</td>\n",
       "      <td>0.051966</td>\n",
       "      <td>0.051443</td>\n",
       "      <td>-0.086226</td>\n",
       "      <td>-0.001190</td>\n",
       "      <td>-0.065877</td>\n",
       "      <td>0.411966</td>\n",
       "      <td>0.075678</td>\n",
       "      <td>1.000000</td>\n",
       "      <td>0.000833</td>\n",
       "      <td>-0.347319</td>\n",
       "    </tr>\n",
       "    <tr>\n",
       "      <th>employ_rate</th>\n",
       "      <td>-0.073682</td>\n",
       "      <td>-0.299102</td>\n",
       "      <td>0.764411</td>\n",
       "      <td>0.300560</td>\n",
       "      <td>0.143854</td>\n",
       "      <td>0.005310</td>\n",
       "      <td>0.476076</td>\n",
       "      <td>0.372717</td>\n",
       "      <td>-0.093159</td>\n",
       "      <td>0.530146</td>\n",
       "      <td>0.000833</td>\n",
       "      <td>1.000000</td>\n",
       "      <td>0.023726</td>\n",
       "    </tr>\n",
       "    <tr>\n",
       "      <th>urban_rate</th>\n",
       "      <td>-0.116792</td>\n",
       "      <td>-0.175070</td>\n",
       "      <td>0.101402</td>\n",
       "      <td>0.004762</td>\n",
       "      <td>-0.076771</td>\n",
       "      <td>0.001033</td>\n",
       "      <td>0.091696</td>\n",
       "      <td>0.083823</td>\n",
       "      <td>-0.639612</td>\n",
       "      <td>0.109511</td>\n",
       "      <td>-0.347319</td>\n",
       "      <td>0.023726</td>\n",
       "      <td>1.000000</td>\n",
       "    </tr>\n",
       "  </tbody>\n",
       "</table>\n",
       "</div>"
      ],
      "text/plain": [
       "                                   year   AQValue  Happiness Score  \\\n",
       "year                           1.000000 -0.283851        -0.069039   \n",
       "AQValue                       -0.283851  1.000000        -0.218785   \n",
       "Happiness Score               -0.069039 -0.218785         1.000000   \n",
       "Economy (GDP per Capita)      -0.072556 -0.017623         0.403187   \n",
       "Family                         0.695128 -0.225866         0.112054   \n",
       "Health (Life Expectancy)       0.498324 -0.040316        -0.008368   \n",
       "Freedom                       -0.283628  0.060710         0.673285   \n",
       "Trust (Government Corruption) -0.204480 -0.106611         0.632989   \n",
       "alcohol_consumption            0.075805  0.042052        -0.168003   \n",
       "income_per_person             -0.126436 -0.024955         0.638453   \n",
       "suicide_rate_per_100           0.108927 -0.001355         0.056000   \n",
       "employ_rate                   -0.073682 -0.299102         0.764411   \n",
       "urban_rate                    -0.116792 -0.175070         0.101402   \n",
       "\n",
       "                               Economy (GDP per Capita)    Family  \\\n",
       "year                                          -0.072556  0.695128   \n",
       "AQValue                                       -0.017623 -0.225866   \n",
       "Happiness Score                                0.403187  0.112054   \n",
       "Economy (GDP per Capita)                       1.000000 -0.109345   \n",
       "Family                                        -0.109345  1.000000   \n",
       "Health (Life Expectancy)                      -0.273097  0.401760   \n",
       "Freedom                                        0.240517  0.113878   \n",
       "Trust (Government Corruption)                  0.509513 -0.006621   \n",
       "alcohol_consumption                            0.057024 -0.002728   \n",
       "income_per_person                              0.775002 -0.025981   \n",
       "suicide_rate_per_100                           0.051966  0.051443   \n",
       "employ_rate                                    0.300560  0.143854   \n",
       "urban_rate                                     0.004762 -0.076771   \n",
       "\n",
       "                               Health (Life Expectancy)   Freedom  \\\n",
       "year                                           0.498324 -0.283628   \n",
       "AQValue                                       -0.040316  0.060710   \n",
       "Happiness Score                               -0.008368  0.673285   \n",
       "Economy (GDP per Capita)                      -0.273097  0.240517   \n",
       "Family                                         0.401760  0.113878   \n",
       "Health (Life Expectancy)                       1.000000 -0.217114   \n",
       "Freedom                                       -0.217114  1.000000   \n",
       "Trust (Government Corruption)                 -0.251758  0.572624   \n",
       "alcohol_consumption                           -0.044343 -0.269959   \n",
       "income_per_person                              0.033265  0.467743   \n",
       "suicide_rate_per_100                          -0.086226 -0.001190   \n",
       "employ_rate                                    0.005310  0.476076   \n",
       "urban_rate                                     0.001033  0.091696   \n",
       "\n",
       "                               Trust (Government Corruption)  \\\n",
       "year                                               -0.204480   \n",
       "AQValue                                            -0.106611   \n",
       "Happiness Score                                     0.632989   \n",
       "Economy (GDP per Capita)                            0.509513   \n",
       "Family                                             -0.006621   \n",
       "Health (Life Expectancy)                           -0.251758   \n",
       "Freedom                                             0.572624   \n",
       "Trust (Government Corruption)                       1.000000   \n",
       "alcohol_consumption                                -0.037591   \n",
       "income_per_person                                   0.522017   \n",
       "suicide_rate_per_100                               -0.065877   \n",
       "employ_rate                                         0.372717   \n",
       "urban_rate                                          0.083823   \n",
       "\n",
       "                               alcohol_consumption  income_per_person  \\\n",
       "year                                      0.075805          -0.126436   \n",
       "AQValue                                   0.042052          -0.024955   \n",
       "Happiness Score                          -0.168003           0.638453   \n",
       "Economy (GDP per Capita)                  0.057024           0.775002   \n",
       "Family                                   -0.002728          -0.025981   \n",
       "Health (Life Expectancy)                 -0.044343           0.033265   \n",
       "Freedom                                  -0.269959           0.467743   \n",
       "Trust (Government Corruption)            -0.037591           0.522017   \n",
       "alcohol_consumption                       1.000000           0.051536   \n",
       "income_per_person                         0.051536           1.000000   \n",
       "suicide_rate_per_100                      0.411966           0.075678   \n",
       "employ_rate                              -0.093159           0.530146   \n",
       "urban_rate                               -0.639612           0.109511   \n",
       "\n",
       "                               suicide_rate_per_100  employ_rate  urban_rate  \n",
       "year                                       0.108927    -0.073682   -0.116792  \n",
       "AQValue                                   -0.001355    -0.299102   -0.175070  \n",
       "Happiness Score                            0.056000     0.764411    0.101402  \n",
       "Economy (GDP per Capita)                   0.051966     0.300560    0.004762  \n",
       "Family                                     0.051443     0.143854   -0.076771  \n",
       "Health (Life Expectancy)                  -0.086226     0.005310    0.001033  \n",
       "Freedom                                   -0.001190     0.476076    0.091696  \n",
       "Trust (Government Corruption)             -0.065877     0.372717    0.083823  \n",
       "alcohol_consumption                        0.411966    -0.093159   -0.639612  \n",
       "income_per_person                          0.075678     0.530146    0.109511  \n",
       "suicide_rate_per_100                       1.000000     0.000833   -0.347319  \n",
       "employ_rate                                0.000833     1.000000    0.023726  \n",
       "urban_rate                                -0.347319     0.023726    1.000000  "
      ]
     },
     "execution_count": 58,
     "metadata": {},
     "output_type": "execute_result"
    }
   ],
   "source": [
    "happy_people.corr()"
   ]
  },
  {
   "cell_type": "markdown",
   "id": "79c6f151",
   "metadata": {},
   "source": [
    "We can see there are differences in the strongly correlated to \"Happiness Score\" columns, amid the \"unhappy countries\" the columns - (\"Economy (GDP per Capita)\", \"Family\", \"income_per_person\") are most correlataed with the happiness score. In comparison to this through the \"happy countries\" most correlated to happiness score columns are (\"Trust (Government Corruption)\", \"Freedom\", \"employ_rate\", \"income_per_person\")"
   ]
  },
  {
   "cell_type": "code",
   "execution_count": 59,
   "id": "641a8556",
   "metadata": {},
   "outputs": [
    {
     "data": {
      "text/plain": [
       "<AxesSubplot:xlabel='alcohol_consumption', ylabel='Happiness Score'>"
      ]
     },
     "execution_count": 59,
     "metadata": {},
     "output_type": "execute_result"
    },
    {
     "data": {
      "image/png": "[encoded data removed]",
      "text/plain": [
       "<Figure size 432x288 with 1 Axes>"
      ]
     },
     "metadata": {
      "needs_background": "light"
     },
     "output_type": "display_data"
    }
   ],
   "source": [
    "sns.kdeplot(data=unhappy_people, x=\"alcohol_consumption\", y=\"Happiness Score\")"
   ]
  },
  {
   "cell_type": "code",
   "execution_count": 60,
   "id": "841a94aa",
   "metadata": {},
   "outputs": [
    {
     "data": {
      "text/plain": [
       "<AxesSubplot:xlabel='Trust (Government Corruption)', ylabel='Happiness Score'>"
      ]
     },
     "execution_count": 60,
     "metadata": {},
     "output_type": "execute_result"
    },
    {
     "data": {
      "image/png": "[encoded data removed]",
      "text/plain": [
       "<Figure size 432x288 with 1 Axes>"
      ]
     },
     "metadata": {
      "needs_background": "light"
     },
     "output_type": "display_data"
    }
   ],
   "source": [
    "sns.kdeplot(data=happy_people, x=\"Trust (Government Corruption)\", y=\"Happiness Score\")"
   ]
  },
  {
   "cell_type": "markdown",
   "id": "c158494a",
   "metadata": {},
   "source": [
    "We can see that when the column have greater correlation on each other their \"kdeplot\" looks more like a linear function."
   ]
  },
  {
   "cell_type": "markdown",
   "id": "8732afe5",
   "metadata": {},
   "source": [
    "Now we want to plot the countries on the map of Europe so we can easily check for example their happiness score clicking by the country name. In order to do the task we have to find the longtitude and latitude for each country. This could be done with the library \"geopy\"."
   ]
  },
  {
   "cell_type": "code",
   "execution_count": 61,
   "id": "a12986f2",
   "metadata": {},
   "outputs": [],
   "source": [
    "geolocator = Nominatim( user_agent = \"DS-Project Why People In One Country Could Be Happier Than Other\")\n",
    "def geolocate(country):\n",
    "    try:\n",
    "        # Geolocate the center of the country\n",
    "        loc = geolocator.geocode(country)\n",
    "        # And return latitude and longitude\n",
    "        return (loc.latitude, loc.longitude)\n",
    "    except:\n",
    "        # Return missing value\n",
    "        return np.nan"
   ]
  },
  {
   "cell_type": "code",
   "execution_count": 62,
   "id": "7f7cfd14",
   "metadata": {},
   "outputs": [],
   "source": [
    "list_of_countries = alcohol_consumption_AQValue_and_happiness_df[\"Country\"].tolist()"
   ]
  },
  {
   "cell_type": "code",
   "execution_count": 63,
   "id": "18f0552b",
   "metadata": {},
   "outputs": [],
   "source": [
    "longtitude = []\n",
    "latitude = []\n",
    "\n",
    "result = geolocate(list_of_countries[0])\n",
    "latitude.append(result[0])\n",
    "longtitude.append(result[1])\n",
    "\n",
    "for index in range(1, len(list_of_countries)):\n",
    "    # for each country find the coordinates and append them to separeted lists for longitude and latitude, so we can easily\n",
    "    # add the lists as a columns to the dataframe\n",
    "    if list_of_countries[index] == list_of_countries[index-1]:\n",
    "        latitude.append(result[0])\n",
    "        longtitude.append(result[1])\n",
    "    else:\n",
    "        result = geolocate(list_of_countries[index])\n",
    "        latitude.append(result[0])\n",
    "        longtitude.append(result[1])"
   ]
  },
  {
   "cell_type": "code",
   "execution_count": 64,
   "id": "54301f89",
   "metadata": {},
   "outputs": [],
   "source": [
    "alcohol_consumption_AQValue_and_happiness_df[\"Latitude\"] = latitude\n",
    "alcohol_consumption_AQValue_and_happiness_df[\"Longitude\"] = longtitude"
   ]
  },
  {
   "cell_type": "markdown",
   "id": "d8d53694",
   "metadata": {},
   "source": [
    "Here we have problems with \"Georgia\" because the library thinks that should be the American state called with the same name. So we have to find the coordinates alone and to fix the problem."
   ]
  },
  {
   "cell_type": "code",
   "execution_count": 65,
   "id": "0a76bdf7",
   "metadata": {
    "scrolled": false
   },
   "outputs": [
    {
     "data": {
      "text/plain": [
       "(32.3293809, -83.1137366)"
      ]
     },
     "execution_count": 65,
     "metadata": {},
     "output_type": "execute_result"
    }
   ],
   "source": [
    "result = geolocate(\"Georgia\")\n",
    "result"
   ]
  },
  {
   "cell_type": "code",
   "execution_count": 66,
   "id": "f42a88fe",
   "metadata": {},
   "outputs": [],
   "source": [
    "alcohol_consumption_AQValue_and_happiness_df[\"Latitude\"].replace(32.3293809,42.3154, inplace=True)\n",
    "alcohol_consumption_AQValue_and_happiness_df[\"Longitude\"].replace(-83.1137366,43.3569, inplace=True)"
   ]
  },
  {
   "cell_type": "markdown",
   "id": "9d6c7e0a",
   "metadata": {},
   "source": [
    "And the time for plotting the countries on the map is now."
   ]
  },
  {
   "cell_type": "code",
   "execution_count": 67,
   "id": "e8b2fe0d",
   "metadata": {
    "scrolled": true
   },
   "outputs": [
    {
     "data": {
      "text/html": [
       "<div style=\"width:100%;\"><div style=\"position:relative;width:100%;height:0;padding-bottom:60%;\"><span style=\"color:#565656\">Make this Notebook Trusted to load map: File -> Trust Notebook</span><iframe src=\"about:blank\" style=\"position:absolute;width:100%;height:100%;left:0;top:0;border:none !important;\" data-html=%3C%21DOCTYPE%20html%3E%0A%3Chead%3E%20%20%20%20%0A%20%20%20%20%3Cmeta%20http-equiv%3D%22content-type%22%20content%3D%22text/html%3B%20charset%3DUTF-8%22%20/%3E%0A%20%20%20%20%0A%20%20%20%20%20%20%20%20%3Cscript%3E%0A%20%20%20%20%20%20%20%20%20%20%20%20L_NO_TOUCH%20%3D%20false%3B%0A%20%20%20%20%20%20%20%20%20%20%20%20L_DISABLE_3D%20%3D%20false%3B%0A%20%20%20%20%20%20%20%20%3C/script%3E%0A%20%20%20%20%0A%20%20%20%20%3Cstyle%3Ehtml%2C%20body%20%7Bwidth%3A%20100%25%3Bheight%3A%20100%25%3Bmargin%3A%200%3Bpadding%3A%200%3B%7D%3C/style%3E%0A%20%20%20%20%3Cstyle%3E%23map%20%7Bposition%3Aabsolute%3Btop%3A0%3Bbottom%3A0%3Bright%3A0%3Bleft%3A0%3B%7D%3C/style%3E%0A%20%20%20%20%3Cscript%20src%3D%22https%3A//cdn.jsdelivr.net/npm/leaflet%401.6.0/dist/leaflet.js%22%3E%3C/script%3E%0A%20%20%20%20%3Cscript%20src%3D%22https%3A//code.jquery.com/jquery-1.12.4.min.js%22%3E%3C/script%3E%0A%20%20%20%20%3Cscript%20src%3D%22https%3A//maxcdn.bootstrapcdn.com/bootstrap/3.2.0/js/bootstrap.min.js%22%3E%3C/script%3E%0A%20%20%20%20%3Cscript%20src%3D%22https%3A//cdnjs.cloudflare.com/ajax/libs/Leaflet.awesome-markers/2.0.2/leaflet.awesome-markers.js%22%3E%3C/script%3E%0A%20%20%20%20%3Clink%20rel%3D%22stylesheet%22%20href%3D%22https%3A//cdn.jsdelivr.net/npm/leaflet%401.6.0/dist/leaflet.css%22/%3E%0A%20%20%20%20%3Clink%20rel%3D%22stylesheet%22%20href%3D%22https%3A//maxcdn.bootstrapcdn.com/bootstrap/3.2.0/css/bootstrap.min.css%22/%3E%0A%20%20%20%20%3Clink%20rel%3D%22stylesheet%22%20href%3D%22https%3A//maxcdn.bootstrapcdn.com/bootstrap/3.2.0/css/bootstrap-theme.min.css%22/%3E%0A%20%20%20%20%3Clink%20rel%3D%22stylesheet%22%20href%3D%22https%3A//maxcdn.bootstrapcdn.com/font-awesome/4.6.3/css/font-awesome.min.css%22/%3E%0A%20%20%20%20%3Clink%20rel%3D%22stylesheet%22%20href%3D%22https%3A//cdnjs.cloudflare.com/ajax/libs/Leaflet.awesome-markers/2.0.2/leaflet.awesome-markers.css%22/%3E%0A%20%20%20%20%3Clink%20rel%3D%22stylesheet%22%20href%3D%22https%3A//cdn.jsdelivr.net/gh/python-visualization/folium/folium/templates/leaflet.awesome.rotate.min.css%22/%3E%0A%20%20%20%20%0A%20%20%20%20%20%20%20%20%20%20%20%20%3Cmeta%20name%3D%22viewport%22%20content%3D%22width%3Ddevice-width%2C%0A%20%20%20%20%20%20%20%20%20%20%20%20%20%20%20%20initial-scale%3D1.0%2C%20maximum-scale%3D1.0%2C%20user-scalable%3Dno%22%20/%3E%0A%20%20%20%20%20%20%20%20%20%20%20%20%3Cstyle%3E%0A%20%20%20%20%20%20%20%20%20%20%20%20%20%20%20%20%23map_d3108d6d9cde4ff2bbdebf4fa858b78a%20%7B%0A%20%20%20%20%20%20%20%20%20%20%20%20%20%20%20%20%20%20%20%20position%3A%20relative%3B%0A%20%20%20%20%20%20%20%20%20%20%20%20%20%20%20%20%20%20%20%20width%3A%20100.0%25%3B%0A%20%20%20%20%20%20%20%20%20%20%20%20%20%20%20%20%20%20%20%20height%3A%20100.0%25%3B%0A%20%20%20%20%20%20%20%20%20%20%20%20%20%20%20%20%20%20%20%20left%3A%200.0%25%3B%0A%20%20%20%20%20%20%20%20%20%20%20%20%20%20%20%20%20%20%20%20top%3A%200.0%25%3B%0A%20%20%20%20%20%20%20%20%20%20%20%20%20%20%20%20%7D%0A%20%20%20%20%20%20%20%20%20%20%20%20%3C/style%3E%0A%20%20%20%20%20%20%20%20%0A%20%20%20%20%3Cscript%20src%3D%22https%3A//cdnjs.cloudflare.com/ajax/libs/leaflet.markercluster/1.1.0/leaflet.markercluster.js%22%3E%3C/script%3E%0A%20%20%20%20%3Clink%20rel%3D%22stylesheet%22%20href%3D%22https%3A//cdnjs.cloudflare.com/ajax/libs/leaflet.markercluster/1.1.0/MarkerCluster.css%22/%3E%0A%20%20%20%20%3Clink%20rel%3D%22stylesheet%22%20href%3D%22https%3A//cdnjs.cloudflare.com/ajax/libs/leaflet.markercluster/1.1.0/MarkerCluster.Default.css%22/%3E%0A%3C/head%3E%0A%3Cbody%3E%20%20%20%20%0A%20%20%20%20%0A%20%20%20%20%20%20%20%20%20%20%20%20%3Cdiv%20class%3D%22folium-map%22%20id%3D%22map_d3108d6d9cde4ff2bbdebf4fa858b78a%22%20%3E%3C/div%3E%0A%20%20%20%20%20%20%20%20%0A%3C/body%3E%0A%3Cscript%3E%20%20%20%20%0A%20%20%20%20%0A%20%20%20%20%20%20%20%20%20%20%20%20var%20map_d3108d6d9cde4ff2bbdebf4fa858b78a%20%3D%20L.map%28%0A%20%20%20%20%20%20%20%20%20%20%20%20%20%20%20%20%22map_d3108d6d9cde4ff2bbdebf4fa858b78a%22%2C%0A%20%20%20%20%20%20%20%20%20%20%20%20%20%20%20%20%7B%0A%20%20%20%20%20%20%20%20%20%20%20%20%20%20%20%20%20%20%20%20center%3A%20%5B54.526%2C%2015.2551%5D%2C%0A%20%20%20%20%20%20%20%20%20%20%20%20%20%20%20%20%20%20%20%20crs%3A%20L.CRS.EPSG3857%2C%0A%20%20%20%20%20%20%20%20%20%20%20%20%20%20%20%20%20%20%20%20zoom%3A%203%2C%0A%20%20%20%20%20%20%20%20%20%20%20%20%20%20%20%20%20%20%20%20zoomControl%3A%20true%2C%0A%20%20%20%20%20%20%20%20%20%20%20%20%20%20%20%20%20%20%20%20preferCanvas%3A%20false%2C%0A%20%20%20%20%20%20%20%20%20%20%20%20%20%20%20%20%7D%0A%20%20%20%20%20%20%20%20%20%20%20%20%29%3B%0A%0A%20%20%20%20%20%20%20%20%20%20%20%20%0A%0A%20%20%20%20%20%20%20%20%0A%20%20%20%20%0A%20%20%20%20%20%20%20%20%20%20%20%20var%20tile_layer_73d4d549110e4cbbb522e3118f09ca9f%20%3D%20L.tileLayer%28%0A%20%20%20%20%20%20%20%20%20%20%20%20%20%20%20%20%22https%3A//cartodb-basemaps-%7Bs%7D.global.ssl.fastly.net/light_all/%7Bz%7D/%7Bx%7D/%7By%7D.png%22%2C%0A%20%20%20%20%20%20%20%20%20%20%20%20%20%20%20%20%7B%22attribution%22%3A%20%22%5Cu0026copy%3B%20%5Cu003ca%20href%3D%5C%22http%3A//www.openstreetmap.org/copyright%5C%22%5Cu003eOpenStreetMap%5Cu003c/a%5Cu003e%20contributors%20%5Cu0026copy%3B%20%5Cu003ca%20href%3D%5C%22http%3A//cartodb.com/attributions%5C%22%5Cu003eCartoDB%5Cu003c/a%5Cu003e%2C%20CartoDB%20%5Cu003ca%20href%20%3D%5C%22http%3A//cartodb.com/attributions%5C%22%5Cu003eattributions%5Cu003c/a%5Cu003e%22%2C%20%22detectRetina%22%3A%20false%2C%20%22maxNativeZoom%22%3A%2018%2C%20%22maxZoom%22%3A%2018%2C%20%22minZoom%22%3A%200%2C%20%22noWrap%22%3A%20false%2C%20%22opacity%22%3A%201%2C%20%22subdomains%22%3A%20%22abc%22%2C%20%22tms%22%3A%20false%7D%0A%20%20%20%20%20%20%20%20%20%20%20%20%29.addTo%28map_d3108d6d9cde4ff2bbdebf4fa858b78a%29%3B%0A%20%20%20%20%20%20%20%20%0A%20%20%20%20%0A%20%20%20%20%20%20%20%20%20%20%20%20var%20marker_cluster_dbaf00fdfc5544c7b5c205caa5fb4ea7%20%3D%20L.markerClusterGroup%28%0A%20%20%20%20%20%20%20%20%20%20%20%20%20%20%20%20%7B%7D%0A%20%20%20%20%20%20%20%20%20%20%20%20%29%3B%0A%20%20%20%20%20%20%20%20%20%20%20%20map_d3108d6d9cde4ff2bbdebf4fa858b78a.addLayer%28marker_cluster_dbaf00fdfc5544c7b5c205caa5fb4ea7%29%3B%0A%20%20%20%20%20%20%20%20%0A%20%20%20%20%0A%20%20%20%20%20%20%20%20%20%20%20%20var%20circle_marker_2aebecd4e8bf496caa5a257d447065fa%20%3D%20L.circleMarker%28%0A%20%20%20%20%20%20%20%20%20%20%20%20%20%20%20%20%5B63.2467777%2C%2025.9209164%5D%2C%0A%20%20%20%20%20%20%20%20%20%20%20%20%20%20%20%20%7B%22bubblingMouseEvents%22%3A%20true%2C%20%22color%22%3A%20%22%233388ff%22%2C%20%22dashArray%22%3A%20null%2C%20%22dashOffset%22%3A%20null%2C%20%22fill%22%3A%20true%2C%20%22fillColor%22%3A%20%22%233388ff%22%2C%20%22fillOpacity%22%3A%200.2%2C%20%22fillRule%22%3A%20%22evenodd%22%2C%20%22lineCap%22%3A%20%22round%22%2C%20%22lineJoin%22%3A%20%22round%22%2C%20%22opacity%22%3A%201.0%2C%20%22radius%22%3A%207%2C%20%22stroke%22%3A%20true%2C%20%22weight%22%3A%203%7D%0A%20%20%20%20%20%20%20%20%20%20%20%20%29.addTo%28marker_cluster_dbaf00fdfc5544c7b5c205caa5fb4ea7%29%3B%0A%20%20%20%20%20%20%20%20%0A%20%20%20%20%0A%20%20%20%20%20%20%20%20var%20popup_d8f4220e1dc04fedb8231c102c0a4d68%20%3D%20L.popup%28%7B%22maxWidth%22%3A%20%22100%25%22%7D%29%3B%0A%0A%20%20%20%20%20%20%20%20%0A%20%20%20%20%20%20%20%20%20%20%20%20var%20html_12b20c3a3300446cbd7e3e4c5837345a%20%3D%20%24%28%60%3Cdiv%20id%3D%22html_12b20c3a3300446cbd7e3e4c5837345a%22%20style%3D%22width%3A%20100.0%25%3B%20height%3A%20100.0%25%3B%22%3ECountry%20%3A%20Finland%3Cbr%3E%20%20%20%20%20%20%20%20%20%20%20%20%20%20%20%20%20%20%20%20%20Happiness%20Score%20%3A%207.769%3Cbr%3E%20%20%20%20%20%20%20%20%20%20%20%20%20%20%20%20%20%20%20%20%20Year%20%3A%202019%3Cbr%3E%3C/div%3E%60%29%5B0%5D%3B%0A%20%20%20%20%20%20%20%20%20%20%20%20popup_d8f4220e1dc04fedb8231c102c0a4d68.setContent%28html_12b20c3a3300446cbd7e3e4c5837345a%29%3B%0A%20%20%20%20%20%20%20%20%0A%0A%20%20%20%20%20%20%20%20circle_marker_2aebecd4e8bf496caa5a257d447065fa.bindPopup%28popup_d8f4220e1dc04fedb8231c102c0a4d68%29%0A%20%20%20%20%20%20%20%20%3B%0A%0A%20%20%20%20%20%20%20%20%0A%20%20%20%20%0A%20%20%20%20%0A%20%20%20%20%20%20%20%20%20%20%20%20var%20circle_marker_22f7081f7b4942c1b969da7beb4fb6cc%20%3D%20L.circleMarker%28%0A%20%20%20%20%20%20%20%20%20%20%20%20%20%20%20%20%5B63.2467777%2C%2025.9209164%5D%2C%0A%20%20%20%20%20%20%20%20%20%20%20%20%20%20%20%20%7B%22bubblingMouseEvents%22%3A%20true%2C%20%22color%22%3A%20%22%233388ff%22%2C%20%22dashArray%22%3A%20null%2C%20%22dashOffset%22%3A%20null%2C%20%22fill%22%3A%20true%2C%20%22fillColor%22%3A%20%22%233388ff%22%2C%20%22fillOpacity%22%3A%200.2%2C%20%22fillRule%22%3A%20%22evenodd%22%2C%20%22lineCap%22%3A%20%22round%22%2C%20%22lineJoin%22%3A%20%22round%22%2C%20%22opacity%22%3A%201.0%2C%20%22radius%22%3A%207%2C%20%22stroke%22%3A%20true%2C%20%22weight%22%3A%203%7D%0A%20%20%20%20%20%20%20%20%20%20%20%20%29.addTo%28marker_cluster_dbaf00fdfc5544c7b5c205caa5fb4ea7%29%3B%0A%20%20%20%20%20%20%20%20%0A%20%20%20%20%0A%20%20%20%20%20%20%20%20var%20popup_f3eeb5f188d046c19d99e71284bdaa6c%20%3D%20L.popup%28%7B%22maxWidth%22%3A%20%22100%25%22%7D%29%3B%0A%0A%20%20%20%20%20%20%20%20%0A%20%20%20%20%20%20%20%20%20%20%20%20var%20html_efe9d9f8abbc4f34b08d678a6f58975c%20%3D%20%24%28%60%3Cdiv%20id%3D%22html_efe9d9f8abbc4f34b08d678a6f58975c%22%20style%3D%22width%3A%20100.0%25%3B%20height%3A%20100.0%25%3B%22%3ECountry%20%3A%20Finland%3Cbr%3E%20%20%20%20%20%20%20%20%20%20%20%20%20%20%20%20%20%20%20%20%20Happiness%20Score%20%3A%207.632%3Cbr%3E%20%20%20%20%20%20%20%20%20%20%20%20%20%20%20%20%20%20%20%20%20Year%20%3A%202018%3Cbr%3E%3C/div%3E%60%29%5B0%5D%3B%0A%20%20%20%20%20%20%20%20%20%20%20%20popup_f3eeb5f188d046c19d99e71284bdaa6c.setContent%28html_efe9d9f8abbc4f34b08d678a6f58975c%29%3B%0A%20%20%20%20%20%20%20%20%0A%0A%20%20%20%20%20%20%20%20circle_marker_22f7081f7b4942c1b969da7beb4fb6cc.bindPopup%28popup_f3eeb5f188d046c19d99e71284bdaa6c%29%0A%20%20%20%20%20%20%20%20%3B%0A%0A%20%20%20%20%20%20%20%20%0A%20%20%20%20%0A%20%20%20%20%0A%20%20%20%20%20%20%20%20%20%20%20%20var%20circle_marker_847492753c01402085564e4dfe523b4b%20%3D%20L.circleMarker%28%0A%20%20%20%20%20%20%20%20%20%20%20%20%20%20%20%20%5B63.2467777%2C%2025.9209164%5D%2C%0A%20%20%20%20%20%20%20%20%20%20%20%20%20%20%20%20%7B%22bubblingMouseEvents%22%3A%20true%2C%20%22color%22%3A%20%22%233388ff%22%2C%20%22dashArray%22%3A%20null%2C%20%22dashOffset%22%3A%20null%2C%20%22fill%22%3A%20true%2C%20%22fillColor%22%3A%20%22%233388ff%22%2C%20%22fillOpacity%22%3A%200.2%2C%20%22fillRule%22%3A%20%22evenodd%22%2C%20%22lineCap%22%3A%20%22round%22%2C%20%22lineJoin%22%3A%20%22round%22%2C%20%22opacity%22%3A%201.0%2C%20%22radius%22%3A%207%2C%20%22stroke%22%3A%20true%2C%20%22weight%22%3A%203%7D%0A%20%20%20%20%20%20%20%20%20%20%20%20%29.addTo%28marker_cluster_dbaf00fdfc5544c7b5c205caa5fb4ea7%29%3B%0A%20%20%20%20%20%20%20%20%0A%20%20%20%20%0A%20%20%20%20%20%20%20%20var%20popup_553d59e7cd7046bcac11b48b7aa52fdb%20%3D%20L.popup%28%7B%22maxWidth%22%3A%20%22100%25%22%7D%29%3B%0A%0A%20%20%20%20%20%20%20%20%0A%20%20%20%20%20%20%20%20%20%20%20%20var%20html_20aab821552c4782977295db7dc485f5%20%3D%20%24%28%60%3Cdiv%20id%3D%22html_20aab821552c4782977295db7dc485f5%22%20style%3D%22width%3A%20100.0%25%3B%20height%3A%20100.0%25%3B%22%3ECountry%20%3A%20Finland%3Cbr%3E%20%20%20%20%20%20%20%20%20%20%20%20%20%20%20%20%20%20%20%20%20Happiness%20Score%20%3A%207.4689998626709%3Cbr%3E%20%20%20%20%20%20%20%20%20%20%20%20%20%20%20%20%20%20%20%20%20Year%20%3A%202017%3Cbr%3E%3C/div%3E%60%29%5B0%5D%3B%0A%20%20%20%20%20%20%20%20%20%20%20%20popup_553d59e7cd7046bcac11b48b7aa52fdb.setContent%28html_20aab821552c4782977295db7dc485f5%29%3B%0A%20%20%20%20%20%20%20%20%0A%0A%20%20%20%20%20%20%20%20circle_marker_847492753c01402085564e4dfe523b4b.bindPopup%28popup_553d59e7cd7046bcac11b48b7aa52fdb%29%0A%20%20%20%20%20%20%20%20%3B%0A%0A%20%20%20%20%20%20%20%20%0A%20%20%20%20%0A%20%20%20%20%0A%20%20%20%20%20%20%20%20%20%20%20%20var%20circle_marker_f11cc2bca2fc4684b9a9a4ca88552168%20%3D%20L.circleMarker%28%0A%20%20%20%20%20%20%20%20%20%20%20%20%20%20%20%20%5B63.2467777%2C%2025.9209164%5D%2C%0A%20%20%20%20%20%20%20%20%20%20%20%20%20%20%20%20%7B%22bubblingMouseEvents%22%3A%20true%2C%20%22color%22%3A%20%22%233388ff%22%2C%20%22dashArray%22%3A%20null%2C%20%22dashOffset%22%3A%20null%2C%20%22fill%22%3A%20true%2C%20%22fillColor%22%3A%20%22%233388ff%22%2C%20%22fillOpacity%22%3A%200.2%2C%20%22fillRule%22%3A%20%22evenodd%22%2C%20%22lineCap%22%3A%20%22round%22%2C%20%22lineJoin%22%3A%20%22round%22%2C%20%22opacity%22%3A%201.0%2C%20%22radius%22%3A%207%2C%20%22stroke%22%3A%20true%2C%20%22weight%22%3A%203%7D%0A%20%20%20%20%20%20%20%20%20%20%20%20%29.addTo%28marker_cluster_dbaf00fdfc5544c7b5c205caa5fb4ea7%29%3B%0A%20%20%20%20%20%20%20%20%0A%20%20%20%20%0A%20%20%20%20%20%20%20%20var%20popup_bcef1d39f77347cdbc7317a11f00cd01%20%3D%20L.popup%28%7B%22maxWidth%22%3A%20%22100%25%22%7D%29%3B%0A%0A%20%20%20%20%20%20%20%20%0A%20%20%20%20%20%20%20%20%20%20%20%20var%20html_e07e07323c264deca51731188c0b1d1f%20%3D%20%24%28%60%3Cdiv%20id%3D%22html_e07e07323c264deca51731188c0b1d1f%22%20style%3D%22width%3A%20100.0%25%3B%20height%3A%20100.0%25%3B%22%3ECountry%20%3A%20Finland%3Cbr%3E%20%20%20%20%20%20%20%20%20%20%20%20%20%20%20%20%20%20%20%20%20Happiness%20Score%20%3A%207.413%3Cbr%3E%20%20%20%20%20%20%20%20%20%20%20%20%20%20%20%20%20%20%20%20%20Year%20%3A%202016%3Cbr%3E%3C/div%3E%60%29%5B0%5D%3B%0A%20%20%20%20%20%20%20%20%20%20%20%20popup_bcef1d39f77347cdbc7317a11f00cd01.setContent%28html_e07e07323c264deca51731188c0b1d1f%29%3B%0A%20%20%20%20%20%20%20%20%0A%0A%20%20%20%20%20%20%20%20circle_marker_f11cc2bca2fc4684b9a9a4ca88552168.bindPopup%28popup_bcef1d39f77347cdbc7317a11f00cd01%29%0A%20%20%20%20%20%20%20%20%3B%0A%0A%20%20%20%20%20%20%20%20%0A%20%20%20%20%0A%20%20%20%20%0A%20%20%20%20%20%20%20%20%20%20%20%20var%20circle_marker_c893feffd7da46849a2e6112b1fbd3cc%20%3D%20L.circleMarker%28%0A%20%20%20%20%20%20%20%20%20%20%20%20%20%20%20%20%5B63.2467777%2C%2025.9209164%5D%2C%0A%20%20%20%20%20%20%20%20%20%20%20%20%20%20%20%20%7B%22bubblingMouseEvents%22%3A%20true%2C%20%22color%22%3A%20%22%233388ff%22%2C%20%22dashArray%22%3A%20null%2C%20%22dashOffset%22%3A%20null%2C%20%22fill%22%3A%20true%2C%20%22fillColor%22%3A%20%22%233388ff%22%2C%20%22fillOpacity%22%3A%200.2%2C%20%22fillRule%22%3A%20%22evenodd%22%2C%20%22lineCap%22%3A%20%22round%22%2C%20%22lineJoin%22%3A%20%22round%22%2C%20%22opacity%22%3A%201.0%2C%20%22radius%22%3A%207%2C%20%22stroke%22%3A%20true%2C%20%22weight%22%3A%203%7D%0A%20%20%20%20%20%20%20%20%20%20%20%20%29.addTo%28marker_cluster_dbaf00fdfc5544c7b5c205caa5fb4ea7%29%3B%0A%20%20%20%20%20%20%20%20%0A%20%20%20%20%0A%20%20%20%20%20%20%20%20var%20popup_acf0dc05d66d4f22979d58ac7fe099f8%20%3D%20L.popup%28%7B%22maxWidth%22%3A%20%22100%25%22%7D%29%3B%0A%0A%20%20%20%20%20%20%20%20%0A%20%20%20%20%20%20%20%20%20%20%20%20var%20html_c0dc2e48f9694b9d82879d6f939adca4%20%3D%20%24%28%60%3Cdiv%20id%3D%22html_c0dc2e48f9694b9d82879d6f939adca4%22%20style%3D%22width%3A%20100.0%25%3B%20height%3A%20100.0%25%3B%22%3ECountry%20%3A%20Finland%3Cbr%3E%20%20%20%20%20%20%20%20%20%20%20%20%20%20%20%20%20%20%20%20%20Happiness%20Score%20%3A%207.406%3Cbr%3E%20%20%20%20%20%20%20%20%20%20%20%20%20%20%20%20%20%20%20%20%20Year%20%3A%202015%3Cbr%3E%3C/div%3E%60%29%5B0%5D%3B%0A%20%20%20%20%20%20%20%20%20%20%20%20popup_acf0dc05d66d4f22979d58ac7fe099f8.setContent%28html_c0dc2e48f9694b9d82879d6f939adca4%29%3B%0A%20%20%20%20%20%20%20%20%0A%0A%20%20%20%20%20%20%20%20circle_marker_c893feffd7da46849a2e6112b1fbd3cc.bindPopup%28popup_acf0dc05d66d4f22979d58ac7fe099f8%29%0A%20%20%20%20%20%20%20%20%3B%0A%0A%20%20%20%20%20%20%20%20%0A%20%20%20%20%0A%20%20%20%20%0A%20%20%20%20%20%20%20%20%20%20%20%20var%20circle_marker_975a475a8b1e461faa2fafa6940b0ff7%20%3D%20L.circleMarker%28%0A%20%20%20%20%20%20%20%20%20%20%20%20%20%20%20%20%5B55.670249%2C%2010.3333283%5D%2C%0A%20%20%20%20%20%20%20%20%20%20%20%20%20%20%20%20%7B%22bubblingMouseEvents%22%3A%20true%2C%20%22color%22%3A%20%22%233388ff%22%2C%20%22dashArray%22%3A%20null%2C%20%22dashOffset%22%3A%20null%2C%20%22fill%22%3A%20true%2C%20%22fillColor%22%3A%20%22%233388ff%22%2C%20%22fillOpacity%22%3A%200.2%2C%20%22fillRule%22%3A%20%22evenodd%22%2C%20%22lineCap%22%3A%20%22round%22%2C%20%22lineJoin%22%3A%20%22round%22%2C%20%22opacity%22%3A%201.0%2C%20%22radius%22%3A%207%2C%20%22stroke%22%3A%20true%2C%20%22weight%22%3A%203%7D%0A%20%20%20%20%20%20%20%20%20%20%20%20%29.addTo%28marker_cluster_dbaf00fdfc5544c7b5c205caa5fb4ea7%29%3B%0A%20%20%20%20%20%20%20%20%0A%20%20%20%20%0A%20%20%20%20%20%20%20%20var%20popup_128f2c74d9fe4e8db981b5553893a6ed%20%3D%20L.popup%28%7B%22maxWidth%22%3A%20%22100%25%22%7D%29%3B%0A%0A%20%20%20%20%20%20%20%20%0A%20%20%20%20%20%20%20%20%20%20%20%20var%20html_fe0dcbfbd96447cfa4025e9b2c460e8e%20%3D%20%24%28%60%3Cdiv%20id%3D%22html_fe0dcbfbd96447cfa4025e9b2c460e8e%22%20style%3D%22width%3A%20100.0%25%3B%20height%3A%20100.0%25%3B%22%3ECountry%20%3A%20Denmark%3Cbr%3E%20%20%20%20%20%20%20%20%20%20%20%20%20%20%20%20%20%20%20%20%20Happiness%20Score%20%3A%207.6%3Cbr%3E%20%20%20%20%20%20%20%20%20%20%20%20%20%20%20%20%20%20%20%20%20Year%20%3A%202019%3Cbr%3E%3C/div%3E%60%29%5B0%5D%3B%0A%20%20%20%20%20%20%20%20%20%20%20%20popup_128f2c74d9fe4e8db981b5553893a6ed.setContent%28html_fe0dcbfbd96447cfa4025e9b2c460e8e%29%3B%0A%20%20%20%20%20%20%20%20%0A%0A%20%20%20%20%20%20%20%20circle_marker_975a475a8b1e461faa2fafa6940b0ff7.bindPopup%28popup_128f2c74d9fe4e8db981b5553893a6ed%29%0A%20%20%20%20%20%20%20%20%3B%0A%0A%20%20%20%20%20%20%20%20%0A%20%20%20%20%0A%20%20%20%20%0A%20%20%20%20%20%20%20%20%20%20%20%20var%20circle_marker_75fd39646735422cb14b0d49f8f3a815%20%3D%20L.circleMarker%28%0A%20%20%20%20%20%20%20%20%20%20%20%20%20%20%20%20%5B55.670249%2C%2010.3333283%5D%2C%0A%20%20%20%20%20%20%20%20%20%20%20%20%20%20%20%20%7B%22bubblingMouseEvents%22%3A%20true%2C%20%22color%22%3A%20%22%233388ff%22%2C%20%22dashArray%22%3A%20null%2C%20%22dashOffset%22%3A%20null%2C%20%22fill%22%3A%20true%2C%20%22fillColor%22%3A%20%22%233388ff%22%2C%20%22fillOpacity%22%3A%200.2%2C%20%22fillRule%22%3A%20%22evenodd%22%2C%20%22lineCap%22%3A%20%22round%22%2C%20%22lineJoin%22%3A%20%22round%22%2C%20%22opacity%22%3A%201.0%2C%20%22radius%22%3A%207%2C%20%22stroke%22%3A%20true%2C%20%22weight%22%3A%203%7D%0A%20%20%20%20%20%20%20%20%20%20%20%20%29.addTo%28marker_cluster_dbaf00fdfc5544c7b5c205caa5fb4ea7%29%3B%0A%20%20%20%20%20%20%20%20%0A%20%20%20%20%0A%20%20%20%20%20%20%20%20var%20popup_3d5c4d30bffe401f9bbd1ec9c21e8d5d%20%3D%20L.popup%28%7B%22maxWidth%22%3A%20%22100%25%22%7D%29%3B%0A%0A%20%20%20%20%20%20%20%20%0A%20%20%20%20%20%20%20%20%20%20%20%20var%20html_43a7bdc34b9e4ecba6630fd876096762%20%3D%20%24%28%60%3Cdiv%20id%3D%22html_43a7bdc34b9e4ecba6630fd876096762%22%20style%3D%22width%3A%20100.0%25%3B%20height%3A%20100.0%25%3B%22%3ECountry%20%3A%20Denmark%3Cbr%3E%20%20%20%20%20%20%20%20%20%20%20%20%20%20%20%20%20%20%20%20%20Happiness%20Score%20%3A%207.555%3Cbr%3E%20%20%20%20%20%20%20%20%20%20%20%20%20%20%20%20%20%20%20%20%20Year%20%3A%202018%3Cbr%3E%3C/div%3E%60%29%5B0%5D%3B%0A%20%20%20%20%20%20%20%20%20%20%20%20popup_3d5c4d30bffe401f9bbd1ec9c21e8d5d.setContent%28html_43a7bdc34b9e4ecba6630fd876096762%29%3B%0A%20%20%20%20%20%20%20%20%0A%0A%20%20%20%20%20%20%20%20circle_marker_75fd39646735422cb14b0d49f8f3a815.bindPopup%28popup_3d5c4d30bffe401f9bbd1ec9c21e8d5d%29%0A%20%20%20%20%20%20%20%20%3B%0A%0A%20%20%20%20%20%20%20%20%0A%20%20%20%20%0A%20%20%20%20%0A%20%20%20%20%20%20%20%20%20%20%20%20var%20circle_marker_4ca69548ecb84999886c77397ff22d06%20%3D%20L.circleMarker%28%0A%20%20%20%20%20%20%20%20%20%20%20%20%20%20%20%20%5B55.670249%2C%2010.3333283%5D%2C%0A%20%20%20%20%20%20%20%20%20%20%20%20%20%20%20%20%7B%22bubblingMouseEvents%22%3A%20true%2C%20%22color%22%3A%20%22%233388ff%22%2C%20%22dashArray%22%3A%20null%2C%20%22dashOffset%22%3A%20null%2C%20%22fill%22%3A%20true%2C%20%22fillColor%22%3A%20%22%233388ff%22%2C%20%22fillOpacity%22%3A%200.2%2C%20%22fillRule%22%3A%20%22evenodd%22%2C%20%22lineCap%22%3A%20%22round%22%2C%20%22lineJoin%22%3A%20%22round%22%2C%20%22opacity%22%3A%201.0%2C%20%22radius%22%3A%207%2C%20%22stroke%22%3A%20true%2C%20%22weight%22%3A%203%7D%0A%20%20%20%20%20%20%20%20%20%20%20%20%29.addTo%28marker_cluster_dbaf00fdfc5544c7b5c205caa5fb4ea7%29%3B%0A%20%20%20%20%20%20%20%20%0A%20%20%20%20%0A%20%20%20%20%20%20%20%20var%20popup_3c6d72587e0b4867a322e29736445e22%20%3D%20L.popup%28%7B%22maxWidth%22%3A%20%22100%25%22%7D%29%3B%0A%0A%20%20%20%20%20%20%20%20%0A%20%20%20%20%20%20%20%20%20%20%20%20var%20html_90bd80552831478b8f9fc51d991d9fc9%20%3D%20%24%28%60%3Cdiv%20id%3D%22html_90bd80552831478b8f9fc51d991d9fc9%22%20style%3D%22width%3A%20100.0%25%3B%20height%3A%20100.0%25%3B%22%3ECountry%20%3A%20Denmark%3Cbr%3E%20%20%20%20%20%20%20%20%20%20%20%20%20%20%20%20%20%20%20%20%20Happiness%20Score%20%3A%207.527%3Cbr%3E%20%20%20%20%20%20%20%20%20%20%20%20%20%20%20%20%20%20%20%20%20Year%20%3A%202015%3Cbr%3E%3C/div%3E%60%29%5B0%5D%3B%0A%20%20%20%20%20%20%20%20%20%20%20%20popup_3c6d72587e0b4867a322e29736445e22.setContent%28html_90bd80552831478b8f9fc51d991d9fc9%29%3B%0A%20%20%20%20%20%20%20%20%0A%0A%20%20%20%20%20%20%20%20circle_marker_4ca69548ecb84999886c77397ff22d06.bindPopup%28popup_3c6d72587e0b4867a322e29736445e22%29%0A%20%20%20%20%20%20%20%20%3B%0A%0A%20%20%20%20%20%20%20%20%0A%20%20%20%20%0A%20%20%20%20%0A%20%20%20%20%20%20%20%20%20%20%20%20var%20circle_marker_34a581afdcdb4329b5352ebab161287d%20%3D%20L.circleMarker%28%0A%20%20%20%20%20%20%20%20%20%20%20%20%20%20%20%20%5B55.670249%2C%2010.3333283%5D%2C%0A%20%20%20%20%20%20%20%20%20%20%20%20%20%20%20%20%7B%22bubblingMouseEvents%22%3A%20true%2C%20%22color%22%3A%20%22%233388ff%22%2C%20%22dashArray%22%3A%20null%2C%20%22dashOffset%22%3A%20null%2C%20%22fill%22%3A%20true%2C%20%22fillColor%22%3A%20%22%233388ff%22%2C%20%22fillOpacity%22%3A%200.2%2C%20%22fillRule%22%3A%20%22evenodd%22%2C%20%22lineCap%22%3A%20%22round%22%2C%20%22lineJoin%22%3A%20%22round%22%2C%20%22opacity%22%3A%201.0%2C%20%22radius%22%3A%207%2C%20%22stroke%22%3A%20true%2C%20%22weight%22%3A%203%7D%0A%20%20%20%20%20%20%20%20%20%20%20%20%29.addTo%28marker_cluster_dbaf00fdfc5544c7b5c205caa5fb4ea7%29%3B%0A%20%20%20%20%20%20%20%20%0A%20%20%20%20%0A%20%20%20%20%20%20%20%20var%20popup_1e3cee6164364f8595b462dc5b6df4e0%20%3D%20L.popup%28%7B%22maxWidth%22%3A%20%22100%25%22%7D%29%3B%0A%0A%20%20%20%20%20%20%20%20%0A%20%20%20%20%20%20%20%20%20%20%20%20var%20html_edbbe0c4231b4ea4895af9875701718d%20%3D%20%24%28%60%3Cdiv%20id%3D%22html_edbbe0c4231b4ea4895af9875701718d%22%20style%3D%22width%3A%20100.0%25%3B%20height%3A%20100.0%25%3B%22%3ECountry%20%3A%20Denmark%3Cbr%3E%20%20%20%20%20%20%20%20%20%20%20%20%20%20%20%20%20%20%20%20%20Happiness%20Score%20%3A%207.526%3Cbr%3E%20%20%20%20%20%20%20%20%20%20%20%20%20%20%20%20%20%20%20%20%20Year%20%3A%202016%3Cbr%3E%3C/div%3E%60%29%5B0%5D%3B%0A%20%20%20%20%20%20%20%20%20%20%20%20popup_1e3cee6164364f8595b462dc5b6df4e0.setContent%28html_edbbe0c4231b4ea4895af9875701718d%29%3B%0A%20%20%20%20%20%20%20%20%0A%0A%20%20%20%20%20%20%20%20circle_marker_34a581afdcdb4329b5352ebab161287d.bindPopup%28popup_1e3cee6164364f8595b462dc5b6df4e0%29%0A%20%20%20%20%20%20%20%20%3B%0A%0A%20%20%20%20%20%20%20%20%0A%20%20%20%20%0A%20%20%20%20%0A%20%20%20%20%20%20%20%20%20%20%20%20var%20circle_marker_769f75db8a2d405fae14b3b4dd64b643%20%3D%20L.circleMarker%28%0A%20%20%20%20%20%20%20%20%20%20%20%20%20%20%20%20%5B55.670249%2C%2010.3333283%5D%2C%0A%20%20%20%20%20%20%20%20%20%20%20%20%20%20%20%20%7B%22bubblingMouseEvents%22%3A%20true%2C%20%22color%22%3A%20%22%233388ff%22%2C%20%22dashArray%22%3A%20null%2C%20%22dashOffset%22%3A%20null%2C%20%22fill%22%3A%20true%2C%20%22fillColor%22%3A%20%22%233388ff%22%2C%20%22fillOpacity%22%3A%200.2%2C%20%22fillRule%22%3A%20%22evenodd%22%2C%20%22lineCap%22%3A%20%22round%22%2C%20%22lineJoin%22%3A%20%22round%22%2C%20%22opacity%22%3A%201.0%2C%20%22radius%22%3A%207%2C%20%22stroke%22%3A%20true%2C%20%22weight%22%3A%203%7D%0A%20%20%20%20%20%20%20%20%20%20%20%20%29.addTo%28marker_cluster_dbaf00fdfc5544c7b5c205caa5fb4ea7%29%3B%0A%20%20%20%20%20%20%20%20%0A%20%20%20%20%0A%20%20%20%20%20%20%20%20var%20popup_f62bd4e4910d4456b6616e7648cfcd68%20%3D%20L.popup%28%7B%22maxWidth%22%3A%20%22100%25%22%7D%29%3B%0A%0A%20%20%20%20%20%20%20%20%0A%20%20%20%20%20%20%20%20%20%20%20%20var%20html_18086f615d5f4067ab1669a9f398be47%20%3D%20%24%28%60%3Cdiv%20id%3D%22html_18086f615d5f4067ab1669a9f398be47%22%20style%3D%22width%3A%20100.0%25%3B%20height%3A%20100.0%25%3B%22%3ECountry%20%3A%20Denmark%3Cbr%3E%20%20%20%20%20%20%20%20%20%20%20%20%20%20%20%20%20%20%20%20%20Happiness%20Score%20%3A%207.52199983596802%3Cbr%3E%20%20%20%20%20%20%20%20%20%20%20%20%20%20%20%20%20%20%20%20%20Year%20%3A%202017%3Cbr%3E%3C/div%3E%60%29%5B0%5D%3B%0A%20%20%20%20%20%20%20%20%20%20%20%20popup_f62bd4e4910d4456b6616e7648cfcd68.setContent%28html_18086f615d5f4067ab1669a9f398be47%29%3B%0A%20%20%20%20%20%20%20%20%0A%0A%20%20%20%20%20%20%20%20circle_marker_769f75db8a2d405fae14b3b4dd64b643.bindPopup%28popup_f62bd4e4910d4456b6616e7648cfcd68%29%0A%20%20%20%20%20%20%20%20%3B%0A%0A%20%20%20%20%20%20%20%20%0A%20%20%20%20%0A%20%20%20%20%0A%20%20%20%20%20%20%20%20%20%20%20%20var%20circle_marker_a809a4c725df4f3d8fef9f24e04b7c11%20%3D%20L.circleMarker%28%0A%20%20%20%20%20%20%20%20%20%20%20%20%20%20%20%20%5B60.5000209%2C%209.0999715%5D%2C%0A%20%20%20%20%20%20%20%20%20%20%20%20%20%20%20%20%7B%22bubblingMouseEvents%22%3A%20true%2C%20%22color%22%3A%20%22%233388ff%22%2C%20%22dashArray%22%3A%20null%2C%20%22dashOffset%22%3A%20null%2C%20%22fill%22%3A%20true%2C%20%22fillColor%22%3A%20%22%233388ff%22%2C%20%22fillOpacity%22%3A%200.2%2C%20%22fillRule%22%3A%20%22evenodd%22%2C%20%22lineCap%22%3A%20%22round%22%2C%20%22lineJoin%22%3A%20%22round%22%2C%20%22opacity%22%3A%201.0%2C%20%22radius%22%3A%207%2C%20%22stroke%22%3A%20true%2C%20%22weight%22%3A%203%7D%0A%20%20%20%20%20%20%20%20%20%20%20%20%29.addTo%28marker_cluster_dbaf00fdfc5544c7b5c205caa5fb4ea7%29%3B%0A%20%20%20%20%20%20%20%20%0A%20%20%20%20%0A%20%20%20%20%20%20%20%20var%20popup_dce1c44809824f15b34635e41d2b42e6%20%3D%20L.popup%28%7B%22maxWidth%22%3A%20%22100%25%22%7D%29%3B%0A%0A%20%20%20%20%20%20%20%20%0A%20%20%20%20%20%20%20%20%20%20%20%20var%20html_704b3c35226742d0b0d17d2dfd030bb2%20%3D%20%24%28%60%3Cdiv%20id%3D%22html_704b3c35226742d0b0d17d2dfd030bb2%22%20style%3D%22width%3A%20100.0%25%3B%20height%3A%20100.0%25%3B%22%3ECountry%20%3A%20Norway%3Cbr%3E%20%20%20%20%20%20%20%20%20%20%20%20%20%20%20%20%20%20%20%20%20Happiness%20Score%20%3A%207.594%3Cbr%3E%20%20%20%20%20%20%20%20%20%20%20%20%20%20%20%20%20%20%20%20%20Year%20%3A%202018%3Cbr%3E%3C/div%3E%60%29%5B0%5D%3B%0A%20%20%20%20%20%20%20%20%20%20%20%20popup_dce1c44809824f15b34635e41d2b42e6.setContent%28html_704b3c35226742d0b0d17d2dfd030bb2%29%3B%0A%20%20%20%20%20%20%20%20%0A%0A%20%20%20%20%20%20%20%20circle_marker_a809a4c725df4f3d8fef9f24e04b7c11.bindPopup%28popup_dce1c44809824f15b34635e41d2b42e6%29%0A%20%20%20%20%20%20%20%20%3B%0A%0A%20%20%20%20%20%20%20%20%0A%20%20%20%20%0A%20%20%20%20%0A%20%20%20%20%20%20%20%20%20%20%20%20var%20circle_marker_22caa4b3951a4f218a49aea2c1ccb824%20%3D%20L.circleMarker%28%0A%20%20%20%20%20%20%20%20%20%20%20%20%20%20%20%20%5B60.5000209%2C%209.0999715%5D%2C%0A%20%20%20%20%20%20%20%20%20%20%20%20%20%20%20%20%7B%22bubblingMouseEvents%22%3A%20true%2C%20%22color%22%3A%20%22%233388ff%22%2C%20%22dashArray%22%3A%20null%2C%20%22dashOffset%22%3A%20null%2C%20%22fill%22%3A%20true%2C%20%22fillColor%22%3A%20%22%233388ff%22%2C%20%22fillOpacity%22%3A%200.2%2C%20%22fillRule%22%3A%20%22evenodd%22%2C%20%22lineCap%22%3A%20%22round%22%2C%20%22lineJoin%22%3A%20%22round%22%2C%20%22opacity%22%3A%201.0%2C%20%22radius%22%3A%207%2C%20%22stroke%22%3A%20true%2C%20%22weight%22%3A%203%7D%0A%20%20%20%20%20%20%20%20%20%20%20%20%29.addTo%28marker_cluster_dbaf00fdfc5544c7b5c205caa5fb4ea7%29%3B%0A%20%20%20%20%20%20%20%20%0A%20%20%20%20%0A%20%20%20%20%20%20%20%20var%20popup_4f6d5f9fd22840938d609e95fd10b0f8%20%3D%20L.popup%28%7B%22maxWidth%22%3A%20%22100%25%22%7D%29%3B%0A%0A%20%20%20%20%20%20%20%20%0A%20%20%20%20%20%20%20%20%20%20%20%20var%20html_9a548114612143a08b6076bb118241bf%20%3D%20%24%28%60%3Cdiv%20id%3D%22html_9a548114612143a08b6076bb118241bf%22%20style%3D%22width%3A%20100.0%25%3B%20height%3A%20100.0%25%3B%22%3ECountry%20%3A%20Norway%3Cbr%3E%20%20%20%20%20%20%20%20%20%20%20%20%20%20%20%20%20%20%20%20%20Happiness%20Score%20%3A%207.554%3Cbr%3E%20%20%20%20%20%20%20%20%20%20%20%20%20%20%20%20%20%20%20%20%20Year%20%3A%202019%3Cbr%3E%3C/div%3E%60%29%5B0%5D%3B%0A%20%20%20%20%20%20%20%20%20%20%20%20popup_4f6d5f9fd22840938d609e95fd10b0f8.setContent%28html_9a548114612143a08b6076bb118241bf%29%3B%0A%20%20%20%20%20%20%20%20%0A%0A%20%20%20%20%20%20%20%20circle_marker_22caa4b3951a4f218a49aea2c1ccb824.bindPopup%28popup_4f6d5f9fd22840938d609e95fd10b0f8%29%0A%20%20%20%20%20%20%20%20%3B%0A%0A%20%20%20%20%20%20%20%20%0A%20%20%20%20%0A%20%20%20%20%0A%20%20%20%20%20%20%20%20%20%20%20%20var%20circle_marker_3f808da4c9104d4a8fd23612bfcc337f%20%3D%20L.circleMarker%28%0A%20%20%20%20%20%20%20%20%20%20%20%20%20%20%20%20%5B60.5000209%2C%209.0999715%5D%2C%0A%20%20%20%20%20%20%20%20%20%20%20%20%20%20%20%20%7B%22bubblingMouseEvents%22%3A%20true%2C%20%22color%22%3A%20%22%233388ff%22%2C%20%22dashArray%22%3A%20null%2C%20%22dashOffset%22%3A%20null%2C%20%22fill%22%3A%20true%2C%20%22fillColor%22%3A%20%22%233388ff%22%2C%20%22fillOpacity%22%3A%200.2%2C%20%22fillRule%22%3A%20%22evenodd%22%2C%20%22lineCap%22%3A%20%22round%22%2C%20%22lineJoin%22%3A%20%22round%22%2C%20%22opacity%22%3A%201.0%2C%20%22radius%22%3A%207%2C%20%22stroke%22%3A%20true%2C%20%22weight%22%3A%203%7D%0A%20%20%20%20%20%20%20%20%20%20%20%20%29.addTo%28marker_cluster_dbaf00fdfc5544c7b5c205caa5fb4ea7%29%3B%0A%20%20%20%20%20%20%20%20%0A%20%20%20%20%0A%20%20%20%20%20%20%20%20var%20popup_2f288a0aa4e945429044157036452e45%20%3D%20L.popup%28%7B%22maxWidth%22%3A%20%22100%25%22%7D%29%3B%0A%0A%20%20%20%20%20%20%20%20%0A%20%20%20%20%20%20%20%20%20%20%20%20var%20html_e50109a29cb048e197ccc1495de10cb4%20%3D%20%24%28%60%3Cdiv%20id%3D%22html_e50109a29cb048e197ccc1495de10cb4%22%20style%3D%22width%3A%20100.0%25%3B%20height%3A%20100.0%25%3B%22%3ECountry%20%3A%20Norway%3Cbr%3E%20%20%20%20%20%20%20%20%20%20%20%20%20%20%20%20%20%20%20%20%20Happiness%20Score%20%3A%207.53700017929077%3Cbr%3E%20%20%20%20%20%20%20%20%20%20%20%20%20%20%20%20%20%20%20%20%20Year%20%3A%202017%3Cbr%3E%3C/div%3E%60%29%5B0%5D%3B%0A%20%20%20%20%20%20%20%20%20%20%20%20popup_2f288a0aa4e945429044157036452e45.setContent%28html_e50109a29cb048e197ccc1495de10cb4%29%3B%0A%20%20%20%20%20%20%20%20%0A%0A%20%20%20%20%20%20%20%20circle_marker_3f808da4c9104d4a8fd23612bfcc337f.bindPopup%28popup_2f288a0aa4e945429044157036452e45%29%0A%20%20%20%20%20%20%20%20%3B%0A%0A%20%20%20%20%20%20%20%20%0A%20%20%20%20%0A%20%20%20%20%0A%20%20%20%20%20%20%20%20%20%20%20%20var%20circle_marker_e9cd736772d34df894ab255fce9caf5e%20%3D%20L.circleMarker%28%0A%20%20%20%20%20%20%20%20%20%20%20%20%20%20%20%20%5B60.5000209%2C%209.0999715%5D%2C%0A%20%20%20%20%20%20%20%20%20%20%20%20%20%20%20%20%7B%22bubblingMouseEvents%22%3A%20true%2C%20%22color%22%3A%20%22%233388ff%22%2C%20%22dashArray%22%3A%20null%2C%20%22dashOffset%22%3A%20null%2C%20%22fill%22%3A%20true%2C%20%22fillColor%22%3A%20%22%233388ff%22%2C%20%22fillOpacity%22%3A%200.2%2C%20%22fillRule%22%3A%20%22evenodd%22%2C%20%22lineCap%22%3A%20%22round%22%2C%20%22lineJoin%22%3A%20%22round%22%2C%20%22opacity%22%3A%201.0%2C%20%22radius%22%3A%207%2C%20%22stroke%22%3A%20true%2C%20%22weight%22%3A%203%7D%0A%20%20%20%20%20%20%20%20%20%20%20%20%29.addTo%28marker_cluster_dbaf00fdfc5544c7b5c205caa5fb4ea7%29%3B%0A%20%20%20%20%20%20%20%20%0A%20%20%20%20%0A%20%20%20%20%20%20%20%20var%20popup_6ad7a229772445988f6b273f1a0460bd%20%3D%20L.popup%28%7B%22maxWidth%22%3A%20%22100%25%22%7D%29%3B%0A%0A%20%20%20%20%20%20%20%20%0A%20%20%20%20%20%20%20%20%20%20%20%20var%20html_9a36fa89318f4ba0990af55dc58b6cd1%20%3D%20%24%28%60%3Cdiv%20id%3D%22html_9a36fa89318f4ba0990af55dc58b6cd1%22%20style%3D%22width%3A%20100.0%25%3B%20height%3A%20100.0%25%3B%22%3ECountry%20%3A%20Norway%3Cbr%3E%20%20%20%20%20%20%20%20%20%20%20%20%20%20%20%20%20%20%20%20%20Happiness%20Score%20%3A%207.522%3Cbr%3E%20%20%20%20%20%20%20%20%20%20%20%20%20%20%20%20%20%20%20%20%20Year%20%3A%202015%3Cbr%3E%3C/div%3E%60%29%5B0%5D%3B%0A%20%20%20%20%20%20%20%20%20%20%20%20popup_6ad7a229772445988f6b273f1a0460bd.setContent%28html_9a36fa89318f4ba0990af55dc58b6cd1%29%3B%0A%20%20%20%20%20%20%20%20%0A%0A%20%20%20%20%20%20%20%20circle_marker_e9cd736772d34df894ab255fce9caf5e.bindPopup%28popup_6ad7a229772445988f6b273f1a0460bd%29%0A%20%20%20%20%20%20%20%20%3B%0A%0A%20%20%20%20%20%20%20%20%0A%20%20%20%20%0A%20%20%20%20%0A%20%20%20%20%20%20%20%20%20%20%20%20var%20circle_marker_6322a2d57b1e436299ef80c631b5a903%20%3D%20L.circleMarker%28%0A%20%20%20%20%20%20%20%20%20%20%20%20%20%20%20%20%5B60.5000209%2C%209.0999715%5D%2C%0A%20%20%20%20%20%20%20%20%20%20%20%20%20%20%20%20%7B%22bubblingMouseEvents%22%3A%20true%2C%20%22color%22%3A%20%22%233388ff%22%2C%20%22dashArray%22%3A%20null%2C%20%22dashOffset%22%3A%20null%2C%20%22fill%22%3A%20true%2C%20%22fillColor%22%3A%20%22%233388ff%22%2C%20%22fillOpacity%22%3A%200.2%2C%20%22fillRule%22%3A%20%22evenodd%22%2C%20%22lineCap%22%3A%20%22round%22%2C%20%22lineJoin%22%3A%20%22round%22%2C%20%22opacity%22%3A%201.0%2C%20%22radius%22%3A%207%2C%20%22stroke%22%3A%20true%2C%20%22weight%22%3A%203%7D%0A%20%20%20%20%20%20%20%20%20%20%20%20%29.addTo%28marker_cluster_dbaf00fdfc5544c7b5c205caa5fb4ea7%29%3B%0A%20%20%20%20%20%20%20%20%0A%20%20%20%20%0A%20%20%20%20%20%20%20%20var%20popup_87aa0b70b12148a891f19603062fb0c2%20%3D%20L.popup%28%7B%22maxWidth%22%3A%20%22100%25%22%7D%29%3B%0A%0A%20%20%20%20%20%20%20%20%0A%20%20%20%20%20%20%20%20%20%20%20%20var%20html_7c83759ea5c64117914f1f0fc9274254%20%3D%20%24%28%60%3Cdiv%20id%3D%22html_7c83759ea5c64117914f1f0fc9274254%22%20style%3D%22width%3A%20100.0%25%3B%20height%3A%20100.0%25%3B%22%3ECountry%20%3A%20Norway%3Cbr%3E%20%20%20%20%20%20%20%20%20%20%20%20%20%20%20%20%20%20%20%20%20Happiness%20Score%20%3A%207.498%3Cbr%3E%20%20%20%20%20%20%20%20%20%20%20%20%20%20%20%20%20%20%20%20%20Year%20%3A%202016%3Cbr%3E%3C/div%3E%60%29%5B0%5D%3B%0A%20%20%20%20%20%20%20%20%20%20%20%20popup_87aa0b70b12148a891f19603062fb0c2.setContent%28html_7c83759ea5c64117914f1f0fc9274254%29%3B%0A%20%20%20%20%20%20%20%20%0A%0A%20%20%20%20%20%20%20%20circle_marker_6322a2d57b1e436299ef80c631b5a903.bindPopup%28popup_87aa0b70b12148a891f19603062fb0c2%29%0A%20%20%20%20%20%20%20%20%3B%0A%0A%20%20%20%20%20%20%20%20%0A%20%20%20%20%0A%20%20%20%20%0A%20%20%20%20%20%20%20%20%20%20%20%20var%20circle_marker_69ff95d514db4e718be4dce854385942%20%3D%20L.circleMarker%28%0A%20%20%20%20%20%20%20%20%20%20%20%20%20%20%20%20%5B46.7985624%2C%208.2319736%5D%2C%0A%20%20%20%20%20%20%20%20%20%20%20%20%20%20%20%20%7B%22bubblingMouseEvents%22%3A%20true%2C%20%22color%22%3A%20%22%233388ff%22%2C%20%22dashArray%22%3A%20null%2C%20%22dashOffset%22%3A%20null%2C%20%22fill%22%3A%20true%2C%20%22fillColor%22%3A%20%22%233388ff%22%2C%20%22fillOpacity%22%3A%200.2%2C%20%22fillRule%22%3A%20%22evenodd%22%2C%20%22lineCap%22%3A%20%22round%22%2C%20%22lineJoin%22%3A%20%22round%22%2C%20%22opacity%22%3A%201.0%2C%20%22radius%22%3A%207%2C%20%22stroke%22%3A%20true%2C%20%22weight%22%3A%203%7D%0A%20%20%20%20%20%20%20%20%20%20%20%20%29.addTo%28marker_cluster_dbaf00fdfc5544c7b5c205caa5fb4ea7%29%3B%0A%20%20%20%20%20%20%20%20%0A%20%20%20%20%0A%20%20%20%20%20%20%20%20var%20popup_89a6a9a1555445589b5b733e28e24935%20%3D%20L.popup%28%7B%22maxWidth%22%3A%20%22100%25%22%7D%29%3B%0A%0A%20%20%20%20%20%20%20%20%0A%20%20%20%20%20%20%20%20%20%20%20%20var%20html_b152c9b5ff3c4ca1839d8b4b951b42fa%20%3D%20%24%28%60%3Cdiv%20id%3D%22html_b152c9b5ff3c4ca1839d8b4b951b42fa%22%20style%3D%22width%3A%20100.0%25%3B%20height%3A%20100.0%25%3B%22%3ECountry%20%3A%20Switzerland%3Cbr%3E%20%20%20%20%20%20%20%20%20%20%20%20%20%20%20%20%20%20%20%20%20Happiness%20Score%20%3A%207.587%3Cbr%3E%20%20%20%20%20%20%20%20%20%20%20%20%20%20%20%20%20%20%20%20%20Year%20%3A%202015%3Cbr%3E%3C/div%3E%60%29%5B0%5D%3B%0A%20%20%20%20%20%20%20%20%20%20%20%20popup_89a6a9a1555445589b5b733e28e24935.setContent%28html_b152c9b5ff3c4ca1839d8b4b951b42fa%29%3B%0A%20%20%20%20%20%20%20%20%0A%0A%20%20%20%20%20%20%20%20circle_marker_69ff95d514db4e718be4dce854385942.bindPopup%28popup_89a6a9a1555445589b5b733e28e24935%29%0A%20%20%20%20%20%20%20%20%3B%0A%0A%20%20%20%20%20%20%20%20%0A%20%20%20%20%0A%20%20%20%20%0A%20%20%20%20%20%20%20%20%20%20%20%20var%20circle_marker_4827911a8c4e4090bc2900c9631a42da%20%3D%20L.circleMarker%28%0A%20%20%20%20%20%20%20%20%20%20%20%20%20%20%20%20%5B46.7985624%2C%208.2319736%5D%2C%0A%20%20%20%20%20%20%20%20%20%20%20%20%20%20%20%20%7B%22bubblingMouseEvents%22%3A%20true%2C%20%22color%22%3A%20%22%233388ff%22%2C%20%22dashArray%22%3A%20null%2C%20%22dashOffset%22%3A%20null%2C%20%22fill%22%3A%20true%2C%20%22fillColor%22%3A%20%22%233388ff%22%2C%20%22fillOpacity%22%3A%200.2%2C%20%22fillRule%22%3A%20%22evenodd%22%2C%20%22lineCap%22%3A%20%22round%22%2C%20%22lineJoin%22%3A%20%22round%22%2C%20%22opacity%22%3A%201.0%2C%20%22radius%22%3A%207%2C%20%22stroke%22%3A%20true%2C%20%22weight%22%3A%203%7D%0A%20%20%20%20%20%20%20%20%20%20%20%20%29.addTo%28marker_cluster_dbaf00fdfc5544c7b5c205caa5fb4ea7%29%3B%0A%20%20%20%20%20%20%20%20%0A%20%20%20%20%0A%20%20%20%20%20%20%20%20var%20popup_0e5413e4ec184f0891e739ee1c22d220%20%3D%20L.popup%28%7B%22maxWidth%22%3A%20%22100%25%22%7D%29%3B%0A%0A%20%20%20%20%20%20%20%20%0A%20%20%20%20%20%20%20%20%20%20%20%20var%20html_6daa53eb7b5f4e6398aa5e835485ddd7%20%3D%20%24%28%60%3Cdiv%20id%3D%22html_6daa53eb7b5f4e6398aa5e835485ddd7%22%20style%3D%22width%3A%20100.0%25%3B%20height%3A%20100.0%25%3B%22%3ECountry%20%3A%20Switzerland%3Cbr%3E%20%20%20%20%20%20%20%20%20%20%20%20%20%20%20%20%20%20%20%20%20Happiness%20Score%20%3A%207.509%3Cbr%3E%20%20%20%20%20%20%20%20%20%20%20%20%20%20%20%20%20%20%20%20%20Year%20%3A%202016%3Cbr%3E%3C/div%3E%60%29%5B0%5D%3B%0A%20%20%20%20%20%20%20%20%20%20%20%20popup_0e5413e4ec184f0891e739ee1c22d220.setContent%28html_6daa53eb7b5f4e6398aa5e835485ddd7%29%3B%0A%20%20%20%20%20%20%20%20%0A%0A%20%20%20%20%20%20%20%20circle_marker_4827911a8c4e4090bc2900c9631a42da.bindPopup%28popup_0e5413e4ec184f0891e739ee1c22d220%29%0A%20%20%20%20%20%20%20%20%3B%0A%0A%20%20%20%20%20%20%20%20%0A%20%20%20%20%0A%20%20%20%20%0A%20%20%20%20%20%20%20%20%20%20%20%20var%20circle_marker_359737ca4e604d198f22770c08f9b6e7%20%3D%20L.circleMarker%28%0A%20%20%20%20%20%20%20%20%20%20%20%20%20%20%20%20%5B46.7985624%2C%208.2319736%5D%2C%0A%20%20%20%20%20%20%20%20%20%20%20%20%20%20%20%20%7B%22bubblingMouseEvents%22%3A%20true%2C%20%22color%22%3A%20%22%233388ff%22%2C%20%22dashArray%22%3A%20null%2C%20%22dashOffset%22%3A%20null%2C%20%22fill%22%3A%20true%2C%20%22fillColor%22%3A%20%22%233388ff%22%2C%20%22fillOpacity%22%3A%200.2%2C%20%22fillRule%22%3A%20%22evenodd%22%2C%20%22lineCap%22%3A%20%22round%22%2C%20%22lineJoin%22%3A%20%22round%22%2C%20%22opacity%22%3A%201.0%2C%20%22radius%22%3A%207%2C%20%22stroke%22%3A%20true%2C%20%22weight%22%3A%203%7D%0A%20%20%20%20%20%20%20%20%20%20%20%20%29.addTo%28marker_cluster_dbaf00fdfc5544c7b5c205caa5fb4ea7%29%3B%0A%20%20%20%20%20%20%20%20%0A%20%20%20%20%0A%20%20%20%20%20%20%20%20var%20popup_4abc4ecda62c4427a6358ddd238ca056%20%3D%20L.popup%28%7B%22maxWidth%22%3A%20%22100%25%22%7D%29%3B%0A%0A%20%20%20%20%20%20%20%20%0A%20%20%20%20%20%20%20%20%20%20%20%20var%20html_f5f73bd7a57c4a248d6b7b2153a7cf13%20%3D%20%24%28%60%3Cdiv%20id%3D%22html_f5f73bd7a57c4a248d6b7b2153a7cf13%22%20style%3D%22width%3A%20100.0%25%3B%20height%3A%20100.0%25%3B%22%3ECountry%20%3A%20Switzerland%3Cbr%3E%20%20%20%20%20%20%20%20%20%20%20%20%20%20%20%20%20%20%20%20%20Happiness%20Score%20%3A%207.49399995803833%3Cbr%3E%20%20%20%20%20%20%20%20%20%20%20%20%20%20%20%20%20%20%20%20%20Year%20%3A%202017%3Cbr%3E%3C/div%3E%60%29%5B0%5D%3B%0A%20%20%20%20%20%20%20%20%20%20%20%20popup_4abc4ecda62c4427a6358ddd238ca056.setContent%28html_f5f73bd7a57c4a248d6b7b2153a7cf13%29%3B%0A%20%20%20%20%20%20%20%20%0A%0A%20%20%20%20%20%20%20%20circle_marker_359737ca4e604d198f22770c08f9b6e7.bindPopup%28popup_4abc4ecda62c4427a6358ddd238ca056%29%0A%20%20%20%20%20%20%20%20%3B%0A%0A%20%20%20%20%20%20%20%20%0A%20%20%20%20%0A%20%20%20%20%0A%20%20%20%20%20%20%20%20%20%20%20%20var%20circle_marker_225b8b95048c4d8b8f4efe6062b8c8c2%20%3D%20L.circleMarker%28%0A%20%20%20%20%20%20%20%20%20%20%20%20%20%20%20%20%5B46.7985624%2C%208.2319736%5D%2C%0A%20%20%20%20%20%20%20%20%20%20%20%20%20%20%20%20%7B%22bubblingMouseEvents%22%3A%20true%2C%20%22color%22%3A%20%22%233388ff%22%2C%20%22dashArray%22%3A%20null%2C%20%22dashOffset%22%3A%20null%2C%20%22fill%22%3A%20true%2C%20%22fillColor%22%3A%20%22%233388ff%22%2C%20%22fillOpacity%22%3A%200.2%2C%20%22fillRule%22%3A%20%22evenodd%22%2C%20%22lineCap%22%3A%20%22round%22%2C%20%22lineJoin%22%3A%20%22round%22%2C%20%22opacity%22%3A%201.0%2C%20%22radius%22%3A%207%2C%20%22stroke%22%3A%20true%2C%20%22weight%22%3A%203%7D%0A%20%20%20%20%20%20%20%20%20%20%20%20%29.addTo%28marker_cluster_dbaf00fdfc5544c7b5c205caa5fb4ea7%29%3B%0A%20%20%20%20%20%20%20%20%0A%20%20%20%20%0A%20%20%20%20%20%20%20%20var%20popup_f778eda7a0a54c2897b12f6181b9a79f%20%3D%20L.popup%28%7B%22maxWidth%22%3A%20%22100%25%22%7D%29%3B%0A%0A%20%20%20%20%20%20%20%20%0A%20%20%20%20%20%20%20%20%20%20%20%20var%20html_8d3a5f4492de4ab09d5dd92b18ac3ef5%20%3D%20%24%28%60%3Cdiv%20id%3D%22html_8d3a5f4492de4ab09d5dd92b18ac3ef5%22%20style%3D%22width%3A%20100.0%25%3B%20height%3A%20100.0%25%3B%22%3ECountry%20%3A%20Switzerland%3Cbr%3E%20%20%20%20%20%20%20%20%20%20%20%20%20%20%20%20%20%20%20%20%20Happiness%20Score%20%3A%207.487%3Cbr%3E%20%20%20%20%20%20%20%20%20%20%20%20%20%20%20%20%20%20%20%20%20Year%20%3A%202018%3Cbr%3E%3C/div%3E%60%29%5B0%5D%3B%0A%20%20%20%20%20%20%20%20%20%20%20%20popup_f778eda7a0a54c2897b12f6181b9a79f.setContent%28html_8d3a5f4492de4ab09d5dd92b18ac3ef5%29%3B%0A%20%20%20%20%20%20%20%20%0A%0A%20%20%20%20%20%20%20%20circle_marker_225b8b95048c4d8b8f4efe6062b8c8c2.bindPopup%28popup_f778eda7a0a54c2897b12f6181b9a79f%29%0A%20%20%20%20%20%20%20%20%3B%0A%0A%20%20%20%20%20%20%20%20%0A%20%20%20%20%0A%20%20%20%20%0A%20%20%20%20%20%20%20%20%20%20%20%20var%20circle_marker_23596bdd18914f37841f37c37dccff79%20%3D%20L.circleMarker%28%0A%20%20%20%20%20%20%20%20%20%20%20%20%20%20%20%20%5B46.7985624%2C%208.2319736%5D%2C%0A%20%20%20%20%20%20%20%20%20%20%20%20%20%20%20%20%7B%22bubblingMouseEvents%22%3A%20true%2C%20%22color%22%3A%20%22%233388ff%22%2C%20%22dashArray%22%3A%20null%2C%20%22dashOffset%22%3A%20null%2C%20%22fill%22%3A%20true%2C%20%22fillColor%22%3A%20%22%233388ff%22%2C%20%22fillOpacity%22%3A%200.2%2C%20%22fillRule%22%3A%20%22evenodd%22%2C%20%22lineCap%22%3A%20%22round%22%2C%20%22lineJoin%22%3A%20%22round%22%2C%20%22opacity%22%3A%201.0%2C%20%22radius%22%3A%207%2C%20%22stroke%22%3A%20true%2C%20%22weight%22%3A%203%7D%0A%20%20%20%20%20%20%20%20%20%20%20%20%29.addTo%28marker_cluster_dbaf00fdfc5544c7b5c205caa5fb4ea7%29%3B%0A%20%20%20%20%20%20%20%20%0A%20%20%20%20%0A%20%20%20%20%20%20%20%20var%20popup_e186f7d9c47f4f5f84e228d53b7068b9%20%3D%20L.popup%28%7B%22maxWidth%22%3A%20%22100%25%22%7D%29%3B%0A%0A%20%20%20%20%20%20%20%20%0A%20%20%20%20%20%20%20%20%20%20%20%20var%20html_cda0646d5aa746baa3ead02e2d8b8f1c%20%3D%20%24%28%60%3Cdiv%20id%3D%22html_cda0646d5aa746baa3ead02e2d8b8f1c%22%20style%3D%22width%3A%20100.0%25%3B%20height%3A%20100.0%25%3B%22%3ECountry%20%3A%20Switzerland%3Cbr%3E%20%20%20%20%20%20%20%20%20%20%20%20%20%20%20%20%20%20%20%20%20Happiness%20Score%20%3A%207.48%3Cbr%3E%20%20%20%20%20%20%20%20%20%20%20%20%20%20%20%20%20%20%20%20%20Year%20%3A%202019%3Cbr%3E%3C/div%3E%60%29%5B0%5D%3B%0A%20%20%20%20%20%20%20%20%20%20%20%20popup_e186f7d9c47f4f5f84e228d53b7068b9.setContent%28html_cda0646d5aa746baa3ead02e2d8b8f1c%29%3B%0A%20%20%20%20%20%20%20%20%0A%0A%20%20%20%20%20%20%20%20circle_marker_23596bdd18914f37841f37c37dccff79.bindPopup%28popup_e186f7d9c47f4f5f84e228d53b7068b9%29%0A%20%20%20%20%20%20%20%20%3B%0A%0A%20%20%20%20%20%20%20%20%0A%20%20%20%20%0A%20%20%20%20%0A%20%20%20%20%20%20%20%20%20%20%20%20var%20circle_marker_a692e6046fe14b169ca9fa3f9c9dc9ea%20%3D%20L.circleMarker%28%0A%20%20%20%20%20%20%20%20%20%20%20%20%20%20%20%20%5B64.9841821%2C%20-18.1059013%5D%2C%0A%20%20%20%20%20%20%20%20%20%20%20%20%20%20%20%20%7B%22bubblingMouseEvents%22%3A%20true%2C%20%22color%22%3A%20%22%233388ff%22%2C%20%22dashArray%22%3A%20null%2C%20%22dashOffset%22%3A%20null%2C%20%22fill%22%3A%20true%2C%20%22fillColor%22%3A%20%22%233388ff%22%2C%20%22fillOpacity%22%3A%200.2%2C%20%22fillRule%22%3A%20%22evenodd%22%2C%20%22lineCap%22%3A%20%22round%22%2C%20%22lineJoin%22%3A%20%22round%22%2C%20%22opacity%22%3A%201.0%2C%20%22radius%22%3A%207%2C%20%22stroke%22%3A%20true%2C%20%22weight%22%3A%203%7D%0A%20%20%20%20%20%20%20%20%20%20%20%20%29.addTo%28marker_cluster_dbaf00fdfc5544c7b5c205caa5fb4ea7%29%3B%0A%20%20%20%20%20%20%20%20%0A%20%20%20%20%0A%20%20%20%20%20%20%20%20var%20popup_c8cfa2bb4e734fb09abc6f5ed1271302%20%3D%20L.popup%28%7B%22maxWidth%22%3A%20%22100%25%22%7D%29%3B%0A%0A%20%20%20%20%20%20%20%20%0A%20%20%20%20%20%20%20%20%20%20%20%20var%20html_68674c4839d2426ba116496c6da57c9e%20%3D%20%24%28%60%3Cdiv%20id%3D%22html_68674c4839d2426ba116496c6da57c9e%22%20style%3D%22width%3A%20100.0%25%3B%20height%3A%20100.0%25%3B%22%3ECountry%20%3A%20Iceland%3Cbr%3E%20%20%20%20%20%20%20%20%20%20%20%20%20%20%20%20%20%20%20%20%20Happiness%20Score%20%3A%207.561%3Cbr%3E%20%20%20%20%20%20%20%20%20%20%20%20%20%20%20%20%20%20%20%20%20Year%20%3A%202015%3Cbr%3E%3C/div%3E%60%29%5B0%5D%3B%0A%20%20%20%20%20%20%20%20%20%20%20%20popup_c8cfa2bb4e734fb09abc6f5ed1271302.setContent%28html_68674c4839d2426ba116496c6da57c9e%29%3B%0A%20%20%20%20%20%20%20%20%0A%0A%20%20%20%20%20%20%20%20circle_marker_a692e6046fe14b169ca9fa3f9c9dc9ea.bindPopup%28popup_c8cfa2bb4e734fb09abc6f5ed1271302%29%0A%20%20%20%20%20%20%20%20%3B%0A%0A%20%20%20%20%20%20%20%20%0A%20%20%20%20%0A%20%20%20%20%0A%20%20%20%20%20%20%20%20%20%20%20%20var%20circle_marker_053a1720a3ba430f8ba8a10e0bd5e225%20%3D%20L.circleMarker%28%0A%20%20%20%20%20%20%20%20%20%20%20%20%20%20%20%20%5B64.9841821%2C%20-18.1059013%5D%2C%0A%20%20%20%20%20%20%20%20%20%20%20%20%20%20%20%20%7B%22bubblingMouseEvents%22%3A%20true%2C%20%22color%22%3A%20%22%233388ff%22%2C%20%22dashArray%22%3A%20null%2C%20%22dashOffset%22%3A%20null%2C%20%22fill%22%3A%20true%2C%20%22fillColor%22%3A%20%22%233388ff%22%2C%20%22fillOpacity%22%3A%200.2%2C%20%22fillRule%22%3A%20%22evenodd%22%2C%20%22lineCap%22%3A%20%22round%22%2C%20%22lineJoin%22%3A%20%22round%22%2C%20%22opacity%22%3A%201.0%2C%20%22radius%22%3A%207%2C%20%22stroke%22%3A%20true%2C%20%22weight%22%3A%203%7D%0A%20%20%20%20%20%20%20%20%20%20%20%20%29.addTo%28marker_cluster_dbaf00fdfc5544c7b5c205caa5fb4ea7%29%3B%0A%20%20%20%20%20%20%20%20%0A%20%20%20%20%0A%20%20%20%20%20%20%20%20var%20popup_8bdc94186fdb416b9217e511f6f5ccb0%20%3D%20L.popup%28%7B%22maxWidth%22%3A%20%22100%25%22%7D%29%3B%0A%0A%20%20%20%20%20%20%20%20%0A%20%20%20%20%20%20%20%20%20%20%20%20var%20html_da97002de76546afb5f479d0388a3a5d%20%3D%20%24%28%60%3Cdiv%20id%3D%22html_da97002de76546afb5f479d0388a3a5d%22%20style%3D%22width%3A%20100.0%25%3B%20height%3A%20100.0%25%3B%22%3ECountry%20%3A%20Iceland%3Cbr%3E%20%20%20%20%20%20%20%20%20%20%20%20%20%20%20%20%20%20%20%20%20Happiness%20Score%20%3A%207.50400018692017%3Cbr%3E%20%20%20%20%20%20%20%20%20%20%20%20%20%20%20%20%20%20%20%20%20Year%20%3A%202017%3Cbr%3E%3C/div%3E%60%29%5B0%5D%3B%0A%20%20%20%20%20%20%20%20%20%20%20%20popup_8bdc94186fdb416b9217e511f6f5ccb0.setContent%28html_da97002de76546afb5f479d0388a3a5d%29%3B%0A%20%20%20%20%20%20%20%20%0A%0A%20%20%20%20%20%20%20%20circle_marker_053a1720a3ba430f8ba8a10e0bd5e225.bindPopup%28popup_8bdc94186fdb416b9217e511f6f5ccb0%29%0A%20%20%20%20%20%20%20%20%3B%0A%0A%20%20%20%20%20%20%20%20%0A%20%20%20%20%0A%20%20%20%20%0A%20%20%20%20%20%20%20%20%20%20%20%20var%20circle_marker_e893880909b94eb5a6899138c2f10c2f%20%3D%20L.circleMarker%28%0A%20%20%20%20%20%20%20%20%20%20%20%20%20%20%20%20%5B64.9841821%2C%20-18.1059013%5D%2C%0A%20%20%20%20%20%20%20%20%20%20%20%20%20%20%20%20%7B%22bubblingMouseEvents%22%3A%20true%2C%20%22color%22%3A%20%22%233388ff%22%2C%20%22dashArray%22%3A%20null%2C%20%22dashOffset%22%3A%20null%2C%20%22fill%22%3A%20true%2C%20%22fillColor%22%3A%20%22%233388ff%22%2C%20%22fillOpacity%22%3A%200.2%2C%20%22fillRule%22%3A%20%22evenodd%22%2C%20%22lineCap%22%3A%20%22round%22%2C%20%22lineJoin%22%3A%20%22round%22%2C%20%22opacity%22%3A%201.0%2C%20%22radius%22%3A%207%2C%20%22stroke%22%3A%20true%2C%20%22weight%22%3A%203%7D%0A%20%20%20%20%20%20%20%20%20%20%20%20%29.addTo%28marker_cluster_dbaf00fdfc5544c7b5c205caa5fb4ea7%29%3B%0A%20%20%20%20%20%20%20%20%0A%20%20%20%20%0A%20%20%20%20%20%20%20%20var%20popup_4cce50b5c1144f358cdb067a5aec584d%20%3D%20L.popup%28%7B%22maxWidth%22%3A%20%22100%25%22%7D%29%3B%0A%0A%20%20%20%20%20%20%20%20%0A%20%20%20%20%20%20%20%20%20%20%20%20var%20html_3d70908248aa425ab910ecfd88bee702%20%3D%20%24%28%60%3Cdiv%20id%3D%22html_3d70908248aa425ab910ecfd88bee702%22%20style%3D%22width%3A%20100.0%25%3B%20height%3A%20100.0%25%3B%22%3ECountry%20%3A%20Iceland%3Cbr%3E%20%20%20%20%20%20%20%20%20%20%20%20%20%20%20%20%20%20%20%20%20Happiness%20Score%20%3A%207.501%3Cbr%3E%20%20%20%20%20%20%20%20%20%20%20%20%20%20%20%20%20%20%20%20%20Year%20%3A%202016%3Cbr%3E%3C/div%3E%60%29%5B0%5D%3B%0A%20%20%20%20%20%20%20%20%20%20%20%20popup_4cce50b5c1144f358cdb067a5aec584d.setContent%28html_3d70908248aa425ab910ecfd88bee702%29%3B%0A%20%20%20%20%20%20%20%20%0A%0A%20%20%20%20%20%20%20%20circle_marker_e893880909b94eb5a6899138c2f10c2f.bindPopup%28popup_4cce50b5c1144f358cdb067a5aec584d%29%0A%20%20%20%20%20%20%20%20%3B%0A%0A%20%20%20%20%20%20%20%20%0A%20%20%20%20%0A%20%20%20%20%0A%20%20%20%20%20%20%20%20%20%20%20%20var%20circle_marker_44d3946f5cbe490f84e56e44ef82eef9%20%3D%20L.circleMarker%28%0A%20%20%20%20%20%20%20%20%20%20%20%20%20%20%20%20%5B64.9841821%2C%20-18.1059013%5D%2C%0A%20%20%20%20%20%20%20%20%20%20%20%20%20%20%20%20%7B%22bubblingMouseEvents%22%3A%20true%2C%20%22color%22%3A%20%22%233388ff%22%2C%20%22dashArray%22%3A%20null%2C%20%22dashOffset%22%3A%20null%2C%20%22fill%22%3A%20true%2C%20%22fillColor%22%3A%20%22%233388ff%22%2C%20%22fillOpacity%22%3A%200.2%2C%20%22fillRule%22%3A%20%22evenodd%22%2C%20%22lineCap%22%3A%20%22round%22%2C%20%22lineJoin%22%3A%20%22round%22%2C%20%22opacity%22%3A%201.0%2C%20%22radius%22%3A%207%2C%20%22stroke%22%3A%20true%2C%20%22weight%22%3A%203%7D%0A%20%20%20%20%20%20%20%20%20%20%20%20%29.addTo%28marker_cluster_dbaf00fdfc5544c7b5c205caa5fb4ea7%29%3B%0A%20%20%20%20%20%20%20%20%0A%20%20%20%20%0A%20%20%20%20%20%20%20%20var%20popup_173753cb62e44210869205a2980424ef%20%3D%20L.popup%28%7B%22maxWidth%22%3A%20%22100%25%22%7D%29%3B%0A%0A%20%20%20%20%20%20%20%20%0A%20%20%20%20%20%20%20%20%20%20%20%20var%20html_e652727e49a54b7cbc6a1d533eb9e964%20%3D%20%24%28%60%3Cdiv%20id%3D%22html_e652727e49a54b7cbc6a1d533eb9e964%22%20style%3D%22width%3A%20100.0%25%3B%20height%3A%20100.0%25%3B%22%3ECountry%20%3A%20Iceland%3Cbr%3E%20%20%20%20%20%20%20%20%20%20%20%20%20%20%20%20%20%20%20%20%20Happiness%20Score%20%3A%207.495%3Cbr%3E%20%20%20%20%20%20%20%20%20%20%20%20%20%20%20%20%20%20%20%20%20Year%20%3A%202018%3Cbr%3E%3C/div%3E%60%29%5B0%5D%3B%0A%20%20%20%20%20%20%20%20%20%20%20%20popup_173753cb62e44210869205a2980424ef.setContent%28html_e652727e49a54b7cbc6a1d533eb9e964%29%3B%0A%20%20%20%20%20%20%20%20%0A%0A%20%20%20%20%20%20%20%20circle_marker_44d3946f5cbe490f84e56e44ef82eef9.bindPopup%28popup_173753cb62e44210869205a2980424ef%29%0A%20%20%20%20%20%20%20%20%3B%0A%0A%20%20%20%20%20%20%20%20%0A%20%20%20%20%0A%20%20%20%20%0A%20%20%20%20%20%20%20%20%20%20%20%20var%20circle_marker_505e37d1cf454774b9f16125cb2cd441%20%3D%20L.circleMarker%28%0A%20%20%20%20%20%20%20%20%20%20%20%20%20%20%20%20%5B64.9841821%2C%20-18.1059013%5D%2C%0A%20%20%20%20%20%20%20%20%20%20%20%20%20%20%20%20%7B%22bubblingMouseEvents%22%3A%20true%2C%20%22color%22%3A%20%22%233388ff%22%2C%20%22dashArray%22%3A%20null%2C%20%22dashOffset%22%3A%20null%2C%20%22fill%22%3A%20true%2C%20%22fillColor%22%3A%20%22%233388ff%22%2C%20%22fillOpacity%22%3A%200.2%2C%20%22fillRule%22%3A%20%22evenodd%22%2C%20%22lineCap%22%3A%20%22round%22%2C%20%22lineJoin%22%3A%20%22round%22%2C%20%22opacity%22%3A%201.0%2C%20%22radius%22%3A%207%2C%20%22stroke%22%3A%20true%2C%20%22weight%22%3A%203%7D%0A%20%20%20%20%20%20%20%20%20%20%20%20%29.addTo%28marker_cluster_dbaf00fdfc5544c7b5c205caa5fb4ea7%29%3B%0A%20%20%20%20%20%20%20%20%0A%20%20%20%20%0A%20%20%20%20%20%20%20%20var%20popup_7a9bb84d4bd243c98893f47ba2e6075e%20%3D%20L.popup%28%7B%22maxWidth%22%3A%20%22100%25%22%7D%29%3B%0A%0A%20%20%20%20%20%20%20%20%0A%20%20%20%20%20%20%20%20%20%20%20%20var%20html_1f6d18da65d14493beadda6df4e81797%20%3D%20%24%28%60%3Cdiv%20id%3D%22html_1f6d18da65d14493beadda6df4e81797%22%20style%3D%22width%3A%20100.0%25%3B%20height%3A%20100.0%25%3B%22%3ECountry%20%3A%20Iceland%3Cbr%3E%20%20%20%20%20%20%20%20%20%20%20%20%20%20%20%20%20%20%20%20%20Happiness%20Score%20%3A%207.494%3Cbr%3E%20%20%20%20%20%20%20%20%20%20%20%20%20%20%20%20%20%20%20%20%20Year%20%3A%202019%3Cbr%3E%3C/div%3E%60%29%5B0%5D%3B%0A%20%20%20%20%20%20%20%20%20%20%20%20popup_7a9bb84d4bd243c98893f47ba2e6075e.setContent%28html_1f6d18da65d14493beadda6df4e81797%29%3B%0A%20%20%20%20%20%20%20%20%0A%0A%20%20%20%20%20%20%20%20circle_marker_505e37d1cf454774b9f16125cb2cd441.bindPopup%28popup_7a9bb84d4bd243c98893f47ba2e6075e%29%0A%20%20%20%20%20%20%20%20%3B%0A%0A%20%20%20%20%20%20%20%20%0A%20%20%20%20%0A%20%20%20%20%0A%20%20%20%20%20%20%20%20%20%20%20%20var%20circle_marker_e6e0abd6d97948eca94e4b1cf198479d%20%3D%20L.circleMarker%28%0A%20%20%20%20%20%20%20%20%20%20%20%20%20%20%20%20%5B52.5001698%2C%205.7480821%5D%2C%0A%20%20%20%20%20%20%20%20%20%20%20%20%20%20%20%20%7B%22bubblingMouseEvents%22%3A%20true%2C%20%22color%22%3A%20%22%233388ff%22%2C%20%22dashArray%22%3A%20null%2C%20%22dashOffset%22%3A%20null%2C%20%22fill%22%3A%20true%2C%20%22fillColor%22%3A%20%22%233388ff%22%2C%20%22fillOpacity%22%3A%200.2%2C%20%22fillRule%22%3A%20%22evenodd%22%2C%20%22lineCap%22%3A%20%22round%22%2C%20%22lineJoin%22%3A%20%22round%22%2C%20%22opacity%22%3A%201.0%2C%20%22radius%22%3A%207%2C%20%22stroke%22%3A%20true%2C%20%22weight%22%3A%203%7D%0A%20%20%20%20%20%20%20%20%20%20%20%20%29.addTo%28marker_cluster_dbaf00fdfc5544c7b5c205caa5fb4ea7%29%3B%0A%20%20%20%20%20%20%20%20%0A%20%20%20%20%0A%20%20%20%20%20%20%20%20var%20popup_56b7597f04794486a91f819bf0469a06%20%3D%20L.popup%28%7B%22maxWidth%22%3A%20%22100%25%22%7D%29%3B%0A%0A%20%20%20%20%20%20%20%20%0A%20%20%20%20%20%20%20%20%20%20%20%20var%20html_004dc9e6aca7448c8d3f27079ef6ad0d%20%3D%20%24%28%60%3Cdiv%20id%3D%22html_004dc9e6aca7448c8d3f27079ef6ad0d%22%20style%3D%22width%3A%20100.0%25%3B%20height%3A%20100.0%25%3B%22%3ECountry%20%3A%20Netherlands%3Cbr%3E%20%20%20%20%20%20%20%20%20%20%20%20%20%20%20%20%20%20%20%20%20Happiness%20Score%20%3A%207.488%3Cbr%3E%20%20%20%20%20%20%20%20%20%20%20%20%20%20%20%20%20%20%20%20%20Year%20%3A%202019%3Cbr%3E%3C/div%3E%60%29%5B0%5D%3B%0A%20%20%20%20%20%20%20%20%20%20%20%20popup_56b7597f04794486a91f819bf0469a06.setContent%28html_004dc9e6aca7448c8d3f27079ef6ad0d%29%3B%0A%20%20%20%20%20%20%20%20%0A%0A%20%20%20%20%20%20%20%20circle_marker_e6e0abd6d97948eca94e4b1cf198479d.bindPopup%28popup_56b7597f04794486a91f819bf0469a06%29%0A%20%20%20%20%20%20%20%20%3B%0A%0A%20%20%20%20%20%20%20%20%0A%20%20%20%20%0A%20%20%20%20%0A%20%20%20%20%20%20%20%20%20%20%20%20var%20circle_marker_78c70838e27e48c1aab9a8a36b78db61%20%3D%20L.circleMarker%28%0A%20%20%20%20%20%20%20%20%20%20%20%20%20%20%20%20%5B52.5001698%2C%205.7480821%5D%2C%0A%20%20%20%20%20%20%20%20%20%20%20%20%20%20%20%20%7B%22bubblingMouseEvents%22%3A%20true%2C%20%22color%22%3A%20%22%233388ff%22%2C%20%22dashArray%22%3A%20null%2C%20%22dashOffset%22%3A%20null%2C%20%22fill%22%3A%20true%2C%20%22fillColor%22%3A%20%22%233388ff%22%2C%20%22fillOpacity%22%3A%200.2%2C%20%22fillRule%22%3A%20%22evenodd%22%2C%20%22lineCap%22%3A%20%22round%22%2C%20%22lineJoin%22%3A%20%22round%22%2C%20%22opacity%22%3A%201.0%2C%20%22radius%22%3A%207%2C%20%22stroke%22%3A%20true%2C%20%22weight%22%3A%203%7D%0A%20%20%20%20%20%20%20%20%20%20%20%20%29.addTo%28marker_cluster_dbaf00fdfc5544c7b5c205caa5fb4ea7%29%3B%0A%20%20%20%20%20%20%20%20%0A%20%20%20%20%0A%20%20%20%20%20%20%20%20var%20popup_79b813dc40e649ddbc2d6387ca7cd480%20%3D%20L.popup%28%7B%22maxWidth%22%3A%20%22100%25%22%7D%29%3B%0A%0A%20%20%20%20%20%20%20%20%0A%20%20%20%20%20%20%20%20%20%20%20%20var%20html_c32800500a8b4a84b476caae29a59e68%20%3D%20%24%28%60%3Cdiv%20id%3D%22html_c32800500a8b4a84b476caae29a59e68%22%20style%3D%22width%3A%20100.0%25%3B%20height%3A%20100.0%25%3B%22%3ECountry%20%3A%20Netherlands%3Cbr%3E%20%20%20%20%20%20%20%20%20%20%20%20%20%20%20%20%20%20%20%20%20Happiness%20Score%20%3A%207.441%3Cbr%3E%20%20%20%20%20%20%20%20%20%20%20%20%20%20%20%20%20%20%20%20%20Year%20%3A%202018%3Cbr%3E%3C/div%3E%60%29%5B0%5D%3B%0A%20%20%20%20%20%20%20%20%20%20%20%20popup_79b813dc40e649ddbc2d6387ca7cd480.setContent%28html_c32800500a8b4a84b476caae29a59e68%29%3B%0A%20%20%20%20%20%20%20%20%0A%0A%20%20%20%20%20%20%20%20circle_marker_78c70838e27e48c1aab9a8a36b78db61.bindPopup%28popup_79b813dc40e649ddbc2d6387ca7cd480%29%0A%20%20%20%20%20%20%20%20%3B%0A%0A%20%20%20%20%20%20%20%20%0A%20%20%20%20%0A%20%20%20%20%0A%20%20%20%20%20%20%20%20%20%20%20%20var%20circle_marker_2355edc0afe3473381419f615e49a7a7%20%3D%20L.circleMarker%28%0A%20%20%20%20%20%20%20%20%20%20%20%20%20%20%20%20%5B52.5001698%2C%205.7480821%5D%2C%0A%20%20%20%20%20%20%20%20%20%20%20%20%20%20%20%20%7B%22bubblingMouseEvents%22%3A%20true%2C%20%22color%22%3A%20%22%233388ff%22%2C%20%22dashArray%22%3A%20null%2C%20%22dashOffset%22%3A%20null%2C%20%22fill%22%3A%20true%2C%20%22fillColor%22%3A%20%22%233388ff%22%2C%20%22fillOpacity%22%3A%200.2%2C%20%22fillRule%22%3A%20%22evenodd%22%2C%20%22lineCap%22%3A%20%22round%22%2C%20%22lineJoin%22%3A%20%22round%22%2C%20%22opacity%22%3A%201.0%2C%20%22radius%22%3A%207%2C%20%22stroke%22%3A%20true%2C%20%22weight%22%3A%203%7D%0A%20%20%20%20%20%20%20%20%20%20%20%20%29.addTo%28marker_cluster_dbaf00fdfc5544c7b5c205caa5fb4ea7%29%3B%0A%20%20%20%20%20%20%20%20%0A%20%20%20%20%0A%20%20%20%20%20%20%20%20var%20popup_e55a4a526e4a4ceab4069a5691113f6e%20%3D%20L.popup%28%7B%22maxWidth%22%3A%20%22100%25%22%7D%29%3B%0A%0A%20%20%20%20%20%20%20%20%0A%20%20%20%20%20%20%20%20%20%20%20%20var%20html_7d2e9f9cd3ca498e970924b15ac41f3b%20%3D%20%24%28%60%3Cdiv%20id%3D%22html_7d2e9f9cd3ca498e970924b15ac41f3b%22%20style%3D%22width%3A%20100.0%25%3B%20height%3A%20100.0%25%3B%22%3ECountry%20%3A%20Netherlands%3Cbr%3E%20%20%20%20%20%20%20%20%20%20%20%20%20%20%20%20%20%20%20%20%20Happiness%20Score%20%3A%207.378%3Cbr%3E%20%20%20%20%20%20%20%20%20%20%20%20%20%20%20%20%20%20%20%20%20Year%20%3A%202015%3Cbr%3E%3C/div%3E%60%29%5B0%5D%3B%0A%20%20%20%20%20%20%20%20%20%20%20%20popup_e55a4a526e4a4ceab4069a5691113f6e.setContent%28html_7d2e9f9cd3ca498e970924b15ac41f3b%29%3B%0A%20%20%20%20%20%20%20%20%0A%0A%20%20%20%20%20%20%20%20circle_marker_2355edc0afe3473381419f615e49a7a7.bindPopup%28popup_e55a4a526e4a4ceab4069a5691113f6e%29%0A%20%20%20%20%20%20%20%20%3B%0A%0A%20%20%20%20%20%20%20%20%0A%20%20%20%20%0A%20%20%20%20%0A%20%20%20%20%20%20%20%20%20%20%20%20var%20circle_marker_60177510fc594237be5d494680b7b2e9%20%3D%20L.circleMarker%28%0A%20%20%20%20%20%20%20%20%20%20%20%20%20%20%20%20%5B52.5001698%2C%205.7480821%5D%2C%0A%20%20%20%20%20%20%20%20%20%20%20%20%20%20%20%20%7B%22bubblingMouseEvents%22%3A%20true%2C%20%22color%22%3A%20%22%233388ff%22%2C%20%22dashArray%22%3A%20null%2C%20%22dashOffset%22%3A%20null%2C%20%22fill%22%3A%20true%2C%20%22fillColor%22%3A%20%22%233388ff%22%2C%20%22fillOpacity%22%3A%200.2%2C%20%22fillRule%22%3A%20%22evenodd%22%2C%20%22lineCap%22%3A%20%22round%22%2C%20%22lineJoin%22%3A%20%22round%22%2C%20%22opacity%22%3A%201.0%2C%20%22radius%22%3A%207%2C%20%22stroke%22%3A%20true%2C%20%22weight%22%3A%203%7D%0A%20%20%20%20%20%20%20%20%20%20%20%20%29.addTo%28marker_cluster_dbaf00fdfc5544c7b5c205caa5fb4ea7%29%3B%0A%20%20%20%20%20%20%20%20%0A%20%20%20%20%0A%20%20%20%20%20%20%20%20var%20popup_28e102f045a7487e802351f1513e764c%20%3D%20L.popup%28%7B%22maxWidth%22%3A%20%22100%25%22%7D%29%3B%0A%0A%20%20%20%20%20%20%20%20%0A%20%20%20%20%20%20%20%20%20%20%20%20var%20html_822658c44d2a4b95afb6548e920e0d01%20%3D%20%24%28%60%3Cdiv%20id%3D%22html_822658c44d2a4b95afb6548e920e0d01%22%20style%3D%22width%3A%20100.0%25%3B%20height%3A%20100.0%25%3B%22%3ECountry%20%3A%20Netherlands%3Cbr%3E%20%20%20%20%20%20%20%20%20%20%20%20%20%20%20%20%20%20%20%20%20Happiness%20Score%20%3A%207.3769998550415%3Cbr%3E%20%20%20%20%20%20%20%20%20%20%20%20%20%20%20%20%20%20%20%20%20Year%20%3A%202017%3Cbr%3E%3C/div%3E%60%29%5B0%5D%3B%0A%20%20%20%20%20%20%20%20%20%20%20%20popup_28e102f045a7487e802351f1513e764c.setContent%28html_822658c44d2a4b95afb6548e920e0d01%29%3B%0A%20%20%20%20%20%20%20%20%0A%0A%20%20%20%20%20%20%20%20circle_marker_60177510fc594237be5d494680b7b2e9.bindPopup%28popup_28e102f045a7487e802351f1513e764c%29%0A%20%20%20%20%20%20%20%20%3B%0A%0A%20%20%20%20%20%20%20%20%0A%20%20%20%20%0A%20%20%20%20%0A%20%20%20%20%20%20%20%20%20%20%20%20var%20circle_marker_f89ede800ae749cda099ff8d1734d35d%20%3D%20L.circleMarker%28%0A%20%20%20%20%20%20%20%20%20%20%20%20%20%20%20%20%5B52.5001698%2C%205.7480821%5D%2C%0A%20%20%20%20%20%20%20%20%20%20%20%20%20%20%20%20%7B%22bubblingMouseEvents%22%3A%20true%2C%20%22color%22%3A%20%22%233388ff%22%2C%20%22dashArray%22%3A%20null%2C%20%22dashOffset%22%3A%20null%2C%20%22fill%22%3A%20true%2C%20%22fillColor%22%3A%20%22%233388ff%22%2C%20%22fillOpacity%22%3A%200.2%2C%20%22fillRule%22%3A%20%22evenodd%22%2C%20%22lineCap%22%3A%20%22round%22%2C%20%22lineJoin%22%3A%20%22round%22%2C%20%22opacity%22%3A%201.0%2C%20%22radius%22%3A%207%2C%20%22stroke%22%3A%20true%2C%20%22weight%22%3A%203%7D%0A%20%20%20%20%20%20%20%20%20%20%20%20%29.addTo%28marker_cluster_dbaf00fdfc5544c7b5c205caa5fb4ea7%29%3B%0A%20%20%20%20%20%20%20%20%0A%20%20%20%20%0A%20%20%20%20%20%20%20%20var%20popup_9b8e46b46e4841c4a8274e9d69379723%20%3D%20L.popup%28%7B%22maxWidth%22%3A%20%22100%25%22%7D%29%3B%0A%0A%20%20%20%20%20%20%20%20%0A%20%20%20%20%20%20%20%20%20%20%20%20var%20html_0f3401a262f24a39a035e3d8bdc44017%20%3D%20%24%28%60%3Cdiv%20id%3D%22html_0f3401a262f24a39a035e3d8bdc44017%22%20style%3D%22width%3A%20100.0%25%3B%20height%3A%20100.0%25%3B%22%3ECountry%20%3A%20Netherlands%3Cbr%3E%20%20%20%20%20%20%20%20%20%20%20%20%20%20%20%20%20%20%20%20%20Happiness%20Score%20%3A%207.339%3Cbr%3E%20%20%20%20%20%20%20%20%20%20%20%20%20%20%20%20%20%20%20%20%20Year%20%3A%202016%3Cbr%3E%3C/div%3E%60%29%5B0%5D%3B%0A%20%20%20%20%20%20%20%20%20%20%20%20popup_9b8e46b46e4841c4a8274e9d69379723.setContent%28html_0f3401a262f24a39a035e3d8bdc44017%29%3B%0A%20%20%20%20%20%20%20%20%0A%0A%20%20%20%20%20%20%20%20circle_marker_f89ede800ae749cda099ff8d1734d35d.bindPopup%28popup_9b8e46b46e4841c4a8274e9d69379723%29%0A%20%20%20%20%20%20%20%20%3B%0A%0A%20%20%20%20%20%20%20%20%0A%20%20%20%20%0A%20%20%20%20%0A%20%20%20%20%20%20%20%20%20%20%20%20var%20circle_marker_ff215734a8564c608cb5bc755d6d365f%20%3D%20L.circleMarker%28%0A%20%20%20%20%20%20%20%20%20%20%20%20%20%20%20%20%5B59.6749712%2C%2014.5208584%5D%2C%0A%20%20%20%20%20%20%20%20%20%20%20%20%20%20%20%20%7B%22bubblingMouseEvents%22%3A%20true%2C%20%22color%22%3A%20%22%233388ff%22%2C%20%22dashArray%22%3A%20null%2C%20%22dashOffset%22%3A%20null%2C%20%22fill%22%3A%20true%2C%20%22fillColor%22%3A%20%22%233388ff%22%2C%20%22fillOpacity%22%3A%200.2%2C%20%22fillRule%22%3A%20%22evenodd%22%2C%20%22lineCap%22%3A%20%22round%22%2C%20%22lineJoin%22%3A%20%22round%22%2C%20%22opacity%22%3A%201.0%2C%20%22radius%22%3A%207%2C%20%22stroke%22%3A%20true%2C%20%22weight%22%3A%203%7D%0A%20%20%20%20%20%20%20%20%20%20%20%20%29.addTo%28marker_cluster_dbaf00fdfc5544c7b5c205caa5fb4ea7%29%3B%0A%20%20%20%20%20%20%20%20%0A%20%20%20%20%0A%20%20%20%20%20%20%20%20var%20popup_f6579e7475a544d19f7f525849221c3e%20%3D%20L.popup%28%7B%22maxWidth%22%3A%20%22100%25%22%7D%29%3B%0A%0A%20%20%20%20%20%20%20%20%0A%20%20%20%20%20%20%20%20%20%20%20%20var%20html_4f55d3f8b9f743098751d3aa6139ffe0%20%3D%20%24%28%60%3Cdiv%20id%3D%22html_4f55d3f8b9f743098751d3aa6139ffe0%22%20style%3D%22width%3A%20100.0%25%3B%20height%3A%20100.0%25%3B%22%3ECountry%20%3A%20Sweden%3Cbr%3E%20%20%20%20%20%20%20%20%20%20%20%20%20%20%20%20%20%20%20%20%20Happiness%20Score%20%3A%207.364%3Cbr%3E%20%20%20%20%20%20%20%20%20%20%20%20%20%20%20%20%20%20%20%20%20Year%20%3A%202015%3Cbr%3E%3C/div%3E%60%29%5B0%5D%3B%0A%20%20%20%20%20%20%20%20%20%20%20%20popup_f6579e7475a544d19f7f525849221c3e.setContent%28html_4f55d3f8b9f743098751d3aa6139ffe0%29%3B%0A%20%20%20%20%20%20%20%20%0A%0A%20%20%20%20%20%20%20%20circle_marker_ff215734a8564c608cb5bc755d6d365f.bindPopup%28popup_f6579e7475a544d19f7f525849221c3e%29%0A%20%20%20%20%20%20%20%20%3B%0A%0A%20%20%20%20%20%20%20%20%0A%20%20%20%20%0A%20%20%20%20%0A%20%20%20%20%20%20%20%20%20%20%20%20var%20circle_marker_c81677d19ace4979a1557e21a9874189%20%3D%20L.circleMarker%28%0A%20%20%20%20%20%20%20%20%20%20%20%20%20%20%20%20%5B59.6749712%2C%2014.5208584%5D%2C%0A%20%20%20%20%20%20%20%20%20%20%20%20%20%20%20%20%7B%22bubblingMouseEvents%22%3A%20true%2C%20%22color%22%3A%20%22%233388ff%22%2C%20%22dashArray%22%3A%20null%2C%20%22dashOffset%22%3A%20null%2C%20%22fill%22%3A%20true%2C%20%22fillColor%22%3A%20%22%233388ff%22%2C%20%22fillOpacity%22%3A%200.2%2C%20%22fillRule%22%3A%20%22evenodd%22%2C%20%22lineCap%22%3A%20%22round%22%2C%20%22lineJoin%22%3A%20%22round%22%2C%20%22opacity%22%3A%201.0%2C%20%22radius%22%3A%207%2C%20%22stroke%22%3A%20true%2C%20%22weight%22%3A%203%7D%0A%20%20%20%20%20%20%20%20%20%20%20%20%29.addTo%28marker_cluster_dbaf00fdfc5544c7b5c205caa5fb4ea7%29%3B%0A%20%20%20%20%20%20%20%20%0A%20%20%20%20%0A%20%20%20%20%20%20%20%20var%20popup_add9cee8491a40a491302e70bc091af8%20%3D%20L.popup%28%7B%22maxWidth%22%3A%20%22100%25%22%7D%29%3B%0A%0A%20%20%20%20%20%20%20%20%0A%20%20%20%20%20%20%20%20%20%20%20%20var%20html_89fad2fb32fb49d195c4efa69b57f12b%20%3D%20%24%28%60%3Cdiv%20id%3D%22html_89fad2fb32fb49d195c4efa69b57f12b%22%20style%3D%22width%3A%20100.0%25%3B%20height%3A%20100.0%25%3B%22%3ECountry%20%3A%20Sweden%3Cbr%3E%20%20%20%20%20%20%20%20%20%20%20%20%20%20%20%20%20%20%20%20%20Happiness%20Score%20%3A%207.343%3Cbr%3E%20%20%20%20%20%20%20%20%20%20%20%20%20%20%20%20%20%20%20%20%20Year%20%3A%202019%3Cbr%3E%3C/div%3E%60%29%5B0%5D%3B%0A%20%20%20%20%20%20%20%20%20%20%20%20popup_add9cee8491a40a491302e70bc091af8.setContent%28html_89fad2fb32fb49d195c4efa69b57f12b%29%3B%0A%20%20%20%20%20%20%20%20%0A%0A%20%20%20%20%20%20%20%20circle_marker_c81677d19ace4979a1557e21a9874189.bindPopup%28popup_add9cee8491a40a491302e70bc091af8%29%0A%20%20%20%20%20%20%20%20%3B%0A%0A%20%20%20%20%20%20%20%20%0A%20%20%20%20%0A%20%20%20%20%0A%20%20%20%20%20%20%20%20%20%20%20%20var%20circle_marker_576c648993c5401d83ae1650d8facc43%20%3D%20L.circleMarker%28%0A%20%20%20%20%20%20%20%20%20%20%20%20%20%20%20%20%5B59.6749712%2C%2014.5208584%5D%2C%0A%20%20%20%20%20%20%20%20%20%20%20%20%20%20%20%20%7B%22bubblingMouseEvents%22%3A%20true%2C%20%22color%22%3A%20%22%233388ff%22%2C%20%22dashArray%22%3A%20null%2C%20%22dashOffset%22%3A%20null%2C%20%22fill%22%3A%20true%2C%20%22fillColor%22%3A%20%22%233388ff%22%2C%20%22fillOpacity%22%3A%200.2%2C%20%22fillRule%22%3A%20%22evenodd%22%2C%20%22lineCap%22%3A%20%22round%22%2C%20%22lineJoin%22%3A%20%22round%22%2C%20%22opacity%22%3A%201.0%2C%20%22radius%22%3A%207%2C%20%22stroke%22%3A%20true%2C%20%22weight%22%3A%203%7D%0A%20%20%20%20%20%20%20%20%20%20%20%20%29.addTo%28marker_cluster_dbaf00fdfc5544c7b5c205caa5fb4ea7%29%3B%0A%20%20%20%20%20%20%20%20%0A%20%20%20%20%0A%20%20%20%20%20%20%20%20var%20popup_2c7382338814486bbc65d434936e2d39%20%3D%20L.popup%28%7B%22maxWidth%22%3A%20%22100%25%22%7D%29%3B%0A%0A%20%20%20%20%20%20%20%20%0A%20%20%20%20%20%20%20%20%20%20%20%20var%20html_f7d1fd0689cf4594babcb68a89158afd%20%3D%20%24%28%60%3Cdiv%20id%3D%22html_f7d1fd0689cf4594babcb68a89158afd%22%20style%3D%22width%3A%20100.0%25%3B%20height%3A%20100.0%25%3B%22%3ECountry%20%3A%20Sweden%3Cbr%3E%20%20%20%20%20%20%20%20%20%20%20%20%20%20%20%20%20%20%20%20%20Happiness%20Score%20%3A%207.314%3Cbr%3E%20%20%20%20%20%20%20%20%20%20%20%20%20%20%20%20%20%20%20%20%20Year%20%3A%202018%3Cbr%3E%3C/div%3E%60%29%5B0%5D%3B%0A%20%20%20%20%20%20%20%20%20%20%20%20popup_2c7382338814486bbc65d434936e2d39.setContent%28html_f7d1fd0689cf4594babcb68a89158afd%29%3B%0A%20%20%20%20%20%20%20%20%0A%0A%20%20%20%20%20%20%20%20circle_marker_576c648993c5401d83ae1650d8facc43.bindPopup%28popup_2c7382338814486bbc65d434936e2d39%29%0A%20%20%20%20%20%20%20%20%3B%0A%0A%20%20%20%20%20%20%20%20%0A%20%20%20%20%0A%20%20%20%20%0A%20%20%20%20%20%20%20%20%20%20%20%20var%20circle_marker_e62dcc89e73943ac9cf334509eee8272%20%3D%20L.circleMarker%28%0A%20%20%20%20%20%20%20%20%20%20%20%20%20%20%20%20%5B59.6749712%2C%2014.5208584%5D%2C%0A%20%20%20%20%20%20%20%20%20%20%20%20%20%20%20%20%7B%22bubblingMouseEvents%22%3A%20true%2C%20%22color%22%3A%20%22%233388ff%22%2C%20%22dashArray%22%3A%20null%2C%20%22dashOffset%22%3A%20null%2C%20%22fill%22%3A%20true%2C%20%22fillColor%22%3A%20%22%233388ff%22%2C%20%22fillOpacity%22%3A%200.2%2C%20%22fillRule%22%3A%20%22evenodd%22%2C%20%22lineCap%22%3A%20%22round%22%2C%20%22lineJoin%22%3A%20%22round%22%2C%20%22opacity%22%3A%201.0%2C%20%22radius%22%3A%207%2C%20%22stroke%22%3A%20true%2C%20%22weight%22%3A%203%7D%0A%20%20%20%20%20%20%20%20%20%20%20%20%29.addTo%28marker_cluster_dbaf00fdfc5544c7b5c205caa5fb4ea7%29%3B%0A%20%20%20%20%20%20%20%20%0A%20%20%20%20%0A%20%20%20%20%20%20%20%20var%20popup_2803665f315f4f3b97f95acea907cdaf%20%3D%20L.popup%28%7B%22maxWidth%22%3A%20%22100%25%22%7D%29%3B%0A%0A%20%20%20%20%20%20%20%20%0A%20%20%20%20%20%20%20%20%20%20%20%20var%20html_572ea94e39e240ecac208a2efec505ea%20%3D%20%24%28%60%3Cdiv%20id%3D%22html_572ea94e39e240ecac208a2efec505ea%22%20style%3D%22width%3A%20100.0%25%3B%20height%3A%20100.0%25%3B%22%3ECountry%20%3A%20Sweden%3Cbr%3E%20%20%20%20%20%20%20%20%20%20%20%20%20%20%20%20%20%20%20%20%20Happiness%20Score%20%3A%207.291%3Cbr%3E%20%20%20%20%20%20%20%20%20%20%20%20%20%20%20%20%20%20%20%20%20Year%20%3A%202016%3Cbr%3E%3C/div%3E%60%29%5B0%5D%3B%0A%20%20%20%20%20%20%20%20%20%20%20%20popup_2803665f315f4f3b97f95acea907cdaf.setContent%28html_572ea94e39e240ecac208a2efec505ea%29%3B%0A%20%20%20%20%20%20%20%20%0A%0A%20%20%20%20%20%20%20%20circle_marker_e62dcc89e73943ac9cf334509eee8272.bindPopup%28popup_2803665f315f4f3b97f95acea907cdaf%29%0A%20%20%20%20%20%20%20%20%3B%0A%0A%20%20%20%20%20%20%20%20%0A%20%20%20%20%0A%20%20%20%20%0A%20%20%20%20%20%20%20%20%20%20%20%20var%20circle_marker_c080df71b94c44f1b3b9e892c0ad5ff7%20%3D%20L.circleMarker%28%0A%20%20%20%20%20%20%20%20%20%20%20%20%20%20%20%20%5B59.6749712%2C%2014.5208584%5D%2C%0A%20%20%20%20%20%20%20%20%20%20%20%20%20%20%20%20%7B%22bubblingMouseEvents%22%3A%20true%2C%20%22color%22%3A%20%22%233388ff%22%2C%20%22dashArray%22%3A%20null%2C%20%22dashOffset%22%3A%20null%2C%20%22fill%22%3A%20true%2C%20%22fillColor%22%3A%20%22%233388ff%22%2C%20%22fillOpacity%22%3A%200.2%2C%20%22fillRule%22%3A%20%22evenodd%22%2C%20%22lineCap%22%3A%20%22round%22%2C%20%22lineJoin%22%3A%20%22round%22%2C%20%22opacity%22%3A%201.0%2C%20%22radius%22%3A%207%2C%20%22stroke%22%3A%20true%2C%20%22weight%22%3A%203%7D%0A%20%20%20%20%20%20%20%20%20%20%20%20%29.addTo%28marker_cluster_dbaf00fdfc5544c7b5c205caa5fb4ea7%29%3B%0A%20%20%20%20%20%20%20%20%0A%20%20%20%20%0A%20%20%20%20%20%20%20%20var%20popup_aa112caf95714d0cb17be463c300afaf%20%3D%20L.popup%28%7B%22maxWidth%22%3A%20%22100%25%22%7D%29%3B%0A%0A%20%20%20%20%20%20%20%20%0A%20%20%20%20%20%20%20%20%20%20%20%20var%20html_bc4e872765c5472a8bd4286ea2a0ee24%20%3D%20%24%28%60%3Cdiv%20id%3D%22html_bc4e872765c5472a8bd4286ea2a0ee24%22%20style%3D%22width%3A%20100.0%25%3B%20height%3A%20100.0%25%3B%22%3ECountry%20%3A%20Sweden%3Cbr%3E%20%20%20%20%20%20%20%20%20%20%20%20%20%20%20%20%20%20%20%20%20Happiness%20Score%20%3A%207.28399991989136%3Cbr%3E%20%20%20%20%20%20%20%20%20%20%20%20%20%20%20%20%20%20%20%20%20Year%20%3A%202017%3Cbr%3E%3C/div%3E%60%29%5B0%5D%3B%0A%20%20%20%20%20%20%20%20%20%20%20%20popup_aa112caf95714d0cb17be463c300afaf.setContent%28html_bc4e872765c5472a8bd4286ea2a0ee24%29%3B%0A%20%20%20%20%20%20%20%20%0A%0A%20%20%20%20%20%20%20%20circle_marker_c080df71b94c44f1b3b9e892c0ad5ff7.bindPopup%28popup_aa112caf95714d0cb17be463c300afaf%29%0A%20%20%20%20%20%20%20%20%3B%0A%0A%20%20%20%20%20%20%20%20%0A%20%20%20%20%0A%20%20%20%20%0A%20%20%20%20%20%20%20%20%20%20%20%20var%20circle_marker_3d8452cfebfa486986b0894aa7ee8ae0%20%3D%20L.circleMarker%28%0A%20%20%20%20%20%20%20%20%20%20%20%20%20%20%20%20%5B47.2%2C%2013.2%5D%2C%0A%20%20%20%20%20%20%20%20%20%20%20%20%20%20%20%20%7B%22bubblingMouseEvents%22%3A%20true%2C%20%22color%22%3A%20%22%233388ff%22%2C%20%22dashArray%22%3A%20null%2C%20%22dashOffset%22%3A%20null%2C%20%22fill%22%3A%20true%2C%20%22fillColor%22%3A%20%22%233388ff%22%2C%20%22fillOpacity%22%3A%200.2%2C%20%22fillRule%22%3A%20%22evenodd%22%2C%20%22lineCap%22%3A%20%22round%22%2C%20%22lineJoin%22%3A%20%22round%22%2C%20%22opacity%22%3A%201.0%2C%20%22radius%22%3A%207%2C%20%22stroke%22%3A%20true%2C%20%22weight%22%3A%203%7D%0A%20%20%20%20%20%20%20%20%20%20%20%20%29.addTo%28marker_cluster_dbaf00fdfc5544c7b5c205caa5fb4ea7%29%3B%0A%20%20%20%20%20%20%20%20%0A%20%20%20%20%0A%20%20%20%20%20%20%20%20var%20popup_05a6ff3bcdd64d07a64581cd3124307d%20%3D%20L.popup%28%7B%22maxWidth%22%3A%20%22100%25%22%7D%29%3B%0A%0A%20%20%20%20%20%20%20%20%0A%20%20%20%20%20%20%20%20%20%20%20%20var%20html_7823fe898996489fa90ca3598c286e8b%20%3D%20%24%28%60%3Cdiv%20id%3D%22html_7823fe898996489fa90ca3598c286e8b%22%20style%3D%22width%3A%20100.0%25%3B%20height%3A%20100.0%25%3B%22%3ECountry%20%3A%20Austria%3Cbr%3E%20%20%20%20%20%20%20%20%20%20%20%20%20%20%20%20%20%20%20%20%20Happiness%20Score%20%3A%207.246%3Cbr%3E%20%20%20%20%20%20%20%20%20%20%20%20%20%20%20%20%20%20%20%20%20Year%20%3A%202019%3Cbr%3E%3C/div%3E%60%29%5B0%5D%3B%0A%20%20%20%20%20%20%20%20%20%20%20%20popup_05a6ff3bcdd64d07a64581cd3124307d.setContent%28html_7823fe898996489fa90ca3598c286e8b%29%3B%0A%20%20%20%20%20%20%20%20%0A%0A%20%20%20%20%20%20%20%20circle_marker_3d8452cfebfa486986b0894aa7ee8ae0.bindPopup%28popup_05a6ff3bcdd64d07a64581cd3124307d%29%0A%20%20%20%20%20%20%20%20%3B%0A%0A%20%20%20%20%20%20%20%20%0A%20%20%20%20%0A%20%20%20%20%0A%20%20%20%20%20%20%20%20%20%20%20%20var%20circle_marker_72f57079cb3144158cb69fd8b46f48b6%20%3D%20L.circleMarker%28%0A%20%20%20%20%20%20%20%20%20%20%20%20%20%20%20%20%5B47.2%2C%2013.2%5D%2C%0A%20%20%20%20%20%20%20%20%20%20%20%20%20%20%20%20%7B%22bubblingMouseEvents%22%3A%20true%2C%20%22color%22%3A%20%22%233388ff%22%2C%20%22dashArray%22%3A%20null%2C%20%22dashOffset%22%3A%20null%2C%20%22fill%22%3A%20true%2C%20%22fillColor%22%3A%20%22%233388ff%22%2C%20%22fillOpacity%22%3A%200.2%2C%20%22fillRule%22%3A%20%22evenodd%22%2C%20%22lineCap%22%3A%20%22round%22%2C%20%22lineJoin%22%3A%20%22round%22%2C%20%22opacity%22%3A%201.0%2C%20%22radius%22%3A%207%2C%20%22stroke%22%3A%20true%2C%20%22weight%22%3A%203%7D%0A%20%20%20%20%20%20%20%20%20%20%20%20%29.addTo%28marker_cluster_dbaf00fdfc5544c7b5c205caa5fb4ea7%29%3B%0A%20%20%20%20%20%20%20%20%0A%20%20%20%20%0A%20%20%20%20%20%20%20%20var%20popup_0c9c5a047a40426ba23f82e10fd15e6c%20%3D%20L.popup%28%7B%22maxWidth%22%3A%20%22100%25%22%7D%29%3B%0A%0A%20%20%20%20%20%20%20%20%0A%20%20%20%20%20%20%20%20%20%20%20%20var%20html_96bb861b556148bf8db35969c5bca04c%20%3D%20%24%28%60%3Cdiv%20id%3D%22html_96bb861b556148bf8db35969c5bca04c%22%20style%3D%22width%3A%20100.0%25%3B%20height%3A%20100.0%25%3B%22%3ECountry%20%3A%20Austria%3Cbr%3E%20%20%20%20%20%20%20%20%20%20%20%20%20%20%20%20%20%20%20%20%20Happiness%20Score%20%3A%207.2%3Cbr%3E%20%20%20%20%20%20%20%20%20%20%20%20%20%20%20%20%20%20%20%20%20Year%20%3A%202015%3Cbr%3E%3C/div%3E%60%29%5B0%5D%3B%0A%20%20%20%20%20%20%20%20%20%20%20%20popup_0c9c5a047a40426ba23f82e10fd15e6c.setContent%28html_96bb861b556148bf8db35969c5bca04c%29%3B%0A%20%20%20%20%20%20%20%20%0A%0A%20%20%20%20%20%20%20%20circle_marker_72f57079cb3144158cb69fd8b46f48b6.bindPopup%28popup_0c9c5a047a40426ba23f82e10fd15e6c%29%0A%20%20%20%20%20%20%20%20%3B%0A%0A%20%20%20%20%20%20%20%20%0A%20%20%20%20%0A%20%20%20%20%0A%20%20%20%20%20%20%20%20%20%20%20%20var%20circle_marker_32041d6d5616436d9fd6e2b0b4035d3e%20%3D%20L.circleMarker%28%0A%20%20%20%20%20%20%20%20%20%20%20%20%20%20%20%20%5B47.2%2C%2013.2%5D%2C%0A%20%20%20%20%20%20%20%20%20%20%20%20%20%20%20%20%7B%22bubblingMouseEvents%22%3A%20true%2C%20%22color%22%3A%20%22%233388ff%22%2C%20%22dashArray%22%3A%20null%2C%20%22dashOffset%22%3A%20null%2C%20%22fill%22%3A%20true%2C%20%22fillColor%22%3A%20%22%233388ff%22%2C%20%22fillOpacity%22%3A%200.2%2C%20%22fillRule%22%3A%20%22evenodd%22%2C%20%22lineCap%22%3A%20%22round%22%2C%20%22lineJoin%22%3A%20%22round%22%2C%20%22opacity%22%3A%201.0%2C%20%22radius%22%3A%207%2C%20%22stroke%22%3A%20true%2C%20%22weight%22%3A%203%7D%0A%20%20%20%20%20%20%20%20%20%20%20%20%29.addTo%28marker_cluster_dbaf00fdfc5544c7b5c205caa5fb4ea7%29%3B%0A%20%20%20%20%20%20%20%20%0A%20%20%20%20%0A%20%20%20%20%20%20%20%20var%20popup_f56ac61c92204d478e535f1b20e36108%20%3D%20L.popup%28%7B%22maxWidth%22%3A%20%22100%25%22%7D%29%3B%0A%0A%20%20%20%20%20%20%20%20%0A%20%20%20%20%20%20%20%20%20%20%20%20var%20html_73e5ac98582f41cf9ae747832991bff9%20%3D%20%24%28%60%3Cdiv%20id%3D%22html_73e5ac98582f41cf9ae747832991bff9%22%20style%3D%22width%3A%20100.0%25%3B%20height%3A%20100.0%25%3B%22%3ECountry%20%3A%20Austria%3Cbr%3E%20%20%20%20%20%20%20%20%20%20%20%20%20%20%20%20%20%20%20%20%20Happiness%20Score%20%3A%207.139%3Cbr%3E%20%20%20%20%20%20%20%20%20%20%20%20%20%20%20%20%20%20%20%20%20Year%20%3A%202018%3Cbr%3E%3C/div%3E%60%29%5B0%5D%3B%0A%20%20%20%20%20%20%20%20%20%20%20%20popup_f56ac61c92204d478e535f1b20e36108.setContent%28html_73e5ac98582f41cf9ae747832991bff9%29%3B%0A%20%20%20%20%20%20%20%20%0A%0A%20%20%20%20%20%20%20%20circle_marker_32041d6d5616436d9fd6e2b0b4035d3e.bindPopup%28popup_f56ac61c92204d478e535f1b20e36108%29%0A%20%20%20%20%20%20%20%20%3B%0A%0A%20%20%20%20%20%20%20%20%0A%20%20%20%20%0A%20%20%20%20%0A%20%20%20%20%20%20%20%20%20%20%20%20var%20circle_marker_48ce36fa0b3b4bcd827c4b611f40441a%20%3D%20L.circleMarker%28%0A%20%20%20%20%20%20%20%20%20%20%20%20%20%20%20%20%5B47.2%2C%2013.2%5D%2C%0A%20%20%20%20%20%20%20%20%20%20%20%20%20%20%20%20%7B%22bubblingMouseEvents%22%3A%20true%2C%20%22color%22%3A%20%22%233388ff%22%2C%20%22dashArray%22%3A%20null%2C%20%22dashOffset%22%3A%20null%2C%20%22fill%22%3A%20true%2C%20%22fillColor%22%3A%20%22%233388ff%22%2C%20%22fillOpacity%22%3A%200.2%2C%20%22fillRule%22%3A%20%22evenodd%22%2C%20%22lineCap%22%3A%20%22round%22%2C%20%22lineJoin%22%3A%20%22round%22%2C%20%22opacity%22%3A%201.0%2C%20%22radius%22%3A%207%2C%20%22stroke%22%3A%20true%2C%20%22weight%22%3A%203%7D%0A%20%20%20%20%20%20%20%20%20%20%20%20%29.addTo%28marker_cluster_dbaf00fdfc5544c7b5c205caa5fb4ea7%29%3B%0A%20%20%20%20%20%20%20%20%0A%20%20%20%20%0A%20%20%20%20%20%20%20%20var%20popup_c935b43953874fcbb061723d18900185%20%3D%20L.popup%28%7B%22maxWidth%22%3A%20%22100%25%22%7D%29%3B%0A%0A%20%20%20%20%20%20%20%20%0A%20%20%20%20%20%20%20%20%20%20%20%20var%20html_ffb4e7143ff24320b96b9df862d4d7c4%20%3D%20%24%28%60%3Cdiv%20id%3D%22html_ffb4e7143ff24320b96b9df862d4d7c4%22%20style%3D%22width%3A%20100.0%25%3B%20height%3A%20100.0%25%3B%22%3ECountry%20%3A%20Austria%3Cbr%3E%20%20%20%20%20%20%20%20%20%20%20%20%20%20%20%20%20%20%20%20%20Happiness%20Score%20%3A%207.119%3Cbr%3E%20%20%20%20%20%20%20%20%20%20%20%20%20%20%20%20%20%20%20%20%20Year%20%3A%202016%3Cbr%3E%3C/div%3E%60%29%5B0%5D%3B%0A%20%20%20%20%20%20%20%20%20%20%20%20popup_c935b43953874fcbb061723d18900185.setContent%28html_ffb4e7143ff24320b96b9df862d4d7c4%29%3B%0A%20%20%20%20%20%20%20%20%0A%0A%20%20%20%20%20%20%20%20circle_marker_48ce36fa0b3b4bcd827c4b611f40441a.bindPopup%28popup_c935b43953874fcbb061723d18900185%29%0A%20%20%20%20%20%20%20%20%3B%0A%0A%20%20%20%20%20%20%20%20%0A%20%20%20%20%0A%20%20%20%20%0A%20%20%20%20%20%20%20%20%20%20%20%20var%20circle_marker_2f2432209ae2492191b0447049cd47af%20%3D%20L.circleMarker%28%0A%20%20%20%20%20%20%20%20%20%20%20%20%20%20%20%20%5B47.2%2C%2013.2%5D%2C%0A%20%20%20%20%20%20%20%20%20%20%20%20%20%20%20%20%7B%22bubblingMouseEvents%22%3A%20true%2C%20%22color%22%3A%20%22%233388ff%22%2C%20%22dashArray%22%3A%20null%2C%20%22dashOffset%22%3A%20null%2C%20%22fill%22%3A%20true%2C%20%22fillColor%22%3A%20%22%233388ff%22%2C%20%22fillOpacity%22%3A%200.2%2C%20%22fillRule%22%3A%20%22evenodd%22%2C%20%22lineCap%22%3A%20%22round%22%2C%20%22lineJoin%22%3A%20%22round%22%2C%20%22opacity%22%3A%201.0%2C%20%22radius%22%3A%207%2C%20%22stroke%22%3A%20true%2C%20%22weight%22%3A%203%7D%0A%20%20%20%20%20%20%20%20%20%20%20%20%29.addTo%28marker_cluster_dbaf00fdfc5544c7b5c205caa5fb4ea7%29%3B%0A%20%20%20%20%20%20%20%20%0A%20%20%20%20%0A%20%20%20%20%20%20%20%20var%20popup_9f09fb11414b4833a749b82e84b6d84a%20%3D%20L.popup%28%7B%22maxWidth%22%3A%20%22100%25%22%7D%29%3B%0A%0A%20%20%20%20%20%20%20%20%0A%20%20%20%20%20%20%20%20%20%20%20%20var%20html_926bbfd6c0744d9ab3242152a090621c%20%3D%20%24%28%60%3Cdiv%20id%3D%22html_926bbfd6c0744d9ab3242152a090621c%22%20style%3D%22width%3A%20100.0%25%3B%20height%3A%20100.0%25%3B%22%3ECountry%20%3A%20Austria%3Cbr%3E%20%20%20%20%20%20%20%20%20%20%20%20%20%20%20%20%20%20%20%20%20Happiness%20Score%20%3A%207.00600004196167%3Cbr%3E%20%20%20%20%20%20%20%20%20%20%20%20%20%20%20%20%20%20%20%20%20Year%20%3A%202017%3Cbr%3E%3C/div%3E%60%29%5B0%5D%3B%0A%20%20%20%20%20%20%20%20%20%20%20%20popup_9f09fb11414b4833a749b82e84b6d84a.setContent%28html_926bbfd6c0744d9ab3242152a090621c%29%3B%0A%20%20%20%20%20%20%20%20%0A%0A%20%20%20%20%20%20%20%20circle_marker_2f2432209ae2492191b0447049cd47af.bindPopup%28popup_9f09fb11414b4833a749b82e84b6d84a%29%0A%20%20%20%20%20%20%20%20%3B%0A%0A%20%20%20%20%20%20%20%20%0A%20%20%20%20%0A%20%20%20%20%0A%20%20%20%20%20%20%20%20%20%20%20%20var%20circle_marker_5bb240e75eb24beca95085fbc2427bbe%20%3D%20L.circleMarker%28%0A%20%20%20%20%20%20%20%20%20%20%20%20%20%20%20%20%5B54.7023545%2C%20-3.2765753%5D%2C%0A%20%20%20%20%20%20%20%20%20%20%20%20%20%20%20%20%7B%22bubblingMouseEvents%22%3A%20true%2C%20%22color%22%3A%20%22%233388ff%22%2C%20%22dashArray%22%3A%20null%2C%20%22dashOffset%22%3A%20null%2C%20%22fill%22%3A%20true%2C%20%22fillColor%22%3A%20%22%233388ff%22%2C%20%22fillOpacity%22%3A%200.2%2C%20%22fillRule%22%3A%20%22evenodd%22%2C%20%22lineCap%22%3A%20%22round%22%2C%20%22lineJoin%22%3A%20%22round%22%2C%20%22opacity%22%3A%201.0%2C%20%22radius%22%3A%207%2C%20%22stroke%22%3A%20true%2C%20%22weight%22%3A%203%7D%0A%20%20%20%20%20%20%20%20%20%20%20%20%29.addTo%28marker_cluster_dbaf00fdfc5544c7b5c205caa5fb4ea7%29%3B%0A%20%20%20%20%20%20%20%20%0A%20%20%20%20%0A%20%20%20%20%20%20%20%20var%20popup_b5749beb4cb843d9b1f7f6fa07377980%20%3D%20L.popup%28%7B%22maxWidth%22%3A%20%22100%25%22%7D%29%3B%0A%0A%20%20%20%20%20%20%20%20%0A%20%20%20%20%20%20%20%20%20%20%20%20var%20html_bb978d1a16364c2fa41e529854a7940d%20%3D%20%24%28%60%3Cdiv%20id%3D%22html_bb978d1a16364c2fa41e529854a7940d%22%20style%3D%22width%3A%20100.0%25%3B%20height%3A%20100.0%25%3B%22%3ECountry%20%3A%20United%20Kingdom%3Cbr%3E%20%20%20%20%20%20%20%20%20%20%20%20%20%20%20%20%20%20%20%20%20Happiness%20Score%20%3A%207.19%3Cbr%3E%20%20%20%20%20%20%20%20%20%20%20%20%20%20%20%20%20%20%20%20%20Year%20%3A%202018%3Cbr%3E%3C/div%3E%60%29%5B0%5D%3B%0A%20%20%20%20%20%20%20%20%20%20%20%20popup_b5749beb4cb843d9b1f7f6fa07377980.setContent%28html_bb978d1a16364c2fa41e529854a7940d%29%3B%0A%20%20%20%20%20%20%20%20%0A%0A%20%20%20%20%20%20%20%20circle_marker_5bb240e75eb24beca95085fbc2427bbe.bindPopup%28popup_b5749beb4cb843d9b1f7f6fa07377980%29%0A%20%20%20%20%20%20%20%20%3B%0A%0A%20%20%20%20%20%20%20%20%0A%20%20%20%20%0A%20%20%20%20%0A%20%20%20%20%20%20%20%20%20%20%20%20var%20circle_marker_83992f3cbffa498c8bcbb8fda1b74241%20%3D%20L.circleMarker%28%0A%20%20%20%20%20%20%20%20%20%20%20%20%20%20%20%20%5B54.7023545%2C%20-3.2765753%5D%2C%0A%20%20%20%20%20%20%20%20%20%20%20%20%20%20%20%20%7B%22bubblingMouseEvents%22%3A%20true%2C%20%22color%22%3A%20%22%233388ff%22%2C%20%22dashArray%22%3A%20null%2C%20%22dashOffset%22%3A%20null%2C%20%22fill%22%3A%20true%2C%20%22fillColor%22%3A%20%22%233388ff%22%2C%20%22fillOpacity%22%3A%200.2%2C%20%22fillRule%22%3A%20%22evenodd%22%2C%20%22lineCap%22%3A%20%22round%22%2C%20%22lineJoin%22%3A%20%22round%22%2C%20%22opacity%22%3A%201.0%2C%20%22radius%22%3A%207%2C%20%22stroke%22%3A%20true%2C%20%22weight%22%3A%203%7D%0A%20%20%20%20%20%20%20%20%20%20%20%20%29.addTo%28marker_cluster_dbaf00fdfc5544c7b5c205caa5fb4ea7%29%3B%0A%20%20%20%20%20%20%20%20%0A%20%20%20%20%0A%20%20%20%20%20%20%20%20var%20popup_0d5e1e5323574550b308816b5332d0a7%20%3D%20L.popup%28%7B%22maxWidth%22%3A%20%22100%25%22%7D%29%3B%0A%0A%20%20%20%20%20%20%20%20%0A%20%20%20%20%20%20%20%20%20%20%20%20var%20html_a663e2e0205a484ba6489c975e7e331e%20%3D%20%24%28%60%3Cdiv%20id%3D%22html_a663e2e0205a484ba6489c975e7e331e%22%20style%3D%22width%3A%20100.0%25%3B%20height%3A%20100.0%25%3B%22%3ECountry%20%3A%20United%20Kingdom%3Cbr%3E%20%20%20%20%20%20%20%20%20%20%20%20%20%20%20%20%20%20%20%20%20Happiness%20Score%20%3A%207.054%3Cbr%3E%20%20%20%20%20%20%20%20%20%20%20%20%20%20%20%20%20%20%20%20%20Year%20%3A%202019%3Cbr%3E%3C/div%3E%60%29%5B0%5D%3B%0A%20%20%20%20%20%20%20%20%20%20%20%20popup_0d5e1e5323574550b308816b5332d0a7.setContent%28html_a663e2e0205a484ba6489c975e7e331e%29%3B%0A%20%20%20%20%20%20%20%20%0A%0A%20%20%20%20%20%20%20%20circle_marker_83992f3cbffa498c8bcbb8fda1b74241.bindPopup%28popup_0d5e1e5323574550b308816b5332d0a7%29%0A%20%20%20%20%20%20%20%20%3B%0A%0A%20%20%20%20%20%20%20%20%0A%20%20%20%20%0A%20%20%20%20%0A%20%20%20%20%20%20%20%20%20%20%20%20var%20circle_marker_e2bdb448068e4b3b9e1c807f8a36d704%20%3D%20L.circleMarker%28%0A%20%20%20%20%20%20%20%20%20%20%20%20%20%20%20%20%5B54.7023545%2C%20-3.2765753%5D%2C%0A%20%20%20%20%20%20%20%20%20%20%20%20%20%20%20%20%7B%22bubblingMouseEvents%22%3A%20true%2C%20%22color%22%3A%20%22%233388ff%22%2C%20%22dashArray%22%3A%20null%2C%20%22dashOffset%22%3A%20null%2C%20%22fill%22%3A%20true%2C%20%22fillColor%22%3A%20%22%233388ff%22%2C%20%22fillOpacity%22%3A%200.2%2C%20%22fillRule%22%3A%20%22evenodd%22%2C%20%22lineCap%22%3A%20%22round%22%2C%20%22lineJoin%22%3A%20%22round%22%2C%20%22opacity%22%3A%201.0%2C%20%22radius%22%3A%207%2C%20%22stroke%22%3A%20true%2C%20%22weight%22%3A%203%7D%0A%20%20%20%20%20%20%20%20%20%20%20%20%29.addTo%28marker_cluster_dbaf00fdfc5544c7b5c205caa5fb4ea7%29%3B%0A%20%20%20%20%20%20%20%20%0A%20%20%20%20%0A%20%20%20%20%20%20%20%20var%20popup_154088283fe34280af9a08b1980c5172%20%3D%20L.popup%28%7B%22maxWidth%22%3A%20%22100%25%22%7D%29%3B%0A%0A%20%20%20%20%20%20%20%20%0A%20%20%20%20%20%20%20%20%20%20%20%20var%20html_28ecc24486bb40e9ad029adb0a777b6e%20%3D%20%24%28%60%3Cdiv%20id%3D%22html_28ecc24486bb40e9ad029adb0a777b6e%22%20style%3D%22width%3A%20100.0%25%3B%20height%3A%20100.0%25%3B%22%3ECountry%20%3A%20United%20Kingdom%3Cbr%3E%20%20%20%20%20%20%20%20%20%20%20%20%20%20%20%20%20%20%20%20%20Happiness%20Score%20%3A%206.867%3Cbr%3E%20%20%20%20%20%20%20%20%20%20%20%20%20%20%20%20%20%20%20%20%20Year%20%3A%202015%3Cbr%3E%3C/div%3E%60%29%5B0%5D%3B%0A%20%20%20%20%20%20%20%20%20%20%20%20popup_154088283fe34280af9a08b1980c5172.setContent%28html_28ecc24486bb40e9ad029adb0a777b6e%29%3B%0A%20%20%20%20%20%20%20%20%0A%0A%20%20%20%20%20%20%20%20circle_marker_e2bdb448068e4b3b9e1c807f8a36d704.bindPopup%28popup_154088283fe34280af9a08b1980c5172%29%0A%20%20%20%20%20%20%20%20%3B%0A%0A%20%20%20%20%20%20%20%20%0A%20%20%20%20%0A%20%20%20%20%0A%20%20%20%20%20%20%20%20%20%20%20%20var%20circle_marker_3bc644f8f70d43a8bc2b3fa7d19c0837%20%3D%20L.circleMarker%28%0A%20%20%20%20%20%20%20%20%20%20%20%20%20%20%20%20%5B54.7023545%2C%20-3.2765753%5D%2C%0A%20%20%20%20%20%20%20%20%20%20%20%20%20%20%20%20%7B%22bubblingMouseEvents%22%3A%20true%2C%20%22color%22%3A%20%22%233388ff%22%2C%20%22dashArray%22%3A%20null%2C%20%22dashOffset%22%3A%20null%2C%20%22fill%22%3A%20true%2C%20%22fillColor%22%3A%20%22%233388ff%22%2C%20%22fillOpacity%22%3A%200.2%2C%20%22fillRule%22%3A%20%22evenodd%22%2C%20%22lineCap%22%3A%20%22round%22%2C%20%22lineJoin%22%3A%20%22round%22%2C%20%22opacity%22%3A%201.0%2C%20%22radius%22%3A%207%2C%20%22stroke%22%3A%20true%2C%20%22weight%22%3A%203%7D%0A%20%20%20%20%20%20%20%20%20%20%20%20%29.addTo%28marker_cluster_dbaf00fdfc5544c7b5c205caa5fb4ea7%29%3B%0A%20%20%20%20%20%20%20%20%0A%20%20%20%20%0A%20%20%20%20%20%20%20%20var%20popup_70aa650366484ddd8d2b9fa48b453f25%20%3D%20L.popup%28%7B%22maxWidth%22%3A%20%22100%25%22%7D%29%3B%0A%0A%20%20%20%20%20%20%20%20%0A%20%20%20%20%20%20%20%20%20%20%20%20var%20html_2d3a78fc99c24db7866dd179097ee7df%20%3D%20%24%28%60%3Cdiv%20id%3D%22html_2d3a78fc99c24db7866dd179097ee7df%22%20style%3D%22width%3A%20100.0%25%3B%20height%3A%20100.0%25%3B%22%3ECountry%20%3A%20United%20Kingdom%3Cbr%3E%20%20%20%20%20%20%20%20%20%20%20%20%20%20%20%20%20%20%20%20%20Happiness%20Score%20%3A%206.725%3Cbr%3E%20%20%20%20%20%20%20%20%20%20%20%20%20%20%20%20%20%20%20%20%20Year%20%3A%202016%3Cbr%3E%3C/div%3E%60%29%5B0%5D%3B%0A%20%20%20%20%20%20%20%20%20%20%20%20popup_70aa650366484ddd8d2b9fa48b453f25.setContent%28html_2d3a78fc99c24db7866dd179097ee7df%29%3B%0A%20%20%20%20%20%20%20%20%0A%0A%20%20%20%20%20%20%20%20circle_marker_3bc644f8f70d43a8bc2b3fa7d19c0837.bindPopup%28popup_70aa650366484ddd8d2b9fa48b453f25%29%0A%20%20%20%20%20%20%20%20%3B%0A%0A%20%20%20%20%20%20%20%20%0A%20%20%20%20%0A%20%20%20%20%0A%20%20%20%20%20%20%20%20%20%20%20%20var%20circle_marker_26577491e54b40738bb04f2307a8e135%20%3D%20L.circleMarker%28%0A%20%20%20%20%20%20%20%20%20%20%20%20%20%20%20%20%5B54.7023545%2C%20-3.2765753%5D%2C%0A%20%20%20%20%20%20%20%20%20%20%20%20%20%20%20%20%7B%22bubblingMouseEvents%22%3A%20true%2C%20%22color%22%3A%20%22%233388ff%22%2C%20%22dashArray%22%3A%20null%2C%20%22dashOffset%22%3A%20null%2C%20%22fill%22%3A%20true%2C%20%22fillColor%22%3A%20%22%233388ff%22%2C%20%22fillOpacity%22%3A%200.2%2C%20%22fillRule%22%3A%20%22evenodd%22%2C%20%22lineCap%22%3A%20%22round%22%2C%20%22lineJoin%22%3A%20%22round%22%2C%20%22opacity%22%3A%201.0%2C%20%22radius%22%3A%207%2C%20%22stroke%22%3A%20true%2C%20%22weight%22%3A%203%7D%0A%20%20%20%20%20%20%20%20%20%20%20%20%29.addTo%28marker_cluster_dbaf00fdfc5544c7b5c205caa5fb4ea7%29%3B%0A%20%20%20%20%20%20%20%20%0A%20%20%20%20%0A%20%20%20%20%20%20%20%20var%20popup_843e571833f04b14896d54f5912eb8d2%20%3D%20L.popup%28%7B%22maxWidth%22%3A%20%22100%25%22%7D%29%3B%0A%0A%20%20%20%20%20%20%20%20%0A%20%20%20%20%20%20%20%20%20%20%20%20var%20html_31a85cbcb57249828973d3847d1e3cfc%20%3D%20%24%28%60%3Cdiv%20id%3D%22html_31a85cbcb57249828973d3847d1e3cfc%22%20style%3D%22width%3A%20100.0%25%3B%20height%3A%20100.0%25%3B%22%3ECountry%20%3A%20United%20Kingdom%3Cbr%3E%20%20%20%20%20%20%20%20%20%20%20%20%20%20%20%20%20%20%20%20%20Happiness%20Score%20%3A%206.71400022506714%3Cbr%3E%20%20%20%20%20%20%20%20%20%20%20%20%20%20%20%20%20%20%20%20%20Year%20%3A%202017%3Cbr%3E%3C/div%3E%60%29%5B0%5D%3B%0A%20%20%20%20%20%20%20%20%20%20%20%20popup_843e571833f04b14896d54f5912eb8d2.setContent%28html_31a85cbcb57249828973d3847d1e3cfc%29%3B%0A%20%20%20%20%20%20%20%20%0A%0A%20%20%20%20%20%20%20%20circle_marker_26577491e54b40738bb04f2307a8e135.bindPopup%28popup_843e571833f04b14896d54f5912eb8d2%29%0A%20%20%20%20%20%20%20%20%3B%0A%0A%20%20%20%20%20%20%20%20%0A%20%20%20%20%0A%20%20%20%20%0A%20%20%20%20%20%20%20%20%20%20%20%20var%20circle_marker_a51c596c675649e29f29b7c0cccce98c%20%3D%20L.circleMarker%28%0A%20%20%20%20%20%20%20%20%20%20%20%20%20%20%20%20%5B49.8158683%2C%206.1296751%5D%2C%0A%20%20%20%20%20%20%20%20%20%20%20%20%20%20%20%20%7B%22bubblingMouseEvents%22%3A%20true%2C%20%22color%22%3A%20%22%233388ff%22%2C%20%22dashArray%22%3A%20null%2C%20%22dashOffset%22%3A%20null%2C%20%22fill%22%3A%20true%2C%20%22fillColor%22%3A%20%22%233388ff%22%2C%20%22fillOpacity%22%3A%200.2%2C%20%22fillRule%22%3A%20%22evenodd%22%2C%20%22lineCap%22%3A%20%22round%22%2C%20%22lineJoin%22%3A%20%22round%22%2C%20%22opacity%22%3A%201.0%2C%20%22radius%22%3A%207%2C%20%22stroke%22%3A%20true%2C%20%22weight%22%3A%203%7D%0A%20%20%20%20%20%20%20%20%20%20%20%20%29.addTo%28marker_cluster_dbaf00fdfc5544c7b5c205caa5fb4ea7%29%3B%0A%20%20%20%20%20%20%20%20%0A%20%20%20%20%0A%20%20%20%20%20%20%20%20var%20popup_c2c5740af31340fdacb189c3ed08a342%20%3D%20L.popup%28%7B%22maxWidth%22%3A%20%22100%25%22%7D%29%3B%0A%0A%20%20%20%20%20%20%20%20%0A%20%20%20%20%20%20%20%20%20%20%20%20var%20html_5b6a58ed1a2a4b6abf5837a2ac342fa0%20%3D%20%24%28%60%3Cdiv%20id%3D%22html_5b6a58ed1a2a4b6abf5837a2ac342fa0%22%20style%3D%22width%3A%20100.0%25%3B%20height%3A%20100.0%25%3B%22%3ECountry%20%3A%20Luxembourg%3Cbr%3E%20%20%20%20%20%20%20%20%20%20%20%20%20%20%20%20%20%20%20%20%20Happiness%20Score%20%3A%207.09%3Cbr%3E%20%20%20%20%20%20%20%20%20%20%20%20%20%20%20%20%20%20%20%20%20Year%20%3A%202019%3Cbr%3E%3C/div%3E%60%29%5B0%5D%3B%0A%20%20%20%20%20%20%20%20%20%20%20%20popup_c2c5740af31340fdacb189c3ed08a342.setContent%28html_5b6a58ed1a2a4b6abf5837a2ac342fa0%29%3B%0A%20%20%20%20%20%20%20%20%0A%0A%20%20%20%20%20%20%20%20circle_marker_a51c596c675649e29f29b7c0cccce98c.bindPopup%28popup_c2c5740af31340fdacb189c3ed08a342%29%0A%20%20%20%20%20%20%20%20%3B%0A%0A%20%20%20%20%20%20%20%20%0A%20%20%20%20%0A%20%20%20%20%0A%20%20%20%20%20%20%20%20%20%20%20%20var%20circle_marker_57bd0f16823049b39d967cafa0d1057f%20%3D%20L.circleMarker%28%0A%20%20%20%20%20%20%20%20%20%20%20%20%20%20%20%20%5B49.8158683%2C%206.1296751%5D%2C%0A%20%20%20%20%20%20%20%20%20%20%20%20%20%20%20%20%7B%22bubblingMouseEvents%22%3A%20true%2C%20%22color%22%3A%20%22%233388ff%22%2C%20%22dashArray%22%3A%20null%2C%20%22dashOffset%22%3A%20null%2C%20%22fill%22%3A%20true%2C%20%22fillColor%22%3A%20%22%233388ff%22%2C%20%22fillOpacity%22%3A%200.2%2C%20%22fillRule%22%3A%20%22evenodd%22%2C%20%22lineCap%22%3A%20%22round%22%2C%20%22lineJoin%22%3A%20%22round%22%2C%20%22opacity%22%3A%201.0%2C%20%22radius%22%3A%207%2C%20%22stroke%22%3A%20true%2C%20%22weight%22%3A%203%7D%0A%20%20%20%20%20%20%20%20%20%20%20%20%29.addTo%28marker_cluster_dbaf00fdfc5544c7b5c205caa5fb4ea7%29%3B%0A%20%20%20%20%20%20%20%20%0A%20%20%20%20%0A%20%20%20%20%20%20%20%20var%20popup_1ad1786d1a004e5083a9f25b9855e496%20%3D%20L.popup%28%7B%22maxWidth%22%3A%20%22100%25%22%7D%29%3B%0A%0A%20%20%20%20%20%20%20%20%0A%20%20%20%20%20%20%20%20%20%20%20%20var%20html_f628f7714b904617aa68227a1016636c%20%3D%20%24%28%60%3Cdiv%20id%3D%22html_f628f7714b904617aa68227a1016636c%22%20style%3D%22width%3A%20100.0%25%3B%20height%3A%20100.0%25%3B%22%3ECountry%20%3A%20Luxembourg%3Cbr%3E%20%20%20%20%20%20%20%20%20%20%20%20%20%20%20%20%20%20%20%20%20Happiness%20Score%20%3A%206.946%3Cbr%3E%20%20%20%20%20%20%20%20%20%20%20%20%20%20%20%20%20%20%20%20%20Year%20%3A%202015%3Cbr%3E%3C/div%3E%60%29%5B0%5D%3B%0A%20%20%20%20%20%20%20%20%20%20%20%20popup_1ad1786d1a004e5083a9f25b9855e496.setContent%28html_f628f7714b904617aa68227a1016636c%29%3B%0A%20%20%20%20%20%20%20%20%0A%0A%20%20%20%20%20%20%20%20circle_marker_57bd0f16823049b39d967cafa0d1057f.bindPopup%28popup_1ad1786d1a004e5083a9f25b9855e496%29%0A%20%20%20%20%20%20%20%20%3B%0A%0A%20%20%20%20%20%20%20%20%0A%20%20%20%20%0A%20%20%20%20%0A%20%20%20%20%20%20%20%20%20%20%20%20var%20circle_marker_98fe1846c9a04aca91cfaf91ac5e327d%20%3D%20L.circleMarker%28%0A%20%20%20%20%20%20%20%20%20%20%20%20%20%20%20%20%5B49.8158683%2C%206.1296751%5D%2C%0A%20%20%20%20%20%20%20%20%20%20%20%20%20%20%20%20%7B%22bubblingMouseEvents%22%3A%20true%2C%20%22color%22%3A%20%22%233388ff%22%2C%20%22dashArray%22%3A%20null%2C%20%22dashOffset%22%3A%20null%2C%20%22fill%22%3A%20true%2C%20%22fillColor%22%3A%20%22%233388ff%22%2C%20%22fillOpacity%22%3A%200.2%2C%20%22fillRule%22%3A%20%22evenodd%22%2C%20%22lineCap%22%3A%20%22round%22%2C%20%22lineJoin%22%3A%20%22round%22%2C%20%22opacity%22%3A%201.0%2C%20%22radius%22%3A%207%2C%20%22stroke%22%3A%20true%2C%20%22weight%22%3A%203%7D%0A%20%20%20%20%20%20%20%20%20%20%20%20%29.addTo%28marker_cluster_dbaf00fdfc5544c7b5c205caa5fb4ea7%29%3B%0A%20%20%20%20%20%20%20%20%0A%20%20%20%20%0A%20%20%20%20%20%20%20%20var%20popup_c227ffa6b8934043af4e9357046a830a%20%3D%20L.popup%28%7B%22maxWidth%22%3A%20%22100%25%22%7D%29%3B%0A%0A%20%20%20%20%20%20%20%20%0A%20%20%20%20%20%20%20%20%20%20%20%20var%20html_6fab73d83aac41e1ba1e320e72be35ee%20%3D%20%24%28%60%3Cdiv%20id%3D%22html_6fab73d83aac41e1ba1e320e72be35ee%22%20style%3D%22width%3A%20100.0%25%3B%20height%3A%20100.0%25%3B%22%3ECountry%20%3A%20Luxembourg%3Cbr%3E%20%20%20%20%20%20%20%20%20%20%20%20%20%20%20%20%20%20%20%20%20Happiness%20Score%20%3A%206.91%3Cbr%3E%20%20%20%20%20%20%20%20%20%20%20%20%20%20%20%20%20%20%20%20%20Year%20%3A%202018%3Cbr%3E%3C/div%3E%60%29%5B0%5D%3B%0A%20%20%20%20%20%20%20%20%20%20%20%20popup_c227ffa6b8934043af4e9357046a830a.setContent%28html_6fab73d83aac41e1ba1e320e72be35ee%29%3B%0A%20%20%20%20%20%20%20%20%0A%0A%20%20%20%20%20%20%20%20circle_marker_98fe1846c9a04aca91cfaf91ac5e327d.bindPopup%28popup_c227ffa6b8934043af4e9357046a830a%29%0A%20%20%20%20%20%20%20%20%3B%0A%0A%20%20%20%20%20%20%20%20%0A%20%20%20%20%0A%20%20%20%20%0A%20%20%20%20%20%20%20%20%20%20%20%20var%20circle_marker_e216bfbbc6254f359704ab957a89e98f%20%3D%20L.circleMarker%28%0A%20%20%20%20%20%20%20%20%20%20%20%20%20%20%20%20%5B49.8158683%2C%206.1296751%5D%2C%0A%20%20%20%20%20%20%20%20%20%20%20%20%20%20%20%20%7B%22bubblingMouseEvents%22%3A%20true%2C%20%22color%22%3A%20%22%233388ff%22%2C%20%22dashArray%22%3A%20null%2C%20%22dashOffset%22%3A%20null%2C%20%22fill%22%3A%20true%2C%20%22fillColor%22%3A%20%22%233388ff%22%2C%20%22fillOpacity%22%3A%200.2%2C%20%22fillRule%22%3A%20%22evenodd%22%2C%20%22lineCap%22%3A%20%22round%22%2C%20%22lineJoin%22%3A%20%22round%22%2C%20%22opacity%22%3A%201.0%2C%20%22radius%22%3A%207%2C%20%22stroke%22%3A%20true%2C%20%22weight%22%3A%203%7D%0A%20%20%20%20%20%20%20%20%20%20%20%20%29.addTo%28marker_cluster_dbaf00fdfc5544c7b5c205caa5fb4ea7%29%3B%0A%20%20%20%20%20%20%20%20%0A%20%20%20%20%0A%20%20%20%20%20%20%20%20var%20popup_6832b566626b4579b05d162cce5397c9%20%3D%20L.popup%28%7B%22maxWidth%22%3A%20%22100%25%22%7D%29%3B%0A%0A%20%20%20%20%20%20%20%20%0A%20%20%20%20%20%20%20%20%20%20%20%20var%20html_1324533fe9814ca7861216a734df1377%20%3D%20%24%28%60%3Cdiv%20id%3D%22html_1324533fe9814ca7861216a734df1377%22%20style%3D%22width%3A%20100.0%25%3B%20height%3A%20100.0%25%3B%22%3ECountry%20%3A%20Luxembourg%3Cbr%3E%20%20%20%20%20%20%20%20%20%20%20%20%20%20%20%20%20%20%20%20%20Happiness%20Score%20%3A%206.871%3Cbr%3E%20%20%20%20%20%20%20%20%20%20%20%20%20%20%20%20%20%20%20%20%20Year%20%3A%202016%3Cbr%3E%3C/div%3E%60%29%5B0%5D%3B%0A%20%20%20%20%20%20%20%20%20%20%20%20popup_6832b566626b4579b05d162cce5397c9.setContent%28html_1324533fe9814ca7861216a734df1377%29%3B%0A%20%20%20%20%20%20%20%20%0A%0A%20%20%20%20%20%20%20%20circle_marker_e216bfbbc6254f359704ab957a89e98f.bindPopup%28popup_6832b566626b4579b05d162cce5397c9%29%0A%20%20%20%20%20%20%20%20%3B%0A%0A%20%20%20%20%20%20%20%20%0A%20%20%20%20%0A%20%20%20%20%0A%20%20%20%20%20%20%20%20%20%20%20%20var%20circle_marker_d159ceb0444842a2a55f234371cca84b%20%3D%20L.circleMarker%28%0A%20%20%20%20%20%20%20%20%20%20%20%20%20%20%20%20%5B49.8158683%2C%206.1296751%5D%2C%0A%20%20%20%20%20%20%20%20%20%20%20%20%20%20%20%20%7B%22bubblingMouseEvents%22%3A%20true%2C%20%22color%22%3A%20%22%233388ff%22%2C%20%22dashArray%22%3A%20null%2C%20%22dashOffset%22%3A%20null%2C%20%22fill%22%3A%20true%2C%20%22fillColor%22%3A%20%22%233388ff%22%2C%20%22fillOpacity%22%3A%200.2%2C%20%22fillRule%22%3A%20%22evenodd%22%2C%20%22lineCap%22%3A%20%22round%22%2C%20%22lineJoin%22%3A%20%22round%22%2C%20%22opacity%22%3A%201.0%2C%20%22radius%22%3A%207%2C%20%22stroke%22%3A%20true%2C%20%22weight%22%3A%203%7D%0A%20%20%20%20%20%20%20%20%20%20%20%20%29.addTo%28marker_cluster_dbaf00fdfc5544c7b5c205caa5fb4ea7%29%3B%0A%20%20%20%20%20%20%20%20%0A%20%20%20%20%0A%20%20%20%20%20%20%20%20var%20popup_3ab60f13a36e4f089cfbd0c15eec35a0%20%3D%20L.popup%28%7B%22maxWidth%22%3A%20%22100%25%22%7D%29%3B%0A%0A%20%20%20%20%20%20%20%20%0A%20%20%20%20%20%20%20%20%20%20%20%20var%20html_2b1b046764954cc6a0e5048bad940d50%20%3D%20%24%28%60%3Cdiv%20id%3D%22html_2b1b046764954cc6a0e5048bad940d50%22%20style%3D%22width%3A%20100.0%25%3B%20height%3A%20100.0%25%3B%22%3ECountry%20%3A%20Luxembourg%3Cbr%3E%20%20%20%20%20%20%20%20%20%20%20%20%20%20%20%20%20%20%20%20%20Happiness%20Score%20%3A%206.86299991607666%3Cbr%3E%20%20%20%20%20%20%20%20%20%20%20%20%20%20%20%20%20%20%20%20%20Year%20%3A%202017%3Cbr%3E%3C/div%3E%60%29%5B0%5D%3B%0A%20%20%20%20%20%20%20%20%20%20%20%20popup_3ab60f13a36e4f089cfbd0c15eec35a0.setContent%28html_2b1b046764954cc6a0e5048bad940d50%29%3B%0A%20%20%20%20%20%20%20%20%0A%0A%20%20%20%20%20%20%20%20circle_marker_d159ceb0444842a2a55f234371cca84b.bindPopup%28popup_3ab60f13a36e4f089cfbd0c15eec35a0%29%0A%20%20%20%20%20%20%20%20%3B%0A%0A%20%20%20%20%20%20%20%20%0A%20%20%20%20%0A%20%20%20%20%0A%20%20%20%20%20%20%20%20%20%20%20%20var%20circle_marker_dc3f67aae7434bbabb475f409a3f44fe%20%3D%20L.circleMarker%28%0A%20%20%20%20%20%20%20%20%20%20%20%20%20%20%20%20%5B52.865196%2C%20-7.9794599%5D%2C%0A%20%20%20%20%20%20%20%20%20%20%20%20%20%20%20%20%7B%22bubblingMouseEvents%22%3A%20true%2C%20%22color%22%3A%20%22%233388ff%22%2C%20%22dashArray%22%3A%20null%2C%20%22dashOffset%22%3A%20null%2C%20%22fill%22%3A%20true%2C%20%22fillColor%22%3A%20%22%233388ff%22%2C%20%22fillOpacity%22%3A%200.2%2C%20%22fillRule%22%3A%20%22evenodd%22%2C%20%22lineCap%22%3A%20%22round%22%2C%20%22lineJoin%22%3A%20%22round%22%2C%20%22opacity%22%3A%201.0%2C%20%22radius%22%3A%207%2C%20%22stroke%22%3A%20true%2C%20%22weight%22%3A%203%7D%0A%20%20%20%20%20%20%20%20%20%20%20%20%29.addTo%28marker_cluster_dbaf00fdfc5544c7b5c205caa5fb4ea7%29%3B%0A%20%20%20%20%20%20%20%20%0A%20%20%20%20%0A%20%20%20%20%20%20%20%20var%20popup_221581fee5d14752829366b2091fc29d%20%3D%20L.popup%28%7B%22maxWidth%22%3A%20%22100%25%22%7D%29%3B%0A%0A%20%20%20%20%20%20%20%20%0A%20%20%20%20%20%20%20%20%20%20%20%20var%20html_5099e38cd2c448fa915cd60dff50ed8e%20%3D%20%24%28%60%3Cdiv%20id%3D%22html_5099e38cd2c448fa915cd60dff50ed8e%22%20style%3D%22width%3A%20100.0%25%3B%20height%3A%20100.0%25%3B%22%3ECountry%20%3A%20Ireland%3Cbr%3E%20%20%20%20%20%20%20%20%20%20%20%20%20%20%20%20%20%20%20%20%20Happiness%20Score%20%3A%207.021%3Cbr%3E%20%20%20%20%20%20%20%20%20%20%20%20%20%20%20%20%20%20%20%20%20Year%20%3A%202019%3Cbr%3E%3C/div%3E%60%29%5B0%5D%3B%0A%20%20%20%20%20%20%20%20%20%20%20%20popup_221581fee5d14752829366b2091fc29d.setContent%28html_5099e38cd2c448fa915cd60dff50ed8e%29%3B%0A%20%20%20%20%20%20%20%20%0A%0A%20%20%20%20%20%20%20%20circle_marker_dc3f67aae7434bbabb475f409a3f44fe.bindPopup%28popup_221581fee5d14752829366b2091fc29d%29%0A%20%20%20%20%20%20%20%20%3B%0A%0A%20%20%20%20%20%20%20%20%0A%20%20%20%20%0A%20%20%20%20%0A%20%20%20%20%20%20%20%20%20%20%20%20var%20circle_marker_86c3f53654e64ee8bec6250dc9801d83%20%3D%20L.circleMarker%28%0A%20%20%20%20%20%20%20%20%20%20%20%20%20%20%20%20%5B52.865196%2C%20-7.9794599%5D%2C%0A%20%20%20%20%20%20%20%20%20%20%20%20%20%20%20%20%7B%22bubblingMouseEvents%22%3A%20true%2C%20%22color%22%3A%20%22%233388ff%22%2C%20%22dashArray%22%3A%20null%2C%20%22dashOffset%22%3A%20null%2C%20%22fill%22%3A%20true%2C%20%22fillColor%22%3A%20%22%233388ff%22%2C%20%22fillOpacity%22%3A%200.2%2C%20%22fillRule%22%3A%20%22evenodd%22%2C%20%22lineCap%22%3A%20%22round%22%2C%20%22lineJoin%22%3A%20%22round%22%2C%20%22opacity%22%3A%201.0%2C%20%22radius%22%3A%207%2C%20%22stroke%22%3A%20true%2C%20%22weight%22%3A%203%7D%0A%20%20%20%20%20%20%20%20%20%20%20%20%29.addTo%28marker_cluster_dbaf00fdfc5544c7b5c205caa5fb4ea7%29%3B%0A%20%20%20%20%20%20%20%20%0A%20%20%20%20%0A%20%20%20%20%20%20%20%20var%20popup_837ea866039549988efff3f820876546%20%3D%20L.popup%28%7B%22maxWidth%22%3A%20%22100%25%22%7D%29%3B%0A%0A%20%20%20%20%20%20%20%20%0A%20%20%20%20%20%20%20%20%20%20%20%20var%20html_43e26c019ca740a29de713982848b9dd%20%3D%20%24%28%60%3Cdiv%20id%3D%22html_43e26c019ca740a29de713982848b9dd%22%20style%3D%22width%3A%20100.0%25%3B%20height%3A%20100.0%25%3B%22%3ECountry%20%3A%20Ireland%3Cbr%3E%20%20%20%20%20%20%20%20%20%20%20%20%20%20%20%20%20%20%20%20%20Happiness%20Score%20%3A%206.97700023651123%3Cbr%3E%20%20%20%20%20%20%20%20%20%20%20%20%20%20%20%20%20%20%20%20%20Year%20%3A%202017%3Cbr%3E%3C/div%3E%60%29%5B0%5D%3B%0A%20%20%20%20%20%20%20%20%20%20%20%20popup_837ea866039549988efff3f820876546.setContent%28html_43e26c019ca740a29de713982848b9dd%29%3B%0A%20%20%20%20%20%20%20%20%0A%0A%20%20%20%20%20%20%20%20circle_marker_86c3f53654e64ee8bec6250dc9801d83.bindPopup%28popup_837ea866039549988efff3f820876546%29%0A%20%20%20%20%20%20%20%20%3B%0A%0A%20%20%20%20%20%20%20%20%0A%20%20%20%20%0A%20%20%20%20%0A%20%20%20%20%20%20%20%20%20%20%20%20var%20circle_marker_cd84e113c3c54508afe9ddf5b2b97b34%20%3D%20L.circleMarker%28%0A%20%20%20%20%20%20%20%20%20%20%20%20%20%20%20%20%5B52.865196%2C%20-7.9794599%5D%2C%0A%20%20%20%20%20%20%20%20%20%20%20%20%20%20%20%20%7B%22bubblingMouseEvents%22%3A%20true%2C%20%22color%22%3A%20%22%233388ff%22%2C%20%22dashArray%22%3A%20null%2C%20%22dashOffset%22%3A%20null%2C%20%22fill%22%3A%20true%2C%20%22fillColor%22%3A%20%22%233388ff%22%2C%20%22fillOpacity%22%3A%200.2%2C%20%22fillRule%22%3A%20%22evenodd%22%2C%20%22lineCap%22%3A%20%22round%22%2C%20%22lineJoin%22%3A%20%22round%22%2C%20%22opacity%22%3A%201.0%2C%20%22radius%22%3A%207%2C%20%22stroke%22%3A%20true%2C%20%22weight%22%3A%203%7D%0A%20%20%20%20%20%20%20%20%20%20%20%20%29.addTo%28marker_cluster_dbaf00fdfc5544c7b5c205caa5fb4ea7%29%3B%0A%20%20%20%20%20%20%20%20%0A%20%20%20%20%0A%20%20%20%20%20%20%20%20var%20popup_dfae09f83e444d23861492e77522e1a9%20%3D%20L.popup%28%7B%22maxWidth%22%3A%20%22100%25%22%7D%29%3B%0A%0A%20%20%20%20%20%20%20%20%0A%20%20%20%20%20%20%20%20%20%20%20%20var%20html_144875a18fbf41f3b42dee56d0c1c1b9%20%3D%20%24%28%60%3Cdiv%20id%3D%22html_144875a18fbf41f3b42dee56d0c1c1b9%22%20style%3D%22width%3A%20100.0%25%3B%20height%3A%20100.0%25%3B%22%3ECountry%20%3A%20Ireland%3Cbr%3E%20%20%20%20%20%20%20%20%20%20%20%20%20%20%20%20%20%20%20%20%20Happiness%20Score%20%3A%206.977%3Cbr%3E%20%20%20%20%20%20%20%20%20%20%20%20%20%20%20%20%20%20%20%20%20Year%20%3A%202018%3Cbr%3E%3C/div%3E%60%29%5B0%5D%3B%0A%20%20%20%20%20%20%20%20%20%20%20%20popup_dfae09f83e444d23861492e77522e1a9.setContent%28html_144875a18fbf41f3b42dee56d0c1c1b9%29%3B%0A%20%20%20%20%20%20%20%20%0A%0A%20%20%20%20%20%20%20%20circle_marker_cd84e113c3c54508afe9ddf5b2b97b34.bindPopup%28popup_dfae09f83e444d23861492e77522e1a9%29%0A%20%20%20%20%20%20%20%20%3B%0A%0A%20%20%20%20%20%20%20%20%0A%20%20%20%20%0A%20%20%20%20%0A%20%20%20%20%20%20%20%20%20%20%20%20var%20circle_marker_46d4ee9b01ae453e9fed212fea6932a5%20%3D%20L.circleMarker%28%0A%20%20%20%20%20%20%20%20%20%20%20%20%20%20%20%20%5B52.865196%2C%20-7.9794599%5D%2C%0A%20%20%20%20%20%20%20%20%20%20%20%20%20%20%20%20%7B%22bubblingMouseEvents%22%3A%20true%2C%20%22color%22%3A%20%22%233388ff%22%2C%20%22dashArray%22%3A%20null%2C%20%22dashOffset%22%3A%20null%2C%20%22fill%22%3A%20true%2C%20%22fillColor%22%3A%20%22%233388ff%22%2C%20%22fillOpacity%22%3A%200.2%2C%20%22fillRule%22%3A%20%22evenodd%22%2C%20%22lineCap%22%3A%20%22round%22%2C%20%22lineJoin%22%3A%20%22round%22%2C%20%22opacity%22%3A%201.0%2C%20%22radius%22%3A%207%2C%20%22stroke%22%3A%20true%2C%20%22weight%22%3A%203%7D%0A%20%20%20%20%20%20%20%20%20%20%20%20%29.addTo%28marker_cluster_dbaf00fdfc5544c7b5c205caa5fb4ea7%29%3B%0A%20%20%20%20%20%20%20%20%0A%20%20%20%20%0A%20%20%20%20%20%20%20%20var%20popup_7c8532c17ef549c0a14a86fc50b5d56b%20%3D%20L.popup%28%7B%22maxWidth%22%3A%20%22100%25%22%7D%29%3B%0A%0A%20%20%20%20%20%20%20%20%0A%20%20%20%20%20%20%20%20%20%20%20%20var%20html_7c353d3e84ed438c84f4400787bcc694%20%3D%20%24%28%60%3Cdiv%20id%3D%22html_7c353d3e84ed438c84f4400787bcc694%22%20style%3D%22width%3A%20100.0%25%3B%20height%3A%20100.0%25%3B%22%3ECountry%20%3A%20Ireland%3Cbr%3E%20%20%20%20%20%20%20%20%20%20%20%20%20%20%20%20%20%20%20%20%20Happiness%20Score%20%3A%206.94%3Cbr%3E%20%20%20%20%20%20%20%20%20%20%20%20%20%20%20%20%20%20%20%20%20Year%20%3A%202015%3Cbr%3E%3C/div%3E%60%29%5B0%5D%3B%0A%20%20%20%20%20%20%20%20%20%20%20%20popup_7c8532c17ef549c0a14a86fc50b5d56b.setContent%28html_7c353d3e84ed438c84f4400787bcc694%29%3B%0A%20%20%20%20%20%20%20%20%0A%0A%20%20%20%20%20%20%20%20circle_marker_46d4ee9b01ae453e9fed212fea6932a5.bindPopup%28popup_7c8532c17ef549c0a14a86fc50b5d56b%29%0A%20%20%20%20%20%20%20%20%3B%0A%0A%20%20%20%20%20%20%20%20%0A%20%20%20%20%0A%20%20%20%20%0A%20%20%20%20%20%20%20%20%20%20%20%20var%20circle_marker_c2c128dd187047dbae11683cff46f0b7%20%3D%20L.circleMarker%28%0A%20%20%20%20%20%20%20%20%20%20%20%20%20%20%20%20%5B52.865196%2C%20-7.9794599%5D%2C%0A%20%20%20%20%20%20%20%20%20%20%20%20%20%20%20%20%7B%22bubblingMouseEvents%22%3A%20true%2C%20%22color%22%3A%20%22%233388ff%22%2C%20%22dashArray%22%3A%20null%2C%20%22dashOffset%22%3A%20null%2C%20%22fill%22%3A%20true%2C%20%22fillColor%22%3A%20%22%233388ff%22%2C%20%22fillOpacity%22%3A%200.2%2C%20%22fillRule%22%3A%20%22evenodd%22%2C%20%22lineCap%22%3A%20%22round%22%2C%20%22lineJoin%22%3A%20%22round%22%2C%20%22opacity%22%3A%201.0%2C%20%22radius%22%3A%207%2C%20%22stroke%22%3A%20true%2C%20%22weight%22%3A%203%7D%0A%20%20%20%20%20%20%20%20%20%20%20%20%29.addTo%28marker_cluster_dbaf00fdfc5544c7b5c205caa5fb4ea7%29%3B%0A%20%20%20%20%20%20%20%20%0A%20%20%20%20%0A%20%20%20%20%20%20%20%20var%20popup_d62c1ad355cc4dc089dddeaf4a69b20d%20%3D%20L.popup%28%7B%22maxWidth%22%3A%20%22100%25%22%7D%29%3B%0A%0A%20%20%20%20%20%20%20%20%0A%20%20%20%20%20%20%20%20%20%20%20%20var%20html_793228581c5646a28f09259fe27e254d%20%3D%20%24%28%60%3Cdiv%20id%3D%22html_793228581c5646a28f09259fe27e254d%22%20style%3D%22width%3A%20100.0%25%3B%20height%3A%20100.0%25%3B%22%3ECountry%20%3A%20Ireland%3Cbr%3E%20%20%20%20%20%20%20%20%20%20%20%20%20%20%20%20%20%20%20%20%20Happiness%20Score%20%3A%206.907%3Cbr%3E%20%20%20%20%20%20%20%20%20%20%20%20%20%20%20%20%20%20%20%20%20Year%20%3A%202016%3Cbr%3E%3C/div%3E%60%29%5B0%5D%3B%0A%20%20%20%20%20%20%20%20%20%20%20%20popup_d62c1ad355cc4dc089dddeaf4a69b20d.setContent%28html_793228581c5646a28f09259fe27e254d%29%3B%0A%20%20%20%20%20%20%20%20%0A%0A%20%20%20%20%20%20%20%20circle_marker_c2c128dd187047dbae11683cff46f0b7.bindPopup%28popup_d62c1ad355cc4dc089dddeaf4a69b20d%29%0A%20%20%20%20%20%20%20%20%3B%0A%0A%20%20%20%20%20%20%20%20%0A%20%20%20%20%0A%20%20%20%20%0A%20%20%20%20%20%20%20%20%20%20%20%20var%20circle_marker_ca5d4394637e4146850d8b5efb06194b%20%3D%20L.circleMarker%28%0A%20%20%20%20%20%20%20%20%20%20%20%20%20%20%20%20%5B51.0834196%2C%2010.4234469%5D%2C%0A%20%20%20%20%20%20%20%20%20%20%20%20%20%20%20%20%7B%22bubblingMouseEvents%22%3A%20true%2C%20%22color%22%3A%20%22%233388ff%22%2C%20%22dashArray%22%3A%20null%2C%20%22dashOffset%22%3A%20null%2C%20%22fill%22%3A%20true%2C%20%22fillColor%22%3A%20%22%233388ff%22%2C%20%22fillOpacity%22%3A%200.2%2C%20%22fillRule%22%3A%20%22evenodd%22%2C%20%22lineCap%22%3A%20%22round%22%2C%20%22lineJoin%22%3A%20%22round%22%2C%20%22opacity%22%3A%201.0%2C%20%22radius%22%3A%207%2C%20%22stroke%22%3A%20true%2C%20%22weight%22%3A%203%7D%0A%20%20%20%20%20%20%20%20%20%20%20%20%29.addTo%28marker_cluster_dbaf00fdfc5544c7b5c205caa5fb4ea7%29%3B%0A%20%20%20%20%20%20%20%20%0A%20%20%20%20%0A%20%20%20%20%20%20%20%20var%20popup_018c3d7a402b4a3aac251c42082961a0%20%3D%20L.popup%28%7B%22maxWidth%22%3A%20%22100%25%22%7D%29%3B%0A%0A%20%20%20%20%20%20%20%20%0A%20%20%20%20%20%20%20%20%20%20%20%20var%20html_c1a972932dc34b58afee69e4fb0f2997%20%3D%20%24%28%60%3Cdiv%20id%3D%22html_c1a972932dc34b58afee69e4fb0f2997%22%20style%3D%22width%3A%20100.0%25%3B%20height%3A%20100.0%25%3B%22%3ECountry%20%3A%20Germany%3Cbr%3E%20%20%20%20%20%20%20%20%20%20%20%20%20%20%20%20%20%20%20%20%20Happiness%20Score%20%3A%206.994%3Cbr%3E%20%20%20%20%20%20%20%20%20%20%20%20%20%20%20%20%20%20%20%20%20Year%20%3A%202016%3Cbr%3E%3C/div%3E%60%29%5B0%5D%3B%0A%20%20%20%20%20%20%20%20%20%20%20%20popup_018c3d7a402b4a3aac251c42082961a0.setContent%28html_c1a972932dc34b58afee69e4fb0f2997%29%3B%0A%20%20%20%20%20%20%20%20%0A%0A%20%20%20%20%20%20%20%20circle_marker_ca5d4394637e4146850d8b5efb06194b.bindPopup%28popup_018c3d7a402b4a3aac251c42082961a0%29%0A%20%20%20%20%20%20%20%20%3B%0A%0A%20%20%20%20%20%20%20%20%0A%20%20%20%20%0A%20%20%20%20%0A%20%20%20%20%20%20%20%20%20%20%20%20var%20circle_marker_d41e30a2ec7f43fca56d1e84a005e11e%20%3D%20L.circleMarker%28%0A%20%20%20%20%20%20%20%20%20%20%20%20%20%20%20%20%5B51.0834196%2C%2010.4234469%5D%2C%0A%20%20%20%20%20%20%20%20%20%20%20%20%20%20%20%20%7B%22bubblingMouseEvents%22%3A%20true%2C%20%22color%22%3A%20%22%233388ff%22%2C%20%22dashArray%22%3A%20null%2C%20%22dashOffset%22%3A%20null%2C%20%22fill%22%3A%20true%2C%20%22fillColor%22%3A%20%22%233388ff%22%2C%20%22fillOpacity%22%3A%200.2%2C%20%22fillRule%22%3A%20%22evenodd%22%2C%20%22lineCap%22%3A%20%22round%22%2C%20%22lineJoin%22%3A%20%22round%22%2C%20%22opacity%22%3A%201.0%2C%20%22radius%22%3A%207%2C%20%22stroke%22%3A%20true%2C%20%22weight%22%3A%203%7D%0A%20%20%20%20%20%20%20%20%20%20%20%20%29.addTo%28marker_cluster_dbaf00fdfc5544c7b5c205caa5fb4ea7%29%3B%0A%20%20%20%20%20%20%20%20%0A%20%20%20%20%0A%20%20%20%20%20%20%20%20var%20popup_98cfe9ce0e34432bbe0526e192e35af1%20%3D%20L.popup%28%7B%22maxWidth%22%3A%20%22100%25%22%7D%29%3B%0A%0A%20%20%20%20%20%20%20%20%0A%20%20%20%20%20%20%20%20%20%20%20%20var%20html_676fc1b3c201432086e04ca63f2850de%20%3D%20%24%28%60%3Cdiv%20id%3D%22html_676fc1b3c201432086e04ca63f2850de%22%20style%3D%22width%3A%20100.0%25%3B%20height%3A%20100.0%25%3B%22%3ECountry%20%3A%20Germany%3Cbr%3E%20%20%20%20%20%20%20%20%20%20%20%20%20%20%20%20%20%20%20%20%20Happiness%20Score%20%3A%206.985%3Cbr%3E%20%20%20%20%20%20%20%20%20%20%20%20%20%20%20%20%20%20%20%20%20Year%20%3A%202019%3Cbr%3E%3C/div%3E%60%29%5B0%5D%3B%0A%20%20%20%20%20%20%20%20%20%20%20%20popup_98cfe9ce0e34432bbe0526e192e35af1.setContent%28html_676fc1b3c201432086e04ca63f2850de%29%3B%0A%20%20%20%20%20%20%20%20%0A%0A%20%20%20%20%20%20%20%20circle_marker_d41e30a2ec7f43fca56d1e84a005e11e.bindPopup%28popup_98cfe9ce0e34432bbe0526e192e35af1%29%0A%20%20%20%20%20%20%20%20%3B%0A%0A%20%20%20%20%20%20%20%20%0A%20%20%20%20%0A%20%20%20%20%0A%20%20%20%20%20%20%20%20%20%20%20%20var%20circle_marker_46da4b361c9e4740b6c87e040ed75a20%20%3D%20L.circleMarker%28%0A%20%20%20%20%20%20%20%20%20%20%20%20%20%20%20%20%5B51.0834196%2C%2010.4234469%5D%2C%0A%20%20%20%20%20%20%20%20%20%20%20%20%20%20%20%20%7B%22bubblingMouseEvents%22%3A%20true%2C%20%22color%22%3A%20%22%233388ff%22%2C%20%22dashArray%22%3A%20null%2C%20%22dashOffset%22%3A%20null%2C%20%22fill%22%3A%20true%2C%20%22fillColor%22%3A%20%22%233388ff%22%2C%20%22fillOpacity%22%3A%200.2%2C%20%22fillRule%22%3A%20%22evenodd%22%2C%20%22lineCap%22%3A%20%22round%22%2C%20%22lineJoin%22%3A%20%22round%22%2C%20%22opacity%22%3A%201.0%2C%20%22radius%22%3A%207%2C%20%22stroke%22%3A%20true%2C%20%22weight%22%3A%203%7D%0A%20%20%20%20%20%20%20%20%20%20%20%20%29.addTo%28marker_cluster_dbaf00fdfc5544c7b5c205caa5fb4ea7%29%3B%0A%20%20%20%20%20%20%20%20%0A%20%20%20%20%0A%20%20%20%20%20%20%20%20var%20popup_c35dc58d4f9441ffab0aaa5e73adb022%20%3D%20L.popup%28%7B%22maxWidth%22%3A%20%22100%25%22%7D%29%3B%0A%0A%20%20%20%20%20%20%20%20%0A%20%20%20%20%20%20%20%20%20%20%20%20var%20html_602be82c54654ac4924079281d66bd39%20%3D%20%24%28%60%3Cdiv%20id%3D%22html_602be82c54654ac4924079281d66bd39%22%20style%3D%22width%3A%20100.0%25%3B%20height%3A%20100.0%25%3B%22%3ECountry%20%3A%20Germany%3Cbr%3E%20%20%20%20%20%20%20%20%20%20%20%20%20%20%20%20%20%20%20%20%20Happiness%20Score%20%3A%206.965%3Cbr%3E%20%20%20%20%20%20%20%20%20%20%20%20%20%20%20%20%20%20%20%20%20Year%20%3A%202018%3Cbr%3E%3C/div%3E%60%29%5B0%5D%3B%0A%20%20%20%20%20%20%20%20%20%20%20%20popup_c35dc58d4f9441ffab0aaa5e73adb022.setContent%28html_602be82c54654ac4924079281d66bd39%29%3B%0A%20%20%20%20%20%20%20%20%0A%0A%20%20%20%20%20%20%20%20circle_marker_46da4b361c9e4740b6c87e040ed75a20.bindPopup%28popup_c35dc58d4f9441ffab0aaa5e73adb022%29%0A%20%20%20%20%20%20%20%20%3B%0A%0A%20%20%20%20%20%20%20%20%0A%20%20%20%20%0A%20%20%20%20%0A%20%20%20%20%20%20%20%20%20%20%20%20var%20circle_marker_179f6a7544804fbaa4e92f62ae998cc5%20%3D%20L.circleMarker%28%0A%20%20%20%20%20%20%20%20%20%20%20%20%20%20%20%20%5B51.0834196%2C%2010.4234469%5D%2C%0A%20%20%20%20%20%20%20%20%20%20%20%20%20%20%20%20%7B%22bubblingMouseEvents%22%3A%20true%2C%20%22color%22%3A%20%22%233388ff%22%2C%20%22dashArray%22%3A%20null%2C%20%22dashOffset%22%3A%20null%2C%20%22fill%22%3A%20true%2C%20%22fillColor%22%3A%20%22%233388ff%22%2C%20%22fillOpacity%22%3A%200.2%2C%20%22fillRule%22%3A%20%22evenodd%22%2C%20%22lineCap%22%3A%20%22round%22%2C%20%22lineJoin%22%3A%20%22round%22%2C%20%22opacity%22%3A%201.0%2C%20%22radius%22%3A%207%2C%20%22stroke%22%3A%20true%2C%20%22weight%22%3A%203%7D%0A%20%20%20%20%20%20%20%20%20%20%20%20%29.addTo%28marker_cluster_dbaf00fdfc5544c7b5c205caa5fb4ea7%29%3B%0A%20%20%20%20%20%20%20%20%0A%20%20%20%20%0A%20%20%20%20%20%20%20%20var%20popup_c22bfc1ecec34dc9b3cc2083a835b222%20%3D%20L.popup%28%7B%22maxWidth%22%3A%20%22100%25%22%7D%29%3B%0A%0A%20%20%20%20%20%20%20%20%0A%20%20%20%20%20%20%20%20%20%20%20%20var%20html_dcc73b41812240319196de2a8724b6d2%20%3D%20%24%28%60%3Cdiv%20id%3D%22html_dcc73b41812240319196de2a8724b6d2%22%20style%3D%22width%3A%20100.0%25%3B%20height%3A%20100.0%25%3B%22%3ECountry%20%3A%20Germany%3Cbr%3E%20%20%20%20%20%20%20%20%20%20%20%20%20%20%20%20%20%20%20%20%20Happiness%20Score%20%3A%206.95100021362305%3Cbr%3E%20%20%20%20%20%20%20%20%20%20%20%20%20%20%20%20%20%20%20%20%20Year%20%3A%202017%3Cbr%3E%3C/div%3E%60%29%5B0%5D%3B%0A%20%20%20%20%20%20%20%20%20%20%20%20popup_c22bfc1ecec34dc9b3cc2083a835b222.setContent%28html_dcc73b41812240319196de2a8724b6d2%29%3B%0A%20%20%20%20%20%20%20%20%0A%0A%20%20%20%20%20%20%20%20circle_marker_179f6a7544804fbaa4e92f62ae998cc5.bindPopup%28popup_c22bfc1ecec34dc9b3cc2083a835b222%29%0A%20%20%20%20%20%20%20%20%3B%0A%0A%20%20%20%20%20%20%20%20%0A%20%20%20%20%0A%20%20%20%20%0A%20%20%20%20%20%20%20%20%20%20%20%20var%20circle_marker_6489c67f97944a37a4ec567defd4d319%20%3D%20L.circleMarker%28%0A%20%20%20%20%20%20%20%20%20%20%20%20%20%20%20%20%5B51.0834196%2C%2010.4234469%5D%2C%0A%20%20%20%20%20%20%20%20%20%20%20%20%20%20%20%20%7B%22bubblingMouseEvents%22%3A%20true%2C%20%22color%22%3A%20%22%233388ff%22%2C%20%22dashArray%22%3A%20null%2C%20%22dashOffset%22%3A%20null%2C%20%22fill%22%3A%20true%2C%20%22fillColor%22%3A%20%22%233388ff%22%2C%20%22fillOpacity%22%3A%200.2%2C%20%22fillRule%22%3A%20%22evenodd%22%2C%20%22lineCap%22%3A%20%22round%22%2C%20%22lineJoin%22%3A%20%22round%22%2C%20%22opacity%22%3A%201.0%2C%20%22radius%22%3A%207%2C%20%22stroke%22%3A%20true%2C%20%22weight%22%3A%203%7D%0A%20%20%20%20%20%20%20%20%20%20%20%20%29.addTo%28marker_cluster_dbaf00fdfc5544c7b5c205caa5fb4ea7%29%3B%0A%20%20%20%20%20%20%20%20%0A%20%20%20%20%0A%20%20%20%20%20%20%20%20var%20popup_d4b215c555ca4e9489e5ec9d7684b447%20%3D%20L.popup%28%7B%22maxWidth%22%3A%20%22100%25%22%7D%29%3B%0A%0A%20%20%20%20%20%20%20%20%0A%20%20%20%20%20%20%20%20%20%20%20%20var%20html_e93d1de091434325bb37fa58e755bd0c%20%3D%20%24%28%60%3Cdiv%20id%3D%22html_e93d1de091434325bb37fa58e755bd0c%22%20style%3D%22width%3A%20100.0%25%3B%20height%3A%20100.0%25%3B%22%3ECountry%20%3A%20Germany%3Cbr%3E%20%20%20%20%20%20%20%20%20%20%20%20%20%20%20%20%20%20%20%20%20Happiness%20Score%20%3A%206.75%3Cbr%3E%20%20%20%20%20%20%20%20%20%20%20%20%20%20%20%20%20%20%20%20%20Year%20%3A%202015%3Cbr%3E%3C/div%3E%60%29%5B0%5D%3B%0A%20%20%20%20%20%20%20%20%20%20%20%20popup_d4b215c555ca4e9489e5ec9d7684b447.setContent%28html_e93d1de091434325bb37fa58e755bd0c%29%3B%0A%20%20%20%20%20%20%20%20%0A%0A%20%20%20%20%20%20%20%20circle_marker_6489c67f97944a37a4ec567defd4d319.bindPopup%28popup_d4b215c555ca4e9489e5ec9d7684b447%29%0A%20%20%20%20%20%20%20%20%3B%0A%0A%20%20%20%20%20%20%20%20%0A%20%20%20%20%0A%20%20%20%20%0A%20%20%20%20%20%20%20%20%20%20%20%20var%20circle_marker_fb90cf47f90b46ae8db8689a84201d5c%20%3D%20L.circleMarker%28%0A%20%20%20%20%20%20%20%20%20%20%20%20%20%20%20%20%5B50.6402809%2C%204.6667145%5D%2C%0A%20%20%20%20%20%20%20%20%20%20%20%20%20%20%20%20%7B%22bubblingMouseEvents%22%3A%20true%2C%20%22color%22%3A%20%22%233388ff%22%2C%20%22dashArray%22%3A%20null%2C%20%22dashOffset%22%3A%20null%2C%20%22fill%22%3A%20true%2C%20%22fillColor%22%3A%20%22%233388ff%22%2C%20%22fillOpacity%22%3A%200.2%2C%20%22fillRule%22%3A%20%22evenodd%22%2C%20%22lineCap%22%3A%20%22round%22%2C%20%22lineJoin%22%3A%20%22round%22%2C%20%22opacity%22%3A%201.0%2C%20%22radius%22%3A%207%2C%20%22stroke%22%3A%20true%2C%20%22weight%22%3A%203%7D%0A%20%20%20%20%20%20%20%20%20%20%20%20%29.addTo%28marker_cluster_dbaf00fdfc5544c7b5c205caa5fb4ea7%29%3B%0A%20%20%20%20%20%20%20%20%0A%20%20%20%20%0A%20%20%20%20%20%20%20%20var%20popup_65e2e8ff7b4d4e9bbab6b925c8e2ebb4%20%3D%20L.popup%28%7B%22maxWidth%22%3A%20%22100%25%22%7D%29%3B%0A%0A%20%20%20%20%20%20%20%20%0A%20%20%20%20%20%20%20%20%20%20%20%20var%20html_062777a6e1ec4020b175d07c58e4c0b6%20%3D%20%24%28%60%3Cdiv%20id%3D%22html_062777a6e1ec4020b175d07c58e4c0b6%22%20style%3D%22width%3A%20100.0%25%3B%20height%3A%20100.0%25%3B%22%3ECountry%20%3A%20Belgium%3Cbr%3E%20%20%20%20%20%20%20%20%20%20%20%20%20%20%20%20%20%20%20%20%20Happiness%20Score%20%3A%206.937%3Cbr%3E%20%20%20%20%20%20%20%20%20%20%20%20%20%20%20%20%20%20%20%20%20Year%20%3A%202015%3Cbr%3E%3C/div%3E%60%29%5B0%5D%3B%0A%20%20%20%20%20%20%20%20%20%20%20%20popup_65e2e8ff7b4d4e9bbab6b925c8e2ebb4.setContent%28html_062777a6e1ec4020b175d07c58e4c0b6%29%3B%0A%20%20%20%20%20%20%20%20%0A%0A%20%20%20%20%20%20%20%20circle_marker_fb90cf47f90b46ae8db8689a84201d5c.bindPopup%28popup_65e2e8ff7b4d4e9bbab6b925c8e2ebb4%29%0A%20%20%20%20%20%20%20%20%3B%0A%0A%20%20%20%20%20%20%20%20%0A%20%20%20%20%0A%20%20%20%20%0A%20%20%20%20%20%20%20%20%20%20%20%20var%20circle_marker_86a5ae51a510453f91a7673804b06eab%20%3D%20L.circleMarker%28%0A%20%20%20%20%20%20%20%20%20%20%20%20%20%20%20%20%5B50.6402809%2C%204.6667145%5D%2C%0A%20%20%20%20%20%20%20%20%20%20%20%20%20%20%20%20%7B%22bubblingMouseEvents%22%3A%20true%2C%20%22color%22%3A%20%22%233388ff%22%2C%20%22dashArray%22%3A%20null%2C%20%22dashOffset%22%3A%20null%2C%20%22fill%22%3A%20true%2C%20%22fillColor%22%3A%20%22%233388ff%22%2C%20%22fillOpacity%22%3A%200.2%2C%20%22fillRule%22%3A%20%22evenodd%22%2C%20%22lineCap%22%3A%20%22round%22%2C%20%22lineJoin%22%3A%20%22round%22%2C%20%22opacity%22%3A%201.0%2C%20%22radius%22%3A%207%2C%20%22stroke%22%3A%20true%2C%20%22weight%22%3A%203%7D%0A%20%20%20%20%20%20%20%20%20%20%20%20%29.addTo%28marker_cluster_dbaf00fdfc5544c7b5c205caa5fb4ea7%29%3B%0A%20%20%20%20%20%20%20%20%0A%20%20%20%20%0A%20%20%20%20%20%20%20%20var%20popup_289f6995c0b04a55889bba9eb7f9961f%20%3D%20L.popup%28%7B%22maxWidth%22%3A%20%22100%25%22%7D%29%3B%0A%0A%20%20%20%20%20%20%20%20%0A%20%20%20%20%20%20%20%20%20%20%20%20var%20html_ee721000202d4f688a66281f0d2dfc79%20%3D%20%24%28%60%3Cdiv%20id%3D%22html_ee721000202d4f688a66281f0d2dfc79%22%20style%3D%22width%3A%20100.0%25%3B%20height%3A%20100.0%25%3B%22%3ECountry%20%3A%20Belgium%3Cbr%3E%20%20%20%20%20%20%20%20%20%20%20%20%20%20%20%20%20%20%20%20%20Happiness%20Score%20%3A%206.929%3Cbr%3E%20%20%20%20%20%20%20%20%20%20%20%20%20%20%20%20%20%20%20%20%20Year%20%3A%202016%3Cbr%3E%3C/div%3E%60%29%5B0%5D%3B%0A%20%20%20%20%20%20%20%20%20%20%20%20popup_289f6995c0b04a55889bba9eb7f9961f.setContent%28html_ee721000202d4f688a66281f0d2dfc79%29%3B%0A%20%20%20%20%20%20%20%20%0A%0A%20%20%20%20%20%20%20%20circle_marker_86a5ae51a510453f91a7673804b06eab.bindPopup%28popup_289f6995c0b04a55889bba9eb7f9961f%29%0A%20%20%20%20%20%20%20%20%3B%0A%0A%20%20%20%20%20%20%20%20%0A%20%20%20%20%0A%20%20%20%20%0A%20%20%20%20%20%20%20%20%20%20%20%20var%20circle_marker_367d5c13ebdb4893ba6b1106443a5184%20%3D%20L.circleMarker%28%0A%20%20%20%20%20%20%20%20%20%20%20%20%20%20%20%20%5B50.6402809%2C%204.6667145%5D%2C%0A%20%20%20%20%20%20%20%20%20%20%20%20%20%20%20%20%7B%22bubblingMouseEvents%22%3A%20true%2C%20%22color%22%3A%20%22%233388ff%22%2C%20%22dashArray%22%3A%20null%2C%20%22dashOffset%22%3A%20null%2C%20%22fill%22%3A%20true%2C%20%22fillColor%22%3A%20%22%233388ff%22%2C%20%22fillOpacity%22%3A%200.2%2C%20%22fillRule%22%3A%20%22evenodd%22%2C%20%22lineCap%22%3A%20%22round%22%2C%20%22lineJoin%22%3A%20%22round%22%2C%20%22opacity%22%3A%201.0%2C%20%22radius%22%3A%207%2C%20%22stroke%22%3A%20true%2C%20%22weight%22%3A%203%7D%0A%20%20%20%20%20%20%20%20%20%20%20%20%29.addTo%28marker_cluster_dbaf00fdfc5544c7b5c205caa5fb4ea7%29%3B%0A%20%20%20%20%20%20%20%20%0A%20%20%20%20%0A%20%20%20%20%20%20%20%20var%20popup_5a84ce3f567f40afa9adfe0f99b7c9d1%20%3D%20L.popup%28%7B%22maxWidth%22%3A%20%22100%25%22%7D%29%3B%0A%0A%20%20%20%20%20%20%20%20%0A%20%20%20%20%20%20%20%20%20%20%20%20var%20html_82ac981d41ad44ec9604674aae62b761%20%3D%20%24%28%60%3Cdiv%20id%3D%22html_82ac981d41ad44ec9604674aae62b761%22%20style%3D%22width%3A%20100.0%25%3B%20height%3A%20100.0%25%3B%22%3ECountry%20%3A%20Belgium%3Cbr%3E%20%20%20%20%20%20%20%20%20%20%20%20%20%20%20%20%20%20%20%20%20Happiness%20Score%20%3A%206.927%3Cbr%3E%20%20%20%20%20%20%20%20%20%20%20%20%20%20%20%20%20%20%20%20%20Year%20%3A%202018%3Cbr%3E%3C/div%3E%60%29%5B0%5D%3B%0A%20%20%20%20%20%20%20%20%20%20%20%20popup_5a84ce3f567f40afa9adfe0f99b7c9d1.setContent%28html_82ac981d41ad44ec9604674aae62b761%29%3B%0A%20%20%20%20%20%20%20%20%0A%0A%20%20%20%20%20%20%20%20circle_marker_367d5c13ebdb4893ba6b1106443a5184.bindPopup%28popup_5a84ce3f567f40afa9adfe0f99b7c9d1%29%0A%20%20%20%20%20%20%20%20%3B%0A%0A%20%20%20%20%20%20%20%20%0A%20%20%20%20%0A%20%20%20%20%0A%20%20%20%20%20%20%20%20%20%20%20%20var%20circle_marker_030fa8c0c6fd465690e998c4e52da415%20%3D%20L.circleMarker%28%0A%20%20%20%20%20%20%20%20%20%20%20%20%20%20%20%20%5B50.6402809%2C%204.6667145%5D%2C%0A%20%20%20%20%20%20%20%20%20%20%20%20%20%20%20%20%7B%22bubblingMouseEvents%22%3A%20true%2C%20%22color%22%3A%20%22%233388ff%22%2C%20%22dashArray%22%3A%20null%2C%20%22dashOffset%22%3A%20null%2C%20%22fill%22%3A%20true%2C%20%22fillColor%22%3A%20%22%233388ff%22%2C%20%22fillOpacity%22%3A%200.2%2C%20%22fillRule%22%3A%20%22evenodd%22%2C%20%22lineCap%22%3A%20%22round%22%2C%20%22lineJoin%22%3A%20%22round%22%2C%20%22opacity%22%3A%201.0%2C%20%22radius%22%3A%207%2C%20%22stroke%22%3A%20true%2C%20%22weight%22%3A%203%7D%0A%20%20%20%20%20%20%20%20%20%20%20%20%29.addTo%28marker_cluster_dbaf00fdfc5544c7b5c205caa5fb4ea7%29%3B%0A%20%20%20%20%20%20%20%20%0A%20%20%20%20%0A%20%20%20%20%20%20%20%20var%20popup_e62033f4d60c4491a442a58f1711465f%20%3D%20L.popup%28%7B%22maxWidth%22%3A%20%22100%25%22%7D%29%3B%0A%0A%20%20%20%20%20%20%20%20%0A%20%20%20%20%20%20%20%20%20%20%20%20var%20html_5340fc74ac4a4719afa7a7be2ed08f31%20%3D%20%24%28%60%3Cdiv%20id%3D%22html_5340fc74ac4a4719afa7a7be2ed08f31%22%20style%3D%22width%3A%20100.0%25%3B%20height%3A%20100.0%25%3B%22%3ECountry%20%3A%20Belgium%3Cbr%3E%20%20%20%20%20%20%20%20%20%20%20%20%20%20%20%20%20%20%20%20%20Happiness%20Score%20%3A%206.923%3Cbr%3E%20%20%20%20%20%20%20%20%20%20%20%20%20%20%20%20%20%20%20%20%20Year%20%3A%202019%3Cbr%3E%3C/div%3E%60%29%5B0%5D%3B%0A%20%20%20%20%20%20%20%20%20%20%20%20popup_e62033f4d60c4491a442a58f1711465f.setContent%28html_5340fc74ac4a4719afa7a7be2ed08f31%29%3B%0A%20%20%20%20%20%20%20%20%0A%0A%20%20%20%20%20%20%20%20circle_marker_030fa8c0c6fd465690e998c4e52da415.bindPopup%28popup_e62033f4d60c4491a442a58f1711465f%29%0A%20%20%20%20%20%20%20%20%3B%0A%0A%20%20%20%20%20%20%20%20%0A%20%20%20%20%0A%20%20%20%20%0A%20%20%20%20%20%20%20%20%20%20%20%20var%20circle_marker_38c2eb99e8054ac49b3074cfe72b40ae%20%3D%20L.circleMarker%28%0A%20%20%20%20%20%20%20%20%20%20%20%20%20%20%20%20%5B50.6402809%2C%204.6667145%5D%2C%0A%20%20%20%20%20%20%20%20%20%20%20%20%20%20%20%20%7B%22bubblingMouseEvents%22%3A%20true%2C%20%22color%22%3A%20%22%233388ff%22%2C%20%22dashArray%22%3A%20null%2C%20%22dashOffset%22%3A%20null%2C%20%22fill%22%3A%20true%2C%20%22fillColor%22%3A%20%22%233388ff%22%2C%20%22fillOpacity%22%3A%200.2%2C%20%22fillRule%22%3A%20%22evenodd%22%2C%20%22lineCap%22%3A%20%22round%22%2C%20%22lineJoin%22%3A%20%22round%22%2C%20%22opacity%22%3A%201.0%2C%20%22radius%22%3A%207%2C%20%22stroke%22%3A%20true%2C%20%22weight%22%3A%203%7D%0A%20%20%20%20%20%20%20%20%20%20%20%20%29.addTo%28marker_cluster_dbaf00fdfc5544c7b5c205caa5fb4ea7%29%3B%0A%20%20%20%20%20%20%20%20%0A%20%20%20%20%0A%20%20%20%20%20%20%20%20var%20popup_b8c71eae828846c2b0c20795b2175ed5%20%3D%20L.popup%28%7B%22maxWidth%22%3A%20%22100%25%22%7D%29%3B%0A%0A%20%20%20%20%20%20%20%20%0A%20%20%20%20%20%20%20%20%20%20%20%20var%20html_55e379a4e5984f7099f8d98e9f37e39b%20%3D%20%24%28%60%3Cdiv%20id%3D%22html_55e379a4e5984f7099f8d98e9f37e39b%22%20style%3D%22width%3A%20100.0%25%3B%20height%3A%20100.0%25%3B%22%3ECountry%20%3A%20Belgium%3Cbr%3E%20%20%20%20%20%20%20%20%20%20%20%20%20%20%20%20%20%20%20%20%20Happiness%20Score%20%3A%206.89099979400635%3Cbr%3E%20%20%20%20%20%20%20%20%20%20%20%20%20%20%20%20%20%20%20%20%20Year%20%3A%202017%3Cbr%3E%3C/div%3E%60%29%5B0%5D%3B%0A%20%20%20%20%20%20%20%20%20%20%20%20popup_b8c71eae828846c2b0c20795b2175ed5.setContent%28html_55e379a4e5984f7099f8d98e9f37e39b%29%3B%0A%20%20%20%20%20%20%20%20%0A%0A%20%20%20%20%20%20%20%20circle_marker_38c2eb99e8054ac49b3074cfe72b40ae.bindPopup%28popup_b8c71eae828846c2b0c20795b2175ed5%29%0A%20%20%20%20%20%20%20%20%3B%0A%0A%20%20%20%20%20%20%20%20%0A%20%20%20%20%0A%20%20%20%20%0A%20%20%20%20%20%20%20%20%20%20%20%20var%20circle_marker_15b17d564d9440319803d8dcfa6aee5f%20%3D%20L.circleMarker%28%0A%20%20%20%20%20%20%20%20%20%20%20%20%20%20%20%20%5B35.8885993%2C%2014.4476911%5D%2C%0A%20%20%20%20%20%20%20%20%20%20%20%20%20%20%20%20%7B%22bubblingMouseEvents%22%3A%20true%2C%20%22color%22%3A%20%22%233388ff%22%2C%20%22dashArray%22%3A%20null%2C%20%22dashOffset%22%3A%20null%2C%20%22fill%22%3A%20true%2C%20%22fillColor%22%3A%20%22%233388ff%22%2C%20%22fillOpacity%22%3A%200.2%2C%20%22fillRule%22%3A%20%22evenodd%22%2C%20%22lineCap%22%3A%20%22round%22%2C%20%22lineJoin%22%3A%20%22round%22%2C%20%22opacity%22%3A%201.0%2C%20%22radius%22%3A%207%2C%20%22stroke%22%3A%20true%2C%20%22weight%22%3A%203%7D%0A%20%20%20%20%20%20%20%20%20%20%20%20%29.addTo%28marker_cluster_dbaf00fdfc5544c7b5c205caa5fb4ea7%29%3B%0A%20%20%20%20%20%20%20%20%0A%20%20%20%20%0A%20%20%20%20%20%20%20%20var%20popup_a4beceb636354848b8abc923f41881db%20%3D%20L.popup%28%7B%22maxWidth%22%3A%20%22100%25%22%7D%29%3B%0A%0A%20%20%20%20%20%20%20%20%0A%20%20%20%20%20%20%20%20%20%20%20%20var%20html_d29cf3a420934e619ff2e68b8e4cf097%20%3D%20%24%28%60%3Cdiv%20id%3D%22html_d29cf3a420934e619ff2e68b8e4cf097%22%20style%3D%22width%3A%20100.0%25%3B%20height%3A%20100.0%25%3B%22%3ECountry%20%3A%20Malta%3Cbr%3E%20%20%20%20%20%20%20%20%20%20%20%20%20%20%20%20%20%20%20%20%20Happiness%20Score%20%3A%206.726%3Cbr%3E%20%20%20%20%20%20%20%20%20%20%20%20%20%20%20%20%20%20%20%20%20Year%20%3A%202019%3Cbr%3E%3C/div%3E%60%29%5B0%5D%3B%0A%20%20%20%20%20%20%20%20%20%20%20%20popup_a4beceb636354848b8abc923f41881db.setContent%28html_d29cf3a420934e619ff2e68b8e4cf097%29%3B%0A%20%20%20%20%20%20%20%20%0A%0A%20%20%20%20%20%20%20%20circle_marker_15b17d564d9440319803d8dcfa6aee5f.bindPopup%28popup_a4beceb636354848b8abc923f41881db%29%0A%20%20%20%20%20%20%20%20%3B%0A%0A%20%20%20%20%20%20%20%20%0A%20%20%20%20%0A%20%20%20%20%0A%20%20%20%20%20%20%20%20%20%20%20%20var%20circle_marker_49f0fe63936446fb9ffa3fea84b3b5ec%20%3D%20L.circleMarker%28%0A%20%20%20%20%20%20%20%20%20%20%20%20%20%20%20%20%5B35.8885993%2C%2014.4476911%5D%2C%0A%20%20%20%20%20%20%20%20%20%20%20%20%20%20%20%20%7B%22bubblingMouseEvents%22%3A%20true%2C%20%22color%22%3A%20%22%233388ff%22%2C%20%22dashArray%22%3A%20null%2C%20%22dashOffset%22%3A%20null%2C%20%22fill%22%3A%20true%2C%20%22fillColor%22%3A%20%22%233388ff%22%2C%20%22fillOpacity%22%3A%200.2%2C%20%22fillRule%22%3A%20%22evenodd%22%2C%20%22lineCap%22%3A%20%22round%22%2C%20%22lineJoin%22%3A%20%22round%22%2C%20%22opacity%22%3A%201.0%2C%20%22radius%22%3A%207%2C%20%22stroke%22%3A%20true%2C%20%22weight%22%3A%203%7D%0A%20%20%20%20%20%20%20%20%20%20%20%20%29.addTo%28marker_cluster_dbaf00fdfc5544c7b5c205caa5fb4ea7%29%3B%0A%20%20%20%20%20%20%20%20%0A%20%20%20%20%0A%20%20%20%20%20%20%20%20var%20popup_1dc6f3aa34f54614bbc63e707e4f92f5%20%3D%20L.popup%28%7B%22maxWidth%22%3A%20%22100%25%22%7D%29%3B%0A%0A%20%20%20%20%20%20%20%20%0A%20%20%20%20%20%20%20%20%20%20%20%20var%20html_f4ab6a1b73e84cfc9b363b6e834a42db%20%3D%20%24%28%60%3Cdiv%20id%3D%22html_f4ab6a1b73e84cfc9b363b6e834a42db%22%20style%3D%22width%3A%20100.0%25%3B%20height%3A%20100.0%25%3B%22%3ECountry%20%3A%20Malta%3Cbr%3E%20%20%20%20%20%20%20%20%20%20%20%20%20%20%20%20%20%20%20%20%20Happiness%20Score%20%3A%206.627%3Cbr%3E%20%20%20%20%20%20%20%20%20%20%20%20%20%20%20%20%20%20%20%20%20Year%20%3A%202018%3Cbr%3E%3C/div%3E%60%29%5B0%5D%3B%0A%20%20%20%20%20%20%20%20%20%20%20%20popup_1dc6f3aa34f54614bbc63e707e4f92f5.setContent%28html_f4ab6a1b73e84cfc9b363b6e834a42db%29%3B%0A%20%20%20%20%20%20%20%20%0A%0A%20%20%20%20%20%20%20%20circle_marker_49f0fe63936446fb9ffa3fea84b3b5ec.bindPopup%28popup_1dc6f3aa34f54614bbc63e707e4f92f5%29%0A%20%20%20%20%20%20%20%20%3B%0A%0A%20%20%20%20%20%20%20%20%0A%20%20%20%20%0A%20%20%20%20%0A%20%20%20%20%20%20%20%20%20%20%20%20var%20circle_marker_a764717d44944ec1a52c01c824edcac2%20%3D%20L.circleMarker%28%0A%20%20%20%20%20%20%20%20%20%20%20%20%20%20%20%20%5B35.8885993%2C%2014.4476911%5D%2C%0A%20%20%20%20%20%20%20%20%20%20%20%20%20%20%20%20%7B%22bubblingMouseEvents%22%3A%20true%2C%20%22color%22%3A%20%22%233388ff%22%2C%20%22dashArray%22%3A%20null%2C%20%22dashOffset%22%3A%20null%2C%20%22fill%22%3A%20true%2C%20%22fillColor%22%3A%20%22%233388ff%22%2C%20%22fillOpacity%22%3A%200.2%2C%20%22fillRule%22%3A%20%22evenodd%22%2C%20%22lineCap%22%3A%20%22round%22%2C%20%22lineJoin%22%3A%20%22round%22%2C%20%22opacity%22%3A%201.0%2C%20%22radius%22%3A%207%2C%20%22stroke%22%3A%20true%2C%20%22weight%22%3A%203%7D%0A%20%20%20%20%20%20%20%20%20%20%20%20%29.addTo%28marker_cluster_dbaf00fdfc5544c7b5c205caa5fb4ea7%29%3B%0A%20%20%20%20%20%20%20%20%0A%20%20%20%20%0A%20%20%20%20%20%20%20%20var%20popup_f26bd1071ab6433993e21244ffeaddee%20%3D%20L.popup%28%7B%22maxWidth%22%3A%20%22100%25%22%7D%29%3B%0A%0A%20%20%20%20%20%20%20%20%0A%20%20%20%20%20%20%20%20%20%20%20%20var%20html_d0b6eab8cffd454cb4e593c0a660e8cf%20%3D%20%24%28%60%3Cdiv%20id%3D%22html_d0b6eab8cffd454cb4e593c0a660e8cf%22%20style%3D%22width%3A%20100.0%25%3B%20height%3A%20100.0%25%3B%22%3ECountry%20%3A%20Malta%3Cbr%3E%20%20%20%20%20%20%20%20%20%20%20%20%20%20%20%20%20%20%20%20%20Happiness%20Score%20%3A%206.52699995040894%3Cbr%3E%20%20%20%20%20%20%20%20%20%20%20%20%20%20%20%20%20%20%20%20%20Year%20%3A%202017%3Cbr%3E%3C/div%3E%60%29%5B0%5D%3B%0A%20%20%20%20%20%20%20%20%20%20%20%20popup_f26bd1071ab6433993e21244ffeaddee.setContent%28html_d0b6eab8cffd454cb4e593c0a660e8cf%29%3B%0A%20%20%20%20%20%20%20%20%0A%0A%20%20%20%20%20%20%20%20circle_marker_a764717d44944ec1a52c01c824edcac2.bindPopup%28popup_f26bd1071ab6433993e21244ffeaddee%29%0A%20%20%20%20%20%20%20%20%3B%0A%0A%20%20%20%20%20%20%20%20%0A%20%20%20%20%0A%20%20%20%20%0A%20%20%20%20%20%20%20%20%20%20%20%20var%20circle_marker_34ec9c8c17ed4d3fa817853b5fa6dada%20%3D%20L.circleMarker%28%0A%20%20%20%20%20%20%20%20%20%20%20%20%20%20%20%20%5B35.8885993%2C%2014.4476911%5D%2C%0A%20%20%20%20%20%20%20%20%20%20%20%20%20%20%20%20%7B%22bubblingMouseEvents%22%3A%20true%2C%20%22color%22%3A%20%22%233388ff%22%2C%20%22dashArray%22%3A%20null%2C%20%22dashOffset%22%3A%20null%2C%20%22fill%22%3A%20true%2C%20%22fillColor%22%3A%20%22%233388ff%22%2C%20%22fillOpacity%22%3A%200.2%2C%20%22fillRule%22%3A%20%22evenodd%22%2C%20%22lineCap%22%3A%20%22round%22%2C%20%22lineJoin%22%3A%20%22round%22%2C%20%22opacity%22%3A%201.0%2C%20%22radius%22%3A%207%2C%20%22stroke%22%3A%20true%2C%20%22weight%22%3A%203%7D%0A%20%20%20%20%20%20%20%20%20%20%20%20%29.addTo%28marker_cluster_dbaf00fdfc5544c7b5c205caa5fb4ea7%29%3B%0A%20%20%20%20%20%20%20%20%0A%20%20%20%20%0A%20%20%20%20%20%20%20%20var%20popup_fa57c9916bda47d5a069cae60a7f35af%20%3D%20L.popup%28%7B%22maxWidth%22%3A%20%22100%25%22%7D%29%3B%0A%0A%20%20%20%20%20%20%20%20%0A%20%20%20%20%20%20%20%20%20%20%20%20var%20html_c75a30c369604fe39c6cd9dacb553ea9%20%3D%20%24%28%60%3Cdiv%20id%3D%22html_c75a30c369604fe39c6cd9dacb553ea9%22%20style%3D%22width%3A%20100.0%25%3B%20height%3A%20100.0%25%3B%22%3ECountry%20%3A%20Malta%3Cbr%3E%20%20%20%20%20%20%20%20%20%20%20%20%20%20%20%20%20%20%20%20%20Happiness%20Score%20%3A%206.488%3Cbr%3E%20%20%20%20%20%20%20%20%20%20%20%20%20%20%20%20%20%20%20%20%20Year%20%3A%202016%3Cbr%3E%3C/div%3E%60%29%5B0%5D%3B%0A%20%20%20%20%20%20%20%20%20%20%20%20popup_fa57c9916bda47d5a069cae60a7f35af.setContent%28html_c75a30c369604fe39c6cd9dacb553ea9%29%3B%0A%20%20%20%20%20%20%20%20%0A%0A%20%20%20%20%20%20%20%20circle_marker_34ec9c8c17ed4d3fa817853b5fa6dada.bindPopup%28popup_fa57c9916bda47d5a069cae60a7f35af%29%0A%20%20%20%20%20%20%20%20%3B%0A%0A%20%20%20%20%20%20%20%20%0A%20%20%20%20%0A%20%20%20%20%0A%20%20%20%20%20%20%20%20%20%20%20%20var%20circle_marker_d0b6a9af7a5149c59875b2276361489b%20%3D%20L.circleMarker%28%0A%20%20%20%20%20%20%20%20%20%20%20%20%20%20%20%20%5B35.8885993%2C%2014.4476911%5D%2C%0A%20%20%20%20%20%20%20%20%20%20%20%20%20%20%20%20%7B%22bubblingMouseEvents%22%3A%20true%2C%20%22color%22%3A%20%22%233388ff%22%2C%20%22dashArray%22%3A%20null%2C%20%22dashOffset%22%3A%20null%2C%20%22fill%22%3A%20true%2C%20%22fillColor%22%3A%20%22%233388ff%22%2C%20%22fillOpacity%22%3A%200.2%2C%20%22fillRule%22%3A%20%22evenodd%22%2C%20%22lineCap%22%3A%20%22round%22%2C%20%22lineJoin%22%3A%20%22round%22%2C%20%22opacity%22%3A%201.0%2C%20%22radius%22%3A%207%2C%20%22stroke%22%3A%20true%2C%20%22weight%22%3A%203%7D%0A%20%20%20%20%20%20%20%20%20%20%20%20%29.addTo%28marker_cluster_dbaf00fdfc5544c7b5c205caa5fb4ea7%29%3B%0A%20%20%20%20%20%20%20%20%0A%20%20%20%20%0A%20%20%20%20%20%20%20%20var%20popup_b002670a9d5c4aa4b993746d7153bc9c%20%3D%20L.popup%28%7B%22maxWidth%22%3A%20%22100%25%22%7D%29%3B%0A%0A%20%20%20%20%20%20%20%20%0A%20%20%20%20%20%20%20%20%20%20%20%20var%20html_f7c6e1cd9f7b410e8c39e908c481bea9%20%3D%20%24%28%60%3Cdiv%20id%3D%22html_f7c6e1cd9f7b410e8c39e908c481bea9%22%20style%3D%22width%3A%20100.0%25%3B%20height%3A%20100.0%25%3B%22%3ECountry%20%3A%20Malta%3Cbr%3E%20%20%20%20%20%20%20%20%20%20%20%20%20%20%20%20%20%20%20%20%20Happiness%20Score%20%3A%206.302%3Cbr%3E%20%20%20%20%20%20%20%20%20%20%20%20%20%20%20%20%20%20%20%20%20Year%20%3A%202015%3Cbr%3E%3C/div%3E%60%29%5B0%5D%3B%0A%20%20%20%20%20%20%20%20%20%20%20%20popup_b002670a9d5c4aa4b993746d7153bc9c.setContent%28html_f7c6e1cd9f7b410e8c39e908c481bea9%29%3B%0A%20%20%20%20%20%20%20%20%0A%0A%20%20%20%20%20%20%20%20circle_marker_d0b6a9af7a5149c59875b2276361489b.bindPopup%28popup_b002670a9d5c4aa4b993746d7153bc9c%29%0A%20%20%20%20%20%20%20%20%3B%0A%0A%20%20%20%20%20%20%20%20%0A%20%20%20%20%0A%20%20%20%20%0A%20%20%20%20%20%20%20%20%20%20%20%20var%20circle_marker_b84a343725e649c89b764b65e8127df5%20%3D%20L.circleMarker%28%0A%20%20%20%20%20%20%20%20%20%20%20%20%20%20%20%20%5B46.603354%2C%201.8883335%5D%2C%0A%20%20%20%20%20%20%20%20%20%20%20%20%20%20%20%20%7B%22bubblingMouseEvents%22%3A%20true%2C%20%22color%22%3A%20%22%233388ff%22%2C%20%22dashArray%22%3A%20null%2C%20%22dashOffset%22%3A%20null%2C%20%22fill%22%3A%20true%2C%20%22fillColor%22%3A%20%22%233388ff%22%2C%20%22fillOpacity%22%3A%200.2%2C%20%22fillRule%22%3A%20%22evenodd%22%2C%20%22lineCap%22%3A%20%22round%22%2C%20%22lineJoin%22%3A%20%22round%22%2C%20%22opacity%22%3A%201.0%2C%20%22radius%22%3A%207%2C%20%22stroke%22%3A%20true%2C%20%22weight%22%3A%203%7D%0A%20%20%20%20%20%20%20%20%20%20%20%20%29.addTo%28marker_cluster_dbaf00fdfc5544c7b5c205caa5fb4ea7%29%3B%0A%20%20%20%20%20%20%20%20%0A%20%20%20%20%0A%20%20%20%20%20%20%20%20var%20popup_e79aea160e424f12bea7a409f25c197f%20%3D%20L.popup%28%7B%22maxWidth%22%3A%20%22100%25%22%7D%29%3B%0A%0A%20%20%20%20%20%20%20%20%0A%20%20%20%20%20%20%20%20%20%20%20%20var%20html_e5373e7fb6c646bda64971f352c6fb4b%20%3D%20%24%28%60%3Cdiv%20id%3D%22html_e5373e7fb6c646bda64971f352c6fb4b%22%20style%3D%22width%3A%20100.0%25%3B%20height%3A%20100.0%25%3B%22%3ECountry%20%3A%20France%3Cbr%3E%20%20%20%20%20%20%20%20%20%20%20%20%20%20%20%20%20%20%20%20%20Happiness%20Score%20%3A%206.592%3Cbr%3E%20%20%20%20%20%20%20%20%20%20%20%20%20%20%20%20%20%20%20%20%20Year%20%3A%202019%3Cbr%3E%3C/div%3E%60%29%5B0%5D%3B%0A%20%20%20%20%20%20%20%20%20%20%20%20popup_e79aea160e424f12bea7a409f25c197f.setContent%28html_e5373e7fb6c646bda64971f352c6fb4b%29%3B%0A%20%20%20%20%20%20%20%20%0A%0A%20%20%20%20%20%20%20%20circle_marker_b84a343725e649c89b764b65e8127df5.bindPopup%28popup_e79aea160e424f12bea7a409f25c197f%29%0A%20%20%20%20%20%20%20%20%3B%0A%0A%20%20%20%20%20%20%20%20%0A%20%20%20%20%0A%20%20%20%20%0A%20%20%20%20%20%20%20%20%20%20%20%20var%20circle_marker_4b5211ebee6b4e03b68eea20e3278f17%20%3D%20L.circleMarker%28%0A%20%20%20%20%20%20%20%20%20%20%20%20%20%20%20%20%5B46.603354%2C%201.8883335%5D%2C%0A%20%20%20%20%20%20%20%20%20%20%20%20%20%20%20%20%7B%22bubblingMouseEvents%22%3A%20true%2C%20%22color%22%3A%20%22%233388ff%22%2C%20%22dashArray%22%3A%20null%2C%20%22dashOffset%22%3A%20null%2C%20%22fill%22%3A%20true%2C%20%22fillColor%22%3A%20%22%233388ff%22%2C%20%22fillOpacity%22%3A%200.2%2C%20%22fillRule%22%3A%20%22evenodd%22%2C%20%22lineCap%22%3A%20%22round%22%2C%20%22lineJoin%22%3A%20%22round%22%2C%20%22opacity%22%3A%201.0%2C%20%22radius%22%3A%207%2C%20%22stroke%22%3A%20true%2C%20%22weight%22%3A%203%7D%0A%20%20%20%20%20%20%20%20%20%20%20%20%29.addTo%28marker_cluster_dbaf00fdfc5544c7b5c205caa5fb4ea7%29%3B%0A%20%20%20%20%20%20%20%20%0A%20%20%20%20%0A%20%20%20%20%20%20%20%20var%20popup_9cb863b6b50641d5a7325f799db1ceaa%20%3D%20L.popup%28%7B%22maxWidth%22%3A%20%22100%25%22%7D%29%3B%0A%0A%20%20%20%20%20%20%20%20%0A%20%20%20%20%20%20%20%20%20%20%20%20var%20html_238fe2fe6c274347a127b84a93e93542%20%3D%20%24%28%60%3Cdiv%20id%3D%22html_238fe2fe6c274347a127b84a93e93542%22%20style%3D%22width%3A%20100.0%25%3B%20height%3A%20100.0%25%3B%22%3ECountry%20%3A%20France%3Cbr%3E%20%20%20%20%20%20%20%20%20%20%20%20%20%20%20%20%20%20%20%20%20Happiness%20Score%20%3A%206.575%3Cbr%3E%20%20%20%20%20%20%20%20%20%20%20%20%20%20%20%20%20%20%20%20%20Year%20%3A%202015%3Cbr%3E%3C/div%3E%60%29%5B0%5D%3B%0A%20%20%20%20%20%20%20%20%20%20%20%20popup_9cb863b6b50641d5a7325f799db1ceaa.setContent%28html_238fe2fe6c274347a127b84a93e93542%29%3B%0A%20%20%20%20%20%20%20%20%0A%0A%20%20%20%20%20%20%20%20circle_marker_4b5211ebee6b4e03b68eea20e3278f17.bindPopup%28popup_9cb863b6b50641d5a7325f799db1ceaa%29%0A%20%20%20%20%20%20%20%20%3B%0A%0A%20%20%20%20%20%20%20%20%0A%20%20%20%20%0A%20%20%20%20%0A%20%20%20%20%20%20%20%20%20%20%20%20var%20circle_marker_cce3d946cc4d447eb5406e3d3faece9e%20%3D%20L.circleMarker%28%0A%20%20%20%20%20%20%20%20%20%20%20%20%20%20%20%20%5B46.603354%2C%201.8883335%5D%2C%0A%20%20%20%20%20%20%20%20%20%20%20%20%20%20%20%20%7B%22bubblingMouseEvents%22%3A%20true%2C%20%22color%22%3A%20%22%233388ff%22%2C%20%22dashArray%22%3A%20null%2C%20%22dashOffset%22%3A%20null%2C%20%22fill%22%3A%20true%2C%20%22fillColor%22%3A%20%22%233388ff%22%2C%20%22fillOpacity%22%3A%200.2%2C%20%22fillRule%22%3A%20%22evenodd%22%2C%20%22lineCap%22%3A%20%22round%22%2C%20%22lineJoin%22%3A%20%22round%22%2C%20%22opacity%22%3A%201.0%2C%20%22radius%22%3A%207%2C%20%22stroke%22%3A%20true%2C%20%22weight%22%3A%203%7D%0A%20%20%20%20%20%20%20%20%20%20%20%20%29.addTo%28marker_cluster_dbaf00fdfc5544c7b5c205caa5fb4ea7%29%3B%0A%20%20%20%20%20%20%20%20%0A%20%20%20%20%0A%20%20%20%20%20%20%20%20var%20popup_71a0792581764b66b711d0fe53dea144%20%3D%20L.popup%28%7B%22maxWidth%22%3A%20%22100%25%22%7D%29%3B%0A%0A%20%20%20%20%20%20%20%20%0A%20%20%20%20%20%20%20%20%20%20%20%20var%20html_e3e27e73f8944262b591cd1be1314e7f%20%3D%20%24%28%60%3Cdiv%20id%3D%22html_e3e27e73f8944262b591cd1be1314e7f%22%20style%3D%22width%3A%20100.0%25%3B%20height%3A%20100.0%25%3B%22%3ECountry%20%3A%20France%3Cbr%3E%20%20%20%20%20%20%20%20%20%20%20%20%20%20%20%20%20%20%20%20%20Happiness%20Score%20%3A%206.489%3Cbr%3E%20%20%20%20%20%20%20%20%20%20%20%20%20%20%20%20%20%20%20%20%20Year%20%3A%202018%3Cbr%3E%3C/div%3E%60%29%5B0%5D%3B%0A%20%20%20%20%20%20%20%20%20%20%20%20popup_71a0792581764b66b711d0fe53dea144.setContent%28html_e3e27e73f8944262b591cd1be1314e7f%29%3B%0A%20%20%20%20%20%20%20%20%0A%0A%20%20%20%20%20%20%20%20circle_marker_cce3d946cc4d447eb5406e3d3faece9e.bindPopup%28popup_71a0792581764b66b711d0fe53dea144%29%0A%20%20%20%20%20%20%20%20%3B%0A%0A%20%20%20%20%20%20%20%20%0A%20%20%20%20%0A%20%20%20%20%0A%20%20%20%20%20%20%20%20%20%20%20%20var%20circle_marker_3a796b96bdfc4036b5b0bee518769a18%20%3D%20L.circleMarker%28%0A%20%20%20%20%20%20%20%20%20%20%20%20%20%20%20%20%5B46.603354%2C%201.8883335%5D%2C%0A%20%20%20%20%20%20%20%20%20%20%20%20%20%20%20%20%7B%22bubblingMouseEvents%22%3A%20true%2C%20%22color%22%3A%20%22%233388ff%22%2C%20%22dashArray%22%3A%20null%2C%20%22dashOffset%22%3A%20null%2C%20%22fill%22%3A%20true%2C%20%22fillColor%22%3A%20%22%233388ff%22%2C%20%22fillOpacity%22%3A%200.2%2C%20%22fillRule%22%3A%20%22evenodd%22%2C%20%22lineCap%22%3A%20%22round%22%2C%20%22lineJoin%22%3A%20%22round%22%2C%20%22opacity%22%3A%201.0%2C%20%22radius%22%3A%207%2C%20%22stroke%22%3A%20true%2C%20%22weight%22%3A%203%7D%0A%20%20%20%20%20%20%20%20%20%20%20%20%29.addTo%28marker_cluster_dbaf00fdfc5544c7b5c205caa5fb4ea7%29%3B%0A%20%20%20%20%20%20%20%20%0A%20%20%20%20%0A%20%20%20%20%20%20%20%20var%20popup_12f3835f5fa6403f9a20df210045b43c%20%3D%20L.popup%28%7B%22maxWidth%22%3A%20%22100%25%22%7D%29%3B%0A%0A%20%20%20%20%20%20%20%20%0A%20%20%20%20%20%20%20%20%20%20%20%20var%20html_8abbb9dfe025453ea619e114c535bfc3%20%3D%20%24%28%60%3Cdiv%20id%3D%22html_8abbb9dfe025453ea619e114c535bfc3%22%20style%3D%22width%3A%20100.0%25%3B%20height%3A%20100.0%25%3B%22%3ECountry%20%3A%20France%3Cbr%3E%20%20%20%20%20%20%20%20%20%20%20%20%20%20%20%20%20%20%20%20%20Happiness%20Score%20%3A%206.478%3Cbr%3E%20%20%20%20%20%20%20%20%20%20%20%20%20%20%20%20%20%20%20%20%20Year%20%3A%202016%3Cbr%3E%3C/div%3E%60%29%5B0%5D%3B%0A%20%20%20%20%20%20%20%20%20%20%20%20popup_12f3835f5fa6403f9a20df210045b43c.setContent%28html_8abbb9dfe025453ea619e114c535bfc3%29%3B%0A%20%20%20%20%20%20%20%20%0A%0A%20%20%20%20%20%20%20%20circle_marker_3a796b96bdfc4036b5b0bee518769a18.bindPopup%28popup_12f3835f5fa6403f9a20df210045b43c%29%0A%20%20%20%20%20%20%20%20%3B%0A%0A%20%20%20%20%20%20%20%20%0A%20%20%20%20%0A%20%20%20%20%0A%20%20%20%20%20%20%20%20%20%20%20%20var%20circle_marker_abd7d5b2540f45b985b31c61e59ccf3d%20%3D%20L.circleMarker%28%0A%20%20%20%20%20%20%20%20%20%20%20%20%20%20%20%20%5B46.603354%2C%201.8883335%5D%2C%0A%20%20%20%20%20%20%20%20%20%20%20%20%20%20%20%20%7B%22bubblingMouseEvents%22%3A%20true%2C%20%22color%22%3A%20%22%233388ff%22%2C%20%22dashArray%22%3A%20null%2C%20%22dashOffset%22%3A%20null%2C%20%22fill%22%3A%20true%2C%20%22fillColor%22%3A%20%22%233388ff%22%2C%20%22fillOpacity%22%3A%200.2%2C%20%22fillRule%22%3A%20%22evenodd%22%2C%20%22lineCap%22%3A%20%22round%22%2C%20%22lineJoin%22%3A%20%22round%22%2C%20%22opacity%22%3A%201.0%2C%20%22radius%22%3A%207%2C%20%22stroke%22%3A%20true%2C%20%22weight%22%3A%203%7D%0A%20%20%20%20%20%20%20%20%20%20%20%20%29.addTo%28marker_cluster_dbaf00fdfc5544c7b5c205caa5fb4ea7%29%3B%0A%20%20%20%20%20%20%20%20%0A%20%20%20%20%0A%20%20%20%20%20%20%20%20var%20popup_9df33af7f649498ba0e0762303736e3f%20%3D%20L.popup%28%7B%22maxWidth%22%3A%20%22100%25%22%7D%29%3B%0A%0A%20%20%20%20%20%20%20%20%0A%20%20%20%20%20%20%20%20%20%20%20%20var%20html_e8ad301593e947b09a124359b764a552%20%3D%20%24%28%60%3Cdiv%20id%3D%22html_e8ad301593e947b09a124359b764a552%22%20style%3D%22width%3A%20100.0%25%3B%20height%3A%20100.0%25%3B%22%3ECountry%20%3A%20France%3Cbr%3E%20%20%20%20%20%20%20%20%20%20%20%20%20%20%20%20%20%20%20%20%20Happiness%20Score%20%3A%206.44199991226196%3Cbr%3E%20%20%20%20%20%20%20%20%20%20%20%20%20%20%20%20%20%20%20%20%20Year%20%3A%202017%3Cbr%3E%3C/div%3E%60%29%5B0%5D%3B%0A%20%20%20%20%20%20%20%20%20%20%20%20popup_9df33af7f649498ba0e0762303736e3f.setContent%28html_e8ad301593e947b09a124359b764a552%29%3B%0A%20%20%20%20%20%20%20%20%0A%0A%20%20%20%20%20%20%20%20circle_marker_abd7d5b2540f45b985b31c61e59ccf3d.bindPopup%28popup_9df33af7f649498ba0e0762303736e3f%29%0A%20%20%20%20%20%20%20%20%3B%0A%0A%20%20%20%20%20%20%20%20%0A%20%20%20%20%0A%20%20%20%20%0A%20%20%20%20%20%20%20%20%20%20%20%20var%20circle_marker_2724cc1f0ce84fdfa95ec21992610cc9%20%3D%20L.circleMarker%28%0A%20%20%20%20%20%20%20%20%20%20%20%20%20%20%20%20%5B39.3260685%2C%20-4.8379791%5D%2C%0A%20%20%20%20%20%20%20%20%20%20%20%20%20%20%20%20%7B%22bubblingMouseEvents%22%3A%20true%2C%20%22color%22%3A%20%22%233388ff%22%2C%20%22dashArray%22%3A%20null%2C%20%22dashOffset%22%3A%20null%2C%20%22fill%22%3A%20true%2C%20%22fillColor%22%3A%20%22%233388ff%22%2C%20%22fillOpacity%22%3A%200.2%2C%20%22fillRule%22%3A%20%22evenodd%22%2C%20%22lineCap%22%3A%20%22round%22%2C%20%22lineJoin%22%3A%20%22round%22%2C%20%22opacity%22%3A%201.0%2C%20%22radius%22%3A%207%2C%20%22stroke%22%3A%20true%2C%20%22weight%22%3A%203%7D%0A%20%20%20%20%20%20%20%20%20%20%20%20%29.addTo%28marker_cluster_dbaf00fdfc5544c7b5c205caa5fb4ea7%29%3B%0A%20%20%20%20%20%20%20%20%0A%20%20%20%20%0A%20%20%20%20%20%20%20%20var%20popup_e4730b4bcd69401385063231252f1161%20%3D%20L.popup%28%7B%22maxWidth%22%3A%20%22100%25%22%7D%29%3B%0A%0A%20%20%20%20%20%20%20%20%0A%20%20%20%20%20%20%20%20%20%20%20%20var%20html_11c295fdc05e4bc5b4b1238aae1fcce7%20%3D%20%24%28%60%3Cdiv%20id%3D%22html_11c295fdc05e4bc5b4b1238aae1fcce7%22%20style%3D%22width%3A%20100.0%25%3B%20height%3A%20100.0%25%3B%22%3ECountry%20%3A%20Spain%3Cbr%3E%20%20%20%20%20%20%20%20%20%20%20%20%20%20%20%20%20%20%20%20%20Happiness%20Score%20%3A%206.40299987792969%3Cbr%3E%20%20%20%20%20%20%20%20%20%20%20%20%20%20%20%20%20%20%20%20%20Year%20%3A%202017%3Cbr%3E%3C/div%3E%60%29%5B0%5D%3B%0A%20%20%20%20%20%20%20%20%20%20%20%20popup_e4730b4bcd69401385063231252f1161.setContent%28html_11c295fdc05e4bc5b4b1238aae1fcce7%29%3B%0A%20%20%20%20%20%20%20%20%0A%0A%20%20%20%20%20%20%20%20circle_marker_2724cc1f0ce84fdfa95ec21992610cc9.bindPopup%28popup_e4730b4bcd69401385063231252f1161%29%0A%20%20%20%20%20%20%20%20%3B%0A%0A%20%20%20%20%20%20%20%20%0A%20%20%20%20%0A%20%20%20%20%0A%20%20%20%20%20%20%20%20%20%20%20%20var%20circle_marker_106b41ee76b64489b3c169b08e16655d%20%3D%20L.circleMarker%28%0A%20%20%20%20%20%20%20%20%20%20%20%20%20%20%20%20%5B39.3260685%2C%20-4.8379791%5D%2C%0A%20%20%20%20%20%20%20%20%20%20%20%20%20%20%20%20%7B%22bubblingMouseEvents%22%3A%20true%2C%20%22color%22%3A%20%22%233388ff%22%2C%20%22dashArray%22%3A%20null%2C%20%22dashOffset%22%3A%20null%2C%20%22fill%22%3A%20true%2C%20%22fillColor%22%3A%20%22%233388ff%22%2C%20%22fillOpacity%22%3A%200.2%2C%20%22fillRule%22%3A%20%22evenodd%22%2C%20%22lineCap%22%3A%20%22round%22%2C%20%22lineJoin%22%3A%20%22round%22%2C%20%22opacity%22%3A%201.0%2C%20%22radius%22%3A%207%2C%20%22stroke%22%3A%20true%2C%20%22weight%22%3A%203%7D%0A%20%20%20%20%20%20%20%20%20%20%20%20%29.addTo%28marker_cluster_dbaf00fdfc5544c7b5c205caa5fb4ea7%29%3B%0A%20%20%20%20%20%20%20%20%0A%20%20%20%20%0A%20%20%20%20%20%20%20%20var%20popup_9503c214517948afba83e22d82e41a4f%20%3D%20L.popup%28%7B%22maxWidth%22%3A%20%22100%25%22%7D%29%3B%0A%0A%20%20%20%20%20%20%20%20%0A%20%20%20%20%20%20%20%20%20%20%20%20var%20html_3c9a28ce763842c59b9aad371cf5461e%20%3D%20%24%28%60%3Cdiv%20id%3D%22html_3c9a28ce763842c59b9aad371cf5461e%22%20style%3D%22width%3A%20100.0%25%3B%20height%3A%20100.0%25%3B%22%3ECountry%20%3A%20Spain%3Cbr%3E%20%20%20%20%20%20%20%20%20%20%20%20%20%20%20%20%20%20%20%20%20Happiness%20Score%20%3A%206.361%3Cbr%3E%20%20%20%20%20%20%20%20%20%20%20%20%20%20%20%20%20%20%20%20%20Year%20%3A%202016%3Cbr%3E%3C/div%3E%60%29%5B0%5D%3B%0A%20%20%20%20%20%20%20%20%20%20%20%20popup_9503c214517948afba83e22d82e41a4f.setContent%28html_3c9a28ce763842c59b9aad371cf5461e%29%3B%0A%20%20%20%20%20%20%20%20%0A%0A%20%20%20%20%20%20%20%20circle_marker_106b41ee76b64489b3c169b08e16655d.bindPopup%28popup_9503c214517948afba83e22d82e41a4f%29%0A%20%20%20%20%20%20%20%20%3B%0A%0A%20%20%20%20%20%20%20%20%0A%20%20%20%20%0A%20%20%20%20%0A%20%20%20%20%20%20%20%20%20%20%20%20var%20circle_marker_b6cdadbc5f5e483fa8a6aba357ae46d9%20%3D%20L.circleMarker%28%0A%20%20%20%20%20%20%20%20%20%20%20%20%20%20%20%20%5B39.3260685%2C%20-4.8379791%5D%2C%0A%20%20%20%20%20%20%20%20%20%20%20%20%20%20%20%20%7B%22bubblingMouseEvents%22%3A%20true%2C%20%22color%22%3A%20%22%233388ff%22%2C%20%22dashArray%22%3A%20null%2C%20%22dashOffset%22%3A%20null%2C%20%22fill%22%3A%20true%2C%20%22fillColor%22%3A%20%22%233388ff%22%2C%20%22fillOpacity%22%3A%200.2%2C%20%22fillRule%22%3A%20%22evenodd%22%2C%20%22lineCap%22%3A%20%22round%22%2C%20%22lineJoin%22%3A%20%22round%22%2C%20%22opacity%22%3A%201.0%2C%20%22radius%22%3A%207%2C%20%22stroke%22%3A%20true%2C%20%22weight%22%3A%203%7D%0A%20%20%20%20%20%20%20%20%20%20%20%20%29.addTo%28marker_cluster_dbaf00fdfc5544c7b5c205caa5fb4ea7%29%3B%0A%20%20%20%20%20%20%20%20%0A%20%20%20%20%0A%20%20%20%20%20%20%20%20var%20popup_1206a92901fd4f198764dcce3149437c%20%3D%20L.popup%28%7B%22maxWidth%22%3A%20%22100%25%22%7D%29%3B%0A%0A%20%20%20%20%20%20%20%20%0A%20%20%20%20%20%20%20%20%20%20%20%20var%20html_2a61b928d0194e06bb917335c65b9e5c%20%3D%20%24%28%60%3Cdiv%20id%3D%22html_2a61b928d0194e06bb917335c65b9e5c%22%20style%3D%22width%3A%20100.0%25%3B%20height%3A%20100.0%25%3B%22%3ECountry%20%3A%20Spain%3Cbr%3E%20%20%20%20%20%20%20%20%20%20%20%20%20%20%20%20%20%20%20%20%20Happiness%20Score%20%3A%206.354%3Cbr%3E%20%20%20%20%20%20%20%20%20%20%20%20%20%20%20%20%20%20%20%20%20Year%20%3A%202019%3Cbr%3E%3C/div%3E%60%29%5B0%5D%3B%0A%20%20%20%20%20%20%20%20%20%20%20%20popup_1206a92901fd4f198764dcce3149437c.setContent%28html_2a61b928d0194e06bb917335c65b9e5c%29%3B%0A%20%20%20%20%20%20%20%20%0A%0A%20%20%20%20%20%20%20%20circle_marker_b6cdadbc5f5e483fa8a6aba357ae46d9.bindPopup%28popup_1206a92901fd4f198764dcce3149437c%29%0A%20%20%20%20%20%20%20%20%3B%0A%0A%20%20%20%20%20%20%20%20%0A%20%20%20%20%0A%20%20%20%20%0A%20%20%20%20%20%20%20%20%20%20%20%20var%20circle_marker_3b0802984c8e46a4b6d1e48bb6c5aa70%20%3D%20L.circleMarker%28%0A%20%20%20%20%20%20%20%20%20%20%20%20%20%20%20%20%5B39.3260685%2C%20-4.8379791%5D%2C%0A%20%20%20%20%20%20%20%20%20%20%20%20%20%20%20%20%7B%22bubblingMouseEvents%22%3A%20true%2C%20%22color%22%3A%20%22%233388ff%22%2C%20%22dashArray%22%3A%20null%2C%20%22dashOffset%22%3A%20null%2C%20%22fill%22%3A%20true%2C%20%22fillColor%22%3A%20%22%233388ff%22%2C%20%22fillOpacity%22%3A%200.2%2C%20%22fillRule%22%3A%20%22evenodd%22%2C%20%22lineCap%22%3A%20%22round%22%2C%20%22lineJoin%22%3A%20%22round%22%2C%20%22opacity%22%3A%201.0%2C%20%22radius%22%3A%207%2C%20%22stroke%22%3A%20true%2C%20%22weight%22%3A%203%7D%0A%20%20%20%20%20%20%20%20%20%20%20%20%29.addTo%28marker_cluster_dbaf00fdfc5544c7b5c205caa5fb4ea7%29%3B%0A%20%20%20%20%20%20%20%20%0A%20%20%20%20%0A%20%20%20%20%20%20%20%20var%20popup_6c4375be21394b5bb70eda13566d797e%20%3D%20L.popup%28%7B%22maxWidth%22%3A%20%22100%25%22%7D%29%3B%0A%0A%20%20%20%20%20%20%20%20%0A%20%20%20%20%20%20%20%20%20%20%20%20var%20html_6ccbf2e817804269a9e1cf1b2e55be08%20%3D%20%24%28%60%3Cdiv%20id%3D%22html_6ccbf2e817804269a9e1cf1b2e55be08%22%20style%3D%22width%3A%20100.0%25%3B%20height%3A%20100.0%25%3B%22%3ECountry%20%3A%20Spain%3Cbr%3E%20%20%20%20%20%20%20%20%20%20%20%20%20%20%20%20%20%20%20%20%20Happiness%20Score%20%3A%206.329%3Cbr%3E%20%20%20%20%20%20%20%20%20%20%20%20%20%20%20%20%20%20%20%20%20Year%20%3A%202015%3Cbr%3E%3C/div%3E%60%29%5B0%5D%3B%0A%20%20%20%20%20%20%20%20%20%20%20%20popup_6c4375be21394b5bb70eda13566d797e.setContent%28html_6ccbf2e817804269a9e1cf1b2e55be08%29%3B%0A%20%20%20%20%20%20%20%20%0A%0A%20%20%20%20%20%20%20%20circle_marker_3b0802984c8e46a4b6d1e48bb6c5aa70.bindPopup%28popup_6c4375be21394b5bb70eda13566d797e%29%0A%20%20%20%20%20%20%20%20%3B%0A%0A%20%20%20%20%20%20%20%20%0A%20%20%20%20%0A%20%20%20%20%0A%20%20%20%20%20%20%20%20%20%20%20%20var%20circle_marker_ec2806724230408da74f21bcf7a79bd2%20%3D%20L.circleMarker%28%0A%20%20%20%20%20%20%20%20%20%20%20%20%20%20%20%20%5B39.3260685%2C%20-4.8379791%5D%2C%0A%20%20%20%20%20%20%20%20%20%20%20%20%20%20%20%20%7B%22bubblingMouseEvents%22%3A%20true%2C%20%22color%22%3A%20%22%233388ff%22%2C%20%22dashArray%22%3A%20null%2C%20%22dashOffset%22%3A%20null%2C%20%22fill%22%3A%20true%2C%20%22fillColor%22%3A%20%22%233388ff%22%2C%20%22fillOpacity%22%3A%200.2%2C%20%22fillRule%22%3A%20%22evenodd%22%2C%20%22lineCap%22%3A%20%22round%22%2C%20%22lineJoin%22%3A%20%22round%22%2C%20%22opacity%22%3A%201.0%2C%20%22radius%22%3A%207%2C%20%22stroke%22%3A%20true%2C%20%22weight%22%3A%203%7D%0A%20%20%20%20%20%20%20%20%20%20%20%20%29.addTo%28marker_cluster_dbaf00fdfc5544c7b5c205caa5fb4ea7%29%3B%0A%20%20%20%20%20%20%20%20%0A%20%20%20%20%0A%20%20%20%20%20%20%20%20var%20popup_4026c2c25dd9412192f19f02eb399e4a%20%3D%20L.popup%28%7B%22maxWidth%22%3A%20%22100%25%22%7D%29%3B%0A%0A%20%20%20%20%20%20%20%20%0A%20%20%20%20%20%20%20%20%20%20%20%20var%20html_39ef2eac15df42e5baa5441d954bc6d0%20%3D%20%24%28%60%3Cdiv%20id%3D%22html_39ef2eac15df42e5baa5441d954bc6d0%22%20style%3D%22width%3A%20100.0%25%3B%20height%3A%20100.0%25%3B%22%3ECountry%20%3A%20Spain%3Cbr%3E%20%20%20%20%20%20%20%20%20%20%20%20%20%20%20%20%20%20%20%20%20Happiness%20Score%20%3A%206.31%3Cbr%3E%20%20%20%20%20%20%20%20%20%20%20%20%20%20%20%20%20%20%20%20%20Year%20%3A%202018%3Cbr%3E%3C/div%3E%60%29%5B0%5D%3B%0A%20%20%20%20%20%20%20%20%20%20%20%20popup_4026c2c25dd9412192f19f02eb399e4a.setContent%28html_39ef2eac15df42e5baa5441d954bc6d0%29%3B%0A%20%20%20%20%20%20%20%20%0A%0A%20%20%20%20%20%20%20%20circle_marker_ec2806724230408da74f21bcf7a79bd2.bindPopup%28popup_4026c2c25dd9412192f19f02eb399e4a%29%0A%20%20%20%20%20%20%20%20%3B%0A%0A%20%20%20%20%20%20%20%20%0A%20%20%20%20%0A%20%20%20%20%0A%20%20%20%20%20%20%20%20%20%20%20%20var%20circle_marker_14eebb8f0f474c72ac05887e10a60cc0%20%3D%20L.circleMarker%28%0A%20%20%20%20%20%20%20%20%20%20%20%20%20%20%20%20%5B42.6384261%2C%2012.674297%5D%2C%0A%20%20%20%20%20%20%20%20%20%20%20%20%20%20%20%20%7B%22bubblingMouseEvents%22%3A%20true%2C%20%22color%22%3A%20%22%233388ff%22%2C%20%22dashArray%22%3A%20null%2C%20%22dashOffset%22%3A%20null%2C%20%22fill%22%3A%20true%2C%20%22fillColor%22%3A%20%22%233388ff%22%2C%20%22fillOpacity%22%3A%200.2%2C%20%22fillRule%22%3A%20%22evenodd%22%2C%20%22lineCap%22%3A%20%22round%22%2C%20%22lineJoin%22%3A%20%22round%22%2C%20%22opacity%22%3A%201.0%2C%20%22radius%22%3A%207%2C%20%22stroke%22%3A%20true%2C%20%22weight%22%3A%203%7D%0A%20%20%20%20%20%20%20%20%20%20%20%20%29.addTo%28marker_cluster_dbaf00fdfc5544c7b5c205caa5fb4ea7%29%3B%0A%20%20%20%20%20%20%20%20%0A%20%20%20%20%0A%20%20%20%20%20%20%20%20var%20popup_2ebb000738be48b3bdc809a948d2336f%20%3D%20L.popup%28%7B%22maxWidth%22%3A%20%22100%25%22%7D%29%3B%0A%0A%20%20%20%20%20%20%20%20%0A%20%20%20%20%20%20%20%20%20%20%20%20var%20html_3dff8b0badd14000ad5bf0e55a0eaf0b%20%3D%20%24%28%60%3Cdiv%20id%3D%22html_3dff8b0badd14000ad5bf0e55a0eaf0b%22%20style%3D%22width%3A%20100.0%25%3B%20height%3A%20100.0%25%3B%22%3ECountry%20%3A%20Italy%3Cbr%3E%20%20%20%20%20%20%20%20%20%20%20%20%20%20%20%20%20%20%20%20%20Happiness%20Score%20%3A%206.223%3Cbr%3E%20%20%20%20%20%20%20%20%20%20%20%20%20%20%20%20%20%20%20%20%20Year%20%3A%202019%3Cbr%3E%3C/div%3E%60%29%5B0%5D%3B%0A%20%20%20%20%20%20%20%20%20%20%20%20popup_2ebb000738be48b3bdc809a948d2336f.setContent%28html_3dff8b0badd14000ad5bf0e55a0eaf0b%29%3B%0A%20%20%20%20%20%20%20%20%0A%0A%20%20%20%20%20%20%20%20circle_marker_14eebb8f0f474c72ac05887e10a60cc0.bindPopup%28popup_2ebb000738be48b3bdc809a948d2336f%29%0A%20%20%20%20%20%20%20%20%3B%0A%0A%20%20%20%20%20%20%20%20%0A%20%20%20%20%0A%20%20%20%20%0A%20%20%20%20%20%20%20%20%20%20%20%20var%20circle_marker_ae62d1d2421149cabcdba6a30ae12d21%20%3D%20L.circleMarker%28%0A%20%20%20%20%20%20%20%20%20%20%20%20%20%20%20%20%5B42.6384261%2C%2012.674297%5D%2C%0A%20%20%20%20%20%20%20%20%20%20%20%20%20%20%20%20%7B%22bubblingMouseEvents%22%3A%20true%2C%20%22color%22%3A%20%22%233388ff%22%2C%20%22dashArray%22%3A%20null%2C%20%22dashOffset%22%3A%20null%2C%20%22fill%22%3A%20true%2C%20%22fillColor%22%3A%20%22%233388ff%22%2C%20%22fillOpacity%22%3A%200.2%2C%20%22fillRule%22%3A%20%22evenodd%22%2C%20%22lineCap%22%3A%20%22round%22%2C%20%22lineJoin%22%3A%20%22round%22%2C%20%22opacity%22%3A%201.0%2C%20%22radius%22%3A%207%2C%20%22stroke%22%3A%20true%2C%20%22weight%22%3A%203%7D%0A%20%20%20%20%20%20%20%20%20%20%20%20%29.addTo%28marker_cluster_dbaf00fdfc5544c7b5c205caa5fb4ea7%29%3B%0A%20%20%20%20%20%20%20%20%0A%20%20%20%20%0A%20%20%20%20%20%20%20%20var%20popup_0162095937244afbafeeb10022876110%20%3D%20L.popup%28%7B%22maxWidth%22%3A%20%22100%25%22%7D%29%3B%0A%0A%20%20%20%20%20%20%20%20%0A%20%20%20%20%20%20%20%20%20%20%20%20var%20html_fe4e7058f00b41cc95a0f8066891a053%20%3D%20%24%28%60%3Cdiv%20id%3D%22html_fe4e7058f00b41cc95a0f8066891a053%22%20style%3D%22width%3A%20100.0%25%3B%20height%3A%20100.0%25%3B%22%3ECountry%20%3A%20Italy%3Cbr%3E%20%20%20%20%20%20%20%20%20%20%20%20%20%20%20%20%20%20%20%20%20Happiness%20Score%20%3A%206.0%3Cbr%3E%20%20%20%20%20%20%20%20%20%20%20%20%20%20%20%20%20%20%20%20%20Year%20%3A%202018%3Cbr%3E%3C/div%3E%60%29%5B0%5D%3B%0A%20%20%20%20%20%20%20%20%20%20%20%20popup_0162095937244afbafeeb10022876110.setContent%28html_fe4e7058f00b41cc95a0f8066891a053%29%3B%0A%20%20%20%20%20%20%20%20%0A%0A%20%20%20%20%20%20%20%20circle_marker_ae62d1d2421149cabcdba6a30ae12d21.bindPopup%28popup_0162095937244afbafeeb10022876110%29%0A%20%20%20%20%20%20%20%20%3B%0A%0A%20%20%20%20%20%20%20%20%0A%20%20%20%20%0A%20%20%20%20%0A%20%20%20%20%20%20%20%20%20%20%20%20var%20circle_marker_745fc8b98dbd44efa840e0fc01cea520%20%3D%20L.circleMarker%28%0A%20%20%20%20%20%20%20%20%20%20%20%20%20%20%20%20%5B42.6384261%2C%2012.674297%5D%2C%0A%20%20%20%20%20%20%20%20%20%20%20%20%20%20%20%20%7B%22bubblingMouseEvents%22%3A%20true%2C%20%22color%22%3A%20%22%233388ff%22%2C%20%22dashArray%22%3A%20null%2C%20%22dashOffset%22%3A%20null%2C%20%22fill%22%3A%20true%2C%20%22fillColor%22%3A%20%22%233388ff%22%2C%20%22fillOpacity%22%3A%200.2%2C%20%22fillRule%22%3A%20%22evenodd%22%2C%20%22lineCap%22%3A%20%22round%22%2C%20%22lineJoin%22%3A%20%22round%22%2C%20%22opacity%22%3A%201.0%2C%20%22radius%22%3A%207%2C%20%22stroke%22%3A%20true%2C%20%22weight%22%3A%203%7D%0A%20%20%20%20%20%20%20%20%20%20%20%20%29.addTo%28marker_cluster_dbaf00fdfc5544c7b5c205caa5fb4ea7%29%3B%0A%20%20%20%20%20%20%20%20%0A%20%20%20%20%0A%20%20%20%20%20%20%20%20var%20popup_06086afdd48846df952c91802cfddb3a%20%3D%20L.popup%28%7B%22maxWidth%22%3A%20%22100%25%22%7D%29%3B%0A%0A%20%20%20%20%20%20%20%20%0A%20%20%20%20%20%20%20%20%20%20%20%20var%20html_5467598fe4cb4ef1a7adcb29ee725021%20%3D%20%24%28%60%3Cdiv%20id%3D%22html_5467598fe4cb4ef1a7adcb29ee725021%22%20style%3D%22width%3A%20100.0%25%3B%20height%3A%20100.0%25%3B%22%3ECountry%20%3A%20Italy%3Cbr%3E%20%20%20%20%20%20%20%20%20%20%20%20%20%20%20%20%20%20%20%20%20Happiness%20Score%20%3A%205.977%3Cbr%3E%20%20%20%20%20%20%20%20%20%20%20%20%20%20%20%20%20%20%20%20%20Year%20%3A%202016%3Cbr%3E%3C/div%3E%60%29%5B0%5D%3B%0A%20%20%20%20%20%20%20%20%20%20%20%20popup_06086afdd48846df952c91802cfddb3a.setContent%28html_5467598fe4cb4ef1a7adcb29ee725021%29%3B%0A%20%20%20%20%20%20%20%20%0A%0A%20%20%20%20%20%20%20%20circle_marker_745fc8b98dbd44efa840e0fc01cea520.bindPopup%28popup_06086afdd48846df952c91802cfddb3a%29%0A%20%20%20%20%20%20%20%20%3B%0A%0A%20%20%20%20%20%20%20%20%0A%20%20%20%20%0A%20%20%20%20%0A%20%20%20%20%20%20%20%20%20%20%20%20var%20circle_marker_ccc32c0261d64e7cb7b1b002e08a6cbd%20%3D%20L.circleMarker%28%0A%20%20%20%20%20%20%20%20%20%20%20%20%20%20%20%20%5B42.6384261%2C%2012.674297%5D%2C%0A%20%20%20%20%20%20%20%20%20%20%20%20%20%20%20%20%7B%22bubblingMouseEvents%22%3A%20true%2C%20%22color%22%3A%20%22%233388ff%22%2C%20%22dashArray%22%3A%20null%2C%20%22dashOffset%22%3A%20null%2C%20%22fill%22%3A%20true%2C%20%22fillColor%22%3A%20%22%233388ff%22%2C%20%22fillOpacity%22%3A%200.2%2C%20%22fillRule%22%3A%20%22evenodd%22%2C%20%22lineCap%22%3A%20%22round%22%2C%20%22lineJoin%22%3A%20%22round%22%2C%20%22opacity%22%3A%201.0%2C%20%22radius%22%3A%207%2C%20%22stroke%22%3A%20true%2C%20%22weight%22%3A%203%7D%0A%20%20%20%20%20%20%20%20%20%20%20%20%29.addTo%28marker_cluster_dbaf00fdfc5544c7b5c205caa5fb4ea7%29%3B%0A%20%20%20%20%20%20%20%20%0A%20%20%20%20%0A%20%20%20%20%20%20%20%20var%20popup_2e2b3e7b9b604b82a65271de82a73b01%20%3D%20L.popup%28%7B%22maxWidth%22%3A%20%22100%25%22%7D%29%3B%0A%0A%20%20%20%20%20%20%20%20%0A%20%20%20%20%20%20%20%20%20%20%20%20var%20html_e953648bba244cae866be1f1379693b5%20%3D%20%24%28%60%3Cdiv%20id%3D%22html_e953648bba244cae866be1f1379693b5%22%20style%3D%22width%3A%20100.0%25%3B%20height%3A%20100.0%25%3B%22%3ECountry%20%3A%20Italy%3Cbr%3E%20%20%20%20%20%20%20%20%20%20%20%20%20%20%20%20%20%20%20%20%20Happiness%20Score%20%3A%205.96400022506714%3Cbr%3E%20%20%20%20%20%20%20%20%20%20%20%20%20%20%20%20%20%20%20%20%20Year%20%3A%202017%3Cbr%3E%3C/div%3E%60%29%5B0%5D%3B%0A%20%20%20%20%20%20%20%20%20%20%20%20popup_2e2b3e7b9b604b82a65271de82a73b01.setContent%28html_e953648bba244cae866be1f1379693b5%29%3B%0A%20%20%20%20%20%20%20%20%0A%0A%20%20%20%20%20%20%20%20circle_marker_ccc32c0261d64e7cb7b1b002e08a6cbd.bindPopup%28popup_2e2b3e7b9b604b82a65271de82a73b01%29%0A%20%20%20%20%20%20%20%20%3B%0A%0A%20%20%20%20%20%20%20%20%0A%20%20%20%20%0A%20%20%20%20%0A%20%20%20%20%20%20%20%20%20%20%20%20var%20circle_marker_6276f1925b204049accbd0ea5916157f%20%3D%20L.circleMarker%28%0A%20%20%20%20%20%20%20%20%20%20%20%20%20%20%20%20%5B42.6384261%2C%2012.674297%5D%2C%0A%20%20%20%20%20%20%20%20%20%20%20%20%20%20%20%20%7B%22bubblingMouseEvents%22%3A%20true%2C%20%22color%22%3A%20%22%233388ff%22%2C%20%22dashArray%22%3A%20null%2C%20%22dashOffset%22%3A%20null%2C%20%22fill%22%3A%20true%2C%20%22fillColor%22%3A%20%22%233388ff%22%2C%20%22fillOpacity%22%3A%200.2%2C%20%22fillRule%22%3A%20%22evenodd%22%2C%20%22lineCap%22%3A%20%22round%22%2C%20%22lineJoin%22%3A%20%22round%22%2C%20%22opacity%22%3A%201.0%2C%20%22radius%22%3A%207%2C%20%22stroke%22%3A%20true%2C%20%22weight%22%3A%203%7D%0A%20%20%20%20%20%20%20%20%20%20%20%20%29.addTo%28marker_cluster_dbaf00fdfc5544c7b5c205caa5fb4ea7%29%3B%0A%20%20%20%20%20%20%20%20%0A%20%20%20%20%0A%20%20%20%20%20%20%20%20var%20popup_40b3d12f2a104831ab36d549dc49a1f5%20%3D%20L.popup%28%7B%22maxWidth%22%3A%20%22100%25%22%7D%29%3B%0A%0A%20%20%20%20%20%20%20%20%0A%20%20%20%20%20%20%20%20%20%20%20%20var%20html_57b038f074e6439abb1035957752b31a%20%3D%20%24%28%60%3Cdiv%20id%3D%22html_57b038f074e6439abb1035957752b31a%22%20style%3D%22width%3A%20100.0%25%3B%20height%3A%20100.0%25%3B%22%3ECountry%20%3A%20Italy%3Cbr%3E%20%20%20%20%20%20%20%20%20%20%20%20%20%20%20%20%20%20%20%20%20Happiness%20Score%20%3A%205.948%3Cbr%3E%20%20%20%20%20%20%20%20%20%20%20%20%20%20%20%20%20%20%20%20%20Year%20%3A%202015%3Cbr%3E%3C/div%3E%60%29%5B0%5D%3B%0A%20%20%20%20%20%20%20%20%20%20%20%20popup_40b3d12f2a104831ab36d549dc49a1f5.setContent%28html_57b038f074e6439abb1035957752b31a%29%3B%0A%20%20%20%20%20%20%20%20%0A%0A%20%20%20%20%20%20%20%20circle_marker_6276f1925b204049accbd0ea5916157f.bindPopup%28popup_40b3d12f2a104831ab36d549dc49a1f5%29%0A%20%20%20%20%20%20%20%20%3B%0A%0A%20%20%20%20%20%20%20%20%0A%20%20%20%20%0A%20%20%20%20%0A%20%20%20%20%20%20%20%20%20%20%20%20var%20circle_marker_dc6d791b783e481ea995be2b6c835e97%20%3D%20L.circleMarker%28%0A%20%20%20%20%20%20%20%20%20%20%20%20%20%20%20%20%5B52.215933%2C%2019.134422%5D%2C%0A%20%20%20%20%20%20%20%20%20%20%20%20%20%20%20%20%7B%22bubblingMouseEvents%22%3A%20true%2C%20%22color%22%3A%20%22%233388ff%22%2C%20%22dashArray%22%3A%20null%2C%20%22dashOffset%22%3A%20null%2C%20%22fill%22%3A%20true%2C%20%22fillColor%22%3A%20%22%233388ff%22%2C%20%22fillOpacity%22%3A%200.2%2C%20%22fillRule%22%3A%20%22evenodd%22%2C%20%22lineCap%22%3A%20%22round%22%2C%20%22lineJoin%22%3A%20%22round%22%2C%20%22opacity%22%3A%201.0%2C%20%22radius%22%3A%207%2C%20%22stroke%22%3A%20true%2C%20%22weight%22%3A%203%7D%0A%20%20%20%20%20%20%20%20%20%20%20%20%29.addTo%28marker_cluster_dbaf00fdfc5544c7b5c205caa5fb4ea7%29%3B%0A%20%20%20%20%20%20%20%20%0A%20%20%20%20%0A%20%20%20%20%20%20%20%20var%20popup_fdf143c42d724883a77872ac235f839c%20%3D%20L.popup%28%7B%22maxWidth%22%3A%20%22100%25%22%7D%29%3B%0A%0A%20%20%20%20%20%20%20%20%0A%20%20%20%20%20%20%20%20%20%20%20%20var%20html_4d79746d83784b638f2f1685ad88647a%20%3D%20%24%28%60%3Cdiv%20id%3D%22html_4d79746d83784b638f2f1685ad88647a%22%20style%3D%22width%3A%20100.0%25%3B%20height%3A%20100.0%25%3B%22%3ECountry%20%3A%20Poland%3Cbr%3E%20%20%20%20%20%20%20%20%20%20%20%20%20%20%20%20%20%20%20%20%20Happiness%20Score%20%3A%206.182%3Cbr%3E%20%20%20%20%20%20%20%20%20%20%20%20%20%20%20%20%20%20%20%20%20Year%20%3A%202019%3Cbr%3E%3C/div%3E%60%29%5B0%5D%3B%0A%20%20%20%20%20%20%20%20%20%20%20%20popup_fdf143c42d724883a77872ac235f839c.setContent%28html_4d79746d83784b638f2f1685ad88647a%29%3B%0A%20%20%20%20%20%20%20%20%0A%0A%20%20%20%20%20%20%20%20circle_marker_dc6d791b783e481ea995be2b6c835e97.bindPopup%28popup_fdf143c42d724883a77872ac235f839c%29%0A%20%20%20%20%20%20%20%20%3B%0A%0A%20%20%20%20%20%20%20%20%0A%20%20%20%20%0A%20%20%20%20%0A%20%20%20%20%20%20%20%20%20%20%20%20var%20circle_marker_0ea46178fdd54906862e2508b6617dad%20%3D%20L.circleMarker%28%0A%20%20%20%20%20%20%20%20%20%20%20%20%20%20%20%20%5B52.215933%2C%2019.134422%5D%2C%0A%20%20%20%20%20%20%20%20%20%20%20%20%20%20%20%20%7B%22bubblingMouseEvents%22%3A%20true%2C%20%22color%22%3A%20%22%233388ff%22%2C%20%22dashArray%22%3A%20null%2C%20%22dashOffset%22%3A%20null%2C%20%22fill%22%3A%20true%2C%20%22fillColor%22%3A%20%22%233388ff%22%2C%20%22fillOpacity%22%3A%200.2%2C%20%22fillRule%22%3A%20%22evenodd%22%2C%20%22lineCap%22%3A%20%22round%22%2C%20%22lineJoin%22%3A%20%22round%22%2C%20%22opacity%22%3A%201.0%2C%20%22radius%22%3A%207%2C%20%22stroke%22%3A%20true%2C%20%22weight%22%3A%203%7D%0A%20%20%20%20%20%20%20%20%20%20%20%20%29.addTo%28marker_cluster_dbaf00fdfc5544c7b5c205caa5fb4ea7%29%3B%0A%20%20%20%20%20%20%20%20%0A%20%20%20%20%0A%20%20%20%20%20%20%20%20var%20popup_f3879235994d412cbb2d697971866a9a%20%3D%20L.popup%28%7B%22maxWidth%22%3A%20%22100%25%22%7D%29%3B%0A%0A%20%20%20%20%20%20%20%20%0A%20%20%20%20%20%20%20%20%20%20%20%20var%20html_b2276fee23224306878b7caabe7cca75%20%3D%20%24%28%60%3Cdiv%20id%3D%22html_b2276fee23224306878b7caabe7cca75%22%20style%3D%22width%3A%20100.0%25%3B%20height%3A%20100.0%25%3B%22%3ECountry%20%3A%20Poland%3Cbr%3E%20%20%20%20%20%20%20%20%20%20%20%20%20%20%20%20%20%20%20%20%20Happiness%20Score%20%3A%206.123%3Cbr%3E%20%20%20%20%20%20%20%20%20%20%20%20%20%20%20%20%20%20%20%20%20Year%20%3A%202018%3Cbr%3E%3C/div%3E%60%29%5B0%5D%3B%0A%20%20%20%20%20%20%20%20%20%20%20%20popup_f3879235994d412cbb2d697971866a9a.setContent%28html_b2276fee23224306878b7caabe7cca75%29%3B%0A%20%20%20%20%20%20%20%20%0A%0A%20%20%20%20%20%20%20%20circle_marker_0ea46178fdd54906862e2508b6617dad.bindPopup%28popup_f3879235994d412cbb2d697971866a9a%29%0A%20%20%20%20%20%20%20%20%3B%0A%0A%20%20%20%20%20%20%20%20%0A%20%20%20%20%0A%20%20%20%20%0A%20%20%20%20%20%20%20%20%20%20%20%20var%20circle_marker_0a9d5839e9164171a6a68c786bbc6a8f%20%3D%20L.circleMarker%28%0A%20%20%20%20%20%20%20%20%20%20%20%20%20%20%20%20%5B52.215933%2C%2019.134422%5D%2C%0A%20%20%20%20%20%20%20%20%20%20%20%20%20%20%20%20%7B%22bubblingMouseEvents%22%3A%20true%2C%20%22color%22%3A%20%22%233388ff%22%2C%20%22dashArray%22%3A%20null%2C%20%22dashOffset%22%3A%20null%2C%20%22fill%22%3A%20true%2C%20%22fillColor%22%3A%20%22%233388ff%22%2C%20%22fillOpacity%22%3A%200.2%2C%20%22fillRule%22%3A%20%22evenodd%22%2C%20%22lineCap%22%3A%20%22round%22%2C%20%22lineJoin%22%3A%20%22round%22%2C%20%22opacity%22%3A%201.0%2C%20%22radius%22%3A%207%2C%20%22stroke%22%3A%20true%2C%20%22weight%22%3A%203%7D%0A%20%20%20%20%20%20%20%20%20%20%20%20%29.addTo%28marker_cluster_dbaf00fdfc5544c7b5c205caa5fb4ea7%29%3B%0A%20%20%20%20%20%20%20%20%0A%20%20%20%20%0A%20%20%20%20%20%20%20%20var%20popup_88767d28582a4f159d13672f1cf7d6bc%20%3D%20L.popup%28%7B%22maxWidth%22%3A%20%22100%25%22%7D%29%3B%0A%0A%20%20%20%20%20%20%20%20%0A%20%20%20%20%20%20%20%20%20%20%20%20var%20html_83b4557aa1374c2abb518ca7f006fdc0%20%3D%20%24%28%60%3Cdiv%20id%3D%22html_83b4557aa1374c2abb518ca7f006fdc0%22%20style%3D%22width%3A%20100.0%25%3B%20height%3A%20100.0%25%3B%22%3ECountry%20%3A%20Poland%3Cbr%3E%20%20%20%20%20%20%20%20%20%20%20%20%20%20%20%20%20%20%20%20%20Happiness%20Score%20%3A%205.97300004959106%3Cbr%3E%20%20%20%20%20%20%20%20%20%20%20%20%20%20%20%20%20%20%20%20%20Year%20%3A%202017%3Cbr%3E%3C/div%3E%60%29%5B0%5D%3B%0A%20%20%20%20%20%20%20%20%20%20%20%20popup_88767d28582a4f159d13672f1cf7d6bc.setContent%28html_83b4557aa1374c2abb518ca7f006fdc0%29%3B%0A%20%20%20%20%20%20%20%20%0A%0A%20%20%20%20%20%20%20%20circle_marker_0a9d5839e9164171a6a68c786bbc6a8f.bindPopup%28popup_88767d28582a4f159d13672f1cf7d6bc%29%0A%20%20%20%20%20%20%20%20%3B%0A%0A%20%20%20%20%20%20%20%20%0A%20%20%20%20%0A%20%20%20%20%0A%20%20%20%20%20%20%20%20%20%20%20%20var%20circle_marker_5437bfbb9f6541219a4599b9ba13daa4%20%3D%20L.circleMarker%28%0A%20%20%20%20%20%20%20%20%20%20%20%20%20%20%20%20%5B52.215933%2C%2019.134422%5D%2C%0A%20%20%20%20%20%20%20%20%20%20%20%20%20%20%20%20%7B%22bubblingMouseEvents%22%3A%20true%2C%20%22color%22%3A%20%22%233388ff%22%2C%20%22dashArray%22%3A%20null%2C%20%22dashOffset%22%3A%20null%2C%20%22fill%22%3A%20true%2C%20%22fillColor%22%3A%20%22%233388ff%22%2C%20%22fillOpacity%22%3A%200.2%2C%20%22fillRule%22%3A%20%22evenodd%22%2C%20%22lineCap%22%3A%20%22round%22%2C%20%22lineJoin%22%3A%20%22round%22%2C%20%22opacity%22%3A%201.0%2C%20%22radius%22%3A%207%2C%20%22stroke%22%3A%20true%2C%20%22weight%22%3A%203%7D%0A%20%20%20%20%20%20%20%20%20%20%20%20%29.addTo%28marker_cluster_dbaf00fdfc5544c7b5c205caa5fb4ea7%29%3B%0A%20%20%20%20%20%20%20%20%0A%20%20%20%20%0A%20%20%20%20%20%20%20%20var%20popup_d24951654ae24f508ce9941d9cfb8835%20%3D%20L.popup%28%7B%22maxWidth%22%3A%20%22100%25%22%7D%29%3B%0A%0A%20%20%20%20%20%20%20%20%0A%20%20%20%20%20%20%20%20%20%20%20%20var%20html_68e225ded6864e3f9335420dfc4841f4%20%3D%20%24%28%60%3Cdiv%20id%3D%22html_68e225ded6864e3f9335420dfc4841f4%22%20style%3D%22width%3A%20100.0%25%3B%20height%3A%20100.0%25%3B%22%3ECountry%20%3A%20Poland%3Cbr%3E%20%20%20%20%20%20%20%20%20%20%20%20%20%20%20%20%20%20%20%20%20Happiness%20Score%20%3A%205.835%3Cbr%3E%20%20%20%20%20%20%20%20%20%20%20%20%20%20%20%20%20%20%20%20%20Year%20%3A%202016%3Cbr%3E%3C/div%3E%60%29%5B0%5D%3B%0A%20%20%20%20%20%20%20%20%20%20%20%20popup_d24951654ae24f508ce9941d9cfb8835.setContent%28html_68e225ded6864e3f9335420dfc4841f4%29%3B%0A%20%20%20%20%20%20%20%20%0A%0A%20%20%20%20%20%20%20%20circle_marker_5437bfbb9f6541219a4599b9ba13daa4.bindPopup%28popup_d24951654ae24f508ce9941d9cfb8835%29%0A%20%20%20%20%20%20%20%20%3B%0A%0A%20%20%20%20%20%20%20%20%0A%20%20%20%20%0A%20%20%20%20%0A%20%20%20%20%20%20%20%20%20%20%20%20var%20circle_marker_db638ce407784f3e89d2dec268b4a22a%20%3D%20L.circleMarker%28%0A%20%20%20%20%20%20%20%20%20%20%20%20%20%20%20%20%5B52.215933%2C%2019.134422%5D%2C%0A%20%20%20%20%20%20%20%20%20%20%20%20%20%20%20%20%7B%22bubblingMouseEvents%22%3A%20true%2C%20%22color%22%3A%20%22%233388ff%22%2C%20%22dashArray%22%3A%20null%2C%20%22dashOffset%22%3A%20null%2C%20%22fill%22%3A%20true%2C%20%22fillColor%22%3A%20%22%233388ff%22%2C%20%22fillOpacity%22%3A%200.2%2C%20%22fillRule%22%3A%20%22evenodd%22%2C%20%22lineCap%22%3A%20%22round%22%2C%20%22lineJoin%22%3A%20%22round%22%2C%20%22opacity%22%3A%201.0%2C%20%22radius%22%3A%207%2C%20%22stroke%22%3A%20true%2C%20%22weight%22%3A%203%7D%0A%20%20%20%20%20%20%20%20%20%20%20%20%29.addTo%28marker_cluster_dbaf00fdfc5544c7b5c205caa5fb4ea7%29%3B%0A%20%20%20%20%20%20%20%20%0A%20%20%20%20%0A%20%20%20%20%20%20%20%20var%20popup_b919894d555c4496a12d4a2ff2634d2b%20%3D%20L.popup%28%7B%22maxWidth%22%3A%20%22100%25%22%7D%29%3B%0A%0A%20%20%20%20%20%20%20%20%0A%20%20%20%20%20%20%20%20%20%20%20%20var%20html_25997724fe634766abacf91ea3a4b683%20%3D%20%24%28%60%3Cdiv%20id%3D%22html_25997724fe634766abacf91ea3a4b683%22%20style%3D%22width%3A%20100.0%25%3B%20height%3A%20100.0%25%3B%22%3ECountry%20%3A%20Poland%3Cbr%3E%20%20%20%20%20%20%20%20%20%20%20%20%20%20%20%20%20%20%20%20%20Happiness%20Score%20%3A%205.791%3Cbr%3E%20%20%20%20%20%20%20%20%20%20%20%20%20%20%20%20%20%20%20%20%20Year%20%3A%202015%3Cbr%3E%3C/div%3E%60%29%5B0%5D%3B%0A%20%20%20%20%20%20%20%20%20%20%20%20popup_b919894d555c4496a12d4a2ff2634d2b.setContent%28html_25997724fe634766abacf91ea3a4b683%29%3B%0A%20%20%20%20%20%20%20%20%0A%0A%20%20%20%20%20%20%20%20circle_marker_db638ce407784f3e89d2dec268b4a22a.bindPopup%28popup_b919894d555c4496a12d4a2ff2634d2b%29%0A%20%20%20%20%20%20%20%20%3B%0A%0A%20%20%20%20%20%20%20%20%0A%20%20%20%20%0A%20%20%20%20%0A%20%20%20%20%20%20%20%20%20%20%20%20var%20circle_marker_cfb08f10595b4e9a8af660d95e7936be%20%3D%20L.circleMarker%28%0A%20%20%20%20%20%20%20%20%20%20%20%20%20%20%20%20%5B55.3500003%2C%2023.7499997%5D%2C%0A%20%20%20%20%20%20%20%20%20%20%20%20%20%20%20%20%7B%22bubblingMouseEvents%22%3A%20true%2C%20%22color%22%3A%20%22%233388ff%22%2C%20%22dashArray%22%3A%20null%2C%20%22dashOffset%22%3A%20null%2C%20%22fill%22%3A%20true%2C%20%22fillColor%22%3A%20%22%233388ff%22%2C%20%22fillOpacity%22%3A%200.2%2C%20%22fillRule%22%3A%20%22evenodd%22%2C%20%22lineCap%22%3A%20%22round%22%2C%20%22lineJoin%22%3A%20%22round%22%2C%20%22opacity%22%3A%201.0%2C%20%22radius%22%3A%207%2C%20%22stroke%22%3A%20true%2C%20%22weight%22%3A%203%7D%0A%20%20%20%20%20%20%20%20%20%20%20%20%29.addTo%28marker_cluster_dbaf00fdfc5544c7b5c205caa5fb4ea7%29%3B%0A%20%20%20%20%20%20%20%20%0A%20%20%20%20%0A%20%20%20%20%20%20%20%20var%20popup_0f2f02bb388a42cca5c7b9093d5726a5%20%3D%20L.popup%28%7B%22maxWidth%22%3A%20%22100%25%22%7D%29%3B%0A%0A%20%20%20%20%20%20%20%20%0A%20%20%20%20%20%20%20%20%20%20%20%20var%20html_e5cfa01e9bd049fcafcb4cb2e10de33c%20%3D%20%24%28%60%3Cdiv%20id%3D%22html_e5cfa01e9bd049fcafcb4cb2e10de33c%22%20style%3D%22width%3A%20100.0%25%3B%20height%3A%20100.0%25%3B%22%3ECountry%20%3A%20Lithuania%3Cbr%3E%20%20%20%20%20%20%20%20%20%20%20%20%20%20%20%20%20%20%20%20%20Happiness%20Score%20%3A%206.149%3Cbr%3E%20%20%20%20%20%20%20%20%20%20%20%20%20%20%20%20%20%20%20%20%20Year%20%3A%202019%3Cbr%3E%3C/div%3E%60%29%5B0%5D%3B%0A%20%20%20%20%20%20%20%20%20%20%20%20popup_0f2f02bb388a42cca5c7b9093d5726a5.setContent%28html_e5cfa01e9bd049fcafcb4cb2e10de33c%29%3B%0A%20%20%20%20%20%20%20%20%0A%0A%20%20%20%20%20%20%20%20circle_marker_cfb08f10595b4e9a8af660d95e7936be.bindPopup%28popup_0f2f02bb388a42cca5c7b9093d5726a5%29%0A%20%20%20%20%20%20%20%20%3B%0A%0A%20%20%20%20%20%20%20%20%0A%20%20%20%20%0A%20%20%20%20%0A%20%20%20%20%20%20%20%20%20%20%20%20var%20circle_marker_816408b29b074bdfb7b7da912621e66b%20%3D%20L.circleMarker%28%0A%20%20%20%20%20%20%20%20%20%20%20%20%20%20%20%20%5B55.3500003%2C%2023.7499997%5D%2C%0A%20%20%20%20%20%20%20%20%20%20%20%20%20%20%20%20%7B%22bubblingMouseEvents%22%3A%20true%2C%20%22color%22%3A%20%22%233388ff%22%2C%20%22dashArray%22%3A%20null%2C%20%22dashOffset%22%3A%20null%2C%20%22fill%22%3A%20true%2C%20%22fillColor%22%3A%20%22%233388ff%22%2C%20%22fillOpacity%22%3A%200.2%2C%20%22fillRule%22%3A%20%22evenodd%22%2C%20%22lineCap%22%3A%20%22round%22%2C%20%22lineJoin%22%3A%20%22round%22%2C%20%22opacity%22%3A%201.0%2C%20%22radius%22%3A%207%2C%20%22stroke%22%3A%20true%2C%20%22weight%22%3A%203%7D%0A%20%20%20%20%20%20%20%20%20%20%20%20%29.addTo%28marker_cluster_dbaf00fdfc5544c7b5c205caa5fb4ea7%29%3B%0A%20%20%20%20%20%20%20%20%0A%20%20%20%20%0A%20%20%20%20%20%20%20%20var%20popup_9b1adb4a2a2a43f1a0cff4173203e8cc%20%3D%20L.popup%28%7B%22maxWidth%22%3A%20%22100%25%22%7D%29%3B%0A%0A%20%20%20%20%20%20%20%20%0A%20%20%20%20%20%20%20%20%20%20%20%20var%20html_d560266f4a3f47418a0a63bcb8b4a8a6%20%3D%20%24%28%60%3Cdiv%20id%3D%22html_d560266f4a3f47418a0a63bcb8b4a8a6%22%20style%3D%22width%3A%20100.0%25%3B%20height%3A%20100.0%25%3B%22%3ECountry%20%3A%20Lithuania%3Cbr%3E%20%20%20%20%20%20%20%20%20%20%20%20%20%20%20%20%20%20%20%20%20Happiness%20Score%20%3A%205.952%3Cbr%3E%20%20%20%20%20%20%20%20%20%20%20%20%20%20%20%20%20%20%20%20%20Year%20%3A%202018%3Cbr%3E%3C/div%3E%60%29%5B0%5D%3B%0A%20%20%20%20%20%20%20%20%20%20%20%20popup_9b1adb4a2a2a43f1a0cff4173203e8cc.setContent%28html_d560266f4a3f47418a0a63bcb8b4a8a6%29%3B%0A%20%20%20%20%20%20%20%20%0A%0A%20%20%20%20%20%20%20%20circle_marker_816408b29b074bdfb7b7da912621e66b.bindPopup%28popup_9b1adb4a2a2a43f1a0cff4173203e8cc%29%0A%20%20%20%20%20%20%20%20%3B%0A%0A%20%20%20%20%20%20%20%20%0A%20%20%20%20%0A%20%20%20%20%0A%20%20%20%20%20%20%20%20%20%20%20%20var%20circle_marker_12519de6c6914e888dcf5ff51032e920%20%3D%20L.circleMarker%28%0A%20%20%20%20%20%20%20%20%20%20%20%20%20%20%20%20%5B55.3500003%2C%2023.7499997%5D%2C%0A%20%20%20%20%20%20%20%20%20%20%20%20%20%20%20%20%7B%22bubblingMouseEvents%22%3A%20true%2C%20%22color%22%3A%20%22%233388ff%22%2C%20%22dashArray%22%3A%20null%2C%20%22dashOffset%22%3A%20null%2C%20%22fill%22%3A%20true%2C%20%22fillColor%22%3A%20%22%233388ff%22%2C%20%22fillOpacity%22%3A%200.2%2C%20%22fillRule%22%3A%20%22evenodd%22%2C%20%22lineCap%22%3A%20%22round%22%2C%20%22lineJoin%22%3A%20%22round%22%2C%20%22opacity%22%3A%201.0%2C%20%22radius%22%3A%207%2C%20%22stroke%22%3A%20true%2C%20%22weight%22%3A%203%7D%0A%20%20%20%20%20%20%20%20%20%20%20%20%29.addTo%28marker_cluster_dbaf00fdfc5544c7b5c205caa5fb4ea7%29%3B%0A%20%20%20%20%20%20%20%20%0A%20%20%20%20%0A%20%20%20%20%20%20%20%20var%20popup_612a50561529434782107a30e1801a2e%20%3D%20L.popup%28%7B%22maxWidth%22%3A%20%22100%25%22%7D%29%3B%0A%0A%20%20%20%20%20%20%20%20%0A%20%20%20%20%20%20%20%20%20%20%20%20var%20html_f1346839ca6f4be39a24fe49ca4a62d1%20%3D%20%24%28%60%3Cdiv%20id%3D%22html_f1346839ca6f4be39a24fe49ca4a62d1%22%20style%3D%22width%3A%20100.0%25%3B%20height%3A%20100.0%25%3B%22%3ECountry%20%3A%20Lithuania%3Cbr%3E%20%20%20%20%20%20%20%20%20%20%20%20%20%20%20%20%20%20%20%20%20Happiness%20Score%20%3A%205.90199995040894%3Cbr%3E%20%20%20%20%20%20%20%20%20%20%20%20%20%20%20%20%20%20%20%20%20Year%20%3A%202017%3Cbr%3E%3C/div%3E%60%29%5B0%5D%3B%0A%20%20%20%20%20%20%20%20%20%20%20%20popup_612a50561529434782107a30e1801a2e.setContent%28html_f1346839ca6f4be39a24fe49ca4a62d1%29%3B%0A%20%20%20%20%20%20%20%20%0A%0A%20%20%20%20%20%20%20%20circle_marker_12519de6c6914e888dcf5ff51032e920.bindPopup%28popup_612a50561529434782107a30e1801a2e%29%0A%20%20%20%20%20%20%20%20%3B%0A%0A%20%20%20%20%20%20%20%20%0A%20%20%20%20%0A%20%20%20%20%0A%20%20%20%20%20%20%20%20%20%20%20%20var%20circle_marker_d21b57fe634c4bf78659d5bc08a2383a%20%3D%20L.circleMarker%28%0A%20%20%20%20%20%20%20%20%20%20%20%20%20%20%20%20%5B55.3500003%2C%2023.7499997%5D%2C%0A%20%20%20%20%20%20%20%20%20%20%20%20%20%20%20%20%7B%22bubblingMouseEvents%22%3A%20true%2C%20%22color%22%3A%20%22%233388ff%22%2C%20%22dashArray%22%3A%20null%2C%20%22dashOffset%22%3A%20null%2C%20%22fill%22%3A%20true%2C%20%22fillColor%22%3A%20%22%233388ff%22%2C%20%22fillOpacity%22%3A%200.2%2C%20%22fillRule%22%3A%20%22evenodd%22%2C%20%22lineCap%22%3A%20%22round%22%2C%20%22lineJoin%22%3A%20%22round%22%2C%20%22opacity%22%3A%201.0%2C%20%22radius%22%3A%207%2C%20%22stroke%22%3A%20true%2C%20%22weight%22%3A%203%7D%0A%20%20%20%20%20%20%20%20%20%20%20%20%29.addTo%28marker_cluster_dbaf00fdfc5544c7b5c205caa5fb4ea7%29%3B%0A%20%20%20%20%20%20%20%20%0A%20%20%20%20%0A%20%20%20%20%20%20%20%20var%20popup_37ef32d73caf403fbbb58ca59d00bb74%20%3D%20L.popup%28%7B%22maxWidth%22%3A%20%22100%25%22%7D%29%3B%0A%0A%20%20%20%20%20%20%20%20%0A%20%20%20%20%20%20%20%20%20%20%20%20var%20html_a246e362e6b54232b08fa124c6939df9%20%3D%20%24%28%60%3Cdiv%20id%3D%22html_a246e362e6b54232b08fa124c6939df9%22%20style%3D%22width%3A%20100.0%25%3B%20height%3A%20100.0%25%3B%22%3ECountry%20%3A%20Lithuania%3Cbr%3E%20%20%20%20%20%20%20%20%20%20%20%20%20%20%20%20%20%20%20%20%20Happiness%20Score%20%3A%205.833%3Cbr%3E%20%20%20%20%20%20%20%20%20%20%20%20%20%20%20%20%20%20%20%20%20Year%20%3A%202015%3Cbr%3E%3C/div%3E%60%29%5B0%5D%3B%0A%20%20%20%20%20%20%20%20%20%20%20%20popup_37ef32d73caf403fbbb58ca59d00bb74.setContent%28html_a246e362e6b54232b08fa124c6939df9%29%3B%0A%20%20%20%20%20%20%20%20%0A%0A%20%20%20%20%20%20%20%20circle_marker_d21b57fe634c4bf78659d5bc08a2383a.bindPopup%28popup_37ef32d73caf403fbbb58ca59d00bb74%29%0A%20%20%20%20%20%20%20%20%3B%0A%0A%20%20%20%20%20%20%20%20%0A%20%20%20%20%0A%20%20%20%20%0A%20%20%20%20%20%20%20%20%20%20%20%20var%20circle_marker_daaa71abfefb4aa78046472bbd3b081e%20%3D%20L.circleMarker%28%0A%20%20%20%20%20%20%20%20%20%20%20%20%20%20%20%20%5B55.3500003%2C%2023.7499997%5D%2C%0A%20%20%20%20%20%20%20%20%20%20%20%20%20%20%20%20%7B%22bubblingMouseEvents%22%3A%20true%2C%20%22color%22%3A%20%22%233388ff%22%2C%20%22dashArray%22%3A%20null%2C%20%22dashOffset%22%3A%20null%2C%20%22fill%22%3A%20true%2C%20%22fillColor%22%3A%20%22%233388ff%22%2C%20%22fillOpacity%22%3A%200.2%2C%20%22fillRule%22%3A%20%22evenodd%22%2C%20%22lineCap%22%3A%20%22round%22%2C%20%22lineJoin%22%3A%20%22round%22%2C%20%22opacity%22%3A%201.0%2C%20%22radius%22%3A%207%2C%20%22stroke%22%3A%20true%2C%20%22weight%22%3A%203%7D%0A%20%20%20%20%20%20%20%20%20%20%20%20%29.addTo%28marker_cluster_dbaf00fdfc5544c7b5c205caa5fb4ea7%29%3B%0A%20%20%20%20%20%20%20%20%0A%20%20%20%20%0A%20%20%20%20%20%20%20%20var%20popup_335a8c1917c24f069af5fd15758733fe%20%3D%20L.popup%28%7B%22maxWidth%22%3A%20%22100%25%22%7D%29%3B%0A%0A%20%20%20%20%20%20%20%20%0A%20%20%20%20%20%20%20%20%20%20%20%20var%20html_c0d8422e315d4ac3a360fa569f7d4e86%20%3D%20%24%28%60%3Cdiv%20id%3D%22html_c0d8422e315d4ac3a360fa569f7d4e86%22%20style%3D%22width%3A%20100.0%25%3B%20height%3A%20100.0%25%3B%22%3ECountry%20%3A%20Lithuania%3Cbr%3E%20%20%20%20%20%20%20%20%20%20%20%20%20%20%20%20%20%20%20%20%20Happiness%20Score%20%3A%205.813%3Cbr%3E%20%20%20%20%20%20%20%20%20%20%20%20%20%20%20%20%20%20%20%20%20Year%20%3A%202016%3Cbr%3E%3C/div%3E%60%29%5B0%5D%3B%0A%20%20%20%20%20%20%20%20%20%20%20%20popup_335a8c1917c24f069af5fd15758733fe.setContent%28html_c0d8422e315d4ac3a360fa569f7d4e86%29%3B%0A%20%20%20%20%20%20%20%20%0A%0A%20%20%20%20%20%20%20%20circle_marker_daaa71abfefb4aa78046472bbd3b081e.bindPopup%28popup_335a8c1917c24f069af5fd15758733fe%29%0A%20%20%20%20%20%20%20%20%3B%0A%0A%20%20%20%20%20%20%20%20%0A%20%20%20%20%0A%20%20%20%20%0A%20%20%20%20%20%20%20%20%20%20%20%20var%20circle_marker_c302d4a76b35459685c97bd2633be81a%20%3D%20L.circleMarker%28%0A%20%20%20%20%20%20%20%20%20%20%20%20%20%20%20%20%5B45.8133113%2C%2014.4808369%5D%2C%0A%20%20%20%20%20%20%20%20%20%20%20%20%20%20%20%20%7B%22bubblingMouseEvents%22%3A%20true%2C%20%22color%22%3A%20%22%233388ff%22%2C%20%22dashArray%22%3A%20null%2C%20%22dashOffset%22%3A%20null%2C%20%22fill%22%3A%20true%2C%20%22fillColor%22%3A%20%22%233388ff%22%2C%20%22fillOpacity%22%3A%200.2%2C%20%22fillRule%22%3A%20%22evenodd%22%2C%20%22lineCap%22%3A%20%22round%22%2C%20%22lineJoin%22%3A%20%22round%22%2C%20%22opacity%22%3A%201.0%2C%20%22radius%22%3A%207%2C%20%22stroke%22%3A%20true%2C%20%22weight%22%3A%203%7D%0A%20%20%20%20%20%20%20%20%20%20%20%20%29.addTo%28marker_cluster_dbaf00fdfc5544c7b5c205caa5fb4ea7%29%3B%0A%20%20%20%20%20%20%20%20%0A%20%20%20%20%0A%20%20%20%20%20%20%20%20var%20popup_f2682f125cfc46408e8f063fddd55d01%20%3D%20L.popup%28%7B%22maxWidth%22%3A%20%22100%25%22%7D%29%3B%0A%0A%20%20%20%20%20%20%20%20%0A%20%20%20%20%20%20%20%20%20%20%20%20var%20html_e1c9644de0224fc69db2f089a3b31fd4%20%3D%20%24%28%60%3Cdiv%20id%3D%22html_e1c9644de0224fc69db2f089a3b31fd4%22%20style%3D%22width%3A%20100.0%25%3B%20height%3A%20100.0%25%3B%22%3ECountry%20%3A%20Slovenia%3Cbr%3E%20%20%20%20%20%20%20%20%20%20%20%20%20%20%20%20%20%20%20%20%20Happiness%20Score%20%3A%206.118%3Cbr%3E%20%20%20%20%20%20%20%20%20%20%20%20%20%20%20%20%20%20%20%20%20Year%20%3A%202019%3Cbr%3E%3C/div%3E%60%29%5B0%5D%3B%0A%20%20%20%20%20%20%20%20%20%20%20%20popup_f2682f125cfc46408e8f063fddd55d01.setContent%28html_e1c9644de0224fc69db2f089a3b31fd4%29%3B%0A%20%20%20%20%20%20%20%20%0A%0A%20%20%20%20%20%20%20%20circle_marker_c302d4a76b35459685c97bd2633be81a.bindPopup%28popup_f2682f125cfc46408e8f063fddd55d01%29%0A%20%20%20%20%20%20%20%20%3B%0A%0A%20%20%20%20%20%20%20%20%0A%20%20%20%20%0A%20%20%20%20%0A%20%20%20%20%20%20%20%20%20%20%20%20var%20circle_marker_485aa5dec338435a91c1c505bf386cbc%20%3D%20L.circleMarker%28%0A%20%20%20%20%20%20%20%20%20%20%20%20%20%20%20%20%5B45.8133113%2C%2014.4808369%5D%2C%0A%20%20%20%20%20%20%20%20%20%20%20%20%20%20%20%20%7B%22bubblingMouseEvents%22%3A%20true%2C%20%22color%22%3A%20%22%233388ff%22%2C%20%22dashArray%22%3A%20null%2C%20%22dashOffset%22%3A%20null%2C%20%22fill%22%3A%20true%2C%20%22fillColor%22%3A%20%22%233388ff%22%2C%20%22fillOpacity%22%3A%200.2%2C%20%22fillRule%22%3A%20%22evenodd%22%2C%20%22lineCap%22%3A%20%22round%22%2C%20%22lineJoin%22%3A%20%22round%22%2C%20%22opacity%22%3A%201.0%2C%20%22radius%22%3A%207%2C%20%22stroke%22%3A%20true%2C%20%22weight%22%3A%203%7D%0A%20%20%20%20%20%20%20%20%20%20%20%20%29.addTo%28marker_cluster_dbaf00fdfc5544c7b5c205caa5fb4ea7%29%3B%0A%20%20%20%20%20%20%20%20%0A%20%20%20%20%0A%20%20%20%20%20%20%20%20var%20popup_91d5e360564c41b2b750816add2f2cb1%20%3D%20L.popup%28%7B%22maxWidth%22%3A%20%22100%25%22%7D%29%3B%0A%0A%20%20%20%20%20%20%20%20%0A%20%20%20%20%20%20%20%20%20%20%20%20var%20html_0642c11632614afa8b386dcabe0d29f9%20%3D%20%24%28%60%3Cdiv%20id%3D%22html_0642c11632614afa8b386dcabe0d29f9%22%20style%3D%22width%3A%20100.0%25%3B%20height%3A%20100.0%25%3B%22%3ECountry%20%3A%20Slovenia%3Cbr%3E%20%20%20%20%20%20%20%20%20%20%20%20%20%20%20%20%20%20%20%20%20Happiness%20Score%20%3A%205.948%3Cbr%3E%20%20%20%20%20%20%20%20%20%20%20%20%20%20%20%20%20%20%20%20%20Year%20%3A%202018%3Cbr%3E%3C/div%3E%60%29%5B0%5D%3B%0A%20%20%20%20%20%20%20%20%20%20%20%20popup_91d5e360564c41b2b750816add2f2cb1.setContent%28html_0642c11632614afa8b386dcabe0d29f9%29%3B%0A%20%20%20%20%20%20%20%20%0A%0A%20%20%20%20%20%20%20%20circle_marker_485aa5dec338435a91c1c505bf386cbc.bindPopup%28popup_91d5e360564c41b2b750816add2f2cb1%29%0A%20%20%20%20%20%20%20%20%3B%0A%0A%20%20%20%20%20%20%20%20%0A%20%20%20%20%0A%20%20%20%20%0A%20%20%20%20%20%20%20%20%20%20%20%20var%20circle_marker_5c66816890094bbb8c1d6335e06f1e08%20%3D%20L.circleMarker%28%0A%20%20%20%20%20%20%20%20%20%20%20%20%20%20%20%20%5B45.8133113%2C%2014.4808369%5D%2C%0A%20%20%20%20%20%20%20%20%20%20%20%20%20%20%20%20%7B%22bubblingMouseEvents%22%3A%20true%2C%20%22color%22%3A%20%22%233388ff%22%2C%20%22dashArray%22%3A%20null%2C%20%22dashOffset%22%3A%20null%2C%20%22fill%22%3A%20true%2C%20%22fillColor%22%3A%20%22%233388ff%22%2C%20%22fillOpacity%22%3A%200.2%2C%20%22fillRule%22%3A%20%22evenodd%22%2C%20%22lineCap%22%3A%20%22round%22%2C%20%22lineJoin%22%3A%20%22round%22%2C%20%22opacity%22%3A%201.0%2C%20%22radius%22%3A%207%2C%20%22stroke%22%3A%20true%2C%20%22weight%22%3A%203%7D%0A%20%20%20%20%20%20%20%20%20%20%20%20%29.addTo%28marker_cluster_dbaf00fdfc5544c7b5c205caa5fb4ea7%29%3B%0A%20%20%20%20%20%20%20%20%0A%20%20%20%20%0A%20%20%20%20%20%20%20%20var%20popup_92f352f7d770497fb8b24849bbf52ffe%20%3D%20L.popup%28%7B%22maxWidth%22%3A%20%22100%25%22%7D%29%3B%0A%0A%20%20%20%20%20%20%20%20%0A%20%20%20%20%20%20%20%20%20%20%20%20var%20html_5cae12343bf54451a400c5877f5ce93f%20%3D%20%24%28%60%3Cdiv%20id%3D%22html_5cae12343bf54451a400c5877f5ce93f%22%20style%3D%22width%3A%20100.0%25%3B%20height%3A%20100.0%25%3B%22%3ECountry%20%3A%20Slovenia%3Cbr%3E%20%20%20%20%20%20%20%20%20%20%20%20%20%20%20%20%20%20%20%20%20Happiness%20Score%20%3A%205.848%3Cbr%3E%20%20%20%20%20%20%20%20%20%20%20%20%20%20%20%20%20%20%20%20%20Year%20%3A%202015%3Cbr%3E%3C/div%3E%60%29%5B0%5D%3B%0A%20%20%20%20%20%20%20%20%20%20%20%20popup_92f352f7d770497fb8b24849bbf52ffe.setContent%28html_5cae12343bf54451a400c5877f5ce93f%29%3B%0A%20%20%20%20%20%20%20%20%0A%0A%20%20%20%20%20%20%20%20circle_marker_5c66816890094bbb8c1d6335e06f1e08.bindPopup%28popup_92f352f7d770497fb8b24849bbf52ffe%29%0A%20%20%20%20%20%20%20%20%3B%0A%0A%20%20%20%20%20%20%20%20%0A%20%20%20%20%0A%20%20%20%20%0A%20%20%20%20%20%20%20%20%20%20%20%20var%20circle_marker_181063ba07b04ff7a527bb8f4345d93c%20%3D%20L.circleMarker%28%0A%20%20%20%20%20%20%20%20%20%20%20%20%20%20%20%20%5B45.8133113%2C%2014.4808369%5D%2C%0A%20%20%20%20%20%20%20%20%20%20%20%20%20%20%20%20%7B%22bubblingMouseEvents%22%3A%20true%2C%20%22color%22%3A%20%22%233388ff%22%2C%20%22dashArray%22%3A%20null%2C%20%22dashOffset%22%3A%20null%2C%20%22fill%22%3A%20true%2C%20%22fillColor%22%3A%20%22%233388ff%22%2C%20%22fillOpacity%22%3A%200.2%2C%20%22fillRule%22%3A%20%22evenodd%22%2C%20%22lineCap%22%3A%20%22round%22%2C%20%22lineJoin%22%3A%20%22round%22%2C%20%22opacity%22%3A%201.0%2C%20%22radius%22%3A%207%2C%20%22stroke%22%3A%20true%2C%20%22weight%22%3A%203%7D%0A%20%20%20%20%20%20%20%20%20%20%20%20%29.addTo%28marker_cluster_dbaf00fdfc5544c7b5c205caa5fb4ea7%29%3B%0A%20%20%20%20%20%20%20%20%0A%20%20%20%20%0A%20%20%20%20%20%20%20%20var%20popup_80058fc174964a94a8294a12d544c553%20%3D%20L.popup%28%7B%22maxWidth%22%3A%20%22100%25%22%7D%29%3B%0A%0A%20%20%20%20%20%20%20%20%0A%20%20%20%20%20%20%20%20%20%20%20%20var%20html_5cfe372956084e28a7322d521fbed20c%20%3D%20%24%28%60%3Cdiv%20id%3D%22html_5cfe372956084e28a7322d521fbed20c%22%20style%3D%22width%3A%20100.0%25%3B%20height%3A%20100.0%25%3B%22%3ECountry%20%3A%20Slovenia%3Cbr%3E%20%20%20%20%20%20%20%20%20%20%20%20%20%20%20%20%20%20%20%20%20Happiness%20Score%20%3A%205.768%3Cbr%3E%20%20%20%20%20%20%20%20%20%20%20%20%20%20%20%20%20%20%20%20%20Year%20%3A%202016%3Cbr%3E%3C/div%3E%60%29%5B0%5D%3B%0A%20%20%20%20%20%20%20%20%20%20%20%20popup_80058fc174964a94a8294a12d544c553.setContent%28html_5cfe372956084e28a7322d521fbed20c%29%3B%0A%20%20%20%20%20%20%20%20%0A%0A%20%20%20%20%20%20%20%20circle_marker_181063ba07b04ff7a527bb8f4345d93c.bindPopup%28popup_80058fc174964a94a8294a12d544c553%29%0A%20%20%20%20%20%20%20%20%3B%0A%0A%20%20%20%20%20%20%20%20%0A%20%20%20%20%0A%20%20%20%20%0A%20%20%20%20%20%20%20%20%20%20%20%20var%20circle_marker_bef38ae9b6ed4330a441f6d0f342b3b5%20%3D%20L.circleMarker%28%0A%20%20%20%20%20%20%20%20%20%20%20%20%20%20%20%20%5B45.8133113%2C%2014.4808369%5D%2C%0A%20%20%20%20%20%20%20%20%20%20%20%20%20%20%20%20%7B%22bubblingMouseEvents%22%3A%20true%2C%20%22color%22%3A%20%22%233388ff%22%2C%20%22dashArray%22%3A%20null%2C%20%22dashOffset%22%3A%20null%2C%20%22fill%22%3A%20true%2C%20%22fillColor%22%3A%20%22%233388ff%22%2C%20%22fillOpacity%22%3A%200.2%2C%20%22fillRule%22%3A%20%22evenodd%22%2C%20%22lineCap%22%3A%20%22round%22%2C%20%22lineJoin%22%3A%20%22round%22%2C%20%22opacity%22%3A%201.0%2C%20%22radius%22%3A%207%2C%20%22stroke%22%3A%20true%2C%20%22weight%22%3A%203%7D%0A%20%20%20%20%20%20%20%20%20%20%20%20%29.addTo%28marker_cluster_dbaf00fdfc5544c7b5c205caa5fb4ea7%29%3B%0A%20%20%20%20%20%20%20%20%0A%20%20%20%20%0A%20%20%20%20%20%20%20%20var%20popup_953453e6b2024a3da7f6670a6b1d9281%20%3D%20L.popup%28%7B%22maxWidth%22%3A%20%22100%25%22%7D%29%3B%0A%0A%20%20%20%20%20%20%20%20%0A%20%20%20%20%20%20%20%20%20%20%20%20var%20html_2e467038d14548ab9a1bffb58335a66d%20%3D%20%24%28%60%3Cdiv%20id%3D%22html_2e467038d14548ab9a1bffb58335a66d%22%20style%3D%22width%3A%20100.0%25%3B%20height%3A%20100.0%25%3B%22%3ECountry%20%3A%20Slovenia%3Cbr%3E%20%20%20%20%20%20%20%20%20%20%20%20%20%20%20%20%20%20%20%20%20Happiness%20Score%20%3A%205.75799989700317%3Cbr%3E%20%20%20%20%20%20%20%20%20%20%20%20%20%20%20%20%20%20%20%20%20Year%20%3A%202017%3Cbr%3E%3C/div%3E%60%29%5B0%5D%3B%0A%20%20%20%20%20%20%20%20%20%20%20%20popup_953453e6b2024a3da7f6670a6b1d9281.setContent%28html_2e467038d14548ab9a1bffb58335a66d%29%3B%0A%20%20%20%20%20%20%20%20%0A%0A%20%20%20%20%20%20%20%20circle_marker_bef38ae9b6ed4330a441f6d0f342b3b5.bindPopup%28popup_953453e6b2024a3da7f6670a6b1d9281%29%0A%20%20%20%20%20%20%20%20%3B%0A%0A%20%20%20%20%20%20%20%20%0A%20%20%20%20%0A%20%20%20%20%0A%20%20%20%20%20%20%20%20%20%20%20%20var%20circle_marker_9bf3c50bce1041e7833ec207b148c862%20%3D%20L.circleMarker%28%0A%20%20%20%20%20%20%20%20%20%20%20%20%20%20%20%20%5B45.9852129%2C%2024.6859225%5D%2C%0A%20%20%20%20%20%20%20%20%20%20%20%20%20%20%20%20%7B%22bubblingMouseEvents%22%3A%20true%2C%20%22color%22%3A%20%22%233388ff%22%2C%20%22dashArray%22%3A%20null%2C%20%22dashOffset%22%3A%20null%2C%20%22fill%22%3A%20true%2C%20%22fillColor%22%3A%20%22%233388ff%22%2C%20%22fillOpacity%22%3A%200.2%2C%20%22fillRule%22%3A%20%22evenodd%22%2C%20%22lineCap%22%3A%20%22round%22%2C%20%22lineJoin%22%3A%20%22round%22%2C%20%22opacity%22%3A%201.0%2C%20%22radius%22%3A%207%2C%20%22stroke%22%3A%20true%2C%20%22weight%22%3A%203%7D%0A%20%20%20%20%20%20%20%20%20%20%20%20%29.addTo%28marker_cluster_dbaf00fdfc5544c7b5c205caa5fb4ea7%29%3B%0A%20%20%20%20%20%20%20%20%0A%20%20%20%20%0A%20%20%20%20%20%20%20%20var%20popup_71b56d8a97124b73a611a3064c1f9ce1%20%3D%20L.popup%28%7B%22maxWidth%22%3A%20%22100%25%22%7D%29%3B%0A%0A%20%20%20%20%20%20%20%20%0A%20%20%20%20%20%20%20%20%20%20%20%20var%20html_c60830df564f4a9db94838fcc7f7c55a%20%3D%20%24%28%60%3Cdiv%20id%3D%22html_c60830df564f4a9db94838fcc7f7c55a%22%20style%3D%22width%3A%20100.0%25%3B%20height%3A%20100.0%25%3B%22%3ECountry%20%3A%20Romania%3Cbr%3E%20%20%20%20%20%20%20%20%20%20%20%20%20%20%20%20%20%20%20%20%20Happiness%20Score%20%3A%206.07%3Cbr%3E%20%20%20%20%20%20%20%20%20%20%20%20%20%20%20%20%20%20%20%20%20Year%20%3A%202019%3Cbr%3E%3C/div%3E%60%29%5B0%5D%3B%0A%20%20%20%20%20%20%20%20%20%20%20%20popup_71b56d8a97124b73a611a3064c1f9ce1.setContent%28html_c60830df564f4a9db94838fcc7f7c55a%29%3B%0A%20%20%20%20%20%20%20%20%0A%0A%20%20%20%20%20%20%20%20circle_marker_9bf3c50bce1041e7833ec207b148c862.bindPopup%28popup_71b56d8a97124b73a611a3064c1f9ce1%29%0A%20%20%20%20%20%20%20%20%3B%0A%0A%20%20%20%20%20%20%20%20%0A%20%20%20%20%0A%20%20%20%20%0A%20%20%20%20%20%20%20%20%20%20%20%20var%20circle_marker_f3f9afd0c9e84f159f30a24e30307041%20%3D%20L.circleMarker%28%0A%20%20%20%20%20%20%20%20%20%20%20%20%20%20%20%20%5B45.9852129%2C%2024.6859225%5D%2C%0A%20%20%20%20%20%20%20%20%20%20%20%20%20%20%20%20%7B%22bubblingMouseEvents%22%3A%20true%2C%20%22color%22%3A%20%22%233388ff%22%2C%20%22dashArray%22%3A%20null%2C%20%22dashOffset%22%3A%20null%2C%20%22fill%22%3A%20true%2C%20%22fillColor%22%3A%20%22%233388ff%22%2C%20%22fillOpacity%22%3A%200.2%2C%20%22fillRule%22%3A%20%22evenodd%22%2C%20%22lineCap%22%3A%20%22round%22%2C%20%22lineJoin%22%3A%20%22round%22%2C%20%22opacity%22%3A%201.0%2C%20%22radius%22%3A%207%2C%20%22stroke%22%3A%20true%2C%20%22weight%22%3A%203%7D%0A%20%20%20%20%20%20%20%20%20%20%20%20%29.addTo%28marker_cluster_dbaf00fdfc5544c7b5c205caa5fb4ea7%29%3B%0A%20%20%20%20%20%20%20%20%0A%20%20%20%20%0A%20%20%20%20%20%20%20%20var%20popup_154abd0ac7ea4c44a358324b9ef83236%20%3D%20L.popup%28%7B%22maxWidth%22%3A%20%22100%25%22%7D%29%3B%0A%0A%20%20%20%20%20%20%20%20%0A%20%20%20%20%20%20%20%20%20%20%20%20var%20html_66cf3f004e5a48ab91d23b97d4257d4c%20%3D%20%24%28%60%3Cdiv%20id%3D%22html_66cf3f004e5a48ab91d23b97d4257d4c%22%20style%3D%22width%3A%20100.0%25%3B%20height%3A%20100.0%25%3B%22%3ECountry%20%3A%20Romania%3Cbr%3E%20%20%20%20%20%20%20%20%20%20%20%20%20%20%20%20%20%20%20%20%20Happiness%20Score%20%3A%205.945%3Cbr%3E%20%20%20%20%20%20%20%20%20%20%20%20%20%20%20%20%20%20%20%20%20Year%20%3A%202018%3Cbr%3E%3C/div%3E%60%29%5B0%5D%3B%0A%20%20%20%20%20%20%20%20%20%20%20%20popup_154abd0ac7ea4c44a358324b9ef83236.setContent%28html_66cf3f004e5a48ab91d23b97d4257d4c%29%3B%0A%20%20%20%20%20%20%20%20%0A%0A%20%20%20%20%20%20%20%20circle_marker_f3f9afd0c9e84f159f30a24e30307041.bindPopup%28popup_154abd0ac7ea4c44a358324b9ef83236%29%0A%20%20%20%20%20%20%20%20%3B%0A%0A%20%20%20%20%20%20%20%20%0A%20%20%20%20%0A%20%20%20%20%0A%20%20%20%20%20%20%20%20%20%20%20%20var%20circle_marker_272e6c24de944767988d994634222c54%20%3D%20L.circleMarker%28%0A%20%20%20%20%20%20%20%20%20%20%20%20%20%20%20%20%5B45.9852129%2C%2024.6859225%5D%2C%0A%20%20%20%20%20%20%20%20%20%20%20%20%20%20%20%20%7B%22bubblingMouseEvents%22%3A%20true%2C%20%22color%22%3A%20%22%233388ff%22%2C%20%22dashArray%22%3A%20null%2C%20%22dashOffset%22%3A%20null%2C%20%22fill%22%3A%20true%2C%20%22fillColor%22%3A%20%22%233388ff%22%2C%20%22fillOpacity%22%3A%200.2%2C%20%22fillRule%22%3A%20%22evenodd%22%2C%20%22lineCap%22%3A%20%22round%22%2C%20%22lineJoin%22%3A%20%22round%22%2C%20%22opacity%22%3A%201.0%2C%20%22radius%22%3A%207%2C%20%22stroke%22%3A%20true%2C%20%22weight%22%3A%203%7D%0A%20%20%20%20%20%20%20%20%20%20%20%20%29.addTo%28marker_cluster_dbaf00fdfc5544c7b5c205caa5fb4ea7%29%3B%0A%20%20%20%20%20%20%20%20%0A%20%20%20%20%0A%20%20%20%20%20%20%20%20var%20popup_e28ce5fde9694faabcf33c91a0b7ddbd%20%3D%20L.popup%28%7B%22maxWidth%22%3A%20%22100%25%22%7D%29%3B%0A%0A%20%20%20%20%20%20%20%20%0A%20%20%20%20%20%20%20%20%20%20%20%20var%20html_2d030f2fe70448d8b32651a9376cbe70%20%3D%20%24%28%60%3Cdiv%20id%3D%22html_2d030f2fe70448d8b32651a9376cbe70%22%20style%3D%22width%3A%20100.0%25%3B%20height%3A%20100.0%25%3B%22%3ECountry%20%3A%20Romania%3Cbr%3E%20%20%20%20%20%20%20%20%20%20%20%20%20%20%20%20%20%20%20%20%20Happiness%20Score%20%3A%205.82499980926514%3Cbr%3E%20%20%20%20%20%20%20%20%20%20%20%20%20%20%20%20%20%20%20%20%20Year%20%3A%202017%3Cbr%3E%3C/div%3E%60%29%5B0%5D%3B%0A%20%20%20%20%20%20%20%20%20%20%20%20popup_e28ce5fde9694faabcf33c91a0b7ddbd.setContent%28html_2d030f2fe70448d8b32651a9376cbe70%29%3B%0A%20%20%20%20%20%20%20%20%0A%0A%20%20%20%20%20%20%20%20circle_marker_272e6c24de944767988d994634222c54.bindPopup%28popup_e28ce5fde9694faabcf33c91a0b7ddbd%29%0A%20%20%20%20%20%20%20%20%3B%0A%0A%20%20%20%20%20%20%20%20%0A%20%20%20%20%0A%20%20%20%20%0A%20%20%20%20%20%20%20%20%20%20%20%20var%20circle_marker_effbb15373f346789d4e431cd802e6b6%20%3D%20L.circleMarker%28%0A%20%20%20%20%20%20%20%20%20%20%20%20%20%20%20%20%5B45.9852129%2C%2024.6859225%5D%2C%0A%20%20%20%20%20%20%20%20%20%20%20%20%20%20%20%20%7B%22bubblingMouseEvents%22%3A%20true%2C%20%22color%22%3A%20%22%233388ff%22%2C%20%22dashArray%22%3A%20null%2C%20%22dashOffset%22%3A%20null%2C%20%22fill%22%3A%20true%2C%20%22fillColor%22%3A%20%22%233388ff%22%2C%20%22fillOpacity%22%3A%200.2%2C%20%22fillRule%22%3A%20%22evenodd%22%2C%20%22lineCap%22%3A%20%22round%22%2C%20%22lineJoin%22%3A%20%22round%22%2C%20%22opacity%22%3A%201.0%2C%20%22radius%22%3A%207%2C%20%22stroke%22%3A%20true%2C%20%22weight%22%3A%203%7D%0A%20%20%20%20%20%20%20%20%20%20%20%20%29.addTo%28marker_cluster_dbaf00fdfc5544c7b5c205caa5fb4ea7%29%3B%0A%20%20%20%20%20%20%20%20%0A%20%20%20%20%0A%20%20%20%20%20%20%20%20var%20popup_bd3c743addd94ff3a85c85e5e63c10d3%20%3D%20L.popup%28%7B%22maxWidth%22%3A%20%22100%25%22%7D%29%3B%0A%0A%20%20%20%20%20%20%20%20%0A%20%20%20%20%20%20%20%20%20%20%20%20var%20html_2e68a3507693486eb4d8a0038145d7c7%20%3D%20%24%28%60%3Cdiv%20id%3D%22html_2e68a3507693486eb4d8a0038145d7c7%22%20style%3D%22width%3A%20100.0%25%3B%20height%3A%20100.0%25%3B%22%3ECountry%20%3A%20Romania%3Cbr%3E%20%20%20%20%20%20%20%20%20%20%20%20%20%20%20%20%20%20%20%20%20Happiness%20Score%20%3A%205.528%3Cbr%3E%20%20%20%20%20%20%20%20%20%20%20%20%20%20%20%20%20%20%20%20%20Year%20%3A%202016%3Cbr%3E%3C/div%3E%60%29%5B0%5D%3B%0A%20%20%20%20%20%20%20%20%20%20%20%20popup_bd3c743addd94ff3a85c85e5e63c10d3.setContent%28html_2e68a3507693486eb4d8a0038145d7c7%29%3B%0A%20%20%20%20%20%20%20%20%0A%0A%20%20%20%20%20%20%20%20circle_marker_effbb15373f346789d4e431cd802e6b6.bindPopup%28popup_bd3c743addd94ff3a85c85e5e63c10d3%29%0A%20%20%20%20%20%20%20%20%3B%0A%0A%20%20%20%20%20%20%20%20%0A%20%20%20%20%0A%20%20%20%20%0A%20%20%20%20%20%20%20%20%20%20%20%20var%20circle_marker_9a1aee0269104c15bbd510cd67d6d011%20%3D%20L.circleMarker%28%0A%20%20%20%20%20%20%20%20%20%20%20%20%20%20%20%20%5B45.9852129%2C%2024.6859225%5D%2C%0A%20%20%20%20%20%20%20%20%20%20%20%20%20%20%20%20%7B%22bubblingMouseEvents%22%3A%20true%2C%20%22color%22%3A%20%22%233388ff%22%2C%20%22dashArray%22%3A%20null%2C%20%22dashOffset%22%3A%20null%2C%20%22fill%22%3A%20true%2C%20%22fillColor%22%3A%20%22%233388ff%22%2C%20%22fillOpacity%22%3A%200.2%2C%20%22fillRule%22%3A%20%22evenodd%22%2C%20%22lineCap%22%3A%20%22round%22%2C%20%22lineJoin%22%3A%20%22round%22%2C%20%22opacity%22%3A%201.0%2C%20%22radius%22%3A%207%2C%20%22stroke%22%3A%20true%2C%20%22weight%22%3A%203%7D%0A%20%20%20%20%20%20%20%20%20%20%20%20%29.addTo%28marker_cluster_dbaf00fdfc5544c7b5c205caa5fb4ea7%29%3B%0A%20%20%20%20%20%20%20%20%0A%20%20%20%20%0A%20%20%20%20%20%20%20%20var%20popup_488fa04d970e4b3ba6895a34784d2423%20%3D%20L.popup%28%7B%22maxWidth%22%3A%20%22100%25%22%7D%29%3B%0A%0A%20%20%20%20%20%20%20%20%0A%20%20%20%20%20%20%20%20%20%20%20%20var%20html_cfcf7d5fc9a54bb5b5ed04cd5dc9732c%20%3D%20%24%28%60%3Cdiv%20id%3D%22html_cfcf7d5fc9a54bb5b5ed04cd5dc9732c%22%20style%3D%22width%3A%20100.0%25%3B%20height%3A%20100.0%25%3B%22%3ECountry%20%3A%20Romania%3Cbr%3E%20%20%20%20%20%20%20%20%20%20%20%20%20%20%20%20%20%20%20%20%20Happiness%20Score%20%3A%205.124%3Cbr%3E%20%20%20%20%20%20%20%20%20%20%20%20%20%20%20%20%20%20%20%20%20Year%20%3A%202015%3Cbr%3E%3C/div%3E%60%29%5B0%5D%3B%0A%20%20%20%20%20%20%20%20%20%20%20%20popup_488fa04d970e4b3ba6895a34784d2423.setContent%28html_cfcf7d5fc9a54bb5b5ed04cd5dc9732c%29%3B%0A%20%20%20%20%20%20%20%20%0A%0A%20%20%20%20%20%20%20%20circle_marker_9a1aee0269104c15bbd510cd67d6d011.bindPopup%28popup_488fa04d970e4b3ba6895a34784d2423%29%0A%20%20%20%20%20%20%20%20%3B%0A%0A%20%20%20%20%20%20%20%20%0A%20%20%20%20%0A%20%20%20%20%0A%20%20%20%20%20%20%20%20%20%20%20%20var%20circle_marker_e7f8635a2b544b0391d51a7db1ecc96d%20%3D%20L.circleMarker%28%0A%20%20%20%20%20%20%20%20%20%20%20%20%20%20%20%20%5B34.9823018%2C%2033.1451285%5D%2C%0A%20%20%20%20%20%20%20%20%20%20%20%20%20%20%20%20%7B%22bubblingMouseEvents%22%3A%20true%2C%20%22color%22%3A%20%22%233388ff%22%2C%20%22dashArray%22%3A%20null%2C%20%22dashOffset%22%3A%20null%2C%20%22fill%22%3A%20true%2C%20%22fillColor%22%3A%20%22%233388ff%22%2C%20%22fillOpacity%22%3A%200.2%2C%20%22fillRule%22%3A%20%22evenodd%22%2C%20%22lineCap%22%3A%20%22round%22%2C%20%22lineJoin%22%3A%20%22round%22%2C%20%22opacity%22%3A%201.0%2C%20%22radius%22%3A%207%2C%20%22stroke%22%3A%20true%2C%20%22weight%22%3A%203%7D%0A%20%20%20%20%20%20%20%20%20%20%20%20%29.addTo%28marker_cluster_dbaf00fdfc5544c7b5c205caa5fb4ea7%29%3B%0A%20%20%20%20%20%20%20%20%0A%20%20%20%20%0A%20%20%20%20%20%20%20%20var%20popup_ef511d995fd24f4aac4997e7a7aa2741%20%3D%20L.popup%28%7B%22maxWidth%22%3A%20%22100%25%22%7D%29%3B%0A%0A%20%20%20%20%20%20%20%20%0A%20%20%20%20%20%20%20%20%20%20%20%20var%20html_da4715646d474598a15a73536bcfdda5%20%3D%20%24%28%60%3Cdiv%20id%3D%22html_da4715646d474598a15a73536bcfdda5%22%20style%3D%22width%3A%20100.0%25%3B%20height%3A%20100.0%25%3B%22%3ECountry%20%3A%20Cyprus%3Cbr%3E%20%20%20%20%20%20%20%20%20%20%20%20%20%20%20%20%20%20%20%20%20Happiness%20Score%20%3A%206.046%3Cbr%3E%20%20%20%20%20%20%20%20%20%20%20%20%20%20%20%20%20%20%20%20%20Year%20%3A%202019%3Cbr%3E%3C/div%3E%60%29%5B0%5D%3B%0A%20%20%20%20%20%20%20%20%20%20%20%20popup_ef511d995fd24f4aac4997e7a7aa2741.setContent%28html_da4715646d474598a15a73536bcfdda5%29%3B%0A%20%20%20%20%20%20%20%20%0A%0A%20%20%20%20%20%20%20%20circle_marker_e7f8635a2b544b0391d51a7db1ecc96d.bindPopup%28popup_ef511d995fd24f4aac4997e7a7aa2741%29%0A%20%20%20%20%20%20%20%20%3B%0A%0A%20%20%20%20%20%20%20%20%0A%20%20%20%20%0A%20%20%20%20%0A%20%20%20%20%20%20%20%20%20%20%20%20var%20circle_marker_3a6c5b6dec1a436283c123853cafdfb1%20%3D%20L.circleMarker%28%0A%20%20%20%20%20%20%20%20%20%20%20%20%20%20%20%20%5B34.9823018%2C%2033.1451285%5D%2C%0A%20%20%20%20%20%20%20%20%20%20%20%20%20%20%20%20%7B%22bubblingMouseEvents%22%3A%20true%2C%20%22color%22%3A%20%22%233388ff%22%2C%20%22dashArray%22%3A%20null%2C%20%22dashOffset%22%3A%20null%2C%20%22fill%22%3A%20true%2C%20%22fillColor%22%3A%20%22%233388ff%22%2C%20%22fillOpacity%22%3A%200.2%2C%20%22fillRule%22%3A%20%22evenodd%22%2C%20%22lineCap%22%3A%20%22round%22%2C%20%22lineJoin%22%3A%20%22round%22%2C%20%22opacity%22%3A%201.0%2C%20%22radius%22%3A%207%2C%20%22stroke%22%3A%20true%2C%20%22weight%22%3A%203%7D%0A%20%20%20%20%20%20%20%20%20%20%20%20%29.addTo%28marker_cluster_dbaf00fdfc5544c7b5c205caa5fb4ea7%29%3B%0A%20%20%20%20%20%20%20%20%0A%20%20%20%20%0A%20%20%20%20%20%20%20%20var%20popup_f0dd5a2d74c3410a82f0c046b7eb1482%20%3D%20L.popup%28%7B%22maxWidth%22%3A%20%22100%25%22%7D%29%3B%0A%0A%20%20%20%20%20%20%20%20%0A%20%20%20%20%20%20%20%20%20%20%20%20var%20html_e8e61b5b61e94ddd970816f15045c2ea%20%3D%20%24%28%60%3Cdiv%20id%3D%22html_e8e61b5b61e94ddd970816f15045c2ea%22%20style%3D%22width%3A%20100.0%25%3B%20height%3A%20100.0%25%3B%22%3ECountry%20%3A%20Cyprus%3Cbr%3E%20%20%20%20%20%20%20%20%20%20%20%20%20%20%20%20%20%20%20%20%20Happiness%20Score%20%3A%205.762%3Cbr%3E%20%20%20%20%20%20%20%20%20%20%20%20%20%20%20%20%20%20%20%20%20Year%20%3A%202018%3Cbr%3E%3C/div%3E%60%29%5B0%5D%3B%0A%20%20%20%20%20%20%20%20%20%20%20%20popup_f0dd5a2d74c3410a82f0c046b7eb1482.setContent%28html_e8e61b5b61e94ddd970816f15045c2ea%29%3B%0A%20%20%20%20%20%20%20%20%0A%0A%20%20%20%20%20%20%20%20circle_marker_3a6c5b6dec1a436283c123853cafdfb1.bindPopup%28popup_f0dd5a2d74c3410a82f0c046b7eb1482%29%0A%20%20%20%20%20%20%20%20%3B%0A%0A%20%20%20%20%20%20%20%20%0A%20%20%20%20%0A%20%20%20%20%0A%20%20%20%20%20%20%20%20%20%20%20%20var%20circle_marker_366b563460374717ab5e2fe6ba456935%20%3D%20L.circleMarker%28%0A%20%20%20%20%20%20%20%20%20%20%20%20%20%20%20%20%5B34.9823018%2C%2033.1451285%5D%2C%0A%20%20%20%20%20%20%20%20%20%20%20%20%20%20%20%20%7B%22bubblingMouseEvents%22%3A%20true%2C%20%22color%22%3A%20%22%233388ff%22%2C%20%22dashArray%22%3A%20null%2C%20%22dashOffset%22%3A%20null%2C%20%22fill%22%3A%20true%2C%20%22fillColor%22%3A%20%22%233388ff%22%2C%20%22fillOpacity%22%3A%200.2%2C%20%22fillRule%22%3A%20%22evenodd%22%2C%20%22lineCap%22%3A%20%22round%22%2C%20%22lineJoin%22%3A%20%22round%22%2C%20%22opacity%22%3A%201.0%2C%20%22radius%22%3A%207%2C%20%22stroke%22%3A%20true%2C%20%22weight%22%3A%203%7D%0A%20%20%20%20%20%20%20%20%20%20%20%20%29.addTo%28marker_cluster_dbaf00fdfc5544c7b5c205caa5fb4ea7%29%3B%0A%20%20%20%20%20%20%20%20%0A%20%20%20%20%0A%20%20%20%20%20%20%20%20var%20popup_16ec948d2b604b559a756d6f384d9d29%20%3D%20L.popup%28%7B%22maxWidth%22%3A%20%22100%25%22%7D%29%3B%0A%0A%20%20%20%20%20%20%20%20%0A%20%20%20%20%20%20%20%20%20%20%20%20var%20html_c19cce9bc86b4b029f3a9e4f28e98d74%20%3D%20%24%28%60%3Cdiv%20id%3D%22html_c19cce9bc86b4b029f3a9e4f28e98d74%22%20style%3D%22width%3A%20100.0%25%3B%20height%3A%20100.0%25%3B%22%3ECountry%20%3A%20Cyprus%3Cbr%3E%20%20%20%20%20%20%20%20%20%20%20%20%20%20%20%20%20%20%20%20%20Happiness%20Score%20%3A%205.689%3Cbr%3E%20%20%20%20%20%20%20%20%20%20%20%20%20%20%20%20%20%20%20%20%20Year%20%3A%202015%3Cbr%3E%3C/div%3E%60%29%5B0%5D%3B%0A%20%20%20%20%20%20%20%20%20%20%20%20popup_16ec948d2b604b559a756d6f384d9d29.setContent%28html_c19cce9bc86b4b029f3a9e4f28e98d74%29%3B%0A%20%20%20%20%20%20%20%20%0A%0A%20%20%20%20%20%20%20%20circle_marker_366b563460374717ab5e2fe6ba456935.bindPopup%28popup_16ec948d2b604b559a756d6f384d9d29%29%0A%20%20%20%20%20%20%20%20%3B%0A%0A%20%20%20%20%20%20%20%20%0A%20%20%20%20%0A%20%20%20%20%0A%20%20%20%20%20%20%20%20%20%20%20%20var%20circle_marker_f1a29be2f65742ef8b776152bfdff4ac%20%3D%20L.circleMarker%28%0A%20%20%20%20%20%20%20%20%20%20%20%20%20%20%20%20%5B34.9823018%2C%2033.1451285%5D%2C%0A%20%20%20%20%20%20%20%20%20%20%20%20%20%20%20%20%7B%22bubblingMouseEvents%22%3A%20true%2C%20%22color%22%3A%20%22%233388ff%22%2C%20%22dashArray%22%3A%20null%2C%20%22dashOffset%22%3A%20null%2C%20%22fill%22%3A%20true%2C%20%22fillColor%22%3A%20%22%233388ff%22%2C%20%22fillOpacity%22%3A%200.2%2C%20%22fillRule%22%3A%20%22evenodd%22%2C%20%22lineCap%22%3A%20%22round%22%2C%20%22lineJoin%22%3A%20%22round%22%2C%20%22opacity%22%3A%201.0%2C%20%22radius%22%3A%207%2C%20%22stroke%22%3A%20true%2C%20%22weight%22%3A%203%7D%0A%20%20%20%20%20%20%20%20%20%20%20%20%29.addTo%28marker_cluster_dbaf00fdfc5544c7b5c205caa5fb4ea7%29%3B%0A%20%20%20%20%20%20%20%20%0A%20%20%20%20%0A%20%20%20%20%20%20%20%20var%20popup_4d6c6c9d4515471285accdbbe3881185%20%3D%20L.popup%28%7B%22maxWidth%22%3A%20%22100%25%22%7D%29%3B%0A%0A%20%20%20%20%20%20%20%20%0A%20%20%20%20%20%20%20%20%20%20%20%20var%20html_7e2700f0be2a44d1b942dcaeacd8225b%20%3D%20%24%28%60%3Cdiv%20id%3D%22html_7e2700f0be2a44d1b942dcaeacd8225b%22%20style%3D%22width%3A%20100.0%25%3B%20height%3A%20100.0%25%3B%22%3ECountry%20%3A%20Cyprus%3Cbr%3E%20%20%20%20%20%20%20%20%20%20%20%20%20%20%20%20%20%20%20%20%20Happiness%20Score%20%3A%205.62099981307983%3Cbr%3E%20%20%20%20%20%20%20%20%20%20%20%20%20%20%20%20%20%20%20%20%20Year%20%3A%202017%3Cbr%3E%3C/div%3E%60%29%5B0%5D%3B%0A%20%20%20%20%20%20%20%20%20%20%20%20popup_4d6c6c9d4515471285accdbbe3881185.setContent%28html_7e2700f0be2a44d1b942dcaeacd8225b%29%3B%0A%20%20%20%20%20%20%20%20%0A%0A%20%20%20%20%20%20%20%20circle_marker_f1a29be2f65742ef8b776152bfdff4ac.bindPopup%28popup_4d6c6c9d4515471285accdbbe3881185%29%0A%20%20%20%20%20%20%20%20%3B%0A%0A%20%20%20%20%20%20%20%20%0A%20%20%20%20%0A%20%20%20%20%0A%20%20%20%20%20%20%20%20%20%20%20%20var%20circle_marker_53b92d9c71cf4ec9a0414b1bf417a918%20%3D%20L.circleMarker%28%0A%20%20%20%20%20%20%20%20%20%20%20%20%20%20%20%20%5B34.9823018%2C%2033.1451285%5D%2C%0A%20%20%20%20%20%20%20%20%20%20%20%20%20%20%20%20%7B%22bubblingMouseEvents%22%3A%20true%2C%20%22color%22%3A%20%22%233388ff%22%2C%20%22dashArray%22%3A%20null%2C%20%22dashOffset%22%3A%20null%2C%20%22fill%22%3A%20true%2C%20%22fillColor%22%3A%20%22%233388ff%22%2C%20%22fillOpacity%22%3A%200.2%2C%20%22fillRule%22%3A%20%22evenodd%22%2C%20%22lineCap%22%3A%20%22round%22%2C%20%22lineJoin%22%3A%20%22round%22%2C%20%22opacity%22%3A%201.0%2C%20%22radius%22%3A%207%2C%20%22stroke%22%3A%20true%2C%20%22weight%22%3A%203%7D%0A%20%20%20%20%20%20%20%20%20%20%20%20%29.addTo%28marker_cluster_dbaf00fdfc5544c7b5c205caa5fb4ea7%29%3B%0A%20%20%20%20%20%20%20%20%0A%20%20%20%20%0A%20%20%20%20%20%20%20%20var%20popup_686d918402904c759cd8302cd8242741%20%3D%20L.popup%28%7B%22maxWidth%22%3A%20%22100%25%22%7D%29%3B%0A%0A%20%20%20%20%20%20%20%20%0A%20%20%20%20%20%20%20%20%20%20%20%20var%20html_33749b814eea4e3596c9b1fad184a47c%20%3D%20%24%28%60%3Cdiv%20id%3D%22html_33749b814eea4e3596c9b1fad184a47c%22%20style%3D%22width%3A%20100.0%25%3B%20height%3A%20100.0%25%3B%22%3ECountry%20%3A%20Cyprus%3Cbr%3E%20%20%20%20%20%20%20%20%20%20%20%20%20%20%20%20%20%20%20%20%20Happiness%20Score%20%3A%205.546%3Cbr%3E%20%20%20%20%20%20%20%20%20%20%20%20%20%20%20%20%20%20%20%20%20Year%20%3A%202016%3Cbr%3E%3C/div%3E%60%29%5B0%5D%3B%0A%20%20%20%20%20%20%20%20%20%20%20%20popup_686d918402904c759cd8302cd8242741.setContent%28html_33749b814eea4e3596c9b1fad184a47c%29%3B%0A%20%20%20%20%20%20%20%20%0A%0A%20%20%20%20%20%20%20%20circle_marker_53b92d9c71cf4ec9a0414b1bf417a918.bindPopup%28popup_686d918402904c759cd8302cd8242741%29%0A%20%20%20%20%20%20%20%20%3B%0A%0A%20%20%20%20%20%20%20%20%0A%20%20%20%20%0A%20%20%20%20%0A%20%20%20%20%20%20%20%20%20%20%20%20var%20circle_marker_d1fe08af79414f5facfda699759e0a4b%20%3D%20L.circleMarker%28%0A%20%20%20%20%20%20%20%20%20%20%20%20%20%20%20%20%5B56.8406494%2C%2024.7537645%5D%2C%0A%20%20%20%20%20%20%20%20%20%20%20%20%20%20%20%20%7B%22bubblingMouseEvents%22%3A%20true%2C%20%22color%22%3A%20%22%233388ff%22%2C%20%22dashArray%22%3A%20null%2C%20%22dashOffset%22%3A%20null%2C%20%22fill%22%3A%20true%2C%20%22fillColor%22%3A%20%22%233388ff%22%2C%20%22fillOpacity%22%3A%200.2%2C%20%22fillRule%22%3A%20%22evenodd%22%2C%20%22lineCap%22%3A%20%22round%22%2C%20%22lineJoin%22%3A%20%22round%22%2C%20%22opacity%22%3A%201.0%2C%20%22radius%22%3A%207%2C%20%22stroke%22%3A%20true%2C%20%22weight%22%3A%203%7D%0A%20%20%20%20%20%20%20%20%20%20%20%20%29.addTo%28marker_cluster_dbaf00fdfc5544c7b5c205caa5fb4ea7%29%3B%0A%20%20%20%20%20%20%20%20%0A%20%20%20%20%0A%20%20%20%20%20%20%20%20var%20popup_2ed05da71ef44b298798ab565e5401e7%20%3D%20L.popup%28%7B%22maxWidth%22%3A%20%22100%25%22%7D%29%3B%0A%0A%20%20%20%20%20%20%20%20%0A%20%20%20%20%20%20%20%20%20%20%20%20var%20html_679f3c7b669f4d1998c2e030c5969658%20%3D%20%24%28%60%3Cdiv%20id%3D%22html_679f3c7b669f4d1998c2e030c5969658%22%20style%3D%22width%3A%20100.0%25%3B%20height%3A%20100.0%25%3B%22%3ECountry%20%3A%20Latvia%3Cbr%3E%20%20%20%20%20%20%20%20%20%20%20%20%20%20%20%20%20%20%20%20%20Happiness%20Score%20%3A%205.94%3Cbr%3E%20%20%20%20%20%20%20%20%20%20%20%20%20%20%20%20%20%20%20%20%20Year%20%3A%202019%3Cbr%3E%3C/div%3E%60%29%5B0%5D%3B%0A%20%20%20%20%20%20%20%20%20%20%20%20popup_2ed05da71ef44b298798ab565e5401e7.setContent%28html_679f3c7b669f4d1998c2e030c5969658%29%3B%0A%20%20%20%20%20%20%20%20%0A%0A%20%20%20%20%20%20%20%20circle_marker_d1fe08af79414f5facfda699759e0a4b.bindPopup%28popup_2ed05da71ef44b298798ab565e5401e7%29%0A%20%20%20%20%20%20%20%20%3B%0A%0A%20%20%20%20%20%20%20%20%0A%20%20%20%20%0A%20%20%20%20%0A%20%20%20%20%20%20%20%20%20%20%20%20var%20circle_marker_3df86510fc9044139686261d0061cd5a%20%3D%20L.circleMarker%28%0A%20%20%20%20%20%20%20%20%20%20%20%20%20%20%20%20%5B56.8406494%2C%2024.7537645%5D%2C%0A%20%20%20%20%20%20%20%20%20%20%20%20%20%20%20%20%7B%22bubblingMouseEvents%22%3A%20true%2C%20%22color%22%3A%20%22%233388ff%22%2C%20%22dashArray%22%3A%20null%2C%20%22dashOffset%22%3A%20null%2C%20%22fill%22%3A%20true%2C%20%22fillColor%22%3A%20%22%233388ff%22%2C%20%22fillOpacity%22%3A%200.2%2C%20%22fillRule%22%3A%20%22evenodd%22%2C%20%22lineCap%22%3A%20%22round%22%2C%20%22lineJoin%22%3A%20%22round%22%2C%20%22opacity%22%3A%201.0%2C%20%22radius%22%3A%207%2C%20%22stroke%22%3A%20true%2C%20%22weight%22%3A%203%7D%0A%20%20%20%20%20%20%20%20%20%20%20%20%29.addTo%28marker_cluster_dbaf00fdfc5544c7b5c205caa5fb4ea7%29%3B%0A%20%20%20%20%20%20%20%20%0A%20%20%20%20%0A%20%20%20%20%20%20%20%20var%20popup_eddd6c26af4549678b62e1ef890fcf7d%20%3D%20L.popup%28%7B%22maxWidth%22%3A%20%22100%25%22%7D%29%3B%0A%0A%20%20%20%20%20%20%20%20%0A%20%20%20%20%20%20%20%20%20%20%20%20var%20html_adb754196d7d446088ecbe6695d53fae%20%3D%20%24%28%60%3Cdiv%20id%3D%22html_adb754196d7d446088ecbe6695d53fae%22%20style%3D%22width%3A%20100.0%25%3B%20height%3A%20100.0%25%3B%22%3ECountry%20%3A%20Latvia%3Cbr%3E%20%20%20%20%20%20%20%20%20%20%20%20%20%20%20%20%20%20%20%20%20Happiness%20Score%20%3A%205.933%3Cbr%3E%20%20%20%20%20%20%20%20%20%20%20%20%20%20%20%20%20%20%20%20%20Year%20%3A%202018%3Cbr%3E%3C/div%3E%60%29%5B0%5D%3B%0A%20%20%20%20%20%20%20%20%20%20%20%20popup_eddd6c26af4549678b62e1ef890fcf7d.setContent%28html_adb754196d7d446088ecbe6695d53fae%29%3B%0A%20%20%20%20%20%20%20%20%0A%0A%20%20%20%20%20%20%20%20circle_marker_3df86510fc9044139686261d0061cd5a.bindPopup%28popup_eddd6c26af4549678b62e1ef890fcf7d%29%0A%20%20%20%20%20%20%20%20%3B%0A%0A%20%20%20%20%20%20%20%20%0A%20%20%20%20%0A%20%20%20%20%0A%20%20%20%20%20%20%20%20%20%20%20%20var%20circle_marker_423b5ffede91443ea82ba49ee8f149e3%20%3D%20L.circleMarker%28%0A%20%20%20%20%20%20%20%20%20%20%20%20%20%20%20%20%5B56.8406494%2C%2024.7537645%5D%2C%0A%20%20%20%20%20%20%20%20%20%20%20%20%20%20%20%20%7B%22bubblingMouseEvents%22%3A%20true%2C%20%22color%22%3A%20%22%233388ff%22%2C%20%22dashArray%22%3A%20null%2C%20%22dashOffset%22%3A%20null%2C%20%22fill%22%3A%20true%2C%20%22fillColor%22%3A%20%22%233388ff%22%2C%20%22fillOpacity%22%3A%200.2%2C%20%22fillRule%22%3A%20%22evenodd%22%2C%20%22lineCap%22%3A%20%22round%22%2C%20%22lineJoin%22%3A%20%22round%22%2C%20%22opacity%22%3A%201.0%2C%20%22radius%22%3A%207%2C%20%22stroke%22%3A%20true%2C%20%22weight%22%3A%203%7D%0A%20%20%20%20%20%20%20%20%20%20%20%20%29.addTo%28marker_cluster_dbaf00fdfc5544c7b5c205caa5fb4ea7%29%3B%0A%20%20%20%20%20%20%20%20%0A%20%20%20%20%0A%20%20%20%20%20%20%20%20var%20popup_684ea7e5f41c43efafa27b75b7bbe12c%20%3D%20L.popup%28%7B%22maxWidth%22%3A%20%22100%25%22%7D%29%3B%0A%0A%20%20%20%20%20%20%20%20%0A%20%20%20%20%20%20%20%20%20%20%20%20var%20html_3c9ca50430334f178bb025578dbde194%20%3D%20%24%28%60%3Cdiv%20id%3D%22html_3c9ca50430334f178bb025578dbde194%22%20style%3D%22width%3A%20100.0%25%3B%20height%3A%20100.0%25%3B%22%3ECountry%20%3A%20Latvia%3Cbr%3E%20%20%20%20%20%20%20%20%20%20%20%20%20%20%20%20%20%20%20%20%20Happiness%20Score%20%3A%205.84999990463257%3Cbr%3E%20%20%20%20%20%20%20%20%20%20%20%20%20%20%20%20%20%20%20%20%20Year%20%3A%202017%3Cbr%3E%3C/div%3E%60%29%5B0%5D%3B%0A%20%20%20%20%20%20%20%20%20%20%20%20popup_684ea7e5f41c43efafa27b75b7bbe12c.setContent%28html_3c9ca50430334f178bb025578dbde194%29%3B%0A%20%20%20%20%20%20%20%20%0A%0A%20%20%20%20%20%20%20%20circle_marker_423b5ffede91443ea82ba49ee8f149e3.bindPopup%28popup_684ea7e5f41c43efafa27b75b7bbe12c%29%0A%20%20%20%20%20%20%20%20%3B%0A%0A%20%20%20%20%20%20%20%20%0A%20%20%20%20%0A%20%20%20%20%0A%20%20%20%20%20%20%20%20%20%20%20%20var%20circle_marker_c05dff91f6134b2f87721329efbee1b8%20%3D%20L.circleMarker%28%0A%20%20%20%20%20%20%20%20%20%20%20%20%20%20%20%20%5B56.8406494%2C%2024.7537645%5D%2C%0A%20%20%20%20%20%20%20%20%20%20%20%20%20%20%20%20%7B%22bubblingMouseEvents%22%3A%20true%2C%20%22color%22%3A%20%22%233388ff%22%2C%20%22dashArray%22%3A%20null%2C%20%22dashOffset%22%3A%20null%2C%20%22fill%22%3A%20true%2C%20%22fillColor%22%3A%20%22%233388ff%22%2C%20%22fillOpacity%22%3A%200.2%2C%20%22fillRule%22%3A%20%22evenodd%22%2C%20%22lineCap%22%3A%20%22round%22%2C%20%22lineJoin%22%3A%20%22round%22%2C%20%22opacity%22%3A%201.0%2C%20%22radius%22%3A%207%2C%20%22stroke%22%3A%20true%2C%20%22weight%22%3A%203%7D%0A%20%20%20%20%20%20%20%20%20%20%20%20%29.addTo%28marker_cluster_dbaf00fdfc5544c7b5c205caa5fb4ea7%29%3B%0A%20%20%20%20%20%20%20%20%0A%20%20%20%20%0A%20%20%20%20%20%20%20%20var%20popup_9dcd0e49f1f64e7c8ac5acf0fb237e23%20%3D%20L.popup%28%7B%22maxWidth%22%3A%20%22100%25%22%7D%29%3B%0A%0A%20%20%20%20%20%20%20%20%0A%20%20%20%20%20%20%20%20%20%20%20%20var%20html_1fc9c4935efb4827af70861a8b9980a6%20%3D%20%24%28%60%3Cdiv%20id%3D%22html_1fc9c4935efb4827af70861a8b9980a6%22%20style%3D%22width%3A%20100.0%25%3B%20height%3A%20100.0%25%3B%22%3ECountry%20%3A%20Latvia%3Cbr%3E%20%20%20%20%20%20%20%20%20%20%20%20%20%20%20%20%20%20%20%20%20Happiness%20Score%20%3A%205.56%3Cbr%3E%20%20%20%20%20%20%20%20%20%20%20%20%20%20%20%20%20%20%20%20%20Year%20%3A%202016%3Cbr%3E%3C/div%3E%60%29%5B0%5D%3B%0A%20%20%20%20%20%20%20%20%20%20%20%20popup_9dcd0e49f1f64e7c8ac5acf0fb237e23.setContent%28html_1fc9c4935efb4827af70861a8b9980a6%29%3B%0A%20%20%20%20%20%20%20%20%0A%0A%20%20%20%20%20%20%20%20circle_marker_c05dff91f6134b2f87721329efbee1b8.bindPopup%28popup_9dcd0e49f1f64e7c8ac5acf0fb237e23%29%0A%20%20%20%20%20%20%20%20%3B%0A%0A%20%20%20%20%20%20%20%20%0A%20%20%20%20%0A%20%20%20%20%0A%20%20%20%20%20%20%20%20%20%20%20%20var%20circle_marker_48796c0b39b24751b0132eb40c6066f6%20%3D%20L.circleMarker%28%0A%20%20%20%20%20%20%20%20%20%20%20%20%20%20%20%20%5B56.8406494%2C%2024.7537645%5D%2C%0A%20%20%20%20%20%20%20%20%20%20%20%20%20%20%20%20%7B%22bubblingMouseEvents%22%3A%20true%2C%20%22color%22%3A%20%22%233388ff%22%2C%20%22dashArray%22%3A%20null%2C%20%22dashOffset%22%3A%20null%2C%20%22fill%22%3A%20true%2C%20%22fillColor%22%3A%20%22%233388ff%22%2C%20%22fillOpacity%22%3A%200.2%2C%20%22fillRule%22%3A%20%22evenodd%22%2C%20%22lineCap%22%3A%20%22round%22%2C%20%22lineJoin%22%3A%20%22round%22%2C%20%22opacity%22%3A%201.0%2C%20%22radius%22%3A%207%2C%20%22stroke%22%3A%20true%2C%20%22weight%22%3A%203%7D%0A%20%20%20%20%20%20%20%20%20%20%20%20%29.addTo%28marker_cluster_dbaf00fdfc5544c7b5c205caa5fb4ea7%29%3B%0A%20%20%20%20%20%20%20%20%0A%20%20%20%20%0A%20%20%20%20%20%20%20%20var%20popup_b548776dd7cd4d4b866bc10320dea2fd%20%3D%20L.popup%28%7B%22maxWidth%22%3A%20%22100%25%22%7D%29%3B%0A%0A%20%20%20%20%20%20%20%20%0A%20%20%20%20%20%20%20%20%20%20%20%20var%20html_5317c979b637457bb182366457d46064%20%3D%20%24%28%60%3Cdiv%20id%3D%22html_5317c979b637457bb182366457d46064%22%20style%3D%22width%3A%20100.0%25%3B%20height%3A%20100.0%25%3B%22%3ECountry%20%3A%20Latvia%3Cbr%3E%20%20%20%20%20%20%20%20%20%20%20%20%20%20%20%20%20%20%20%20%20Happiness%20Score%20%3A%205.098%3Cbr%3E%20%20%20%20%20%20%20%20%20%20%20%20%20%20%20%20%20%20%20%20%20Year%20%3A%202015%3Cbr%3E%3C/div%3E%60%29%5B0%5D%3B%0A%20%20%20%20%20%20%20%20%20%20%20%20popup_b548776dd7cd4d4b866bc10320dea2fd.setContent%28html_5317c979b637457bb182366457d46064%29%3B%0A%20%20%20%20%20%20%20%20%0A%0A%20%20%20%20%20%20%20%20circle_marker_48796c0b39b24751b0132eb40c6066f6.bindPopup%28popup_b548776dd7cd4d4b866bc10320dea2fd%29%0A%20%20%20%20%20%20%20%20%3B%0A%0A%20%20%20%20%20%20%20%20%0A%20%20%20%20%0A%20%20%20%20%0A%20%20%20%20%20%20%20%20%20%20%20%20var%20circle_marker_6aede7e410684453bbf44e8aa3565ee2%20%3D%20L.circleMarker%28%0A%20%20%20%20%20%20%20%20%20%20%20%20%20%20%20%20%5B58.7523778%2C%2025.3319078%5D%2C%0A%20%20%20%20%20%20%20%20%20%20%20%20%20%20%20%20%7B%22bubblingMouseEvents%22%3A%20true%2C%20%22color%22%3A%20%22%233388ff%22%2C%20%22dashArray%22%3A%20null%2C%20%22dashOffset%22%3A%20null%2C%20%22fill%22%3A%20true%2C%20%22fillColor%22%3A%20%22%233388ff%22%2C%20%22fillOpacity%22%3A%200.2%2C%20%22fillRule%22%3A%20%22evenodd%22%2C%20%22lineCap%22%3A%20%22round%22%2C%20%22lineJoin%22%3A%20%22round%22%2C%20%22opacity%22%3A%201.0%2C%20%22radius%22%3A%207%2C%20%22stroke%22%3A%20true%2C%20%22weight%22%3A%203%7D%0A%20%20%20%20%20%20%20%20%20%20%20%20%29.addTo%28marker_cluster_dbaf00fdfc5544c7b5c205caa5fb4ea7%29%3B%0A%20%20%20%20%20%20%20%20%0A%20%20%20%20%0A%20%20%20%20%20%20%20%20var%20popup_4c447c07aeae4058a8833869707eade0%20%3D%20L.popup%28%7B%22maxWidth%22%3A%20%22100%25%22%7D%29%3B%0A%0A%20%20%20%20%20%20%20%20%0A%20%20%20%20%20%20%20%20%20%20%20%20var%20html_ac5d9a9d264b42dcb75a7a42431ad005%20%3D%20%24%28%60%3Cdiv%20id%3D%22html_ac5d9a9d264b42dcb75a7a42431ad005%22%20style%3D%22width%3A%20100.0%25%3B%20height%3A%20100.0%25%3B%22%3ECountry%20%3A%20Estonia%3Cbr%3E%20%20%20%20%20%20%20%20%20%20%20%20%20%20%20%20%20%20%20%20%20Happiness%20Score%20%3A%205.893%3Cbr%3E%20%20%20%20%20%20%20%20%20%20%20%20%20%20%20%20%20%20%20%20%20Year%20%3A%202019%3Cbr%3E%3C/div%3E%60%29%5B0%5D%3B%0A%20%20%20%20%20%20%20%20%20%20%20%20popup_4c447c07aeae4058a8833869707eade0.setContent%28html_ac5d9a9d264b42dcb75a7a42431ad005%29%3B%0A%20%20%20%20%20%20%20%20%0A%0A%20%20%20%20%20%20%20%20circle_marker_6aede7e410684453bbf44e8aa3565ee2.bindPopup%28popup_4c447c07aeae4058a8833869707eade0%29%0A%20%20%20%20%20%20%20%20%3B%0A%0A%20%20%20%20%20%20%20%20%0A%20%20%20%20%0A%20%20%20%20%0A%20%20%20%20%20%20%20%20%20%20%20%20var%20circle_marker_2e94420a80254df597278410ae587eff%20%3D%20L.circleMarker%28%0A%20%20%20%20%20%20%20%20%20%20%20%20%20%20%20%20%5B58.7523778%2C%2025.3319078%5D%2C%0A%20%20%20%20%20%20%20%20%20%20%20%20%20%20%20%20%7B%22bubblingMouseEvents%22%3A%20true%2C%20%22color%22%3A%20%22%233388ff%22%2C%20%22dashArray%22%3A%20null%2C%20%22dashOffset%22%3A%20null%2C%20%22fill%22%3A%20true%2C%20%22fillColor%22%3A%20%22%233388ff%22%2C%20%22fillOpacity%22%3A%200.2%2C%20%22fillRule%22%3A%20%22evenodd%22%2C%20%22lineCap%22%3A%20%22round%22%2C%20%22lineJoin%22%3A%20%22round%22%2C%20%22opacity%22%3A%201.0%2C%20%22radius%22%3A%207%2C%20%22stroke%22%3A%20true%2C%20%22weight%22%3A%203%7D%0A%20%20%20%20%20%20%20%20%20%20%20%20%29.addTo%28marker_cluster_dbaf00fdfc5544c7b5c205caa5fb4ea7%29%3B%0A%20%20%20%20%20%20%20%20%0A%20%20%20%20%0A%20%20%20%20%20%20%20%20var%20popup_9a4dd0f06e334223b4fdbe9ab88c93a5%20%3D%20L.popup%28%7B%22maxWidth%22%3A%20%22100%25%22%7D%29%3B%0A%0A%20%20%20%20%20%20%20%20%0A%20%20%20%20%20%20%20%20%20%20%20%20var%20html_262d7c544d3a4235957429956cdeac54%20%3D%20%24%28%60%3Cdiv%20id%3D%22html_262d7c544d3a4235957429956cdeac54%22%20style%3D%22width%3A%20100.0%25%3B%20height%3A%20100.0%25%3B%22%3ECountry%20%3A%20Estonia%3Cbr%3E%20%20%20%20%20%20%20%20%20%20%20%20%20%20%20%20%20%20%20%20%20Happiness%20Score%20%3A%205.739%3Cbr%3E%20%20%20%20%20%20%20%20%20%20%20%20%20%20%20%20%20%20%20%20%20Year%20%3A%202018%3Cbr%3E%3C/div%3E%60%29%5B0%5D%3B%0A%20%20%20%20%20%20%20%20%20%20%20%20popup_9a4dd0f06e334223b4fdbe9ab88c93a5.setContent%28html_262d7c544d3a4235957429956cdeac54%29%3B%0A%20%20%20%20%20%20%20%20%0A%0A%20%20%20%20%20%20%20%20circle_marker_2e94420a80254df597278410ae587eff.bindPopup%28popup_9a4dd0f06e334223b4fdbe9ab88c93a5%29%0A%20%20%20%20%20%20%20%20%3B%0A%0A%20%20%20%20%20%20%20%20%0A%20%20%20%20%0A%20%20%20%20%0A%20%20%20%20%20%20%20%20%20%20%20%20var%20circle_marker_15bb1be85f524ec68a9dba5b38b4369f%20%3D%20L.circleMarker%28%0A%20%20%20%20%20%20%20%20%20%20%20%20%20%20%20%20%5B58.7523778%2C%2025.3319078%5D%2C%0A%20%20%20%20%20%20%20%20%20%20%20%20%20%20%20%20%7B%22bubblingMouseEvents%22%3A%20true%2C%20%22color%22%3A%20%22%233388ff%22%2C%20%22dashArray%22%3A%20null%2C%20%22dashOffset%22%3A%20null%2C%20%22fill%22%3A%20true%2C%20%22fillColor%22%3A%20%22%233388ff%22%2C%20%22fillOpacity%22%3A%200.2%2C%20%22fillRule%22%3A%20%22evenodd%22%2C%20%22lineCap%22%3A%20%22round%22%2C%20%22lineJoin%22%3A%20%22round%22%2C%20%22opacity%22%3A%201.0%2C%20%22radius%22%3A%207%2C%20%22stroke%22%3A%20true%2C%20%22weight%22%3A%203%7D%0A%20%20%20%20%20%20%20%20%20%20%20%20%29.addTo%28marker_cluster_dbaf00fdfc5544c7b5c205caa5fb4ea7%29%3B%0A%20%20%20%20%20%20%20%20%0A%20%20%20%20%0A%20%20%20%20%20%20%20%20var%20popup_842b81219b4945df99f035129139b6b0%20%3D%20L.popup%28%7B%22maxWidth%22%3A%20%22100%25%22%7D%29%3B%0A%0A%20%20%20%20%20%20%20%20%0A%20%20%20%20%20%20%20%20%20%20%20%20var%20html_99593a052f754c1cb3fdc57a73258b69%20%3D%20%24%28%60%3Cdiv%20id%3D%22html_99593a052f754c1cb3fdc57a73258b69%22%20style%3D%22width%3A%20100.0%25%3B%20height%3A%20100.0%25%3B%22%3ECountry%20%3A%20Estonia%3Cbr%3E%20%20%20%20%20%20%20%20%20%20%20%20%20%20%20%20%20%20%20%20%20Happiness%20Score%20%3A%205.61100006103516%3Cbr%3E%20%20%20%20%20%20%20%20%20%20%20%20%20%20%20%20%20%20%20%20%20Year%20%3A%202017%3Cbr%3E%3C/div%3E%60%29%5B0%5D%3B%0A%20%20%20%20%20%20%20%20%20%20%20%20popup_842b81219b4945df99f035129139b6b0.setContent%28html_99593a052f754c1cb3fdc57a73258b69%29%3B%0A%20%20%20%20%20%20%20%20%0A%0A%20%20%20%20%20%20%20%20circle_marker_15bb1be85f524ec68a9dba5b38b4369f.bindPopup%28popup_842b81219b4945df99f035129139b6b0%29%0A%20%20%20%20%20%20%20%20%3B%0A%0A%20%20%20%20%20%20%20%20%0A%20%20%20%20%0A%20%20%20%20%0A%20%20%20%20%20%20%20%20%20%20%20%20var%20circle_marker_12a580e3ab55433a8ea5afd11beedfe0%20%3D%20L.circleMarker%28%0A%20%20%20%20%20%20%20%20%20%20%20%20%20%20%20%20%5B58.7523778%2C%2025.3319078%5D%2C%0A%20%20%20%20%20%20%20%20%20%20%20%20%20%20%20%20%7B%22bubblingMouseEvents%22%3A%20true%2C%20%22color%22%3A%20%22%233388ff%22%2C%20%22dashArray%22%3A%20null%2C%20%22dashOffset%22%3A%20null%2C%20%22fill%22%3A%20true%2C%20%22fillColor%22%3A%20%22%233388ff%22%2C%20%22fillOpacity%22%3A%200.2%2C%20%22fillRule%22%3A%20%22evenodd%22%2C%20%22lineCap%22%3A%20%22round%22%2C%20%22lineJoin%22%3A%20%22round%22%2C%20%22opacity%22%3A%201.0%2C%20%22radius%22%3A%207%2C%20%22stroke%22%3A%20true%2C%20%22weight%22%3A%203%7D%0A%20%20%20%20%20%20%20%20%20%20%20%20%29.addTo%28marker_cluster_dbaf00fdfc5544c7b5c205caa5fb4ea7%29%3B%0A%20%20%20%20%20%20%20%20%0A%20%20%20%20%0A%20%20%20%20%20%20%20%20var%20popup_2a4e7b29d1494b148500557223e813c7%20%3D%20L.popup%28%7B%22maxWidth%22%3A%20%22100%25%22%7D%29%3B%0A%0A%20%20%20%20%20%20%20%20%0A%20%20%20%20%20%20%20%20%20%20%20%20var%20html_f847d966e1754a3883c44b8d43238a89%20%3D%20%24%28%60%3Cdiv%20id%3D%22html_f847d966e1754a3883c44b8d43238a89%22%20style%3D%22width%3A%20100.0%25%3B%20height%3A%20100.0%25%3B%22%3ECountry%20%3A%20Estonia%3Cbr%3E%20%20%20%20%20%20%20%20%20%20%20%20%20%20%20%20%20%20%20%20%20Happiness%20Score%20%3A%205.517%3Cbr%3E%20%20%20%20%20%20%20%20%20%20%20%20%20%20%20%20%20%20%20%20%20Year%20%3A%202016%3Cbr%3E%3C/div%3E%60%29%5B0%5D%3B%0A%20%20%20%20%20%20%20%20%20%20%20%20popup_2a4e7b29d1494b148500557223e813c7.setContent%28html_f847d966e1754a3883c44b8d43238a89%29%3B%0A%20%20%20%20%20%20%20%20%0A%0A%20%20%20%20%20%20%20%20circle_marker_12a580e3ab55433a8ea5afd11beedfe0.bindPopup%28popup_2a4e7b29d1494b148500557223e813c7%29%0A%20%20%20%20%20%20%20%20%3B%0A%0A%20%20%20%20%20%20%20%20%0A%20%20%20%20%0A%20%20%20%20%0A%20%20%20%20%20%20%20%20%20%20%20%20var%20circle_marker_aa74e43b7c6a49358369022bd2c0837e%20%3D%20L.circleMarker%28%0A%20%20%20%20%20%20%20%20%20%20%20%20%20%20%20%20%5B58.7523778%2C%2025.3319078%5D%2C%0A%20%20%20%20%20%20%20%20%20%20%20%20%20%20%20%20%7B%22bubblingMouseEvents%22%3A%20true%2C%20%22color%22%3A%20%22%233388ff%22%2C%20%22dashArray%22%3A%20null%2C%20%22dashOffset%22%3A%20null%2C%20%22fill%22%3A%20true%2C%20%22fillColor%22%3A%20%22%233388ff%22%2C%20%22fillOpacity%22%3A%200.2%2C%20%22fillRule%22%3A%20%22evenodd%22%2C%20%22lineCap%22%3A%20%22round%22%2C%20%22lineJoin%22%3A%20%22round%22%2C%20%22opacity%22%3A%201.0%2C%20%22radius%22%3A%207%2C%20%22stroke%22%3A%20true%2C%20%22weight%22%3A%203%7D%0A%20%20%20%20%20%20%20%20%20%20%20%20%29.addTo%28marker_cluster_dbaf00fdfc5544c7b5c205caa5fb4ea7%29%3B%0A%20%20%20%20%20%20%20%20%0A%20%20%20%20%0A%20%20%20%20%20%20%20%20var%20popup_c05e2296c0a040208619675e9f145f93%20%3D%20L.popup%28%7B%22maxWidth%22%3A%20%22100%25%22%7D%29%3B%0A%0A%20%20%20%20%20%20%20%20%0A%20%20%20%20%20%20%20%20%20%20%20%20var%20html_79064fd8d52a4a84a9d20eceb6b9ac1b%20%3D%20%24%28%60%3Cdiv%20id%3D%22html_79064fd8d52a4a84a9d20eceb6b9ac1b%22%20style%3D%22width%3A%20100.0%25%3B%20height%3A%20100.0%25%3B%22%3ECountry%20%3A%20Estonia%3Cbr%3E%20%20%20%20%20%20%20%20%20%20%20%20%20%20%20%20%20%20%20%20%20Happiness%20Score%20%3A%205.429%3Cbr%3E%20%20%20%20%20%20%20%20%20%20%20%20%20%20%20%20%20%20%20%20%20Year%20%3A%202015%3Cbr%3E%3C/div%3E%60%29%5B0%5D%3B%0A%20%20%20%20%20%20%20%20%20%20%20%20popup_c05e2296c0a040208619675e9f145f93.setContent%28html_79064fd8d52a4a84a9d20eceb6b9ac1b%29%3B%0A%20%20%20%20%20%20%20%20%0A%0A%20%20%20%20%20%20%20%20circle_marker_aa74e43b7c6a49358369022bd2c0837e.bindPopup%28popup_c05e2296c0a040208619675e9f145f93%29%0A%20%20%20%20%20%20%20%20%3B%0A%0A%20%20%20%20%20%20%20%20%0A%20%20%20%20%0A%20%20%20%20%0A%20%20%20%20%20%20%20%20%20%20%20%20var%20circle_marker_4e9a6531e3004b05af896c008d8493b2%20%3D%20L.circleMarker%28%0A%20%20%20%20%20%20%20%20%20%20%20%20%20%20%20%20%5B45.5643442%2C%2017.0118954%5D%2C%0A%20%20%20%20%20%20%20%20%20%20%20%20%20%20%20%20%7B%22bubblingMouseEvents%22%3A%20true%2C%20%22color%22%3A%20%22%233388ff%22%2C%20%22dashArray%22%3A%20null%2C%20%22dashOffset%22%3A%20null%2C%20%22fill%22%3A%20true%2C%20%22fillColor%22%3A%20%22%233388ff%22%2C%20%22fillOpacity%22%3A%200.2%2C%20%22fillRule%22%3A%20%22evenodd%22%2C%20%22lineCap%22%3A%20%22round%22%2C%20%22lineJoin%22%3A%20%22round%22%2C%20%22opacity%22%3A%201.0%2C%20%22radius%22%3A%207%2C%20%22stroke%22%3A%20true%2C%20%22weight%22%3A%203%7D%0A%20%20%20%20%20%20%20%20%20%20%20%20%29.addTo%28marker_cluster_dbaf00fdfc5544c7b5c205caa5fb4ea7%29%3B%0A%20%20%20%20%20%20%20%20%0A%20%20%20%20%0A%20%20%20%20%20%20%20%20var%20popup_360dd38feab441468ebe1e2fa3c8f5c8%20%3D%20L.popup%28%7B%22maxWidth%22%3A%20%22100%25%22%7D%29%3B%0A%0A%20%20%20%20%20%20%20%20%0A%20%20%20%20%20%20%20%20%20%20%20%20var%20html_8eb4c4a10ecb47ca98aceb11b9641159%20%3D%20%24%28%60%3Cdiv%20id%3D%22html_8eb4c4a10ecb47ca98aceb11b9641159%22%20style%3D%22width%3A%20100.0%25%3B%20height%3A%20100.0%25%3B%22%3ECountry%20%3A%20Croatia%3Cbr%3E%20%20%20%20%20%20%20%20%20%20%20%20%20%20%20%20%20%20%20%20%20Happiness%20Score%20%3A%205.759%3Cbr%3E%20%20%20%20%20%20%20%20%20%20%20%20%20%20%20%20%20%20%20%20%20Year%20%3A%202015%3Cbr%3E%3C/div%3E%60%29%5B0%5D%3B%0A%20%20%20%20%20%20%20%20%20%20%20%20popup_360dd38feab441468ebe1e2fa3c8f5c8.setContent%28html_8eb4c4a10ecb47ca98aceb11b9641159%29%3B%0A%20%20%20%20%20%20%20%20%0A%0A%20%20%20%20%20%20%20%20circle_marker_4e9a6531e3004b05af896c008d8493b2.bindPopup%28popup_360dd38feab441468ebe1e2fa3c8f5c8%29%0A%20%20%20%20%20%20%20%20%3B%0A%0A%20%20%20%20%20%20%20%20%0A%20%20%20%20%0A%20%20%20%20%0A%20%20%20%20%20%20%20%20%20%20%20%20var%20circle_marker_96457daba84b4ac894126ee7ec8ccc84%20%3D%20L.circleMarker%28%0A%20%20%20%20%20%20%20%20%20%20%20%20%20%20%20%20%5B45.5643442%2C%2017.0118954%5D%2C%0A%20%20%20%20%20%20%20%20%20%20%20%20%20%20%20%20%7B%22bubblingMouseEvents%22%3A%20true%2C%20%22color%22%3A%20%22%233388ff%22%2C%20%22dashArray%22%3A%20null%2C%20%22dashOffset%22%3A%20null%2C%20%22fill%22%3A%20true%2C%20%22fillColor%22%3A%20%22%233388ff%22%2C%20%22fillOpacity%22%3A%200.2%2C%20%22fillRule%22%3A%20%22evenodd%22%2C%20%22lineCap%22%3A%20%22round%22%2C%20%22lineJoin%22%3A%20%22round%22%2C%20%22opacity%22%3A%201.0%2C%20%22radius%22%3A%207%2C%20%22stroke%22%3A%20true%2C%20%22weight%22%3A%203%7D%0A%20%20%20%20%20%20%20%20%20%20%20%20%29.addTo%28marker_cluster_dbaf00fdfc5544c7b5c205caa5fb4ea7%29%3B%0A%20%20%20%20%20%20%20%20%0A%20%20%20%20%0A%20%20%20%20%20%20%20%20var%20popup_284a2041b7634acaa7d858b69a913de0%20%3D%20L.popup%28%7B%22maxWidth%22%3A%20%22100%25%22%7D%29%3B%0A%0A%20%20%20%20%20%20%20%20%0A%20%20%20%20%20%20%20%20%20%20%20%20var%20html_ded6621f466a4cd4b85643fea0d10c6d%20%3D%20%24%28%60%3Cdiv%20id%3D%22html_ded6621f466a4cd4b85643fea0d10c6d%22%20style%3D%22width%3A%20100.0%25%3B%20height%3A%20100.0%25%3B%22%3ECountry%20%3A%20Croatia%3Cbr%3E%20%20%20%20%20%20%20%20%20%20%20%20%20%20%20%20%20%20%20%20%20Happiness%20Score%20%3A%205.488%3Cbr%3E%20%20%20%20%20%20%20%20%20%20%20%20%20%20%20%20%20%20%20%20%20Year%20%3A%202016%3Cbr%3E%3C/div%3E%60%29%5B0%5D%3B%0A%20%20%20%20%20%20%20%20%20%20%20%20popup_284a2041b7634acaa7d858b69a913de0.setContent%28html_ded6621f466a4cd4b85643fea0d10c6d%29%3B%0A%20%20%20%20%20%20%20%20%0A%0A%20%20%20%20%20%20%20%20circle_marker_96457daba84b4ac894126ee7ec8ccc84.bindPopup%28popup_284a2041b7634acaa7d858b69a913de0%29%0A%20%20%20%20%20%20%20%20%3B%0A%0A%20%20%20%20%20%20%20%20%0A%20%20%20%20%0A%20%20%20%20%0A%20%20%20%20%20%20%20%20%20%20%20%20var%20circle_marker_2b9ce74862fd47b1925735147581afe2%20%3D%20L.circleMarker%28%0A%20%20%20%20%20%20%20%20%20%20%20%20%20%20%20%20%5B45.5643442%2C%2017.0118954%5D%2C%0A%20%20%20%20%20%20%20%20%20%20%20%20%20%20%20%20%7B%22bubblingMouseEvents%22%3A%20true%2C%20%22color%22%3A%20%22%233388ff%22%2C%20%22dashArray%22%3A%20null%2C%20%22dashOffset%22%3A%20null%2C%20%22fill%22%3A%20true%2C%20%22fillColor%22%3A%20%22%233388ff%22%2C%20%22fillOpacity%22%3A%200.2%2C%20%22fillRule%22%3A%20%22evenodd%22%2C%20%22lineCap%22%3A%20%22round%22%2C%20%22lineJoin%22%3A%20%22round%22%2C%20%22opacity%22%3A%201.0%2C%20%22radius%22%3A%207%2C%20%22stroke%22%3A%20true%2C%20%22weight%22%3A%203%7D%0A%20%20%20%20%20%20%20%20%20%20%20%20%29.addTo%28marker_cluster_dbaf00fdfc5544c7b5c205caa5fb4ea7%29%3B%0A%20%20%20%20%20%20%20%20%0A%20%20%20%20%0A%20%20%20%20%20%20%20%20var%20popup_b00e846bc6804f75b08ad9b8677c58e3%20%3D%20L.popup%28%7B%22maxWidth%22%3A%20%22100%25%22%7D%29%3B%0A%0A%20%20%20%20%20%20%20%20%0A%20%20%20%20%20%20%20%20%20%20%20%20var%20html_a50460960165446c81643f2b2a73bf81%20%3D%20%24%28%60%3Cdiv%20id%3D%22html_a50460960165446c81643f2b2a73bf81%22%20style%3D%22width%3A%20100.0%25%3B%20height%3A%20100.0%25%3B%22%3ECountry%20%3A%20Croatia%3Cbr%3E%20%20%20%20%20%20%20%20%20%20%20%20%20%20%20%20%20%20%20%20%20Happiness%20Score%20%3A%205.432%3Cbr%3E%20%20%20%20%20%20%20%20%20%20%20%20%20%20%20%20%20%20%20%20%20Year%20%3A%202019%3Cbr%3E%3C/div%3E%60%29%5B0%5D%3B%0A%20%20%20%20%20%20%20%20%20%20%20%20popup_b00e846bc6804f75b08ad9b8677c58e3.setContent%28html_a50460960165446c81643f2b2a73bf81%29%3B%0A%20%20%20%20%20%20%20%20%0A%0A%20%20%20%20%20%20%20%20circle_marker_2b9ce74862fd47b1925735147581afe2.bindPopup%28popup_b00e846bc6804f75b08ad9b8677c58e3%29%0A%20%20%20%20%20%20%20%20%3B%0A%0A%20%20%20%20%20%20%20%20%0A%20%20%20%20%0A%20%20%20%20%0A%20%20%20%20%20%20%20%20%20%20%20%20var%20circle_marker_fa2a3f644aa84a8d8230f3e0b3da88e1%20%3D%20L.circleMarker%28%0A%20%20%20%20%20%20%20%20%20%20%20%20%20%20%20%20%5B45.5643442%2C%2017.0118954%5D%2C%0A%20%20%20%20%20%20%20%20%20%20%20%20%20%20%20%20%7B%22bubblingMouseEvents%22%3A%20true%2C%20%22color%22%3A%20%22%233388ff%22%2C%20%22dashArray%22%3A%20null%2C%20%22dashOffset%22%3A%20null%2C%20%22fill%22%3A%20true%2C%20%22fillColor%22%3A%20%22%233388ff%22%2C%20%22fillOpacity%22%3A%200.2%2C%20%22fillRule%22%3A%20%22evenodd%22%2C%20%22lineCap%22%3A%20%22round%22%2C%20%22lineJoin%22%3A%20%22round%22%2C%20%22opacity%22%3A%201.0%2C%20%22radius%22%3A%207%2C%20%22stroke%22%3A%20true%2C%20%22weight%22%3A%203%7D%0A%20%20%20%20%20%20%20%20%20%20%20%20%29.addTo%28marker_cluster_dbaf00fdfc5544c7b5c205caa5fb4ea7%29%3B%0A%20%20%20%20%20%20%20%20%0A%20%20%20%20%0A%20%20%20%20%20%20%20%20var%20popup_807a7ad6906e4d9298ab9fd404acfe43%20%3D%20L.popup%28%7B%22maxWidth%22%3A%20%22100%25%22%7D%29%3B%0A%0A%20%20%20%20%20%20%20%20%0A%20%20%20%20%20%20%20%20%20%20%20%20var%20html_c9509789f60447f9a753e189823ca3e0%20%3D%20%24%28%60%3Cdiv%20id%3D%22html_c9509789f60447f9a753e189823ca3e0%22%20style%3D%22width%3A%20100.0%25%3B%20height%3A%20100.0%25%3B%22%3ECountry%20%3A%20Croatia%3Cbr%3E%20%20%20%20%20%20%20%20%20%20%20%20%20%20%20%20%20%20%20%20%20Happiness%20Score%20%3A%205.321%3Cbr%3E%20%20%20%20%20%20%20%20%20%20%20%20%20%20%20%20%20%20%20%20%20Year%20%3A%202018%3Cbr%3E%3C/div%3E%60%29%5B0%5D%3B%0A%20%20%20%20%20%20%20%20%20%20%20%20popup_807a7ad6906e4d9298ab9fd404acfe43.setContent%28html_c9509789f60447f9a753e189823ca3e0%29%3B%0A%20%20%20%20%20%20%20%20%0A%0A%20%20%20%20%20%20%20%20circle_marker_fa2a3f644aa84a8d8230f3e0b3da88e1.bindPopup%28popup_807a7ad6906e4d9298ab9fd404acfe43%29%0A%20%20%20%20%20%20%20%20%3B%0A%0A%20%20%20%20%20%20%20%20%0A%20%20%20%20%0A%20%20%20%20%0A%20%20%20%20%20%20%20%20%20%20%20%20var%20circle_marker_6d38b36ac12246c4b890969d5cb20967%20%3D%20L.circleMarker%28%0A%20%20%20%20%20%20%20%20%20%20%20%20%20%20%20%20%5B45.5643442%2C%2017.0118954%5D%2C%0A%20%20%20%20%20%20%20%20%20%20%20%20%20%20%20%20%7B%22bubblingMouseEvents%22%3A%20true%2C%20%22color%22%3A%20%22%233388ff%22%2C%20%22dashArray%22%3A%20null%2C%20%22dashOffset%22%3A%20null%2C%20%22fill%22%3A%20true%2C%20%22fillColor%22%3A%20%22%233388ff%22%2C%20%22fillOpacity%22%3A%200.2%2C%20%22fillRule%22%3A%20%22evenodd%22%2C%20%22lineCap%22%3A%20%22round%22%2C%20%22lineJoin%22%3A%20%22round%22%2C%20%22opacity%22%3A%201.0%2C%20%22radius%22%3A%207%2C%20%22stroke%22%3A%20true%2C%20%22weight%22%3A%203%7D%0A%20%20%20%20%20%20%20%20%20%20%20%20%29.addTo%28marker_cluster_dbaf00fdfc5544c7b5c205caa5fb4ea7%29%3B%0A%20%20%20%20%20%20%20%20%0A%20%20%20%20%0A%20%20%20%20%20%20%20%20var%20popup_cdaa4b7cf012466aa140deff737a379c%20%3D%20L.popup%28%7B%22maxWidth%22%3A%20%22100%25%22%7D%29%3B%0A%0A%20%20%20%20%20%20%20%20%0A%20%20%20%20%20%20%20%20%20%20%20%20var%20html_faebb745175e420b897d47398d7380f6%20%3D%20%24%28%60%3Cdiv%20id%3D%22html_faebb745175e420b897d47398d7380f6%22%20style%3D%22width%3A%20100.0%25%3B%20height%3A%20100.0%25%3B%22%3ECountry%20%3A%20Croatia%3Cbr%3E%20%20%20%20%20%20%20%20%20%20%20%20%20%20%20%20%20%20%20%20%20Happiness%20Score%20%3A%205.29300022125244%3Cbr%3E%20%20%20%20%20%20%20%20%20%20%20%20%20%20%20%20%20%20%20%20%20Year%20%3A%202017%3Cbr%3E%3C/div%3E%60%29%5B0%5D%3B%0A%20%20%20%20%20%20%20%20%20%20%20%20popup_cdaa4b7cf012466aa140deff737a379c.setContent%28html_faebb745175e420b897d47398d7380f6%29%3B%0A%20%20%20%20%20%20%20%20%0A%0A%20%20%20%20%20%20%20%20circle_marker_6d38b36ac12246c4b890969d5cb20967.bindPopup%28popup_cdaa4b7cf012466aa140deff737a379c%29%0A%20%20%20%20%20%20%20%20%3B%0A%0A%20%20%20%20%20%20%20%20%0A%20%20%20%20%0A%20%20%20%20%0A%20%20%20%20%20%20%20%20%20%20%20%20var%20circle_marker_0376fc659636463da9b049f569e83959%20%3D%20L.circleMarker%28%0A%20%20%20%20%20%20%20%20%20%20%20%20%20%20%20%20%5B47.1817585%2C%2019.5060937%5D%2C%0A%20%20%20%20%20%20%20%20%20%20%20%20%20%20%20%20%7B%22bubblingMouseEvents%22%3A%20true%2C%20%22color%22%3A%20%22%233388ff%22%2C%20%22dashArray%22%3A%20null%2C%20%22dashOffset%22%3A%20null%2C%20%22fill%22%3A%20true%2C%20%22fillColor%22%3A%20%22%233388ff%22%2C%20%22fillOpacity%22%3A%200.2%2C%20%22fillRule%22%3A%20%22evenodd%22%2C%20%22lineCap%22%3A%20%22round%22%2C%20%22lineJoin%22%3A%20%22round%22%2C%20%22opacity%22%3A%201.0%2C%20%22radius%22%3A%207%2C%20%22stroke%22%3A%20true%2C%20%22weight%22%3A%203%7D%0A%20%20%20%20%20%20%20%20%20%20%20%20%29.addTo%28marker_cluster_dbaf00fdfc5544c7b5c205caa5fb4ea7%29%3B%0A%20%20%20%20%20%20%20%20%0A%20%20%20%20%0A%20%20%20%20%20%20%20%20var%20popup_6292e44879d846a5b75b77788f95d4de%20%3D%20L.popup%28%7B%22maxWidth%22%3A%20%22100%25%22%7D%29%3B%0A%0A%20%20%20%20%20%20%20%20%0A%20%20%20%20%20%20%20%20%20%20%20%20var%20html_a3b9b555dd344fab90d7db528cb2aeb8%20%3D%20%24%28%60%3Cdiv%20id%3D%22html_a3b9b555dd344fab90d7db528cb2aeb8%22%20style%3D%22width%3A%20100.0%25%3B%20height%3A%20100.0%25%3B%22%3ECountry%20%3A%20Hungary%3Cbr%3E%20%20%20%20%20%20%20%20%20%20%20%20%20%20%20%20%20%20%20%20%20Happiness%20Score%20%3A%205.758%3Cbr%3E%20%20%20%20%20%20%20%20%20%20%20%20%20%20%20%20%20%20%20%20%20Year%20%3A%202019%3Cbr%3E%3C/div%3E%60%29%5B0%5D%3B%0A%20%20%20%20%20%20%20%20%20%20%20%20popup_6292e44879d846a5b75b77788f95d4de.setContent%28html_a3b9b555dd344fab90d7db528cb2aeb8%29%3B%0A%20%20%20%20%20%20%20%20%0A%0A%20%20%20%20%20%20%20%20circle_marker_0376fc659636463da9b049f569e83959.bindPopup%28popup_6292e44879d846a5b75b77788f95d4de%29%0A%20%20%20%20%20%20%20%20%3B%0A%0A%20%20%20%20%20%20%20%20%0A%20%20%20%20%0A%20%20%20%20%0A%20%20%20%20%20%20%20%20%20%20%20%20var%20circle_marker_89dbe110c5c445419238d8484833da15%20%3D%20L.circleMarker%28%0A%20%20%20%20%20%20%20%20%20%20%20%20%20%20%20%20%5B47.1817585%2C%2019.5060937%5D%2C%0A%20%20%20%20%20%20%20%20%20%20%20%20%20%20%20%20%7B%22bubblingMouseEvents%22%3A%20true%2C%20%22color%22%3A%20%22%233388ff%22%2C%20%22dashArray%22%3A%20null%2C%20%22dashOffset%22%3A%20null%2C%20%22fill%22%3A%20true%2C%20%22fillColor%22%3A%20%22%233388ff%22%2C%20%22fillOpacity%22%3A%200.2%2C%20%22fillRule%22%3A%20%22evenodd%22%2C%20%22lineCap%22%3A%20%22round%22%2C%20%22lineJoin%22%3A%20%22round%22%2C%20%22opacity%22%3A%201.0%2C%20%22radius%22%3A%207%2C%20%22stroke%22%3A%20true%2C%20%22weight%22%3A%203%7D%0A%20%20%20%20%20%20%20%20%20%20%20%20%29.addTo%28marker_cluster_dbaf00fdfc5544c7b5c205caa5fb4ea7%29%3B%0A%20%20%20%20%20%20%20%20%0A%20%20%20%20%0A%20%20%20%20%20%20%20%20var%20popup_2c32c673cb87415f943e8dba37b4d3ba%20%3D%20L.popup%28%7B%22maxWidth%22%3A%20%22100%25%22%7D%29%3B%0A%0A%20%20%20%20%20%20%20%20%0A%20%20%20%20%20%20%20%20%20%20%20%20var%20html_72e1de07307b448ea5298c86ad0784fd%20%3D%20%24%28%60%3Cdiv%20id%3D%22html_72e1de07307b448ea5298c86ad0784fd%22%20style%3D%22width%3A%20100.0%25%3B%20height%3A%20100.0%25%3B%22%3ECountry%20%3A%20Hungary%3Cbr%3E%20%20%20%20%20%20%20%20%20%20%20%20%20%20%20%20%20%20%20%20%20Happiness%20Score%20%3A%205.62%3Cbr%3E%20%20%20%20%20%20%20%20%20%20%20%20%20%20%20%20%20%20%20%20%20Year%20%3A%202018%3Cbr%3E%3C/div%3E%60%29%5B0%5D%3B%0A%20%20%20%20%20%20%20%20%20%20%20%20popup_2c32c673cb87415f943e8dba37b4d3ba.setContent%28html_72e1de07307b448ea5298c86ad0784fd%29%3B%0A%20%20%20%20%20%20%20%20%0A%0A%20%20%20%20%20%20%20%20circle_marker_89dbe110c5c445419238d8484833da15.bindPopup%28popup_2c32c673cb87415f943e8dba37b4d3ba%29%0A%20%20%20%20%20%20%20%20%3B%0A%0A%20%20%20%20%20%20%20%20%0A%20%20%20%20%0A%20%20%20%20%0A%20%20%20%20%20%20%20%20%20%20%20%20var%20circle_marker_9f00f94615204345a60ef1dce1379981%20%3D%20L.circleMarker%28%0A%20%20%20%20%20%20%20%20%20%20%20%20%20%20%20%20%5B47.1817585%2C%2019.5060937%5D%2C%0A%20%20%20%20%20%20%20%20%20%20%20%20%20%20%20%20%7B%22bubblingMouseEvents%22%3A%20true%2C%20%22color%22%3A%20%22%233388ff%22%2C%20%22dashArray%22%3A%20null%2C%20%22dashOffset%22%3A%20null%2C%20%22fill%22%3A%20true%2C%20%22fillColor%22%3A%20%22%233388ff%22%2C%20%22fillOpacity%22%3A%200.2%2C%20%22fillRule%22%3A%20%22evenodd%22%2C%20%22lineCap%22%3A%20%22round%22%2C%20%22lineJoin%22%3A%20%22round%22%2C%20%22opacity%22%3A%201.0%2C%20%22radius%22%3A%207%2C%20%22stroke%22%3A%20true%2C%20%22weight%22%3A%203%7D%0A%20%20%20%20%20%20%20%20%20%20%20%20%29.addTo%28marker_cluster_dbaf00fdfc5544c7b5c205caa5fb4ea7%29%3B%0A%20%20%20%20%20%20%20%20%0A%20%20%20%20%0A%20%20%20%20%20%20%20%20var%20popup_853ec8474fbd4544852fb61aaf1141fc%20%3D%20L.popup%28%7B%22maxWidth%22%3A%20%22100%25%22%7D%29%3B%0A%0A%20%20%20%20%20%20%20%20%0A%20%20%20%20%20%20%20%20%20%20%20%20var%20html_a2d8a702346b47259fff112a6e37b5d6%20%3D%20%24%28%60%3Cdiv%20id%3D%22html_a2d8a702346b47259fff112a6e37b5d6%22%20style%3D%22width%3A%20100.0%25%3B%20height%3A%20100.0%25%3B%22%3ECountry%20%3A%20Hungary%3Cbr%3E%20%20%20%20%20%20%20%20%20%20%20%20%20%20%20%20%20%20%20%20%20Happiness%20Score%20%3A%205.32399988174438%3Cbr%3E%20%20%20%20%20%20%20%20%20%20%20%20%20%20%20%20%20%20%20%20%20Year%20%3A%202017%3Cbr%3E%3C/div%3E%60%29%5B0%5D%3B%0A%20%20%20%20%20%20%20%20%20%20%20%20popup_853ec8474fbd4544852fb61aaf1141fc.setContent%28html_a2d8a702346b47259fff112a6e37b5d6%29%3B%0A%20%20%20%20%20%20%20%20%0A%0A%20%20%20%20%20%20%20%20circle_marker_9f00f94615204345a60ef1dce1379981.bindPopup%28popup_853ec8474fbd4544852fb61aaf1141fc%29%0A%20%20%20%20%20%20%20%20%3B%0A%0A%20%20%20%20%20%20%20%20%0A%20%20%20%20%0A%20%20%20%20%0A%20%20%20%20%20%20%20%20%20%20%20%20var%20circle_marker_0dfbda79ef75449ea62c546dd4e25797%20%3D%20L.circleMarker%28%0A%20%20%20%20%20%20%20%20%20%20%20%20%20%20%20%20%5B47.1817585%2C%2019.5060937%5D%2C%0A%20%20%20%20%20%20%20%20%20%20%20%20%20%20%20%20%7B%22bubblingMouseEvents%22%3A%20true%2C%20%22color%22%3A%20%22%233388ff%22%2C%20%22dashArray%22%3A%20null%2C%20%22dashOffset%22%3A%20null%2C%20%22fill%22%3A%20true%2C%20%22fillColor%22%3A%20%22%233388ff%22%2C%20%22fillOpacity%22%3A%200.2%2C%20%22fillRule%22%3A%20%22evenodd%22%2C%20%22lineCap%22%3A%20%22round%22%2C%20%22lineJoin%22%3A%20%22round%22%2C%20%22opacity%22%3A%201.0%2C%20%22radius%22%3A%207%2C%20%22stroke%22%3A%20true%2C%20%22weight%22%3A%203%7D%0A%20%20%20%20%20%20%20%20%20%20%20%20%29.addTo%28marker_cluster_dbaf00fdfc5544c7b5c205caa5fb4ea7%29%3B%0A%20%20%20%20%20%20%20%20%0A%20%20%20%20%0A%20%20%20%20%20%20%20%20var%20popup_8aebcf8653ec456fbe0b70eecda97f7d%20%3D%20L.popup%28%7B%22maxWidth%22%3A%20%22100%25%22%7D%29%3B%0A%0A%20%20%20%20%20%20%20%20%0A%20%20%20%20%20%20%20%20%20%20%20%20var%20html_eb9217cfbeef4009914a83910bec0310%20%3D%20%24%28%60%3Cdiv%20id%3D%22html_eb9217cfbeef4009914a83910bec0310%22%20style%3D%22width%3A%20100.0%25%3B%20height%3A%20100.0%25%3B%22%3ECountry%20%3A%20Hungary%3Cbr%3E%20%20%20%20%20%20%20%20%20%20%20%20%20%20%20%20%20%20%20%20%20Happiness%20Score%20%3A%205.145%3Cbr%3E%20%20%20%20%20%20%20%20%20%20%20%20%20%20%20%20%20%20%20%20%20Year%20%3A%202016%3Cbr%3E%3C/div%3E%60%29%5B0%5D%3B%0A%20%20%20%20%20%20%20%20%20%20%20%20popup_8aebcf8653ec456fbe0b70eecda97f7d.setContent%28html_eb9217cfbeef4009914a83910bec0310%29%3B%0A%20%20%20%20%20%20%20%20%0A%0A%20%20%20%20%20%20%20%20circle_marker_0dfbda79ef75449ea62c546dd4e25797.bindPopup%28popup_8aebcf8653ec456fbe0b70eecda97f7d%29%0A%20%20%20%20%20%20%20%20%3B%0A%0A%20%20%20%20%20%20%20%20%0A%20%20%20%20%0A%20%20%20%20%0A%20%20%20%20%20%20%20%20%20%20%20%20var%20circle_marker_dcb10c0bb2014405b83b3f275f270d4e%20%3D%20L.circleMarker%28%0A%20%20%20%20%20%20%20%20%20%20%20%20%20%20%20%20%5B47.1817585%2C%2019.5060937%5D%2C%0A%20%20%20%20%20%20%20%20%20%20%20%20%20%20%20%20%7B%22bubblingMouseEvents%22%3A%20true%2C%20%22color%22%3A%20%22%233388ff%22%2C%20%22dashArray%22%3A%20null%2C%20%22dashOffset%22%3A%20null%2C%20%22fill%22%3A%20true%2C%20%22fillColor%22%3A%20%22%233388ff%22%2C%20%22fillOpacity%22%3A%200.2%2C%20%22fillRule%22%3A%20%22evenodd%22%2C%20%22lineCap%22%3A%20%22round%22%2C%20%22lineJoin%22%3A%20%22round%22%2C%20%22opacity%22%3A%201.0%2C%20%22radius%22%3A%207%2C%20%22stroke%22%3A%20true%2C%20%22weight%22%3A%203%7D%0A%20%20%20%20%20%20%20%20%20%20%20%20%29.addTo%28marker_cluster_dbaf00fdfc5544c7b5c205caa5fb4ea7%29%3B%0A%20%20%20%20%20%20%20%20%0A%20%20%20%20%0A%20%20%20%20%20%20%20%20var%20popup_e7e3dfac59744fcb832ffbaa9be5001f%20%3D%20L.popup%28%7B%22maxWidth%22%3A%20%22100%25%22%7D%29%3B%0A%0A%20%20%20%20%20%20%20%20%0A%20%20%20%20%20%20%20%20%20%20%20%20var%20html_ae11ae974d6447a0af47c1bb8f81a6ea%20%3D%20%24%28%60%3Cdiv%20id%3D%22html_ae11ae974d6447a0af47c1bb8f81a6ea%22%20style%3D%22width%3A%20100.0%25%3B%20height%3A%20100.0%25%3B%22%3ECountry%20%3A%20Hungary%3Cbr%3E%20%20%20%20%20%20%20%20%20%20%20%20%20%20%20%20%20%20%20%20%20Happiness%20Score%20%3A%204.8%3Cbr%3E%20%20%20%20%20%20%20%20%20%20%20%20%20%20%20%20%20%20%20%20%20Year%20%3A%202015%3Cbr%3E%3C/div%3E%60%29%5B0%5D%3B%0A%20%20%20%20%20%20%20%20%20%20%20%20popup_e7e3dfac59744fcb832ffbaa9be5001f.setContent%28html_ae11ae974d6447a0af47c1bb8f81a6ea%29%3B%0A%20%20%20%20%20%20%20%20%0A%0A%20%20%20%20%20%20%20%20circle_marker_dcb10c0bb2014405b83b3f275f270d4e.bindPopup%28popup_e7e3dfac59744fcb832ffbaa9be5001f%29%0A%20%20%20%20%20%20%20%20%3B%0A%0A%20%20%20%20%20%20%20%20%0A%20%20%20%20%0A%20%20%20%20%0A%20%20%20%20%20%20%20%20%20%20%20%20var%20circle_marker_de0e0a3ba3d8443a87be3a12796ed994%20%3D%20L.circleMarker%28%0A%20%20%20%20%20%20%20%20%20%20%20%20%20%20%20%20%5B40.0332629%2C%20-7.8896263%5D%2C%0A%20%20%20%20%20%20%20%20%20%20%20%20%20%20%20%20%7B%22bubblingMouseEvents%22%3A%20true%2C%20%22color%22%3A%20%22%233388ff%22%2C%20%22dashArray%22%3A%20null%2C%20%22dashOffset%22%3A%20null%2C%20%22fill%22%3A%20true%2C%20%22fillColor%22%3A%20%22%233388ff%22%2C%20%22fillOpacity%22%3A%200.2%2C%20%22fillRule%22%3A%20%22evenodd%22%2C%20%22lineCap%22%3A%20%22round%22%2C%20%22lineJoin%22%3A%20%22round%22%2C%20%22opacity%22%3A%201.0%2C%20%22radius%22%3A%207%2C%20%22stroke%22%3A%20true%2C%20%22weight%22%3A%203%7D%0A%20%20%20%20%20%20%20%20%20%20%20%20%29.addTo%28marker_cluster_dbaf00fdfc5544c7b5c205caa5fb4ea7%29%3B%0A%20%20%20%20%20%20%20%20%0A%20%20%20%20%0A%20%20%20%20%20%20%20%20var%20popup_8d9d83e4b6f442799ca6f87c70b28b0d%20%3D%20L.popup%28%7B%22maxWidth%22%3A%20%22100%25%22%7D%29%3B%0A%0A%20%20%20%20%20%20%20%20%0A%20%20%20%20%20%20%20%20%20%20%20%20var%20html_1a771695168349c8bbc45dc995bddcd3%20%3D%20%24%28%60%3Cdiv%20id%3D%22html_1a771695168349c8bbc45dc995bddcd3%22%20style%3D%22width%3A%20100.0%25%3B%20height%3A%20100.0%25%3B%22%3ECountry%20%3A%20Portugal%3Cbr%3E%20%20%20%20%20%20%20%20%20%20%20%20%20%20%20%20%20%20%20%20%20Happiness%20Score%20%3A%205.693%3Cbr%3E%20%20%20%20%20%20%20%20%20%20%20%20%20%20%20%20%20%20%20%20%20Year%20%3A%202019%3Cbr%3E%3C/div%3E%60%29%5B0%5D%3B%0A%20%20%20%20%20%20%20%20%20%20%20%20popup_8d9d83e4b6f442799ca6f87c70b28b0d.setContent%28html_1a771695168349c8bbc45dc995bddcd3%29%3B%0A%20%20%20%20%20%20%20%20%0A%0A%20%20%20%20%20%20%20%20circle_marker_de0e0a3ba3d8443a87be3a12796ed994.bindPopup%28popup_8d9d83e4b6f442799ca6f87c70b28b0d%29%0A%20%20%20%20%20%20%20%20%3B%0A%0A%20%20%20%20%20%20%20%20%0A%20%20%20%20%0A%20%20%20%20%0A%20%20%20%20%20%20%20%20%20%20%20%20var%20circle_marker_e4d29a37f434457a9e291d8e2e1e2f95%20%3D%20L.circleMarker%28%0A%20%20%20%20%20%20%20%20%20%20%20%20%20%20%20%20%5B40.0332629%2C%20-7.8896263%5D%2C%0A%20%20%20%20%20%20%20%20%20%20%20%20%20%20%20%20%7B%22bubblingMouseEvents%22%3A%20true%2C%20%22color%22%3A%20%22%233388ff%22%2C%20%22dashArray%22%3A%20null%2C%20%22dashOffset%22%3A%20null%2C%20%22fill%22%3A%20true%2C%20%22fillColor%22%3A%20%22%233388ff%22%2C%20%22fillOpacity%22%3A%200.2%2C%20%22fillRule%22%3A%20%22evenodd%22%2C%20%22lineCap%22%3A%20%22round%22%2C%20%22lineJoin%22%3A%20%22round%22%2C%20%22opacity%22%3A%201.0%2C%20%22radius%22%3A%207%2C%20%22stroke%22%3A%20true%2C%20%22weight%22%3A%203%7D%0A%20%20%20%20%20%20%20%20%20%20%20%20%29.addTo%28marker_cluster_dbaf00fdfc5544c7b5c205caa5fb4ea7%29%3B%0A%20%20%20%20%20%20%20%20%0A%20%20%20%20%0A%20%20%20%20%20%20%20%20var%20popup_a4723e31ddef4560b4a97d0a5459ff7f%20%3D%20L.popup%28%7B%22maxWidth%22%3A%20%22100%25%22%7D%29%3B%0A%0A%20%20%20%20%20%20%20%20%0A%20%20%20%20%20%20%20%20%20%20%20%20var%20html_67801f48d47649ae909e2202eecd1bd0%20%3D%20%24%28%60%3Cdiv%20id%3D%22html_67801f48d47649ae909e2202eecd1bd0%22%20style%3D%22width%3A%20100.0%25%3B%20height%3A%20100.0%25%3B%22%3ECountry%20%3A%20Portugal%3Cbr%3E%20%20%20%20%20%20%20%20%20%20%20%20%20%20%20%20%20%20%20%20%20Happiness%20Score%20%3A%205.41%3Cbr%3E%20%20%20%20%20%20%20%20%20%20%20%20%20%20%20%20%20%20%20%20%20Year%20%3A%202018%3Cbr%3E%3C/div%3E%60%29%5B0%5D%3B%0A%20%20%20%20%20%20%20%20%20%20%20%20popup_a4723e31ddef4560b4a97d0a5459ff7f.setContent%28html_67801f48d47649ae909e2202eecd1bd0%29%3B%0A%20%20%20%20%20%20%20%20%0A%0A%20%20%20%20%20%20%20%20circle_marker_e4d29a37f434457a9e291d8e2e1e2f95.bindPopup%28popup_a4723e31ddef4560b4a97d0a5459ff7f%29%0A%20%20%20%20%20%20%20%20%3B%0A%0A%20%20%20%20%20%20%20%20%0A%20%20%20%20%0A%20%20%20%20%0A%20%20%20%20%20%20%20%20%20%20%20%20var%20circle_marker_cce95651196c4a53ad3b568951127120%20%3D%20L.circleMarker%28%0A%20%20%20%20%20%20%20%20%20%20%20%20%20%20%20%20%5B40.0332629%2C%20-7.8896263%5D%2C%0A%20%20%20%20%20%20%20%20%20%20%20%20%20%20%20%20%7B%22bubblingMouseEvents%22%3A%20true%2C%20%22color%22%3A%20%22%233388ff%22%2C%20%22dashArray%22%3A%20null%2C%20%22dashOffset%22%3A%20null%2C%20%22fill%22%3A%20true%2C%20%22fillColor%22%3A%20%22%233388ff%22%2C%20%22fillOpacity%22%3A%200.2%2C%20%22fillRule%22%3A%20%22evenodd%22%2C%20%22lineCap%22%3A%20%22round%22%2C%20%22lineJoin%22%3A%20%22round%22%2C%20%22opacity%22%3A%201.0%2C%20%22radius%22%3A%207%2C%20%22stroke%22%3A%20true%2C%20%22weight%22%3A%203%7D%0A%20%20%20%20%20%20%20%20%20%20%20%20%29.addTo%28marker_cluster_dbaf00fdfc5544c7b5c205caa5fb4ea7%29%3B%0A%20%20%20%20%20%20%20%20%0A%20%20%20%20%0A%20%20%20%20%20%20%20%20var%20popup_a1387f8fc0244d8997622f2939bf3a5f%20%3D%20L.popup%28%7B%22maxWidth%22%3A%20%22100%25%22%7D%29%3B%0A%0A%20%20%20%20%20%20%20%20%0A%20%20%20%20%20%20%20%20%20%20%20%20var%20html_cf0072c1ab634478844401879a9f0640%20%3D%20%24%28%60%3Cdiv%20id%3D%22html_cf0072c1ab634478844401879a9f0640%22%20style%3D%22width%3A%20100.0%25%3B%20height%3A%20100.0%25%3B%22%3ECountry%20%3A%20Portugal%3Cbr%3E%20%20%20%20%20%20%20%20%20%20%20%20%20%20%20%20%20%20%20%20%20Happiness%20Score%20%3A%205.19500017166138%3Cbr%3E%20%20%20%20%20%20%20%20%20%20%20%20%20%20%20%20%20%20%20%20%20Year%20%3A%202017%3Cbr%3E%3C/div%3E%60%29%5B0%5D%3B%0A%20%20%20%20%20%20%20%20%20%20%20%20popup_a1387f8fc0244d8997622f2939bf3a5f.setContent%28html_cf0072c1ab634478844401879a9f0640%29%3B%0A%20%20%20%20%20%20%20%20%0A%0A%20%20%20%20%20%20%20%20circle_marker_cce95651196c4a53ad3b568951127120.bindPopup%28popup_a1387f8fc0244d8997622f2939bf3a5f%29%0A%20%20%20%20%20%20%20%20%3B%0A%0A%20%20%20%20%20%20%20%20%0A%20%20%20%20%0A%20%20%20%20%0A%20%20%20%20%20%20%20%20%20%20%20%20var%20circle_marker_5bba1ac89c6e47b5b42b10919bfd11cb%20%3D%20L.circleMarker%28%0A%20%20%20%20%20%20%20%20%20%20%20%20%20%20%20%20%5B40.0332629%2C%20-7.8896263%5D%2C%0A%20%20%20%20%20%20%20%20%20%20%20%20%20%20%20%20%7B%22bubblingMouseEvents%22%3A%20true%2C%20%22color%22%3A%20%22%233388ff%22%2C%20%22dashArray%22%3A%20null%2C%20%22dashOffset%22%3A%20null%2C%20%22fill%22%3A%20true%2C%20%22fillColor%22%3A%20%22%233388ff%22%2C%20%22fillOpacity%22%3A%200.2%2C%20%22fillRule%22%3A%20%22evenodd%22%2C%20%22lineCap%22%3A%20%22round%22%2C%20%22lineJoin%22%3A%20%22round%22%2C%20%22opacity%22%3A%201.0%2C%20%22radius%22%3A%207%2C%20%22stroke%22%3A%20true%2C%20%22weight%22%3A%203%7D%0A%20%20%20%20%20%20%20%20%20%20%20%20%29.addTo%28marker_cluster_dbaf00fdfc5544c7b5c205caa5fb4ea7%29%3B%0A%20%20%20%20%20%20%20%20%0A%20%20%20%20%0A%20%20%20%20%20%20%20%20var%20popup_ecb4cee3684046dda2c4eaa665c91699%20%3D%20L.popup%28%7B%22maxWidth%22%3A%20%22100%25%22%7D%29%3B%0A%0A%20%20%20%20%20%20%20%20%0A%20%20%20%20%20%20%20%20%20%20%20%20var%20html_74af31d978bf49ff8923380091138f8e%20%3D%20%24%28%60%3Cdiv%20id%3D%22html_74af31d978bf49ff8923380091138f8e%22%20style%3D%22width%3A%20100.0%25%3B%20height%3A%20100.0%25%3B%22%3ECountry%20%3A%20Portugal%3Cbr%3E%20%20%20%20%20%20%20%20%20%20%20%20%20%20%20%20%20%20%20%20%20Happiness%20Score%20%3A%205.123%3Cbr%3E%20%20%20%20%20%20%20%20%20%20%20%20%20%20%20%20%20%20%20%20%20Year%20%3A%202016%3Cbr%3E%3C/div%3E%60%29%5B0%5D%3B%0A%20%20%20%20%20%20%20%20%20%20%20%20popup_ecb4cee3684046dda2c4eaa665c91699.setContent%28html_74af31d978bf49ff8923380091138f8e%29%3B%0A%20%20%20%20%20%20%20%20%0A%0A%20%20%20%20%20%20%20%20circle_marker_5bba1ac89c6e47b5b42b10919bfd11cb.bindPopup%28popup_ecb4cee3684046dda2c4eaa665c91699%29%0A%20%20%20%20%20%20%20%20%3B%0A%0A%20%20%20%20%20%20%20%20%0A%20%20%20%20%0A%20%20%20%20%0A%20%20%20%20%20%20%20%20%20%20%20%20var%20circle_marker_28c9cbc8a0dc48f9af70291fd1e776b5%20%3D%20L.circleMarker%28%0A%20%20%20%20%20%20%20%20%20%20%20%20%20%20%20%20%5B40.0332629%2C%20-7.8896263%5D%2C%0A%20%20%20%20%20%20%20%20%20%20%20%20%20%20%20%20%7B%22bubblingMouseEvents%22%3A%20true%2C%20%22color%22%3A%20%22%233388ff%22%2C%20%22dashArray%22%3A%20null%2C%20%22dashOffset%22%3A%20null%2C%20%22fill%22%3A%20true%2C%20%22fillColor%22%3A%20%22%233388ff%22%2C%20%22fillOpacity%22%3A%200.2%2C%20%22fillRule%22%3A%20%22evenodd%22%2C%20%22lineCap%22%3A%20%22round%22%2C%20%22lineJoin%22%3A%20%22round%22%2C%20%22opacity%22%3A%201.0%2C%20%22radius%22%3A%207%2C%20%22stroke%22%3A%20true%2C%20%22weight%22%3A%203%7D%0A%20%20%20%20%20%20%20%20%20%20%20%20%29.addTo%28marker_cluster_dbaf00fdfc5544c7b5c205caa5fb4ea7%29%3B%0A%20%20%20%20%20%20%20%20%0A%20%20%20%20%0A%20%20%20%20%20%20%20%20var%20popup_647082cfe88a4f6cb6fbbe84e907c118%20%3D%20L.popup%28%7B%22maxWidth%22%3A%20%22100%25%22%7D%29%3B%0A%0A%20%20%20%20%20%20%20%20%0A%20%20%20%20%20%20%20%20%20%20%20%20var%20html_d7655b4081fc4fa5b4847fde4cafead4%20%3D%20%24%28%60%3Cdiv%20id%3D%22html_d7655b4081fc4fa5b4847fde4cafead4%22%20style%3D%22width%3A%20100.0%25%3B%20height%3A%20100.0%25%3B%22%3ECountry%20%3A%20Portugal%3Cbr%3E%20%20%20%20%20%20%20%20%20%20%20%20%20%20%20%20%20%20%20%20%20Happiness%20Score%20%3A%205.102%3Cbr%3E%20%20%20%20%20%20%20%20%20%20%20%20%20%20%20%20%20%20%20%20%20Year%20%3A%202015%3Cbr%3E%3C/div%3E%60%29%5B0%5D%3B%0A%20%20%20%20%20%20%20%20%20%20%20%20popup_647082cfe88a4f6cb6fbbe84e907c118.setContent%28html_d7655b4081fc4fa5b4847fde4cafead4%29%3B%0A%20%20%20%20%20%20%20%20%0A%0A%20%20%20%20%20%20%20%20circle_marker_28c9cbc8a0dc48f9af70291fd1e776b5.bindPopup%28popup_647082cfe88a4f6cb6fbbe84e907c118%29%0A%20%20%20%20%20%20%20%20%3B%0A%0A%20%20%20%20%20%20%20%20%0A%20%20%20%20%0A%20%20%20%20%0A%20%20%20%20%20%20%20%20%20%20%20%20var%20circle_marker_7d9c21bd70f6497292d7635bc96c2bca%20%3D%20L.circleMarker%28%0A%20%20%20%20%20%20%20%20%20%20%20%20%20%20%20%20%5B44.1534121%2C%2020.55144%5D%2C%0A%20%20%20%20%20%20%20%20%20%20%20%20%20%20%20%20%7B%22bubblingMouseEvents%22%3A%20true%2C%20%22color%22%3A%20%22%233388ff%22%2C%20%22dashArray%22%3A%20null%2C%20%22dashOffset%22%3A%20null%2C%20%22fill%22%3A%20true%2C%20%22fillColor%22%3A%20%22%233388ff%22%2C%20%22fillOpacity%22%3A%200.2%2C%20%22fillRule%22%3A%20%22evenodd%22%2C%20%22lineCap%22%3A%20%22round%22%2C%20%22lineJoin%22%3A%20%22round%22%2C%20%22opacity%22%3A%201.0%2C%20%22radius%22%3A%207%2C%20%22stroke%22%3A%20true%2C%20%22weight%22%3A%203%7D%0A%20%20%20%20%20%20%20%20%20%20%20%20%29.addTo%28marker_cluster_dbaf00fdfc5544c7b5c205caa5fb4ea7%29%3B%0A%20%20%20%20%20%20%20%20%0A%20%20%20%20%0A%20%20%20%20%20%20%20%20var%20popup_e784ac6d07414593b825100d06468aa4%20%3D%20L.popup%28%7B%22maxWidth%22%3A%20%22100%25%22%7D%29%3B%0A%0A%20%20%20%20%20%20%20%20%0A%20%20%20%20%20%20%20%20%20%20%20%20var%20html_010d3b8fc2bf40acad64e87e89f3a090%20%3D%20%24%28%60%3Cdiv%20id%3D%22html_010d3b8fc2bf40acad64e87e89f3a090%22%20style%3D%22width%3A%20100.0%25%3B%20height%3A%20100.0%25%3B%22%3ECountry%20%3A%20Serbia%3Cbr%3E%20%20%20%20%20%20%20%20%20%20%20%20%20%20%20%20%20%20%20%20%20Happiness%20Score%20%3A%205.603%3Cbr%3E%20%20%20%20%20%20%20%20%20%20%20%20%20%20%20%20%20%20%20%20%20Year%20%3A%202019%3Cbr%3E%3C/div%3E%60%29%5B0%5D%3B%0A%20%20%20%20%20%20%20%20%20%20%20%20popup_e784ac6d07414593b825100d06468aa4.setContent%28html_010d3b8fc2bf40acad64e87e89f3a090%29%3B%0A%20%20%20%20%20%20%20%20%0A%0A%20%20%20%20%20%20%20%20circle_marker_7d9c21bd70f6497292d7635bc96c2bca.bindPopup%28popup_e784ac6d07414593b825100d06468aa4%29%0A%20%20%20%20%20%20%20%20%3B%0A%0A%20%20%20%20%20%20%20%20%0A%20%20%20%20%0A%20%20%20%20%0A%20%20%20%20%20%20%20%20%20%20%20%20var%20circle_marker_3aa6e35a0f2b4625844990e7dbe38dd2%20%3D%20L.circleMarker%28%0A%20%20%20%20%20%20%20%20%20%20%20%20%20%20%20%20%5B44.1534121%2C%2020.55144%5D%2C%0A%20%20%20%20%20%20%20%20%20%20%20%20%20%20%20%20%7B%22bubblingMouseEvents%22%3A%20true%2C%20%22color%22%3A%20%22%233388ff%22%2C%20%22dashArray%22%3A%20null%2C%20%22dashOffset%22%3A%20null%2C%20%22fill%22%3A%20true%2C%20%22fillColor%22%3A%20%22%233388ff%22%2C%20%22fillOpacity%22%3A%200.2%2C%20%22fillRule%22%3A%20%22evenodd%22%2C%20%22lineCap%22%3A%20%22round%22%2C%20%22lineJoin%22%3A%20%22round%22%2C%20%22opacity%22%3A%201.0%2C%20%22radius%22%3A%207%2C%20%22stroke%22%3A%20true%2C%20%22weight%22%3A%203%7D%0A%20%20%20%20%20%20%20%20%20%20%20%20%29.addTo%28marker_cluster_dbaf00fdfc5544c7b5c205caa5fb4ea7%29%3B%0A%20%20%20%20%20%20%20%20%0A%20%20%20%20%0A%20%20%20%20%20%20%20%20var%20popup_da88083d76b04e228abc625fa68ba510%20%3D%20L.popup%28%7B%22maxWidth%22%3A%20%22100%25%22%7D%29%3B%0A%0A%20%20%20%20%20%20%20%20%0A%20%20%20%20%20%20%20%20%20%20%20%20var%20html_828b95ee08f64285bcab5fc0ecc25181%20%3D%20%24%28%60%3Cdiv%20id%3D%22html_828b95ee08f64285bcab5fc0ecc25181%22%20style%3D%22width%3A%20100.0%25%3B%20height%3A%20100.0%25%3B%22%3ECountry%20%3A%20Serbia%3Cbr%3E%20%20%20%20%20%20%20%20%20%20%20%20%20%20%20%20%20%20%20%20%20Happiness%20Score%20%3A%205.398%3Cbr%3E%20%20%20%20%20%20%20%20%20%20%20%20%20%20%20%20%20%20%20%20%20Year%20%3A%202018%3Cbr%3E%3C/div%3E%60%29%5B0%5D%3B%0A%20%20%20%20%20%20%20%20%20%20%20%20popup_da88083d76b04e228abc625fa68ba510.setContent%28html_828b95ee08f64285bcab5fc0ecc25181%29%3B%0A%20%20%20%20%20%20%20%20%0A%0A%20%20%20%20%20%20%20%20circle_marker_3aa6e35a0f2b4625844990e7dbe38dd2.bindPopup%28popup_da88083d76b04e228abc625fa68ba510%29%0A%20%20%20%20%20%20%20%20%3B%0A%0A%20%20%20%20%20%20%20%20%0A%20%20%20%20%0A%20%20%20%20%0A%20%20%20%20%20%20%20%20%20%20%20%20var%20circle_marker_2befc5cb414c49cd951a1134a6f52351%20%3D%20L.circleMarker%28%0A%20%20%20%20%20%20%20%20%20%20%20%20%20%20%20%20%5B44.1534121%2C%2020.55144%5D%2C%0A%20%20%20%20%20%20%20%20%20%20%20%20%20%20%20%20%7B%22bubblingMouseEvents%22%3A%20true%2C%20%22color%22%3A%20%22%233388ff%22%2C%20%22dashArray%22%3A%20null%2C%20%22dashOffset%22%3A%20null%2C%20%22fill%22%3A%20true%2C%20%22fillColor%22%3A%20%22%233388ff%22%2C%20%22fillOpacity%22%3A%200.2%2C%20%22fillRule%22%3A%20%22evenodd%22%2C%20%22lineCap%22%3A%20%22round%22%2C%20%22lineJoin%22%3A%20%22round%22%2C%20%22opacity%22%3A%201.0%2C%20%22radius%22%3A%207%2C%20%22stroke%22%3A%20true%2C%20%22weight%22%3A%203%7D%0A%20%20%20%20%20%20%20%20%20%20%20%20%29.addTo%28marker_cluster_dbaf00fdfc5544c7b5c205caa5fb4ea7%29%3B%0A%20%20%20%20%20%20%20%20%0A%20%20%20%20%0A%20%20%20%20%20%20%20%20var%20popup_a1ec22764aa44934b4e07608e40b334c%20%3D%20L.popup%28%7B%22maxWidth%22%3A%20%22100%25%22%7D%29%3B%0A%0A%20%20%20%20%20%20%20%20%0A%20%20%20%20%20%20%20%20%20%20%20%20var%20html_c80758d9c9804cfbabb0f9f69ea98659%20%3D%20%24%28%60%3Cdiv%20id%3D%22html_c80758d9c9804cfbabb0f9f69ea98659%22%20style%3D%22width%3A%20100.0%25%3B%20height%3A%20100.0%25%3B%22%3ECountry%20%3A%20Serbia%3Cbr%3E%20%20%20%20%20%20%20%20%20%20%20%20%20%20%20%20%20%20%20%20%20Happiness%20Score%20%3A%205.39499998092651%3Cbr%3E%20%20%20%20%20%20%20%20%20%20%20%20%20%20%20%20%20%20%20%20%20Year%20%3A%202017%3Cbr%3E%3C/div%3E%60%29%5B0%5D%3B%0A%20%20%20%20%20%20%20%20%20%20%20%20popup_a1ec22764aa44934b4e07608e40b334c.setContent%28html_c80758d9c9804cfbabb0f9f69ea98659%29%3B%0A%20%20%20%20%20%20%20%20%0A%0A%20%20%20%20%20%20%20%20circle_marker_2befc5cb414c49cd951a1134a6f52351.bindPopup%28popup_a1ec22764aa44934b4e07608e40b334c%29%0A%20%20%20%20%20%20%20%20%3B%0A%0A%20%20%20%20%20%20%20%20%0A%20%20%20%20%0A%20%20%20%20%0A%20%20%20%20%20%20%20%20%20%20%20%20var%20circle_marker_5436ecca95a54f4ebd3042a74ebb374d%20%3D%20L.circleMarker%28%0A%20%20%20%20%20%20%20%20%20%20%20%20%20%20%20%20%5B44.1534121%2C%2020.55144%5D%2C%0A%20%20%20%20%20%20%20%20%20%20%20%20%20%20%20%20%7B%22bubblingMouseEvents%22%3A%20true%2C%20%22color%22%3A%20%22%233388ff%22%2C%20%22dashArray%22%3A%20null%2C%20%22dashOffset%22%3A%20null%2C%20%22fill%22%3A%20true%2C%20%22fillColor%22%3A%20%22%233388ff%22%2C%20%22fillOpacity%22%3A%200.2%2C%20%22fillRule%22%3A%20%22evenodd%22%2C%20%22lineCap%22%3A%20%22round%22%2C%20%22lineJoin%22%3A%20%22round%22%2C%20%22opacity%22%3A%201.0%2C%20%22radius%22%3A%207%2C%20%22stroke%22%3A%20true%2C%20%22weight%22%3A%203%7D%0A%20%20%20%20%20%20%20%20%20%20%20%20%29.addTo%28marker_cluster_dbaf00fdfc5544c7b5c205caa5fb4ea7%29%3B%0A%20%20%20%20%20%20%20%20%0A%20%20%20%20%0A%20%20%20%20%20%20%20%20var%20popup_ab409dca95d046338abf5fb7cb0e000a%20%3D%20L.popup%28%7B%22maxWidth%22%3A%20%22100%25%22%7D%29%3B%0A%0A%20%20%20%20%20%20%20%20%0A%20%20%20%20%20%20%20%20%20%20%20%20var%20html_55fcf70b1c28443a9a283a1dd3e28987%20%3D%20%24%28%60%3Cdiv%20id%3D%22html_55fcf70b1c28443a9a283a1dd3e28987%22%20style%3D%22width%3A%20100.0%25%3B%20height%3A%20100.0%25%3B%22%3ECountry%20%3A%20Serbia%3Cbr%3E%20%20%20%20%20%20%20%20%20%20%20%20%20%20%20%20%20%20%20%20%20Happiness%20Score%20%3A%205.177%3Cbr%3E%20%20%20%20%20%20%20%20%20%20%20%20%20%20%20%20%20%20%20%20%20Year%20%3A%202016%3Cbr%3E%3C/div%3E%60%29%5B0%5D%3B%0A%20%20%20%20%20%20%20%20%20%20%20%20popup_ab409dca95d046338abf5fb7cb0e000a.setContent%28html_55fcf70b1c28443a9a283a1dd3e28987%29%3B%0A%20%20%20%20%20%20%20%20%0A%0A%20%20%20%20%20%20%20%20circle_marker_5436ecca95a54f4ebd3042a74ebb374d.bindPopup%28popup_ab409dca95d046338abf5fb7cb0e000a%29%0A%20%20%20%20%20%20%20%20%3B%0A%0A%20%20%20%20%20%20%20%20%0A%20%20%20%20%0A%20%20%20%20%0A%20%20%20%20%20%20%20%20%20%20%20%20var%20circle_marker_93c74ff2340a411686c8cfb1e5e658d3%20%3D%20L.circleMarker%28%0A%20%20%20%20%20%20%20%20%20%20%20%20%20%20%20%20%5B44.1534121%2C%2020.55144%5D%2C%0A%20%20%20%20%20%20%20%20%20%20%20%20%20%20%20%20%7B%22bubblingMouseEvents%22%3A%20true%2C%20%22color%22%3A%20%22%233388ff%22%2C%20%22dashArray%22%3A%20null%2C%20%22dashOffset%22%3A%20null%2C%20%22fill%22%3A%20true%2C%20%22fillColor%22%3A%20%22%233388ff%22%2C%20%22fillOpacity%22%3A%200.2%2C%20%22fillRule%22%3A%20%22evenodd%22%2C%20%22lineCap%22%3A%20%22round%22%2C%20%22lineJoin%22%3A%20%22round%22%2C%20%22opacity%22%3A%201.0%2C%20%22radius%22%3A%207%2C%20%22stroke%22%3A%20true%2C%20%22weight%22%3A%203%7D%0A%20%20%20%20%20%20%20%20%20%20%20%20%29.addTo%28marker_cluster_dbaf00fdfc5544c7b5c205caa5fb4ea7%29%3B%0A%20%20%20%20%20%20%20%20%0A%20%20%20%20%0A%20%20%20%20%20%20%20%20var%20popup_98d3450ef4a64156ac58721639aee6ec%20%3D%20L.popup%28%7B%22maxWidth%22%3A%20%22100%25%22%7D%29%3B%0A%0A%20%20%20%20%20%20%20%20%0A%20%20%20%20%20%20%20%20%20%20%20%20var%20html_8e74194836514cdab254d7e7b77270dc%20%3D%20%24%28%60%3Cdiv%20id%3D%22html_8e74194836514cdab254d7e7b77270dc%22%20style%3D%22width%3A%20100.0%25%3B%20height%3A%20100.0%25%3B%22%3ECountry%20%3A%20Serbia%3Cbr%3E%20%20%20%20%20%20%20%20%20%20%20%20%20%20%20%20%20%20%20%20%20Happiness%20Score%20%3A%205.123%3Cbr%3E%20%20%20%20%20%20%20%20%20%20%20%20%20%20%20%20%20%20%20%20%20Year%20%3A%202015%3Cbr%3E%3C/div%3E%60%29%5B0%5D%3B%0A%20%20%20%20%20%20%20%20%20%20%20%20popup_98d3450ef4a64156ac58721639aee6ec.setContent%28html_8e74194836514cdab254d7e7b77270dc%29%3B%0A%20%20%20%20%20%20%20%20%0A%0A%20%20%20%20%20%20%20%20circle_marker_93c74ff2340a411686c8cfb1e5e658d3.bindPopup%28popup_98d3450ef4a64156ac58721639aee6ec%29%0A%20%20%20%20%20%20%20%20%3B%0A%0A%20%20%20%20%20%20%20%20%0A%20%20%20%20%0A%20%20%20%20%0A%20%20%20%20%20%20%20%20%20%20%20%20var%20circle_marker_0fa08c32e4a64ca4ad8b2f83bb5d2a46%20%3D%20L.circleMarker%28%0A%20%20%20%20%20%20%20%20%20%20%20%20%20%20%20%20%5B38.9597594%2C%2034.9249653%5D%2C%0A%20%20%20%20%20%20%20%20%20%20%20%20%20%20%20%20%7B%22bubblingMouseEvents%22%3A%20true%2C%20%22color%22%3A%20%22%233388ff%22%2C%20%22dashArray%22%3A%20null%2C%20%22dashOffset%22%3A%20null%2C%20%22fill%22%3A%20true%2C%20%22fillColor%22%3A%20%22%233388ff%22%2C%20%22fillOpacity%22%3A%200.2%2C%20%22fillRule%22%3A%20%22evenodd%22%2C%20%22lineCap%22%3A%20%22round%22%2C%20%22lineJoin%22%3A%20%22round%22%2C%20%22opacity%22%3A%201.0%2C%20%22radius%22%3A%207%2C%20%22stroke%22%3A%20true%2C%20%22weight%22%3A%203%7D%0A%20%20%20%20%20%20%20%20%20%20%20%20%29.addTo%28marker_cluster_dbaf00fdfc5544c7b5c205caa5fb4ea7%29%3B%0A%20%20%20%20%20%20%20%20%0A%20%20%20%20%0A%20%20%20%20%20%20%20%20var%20popup_4d178e8f8822470eab2a46a9cdc5cff6%20%3D%20L.popup%28%7B%22maxWidth%22%3A%20%22100%25%22%7D%29%3B%0A%0A%20%20%20%20%20%20%20%20%0A%20%20%20%20%20%20%20%20%20%20%20%20var%20html_99e02f4ec229441f98ced3bdea1bab61%20%3D%20%24%28%60%3Cdiv%20id%3D%22html_99e02f4ec229441f98ced3bdea1bab61%22%20style%3D%22width%3A%20100.0%25%3B%20height%3A%20100.0%25%3B%22%3ECountry%20%3A%20Turkey%3Cbr%3E%20%20%20%20%20%20%20%20%20%20%20%20%20%20%20%20%20%20%20%20%20Happiness%20Score%20%3A%205.5%3Cbr%3E%20%20%20%20%20%20%20%20%20%20%20%20%20%20%20%20%20%20%20%20%20Year%20%3A%202017%3Cbr%3E%3C/div%3E%60%29%5B0%5D%3B%0A%20%20%20%20%20%20%20%20%20%20%20%20popup_4d178e8f8822470eab2a46a9cdc5cff6.setContent%28html_99e02f4ec229441f98ced3bdea1bab61%29%3B%0A%20%20%20%20%20%20%20%20%0A%0A%20%20%20%20%20%20%20%20circle_marker_0fa08c32e4a64ca4ad8b2f83bb5d2a46.bindPopup%28popup_4d178e8f8822470eab2a46a9cdc5cff6%29%0A%20%20%20%20%20%20%20%20%3B%0A%0A%20%20%20%20%20%20%20%20%0A%20%20%20%20%0A%20%20%20%20%0A%20%20%20%20%20%20%20%20%20%20%20%20var%20circle_marker_01f702006ff947fd899f6cdb66211a7d%20%3D%20L.circleMarker%28%0A%20%20%20%20%20%20%20%20%20%20%20%20%20%20%20%20%5B38.9597594%2C%2034.9249653%5D%2C%0A%20%20%20%20%20%20%20%20%20%20%20%20%20%20%20%20%7B%22bubblingMouseEvents%22%3A%20true%2C%20%22color%22%3A%20%22%233388ff%22%2C%20%22dashArray%22%3A%20null%2C%20%22dashOffset%22%3A%20null%2C%20%22fill%22%3A%20true%2C%20%22fillColor%22%3A%20%22%233388ff%22%2C%20%22fillOpacity%22%3A%200.2%2C%20%22fillRule%22%3A%20%22evenodd%22%2C%20%22lineCap%22%3A%20%22round%22%2C%20%22lineJoin%22%3A%20%22round%22%2C%20%22opacity%22%3A%201.0%2C%20%22radius%22%3A%207%2C%20%22stroke%22%3A%20true%2C%20%22weight%22%3A%203%7D%0A%20%20%20%20%20%20%20%20%20%20%20%20%29.addTo%28marker_cluster_dbaf00fdfc5544c7b5c205caa5fb4ea7%29%3B%0A%20%20%20%20%20%20%20%20%0A%20%20%20%20%0A%20%20%20%20%20%20%20%20var%20popup_bea13abd284a45a4ae8334b056860859%20%3D%20L.popup%28%7B%22maxWidth%22%3A%20%22100%25%22%7D%29%3B%0A%0A%20%20%20%20%20%20%20%20%0A%20%20%20%20%20%20%20%20%20%20%20%20var%20html_0d5ffbc1189b48bdb909b0c07348b304%20%3D%20%24%28%60%3Cdiv%20id%3D%22html_0d5ffbc1189b48bdb909b0c07348b304%22%20style%3D%22width%3A%20100.0%25%3B%20height%3A%20100.0%25%3B%22%3ECountry%20%3A%20Turkey%3Cbr%3E%20%20%20%20%20%20%20%20%20%20%20%20%20%20%20%20%20%20%20%20%20Happiness%20Score%20%3A%205.483%3Cbr%3E%20%20%20%20%20%20%20%20%20%20%20%20%20%20%20%20%20%20%20%20%20Year%20%3A%202018%3Cbr%3E%3C/div%3E%60%29%5B0%5D%3B%0A%20%20%20%20%20%20%20%20%20%20%20%20popup_bea13abd284a45a4ae8334b056860859.setContent%28html_0d5ffbc1189b48bdb909b0c07348b304%29%3B%0A%20%20%20%20%20%20%20%20%0A%0A%20%20%20%20%20%20%20%20circle_marker_01f702006ff947fd899f6cdb66211a7d.bindPopup%28popup_bea13abd284a45a4ae8334b056860859%29%0A%20%20%20%20%20%20%20%20%3B%0A%0A%20%20%20%20%20%20%20%20%0A%20%20%20%20%0A%20%20%20%20%0A%20%20%20%20%20%20%20%20%20%20%20%20var%20circle_marker_162b7d87bb444df18df025088a19ec44%20%3D%20L.circleMarker%28%0A%20%20%20%20%20%20%20%20%20%20%20%20%20%20%20%20%5B38.9597594%2C%2034.9249653%5D%2C%0A%20%20%20%20%20%20%20%20%20%20%20%20%20%20%20%20%7B%22bubblingMouseEvents%22%3A%20true%2C%20%22color%22%3A%20%22%233388ff%22%2C%20%22dashArray%22%3A%20null%2C%20%22dashOffset%22%3A%20null%2C%20%22fill%22%3A%20true%2C%20%22fillColor%22%3A%20%22%233388ff%22%2C%20%22fillOpacity%22%3A%200.2%2C%20%22fillRule%22%3A%20%22evenodd%22%2C%20%22lineCap%22%3A%20%22round%22%2C%20%22lineJoin%22%3A%20%22round%22%2C%20%22opacity%22%3A%201.0%2C%20%22radius%22%3A%207%2C%20%22stroke%22%3A%20true%2C%20%22weight%22%3A%203%7D%0A%20%20%20%20%20%20%20%20%20%20%20%20%29.addTo%28marker_cluster_dbaf00fdfc5544c7b5c205caa5fb4ea7%29%3B%0A%20%20%20%20%20%20%20%20%0A%20%20%20%20%0A%20%20%20%20%20%20%20%20var%20popup_b31e13d81a0d4667bbbcb650a1e44d02%20%3D%20L.popup%28%7B%22maxWidth%22%3A%20%22100%25%22%7D%29%3B%0A%0A%20%20%20%20%20%20%20%20%0A%20%20%20%20%20%20%20%20%20%20%20%20var%20html_ef4c758b94074a4793417c994d1761c7%20%3D%20%24%28%60%3Cdiv%20id%3D%22html_ef4c758b94074a4793417c994d1761c7%22%20style%3D%22width%3A%20100.0%25%3B%20height%3A%20100.0%25%3B%22%3ECountry%20%3A%20Turkey%3Cbr%3E%20%20%20%20%20%20%20%20%20%20%20%20%20%20%20%20%20%20%20%20%20Happiness%20Score%20%3A%205.389%3Cbr%3E%20%20%20%20%20%20%20%20%20%20%20%20%20%20%20%20%20%20%20%20%20Year%20%3A%202016%3Cbr%3E%3C/div%3E%60%29%5B0%5D%3B%0A%20%20%20%20%20%20%20%20%20%20%20%20popup_b31e13d81a0d4667bbbcb650a1e44d02.setContent%28html_ef4c758b94074a4793417c994d1761c7%29%3B%0A%20%20%20%20%20%20%20%20%0A%0A%20%20%20%20%20%20%20%20circle_marker_162b7d87bb444df18df025088a19ec44.bindPopup%28popup_b31e13d81a0d4667bbbcb650a1e44d02%29%0A%20%20%20%20%20%20%20%20%3B%0A%0A%20%20%20%20%20%20%20%20%0A%20%20%20%20%0A%20%20%20%20%0A%20%20%20%20%20%20%20%20%20%20%20%20var%20circle_marker_8bcbffc72bd74ab4bcccf142e6bf11ef%20%3D%20L.circleMarker%28%0A%20%20%20%20%20%20%20%20%20%20%20%20%20%20%20%20%5B38.9597594%2C%2034.9249653%5D%2C%0A%20%20%20%20%20%20%20%20%20%20%20%20%20%20%20%20%7B%22bubblingMouseEvents%22%3A%20true%2C%20%22color%22%3A%20%22%233388ff%22%2C%20%22dashArray%22%3A%20null%2C%20%22dashOffset%22%3A%20null%2C%20%22fill%22%3A%20true%2C%20%22fillColor%22%3A%20%22%233388ff%22%2C%20%22fillOpacity%22%3A%200.2%2C%20%22fillRule%22%3A%20%22evenodd%22%2C%20%22lineCap%22%3A%20%22round%22%2C%20%22lineJoin%22%3A%20%22round%22%2C%20%22opacity%22%3A%201.0%2C%20%22radius%22%3A%207%2C%20%22stroke%22%3A%20true%2C%20%22weight%22%3A%203%7D%0A%20%20%20%20%20%20%20%20%20%20%20%20%29.addTo%28marker_cluster_dbaf00fdfc5544c7b5c205caa5fb4ea7%29%3B%0A%20%20%20%20%20%20%20%20%0A%20%20%20%20%0A%20%20%20%20%20%20%20%20var%20popup_485f115b09b64d53b6885e3576cd7c69%20%3D%20L.popup%28%7B%22maxWidth%22%3A%20%22100%25%22%7D%29%3B%0A%0A%20%20%20%20%20%20%20%20%0A%20%20%20%20%20%20%20%20%20%20%20%20var%20html_e5aab5c2510a44a4a60e98c52302ec7f%20%3D%20%24%28%60%3Cdiv%20id%3D%22html_e5aab5c2510a44a4a60e98c52302ec7f%22%20style%3D%22width%3A%20100.0%25%3B%20height%3A%20100.0%25%3B%22%3ECountry%20%3A%20Turkey%3Cbr%3E%20%20%20%20%20%20%20%20%20%20%20%20%20%20%20%20%20%20%20%20%20Happiness%20Score%20%3A%205.373%3Cbr%3E%20%20%20%20%20%20%20%20%20%20%20%20%20%20%20%20%20%20%20%20%20Year%20%3A%202019%3Cbr%3E%3C/div%3E%60%29%5B0%5D%3B%0A%20%20%20%20%20%20%20%20%20%20%20%20popup_485f115b09b64d53b6885e3576cd7c69.setContent%28html_e5aab5c2510a44a4a60e98c52302ec7f%29%3B%0A%20%20%20%20%20%20%20%20%0A%0A%20%20%20%20%20%20%20%20circle_marker_8bcbffc72bd74ab4bcccf142e6bf11ef.bindPopup%28popup_485f115b09b64d53b6885e3576cd7c69%29%0A%20%20%20%20%20%20%20%20%3B%0A%0A%20%20%20%20%20%20%20%20%0A%20%20%20%20%0A%20%20%20%20%0A%20%20%20%20%20%20%20%20%20%20%20%20var%20circle_marker_681226a3da7e475ab3845664bc360361%20%3D%20L.circleMarker%28%0A%20%20%20%20%20%20%20%20%20%20%20%20%20%20%20%20%5B38.9597594%2C%2034.9249653%5D%2C%0A%20%20%20%20%20%20%20%20%20%20%20%20%20%20%20%20%7B%22bubblingMouseEvents%22%3A%20true%2C%20%22color%22%3A%20%22%233388ff%22%2C%20%22dashArray%22%3A%20null%2C%20%22dashOffset%22%3A%20null%2C%20%22fill%22%3A%20true%2C%20%22fillColor%22%3A%20%22%233388ff%22%2C%20%22fillOpacity%22%3A%200.2%2C%20%22fillRule%22%3A%20%22evenodd%22%2C%20%22lineCap%22%3A%20%22round%22%2C%20%22lineJoin%22%3A%20%22round%22%2C%20%22opacity%22%3A%201.0%2C%20%22radius%22%3A%207%2C%20%22stroke%22%3A%20true%2C%20%22weight%22%3A%203%7D%0A%20%20%20%20%20%20%20%20%20%20%20%20%29.addTo%28marker_cluster_dbaf00fdfc5544c7b5c205caa5fb4ea7%29%3B%0A%20%20%20%20%20%20%20%20%0A%20%20%20%20%0A%20%20%20%20%20%20%20%20var%20popup_efd5328b020441a3932386abe6515e56%20%3D%20L.popup%28%7B%22maxWidth%22%3A%20%22100%25%22%7D%29%3B%0A%0A%20%20%20%20%20%20%20%20%0A%20%20%20%20%20%20%20%20%20%20%20%20var%20html_0b312ce6449848e5bb72eadd33c68930%20%3D%20%24%28%60%3Cdiv%20id%3D%22html_0b312ce6449848e5bb72eadd33c68930%22%20style%3D%22width%3A%20100.0%25%3B%20height%3A%20100.0%25%3B%22%3ECountry%20%3A%20Turkey%3Cbr%3E%20%20%20%20%20%20%20%20%20%20%20%20%20%20%20%20%20%20%20%20%20Happiness%20Score%20%3A%205.332%3Cbr%3E%20%20%20%20%20%20%20%20%20%20%20%20%20%20%20%20%20%20%20%20%20Year%20%3A%202015%3Cbr%3E%3C/div%3E%60%29%5B0%5D%3B%0A%20%20%20%20%20%20%20%20%20%20%20%20popup_efd5328b020441a3932386abe6515e56.setContent%28html_0b312ce6449848e5bb72eadd33c68930%29%3B%0A%20%20%20%20%20%20%20%20%0A%0A%20%20%20%20%20%20%20%20circle_marker_681226a3da7e475ab3845664bc360361.bindPopup%28popup_efd5328b020441a3932386abe6515e56%29%0A%20%20%20%20%20%20%20%20%3B%0A%0A%20%20%20%20%20%20%20%20%0A%20%20%20%20%0A%20%20%20%20%0A%20%20%20%20%20%20%20%20%20%20%20%20var%20circle_marker_5bcb83238293413fbc66e9077b9c57cc%20%3D%20L.circleMarker%28%0A%20%20%20%20%20%20%20%20%20%20%20%20%20%20%20%20%5B44.3053476%2C%2017.5961467%5D%2C%0A%20%20%20%20%20%20%20%20%20%20%20%20%20%20%20%20%7B%22bubblingMouseEvents%22%3A%20true%2C%20%22color%22%3A%20%22%233388ff%22%2C%20%22dashArray%22%3A%20null%2C%20%22dashOffset%22%3A%20null%2C%20%22fill%22%3A%20true%2C%20%22fillColor%22%3A%20%22%233388ff%22%2C%20%22fillOpacity%22%3A%200.2%2C%20%22fillRule%22%3A%20%22evenodd%22%2C%20%22lineCap%22%3A%20%22round%22%2C%20%22lineJoin%22%3A%20%22round%22%2C%20%22opacity%22%3A%201.0%2C%20%22radius%22%3A%207%2C%20%22stroke%22%3A%20true%2C%20%22weight%22%3A%203%7D%0A%20%20%20%20%20%20%20%20%20%20%20%20%29.addTo%28marker_cluster_dbaf00fdfc5544c7b5c205caa5fb4ea7%29%3B%0A%20%20%20%20%20%20%20%20%0A%20%20%20%20%0A%20%20%20%20%20%20%20%20var%20popup_835ab72594994600b0c88d62cc15930b%20%3D%20L.popup%28%7B%22maxWidth%22%3A%20%22100%25%22%7D%29%3B%0A%0A%20%20%20%20%20%20%20%20%0A%20%20%20%20%20%20%20%20%20%20%20%20var%20html_a84c792b0a704868aa3d54f06e3dfb0c%20%3D%20%24%28%60%3Cdiv%20id%3D%22html_a84c792b0a704868aa3d54f06e3dfb0c%22%20style%3D%22width%3A%20100.0%25%3B%20height%3A%20100.0%25%3B%22%3ECountry%20%3A%20Bosnia%20and%20Herzegovina%3Cbr%3E%20%20%20%20%20%20%20%20%20%20%20%20%20%20%20%20%20%20%20%20%20Happiness%20Score%20%3A%205.386%3Cbr%3E%20%20%20%20%20%20%20%20%20%20%20%20%20%20%20%20%20%20%20%20%20Year%20%3A%202019%3Cbr%3E%3C/div%3E%60%29%5B0%5D%3B%0A%20%20%20%20%20%20%20%20%20%20%20%20popup_835ab72594994600b0c88d62cc15930b.setContent%28html_a84c792b0a704868aa3d54f06e3dfb0c%29%3B%0A%20%20%20%20%20%20%20%20%0A%0A%20%20%20%20%20%20%20%20circle_marker_5bcb83238293413fbc66e9077b9c57cc.bindPopup%28popup_835ab72594994600b0c88d62cc15930b%29%0A%20%20%20%20%20%20%20%20%3B%0A%0A%20%20%20%20%20%20%20%20%0A%20%20%20%20%0A%20%20%20%20%0A%20%20%20%20%20%20%20%20%20%20%20%20var%20circle_marker_6f0ef584d4de413f9c101909900d9371%20%3D%20L.circleMarker%28%0A%20%20%20%20%20%20%20%20%20%20%20%20%20%20%20%20%5B44.3053476%2C%2017.5961467%5D%2C%0A%20%20%20%20%20%20%20%20%20%20%20%20%20%20%20%20%7B%22bubblingMouseEvents%22%3A%20true%2C%20%22color%22%3A%20%22%233388ff%22%2C%20%22dashArray%22%3A%20null%2C%20%22dashOffset%22%3A%20null%2C%20%22fill%22%3A%20true%2C%20%22fillColor%22%3A%20%22%233388ff%22%2C%20%22fillOpacity%22%3A%200.2%2C%20%22fillRule%22%3A%20%22evenodd%22%2C%20%22lineCap%22%3A%20%22round%22%2C%20%22lineJoin%22%3A%20%22round%22%2C%20%22opacity%22%3A%201.0%2C%20%22radius%22%3A%207%2C%20%22stroke%22%3A%20true%2C%20%22weight%22%3A%203%7D%0A%20%20%20%20%20%20%20%20%20%20%20%20%29.addTo%28marker_cluster_dbaf00fdfc5544c7b5c205caa5fb4ea7%29%3B%0A%20%20%20%20%20%20%20%20%0A%20%20%20%20%0A%20%20%20%20%20%20%20%20var%20popup_903bcec1788a4e2c95c233d604d8a186%20%3D%20L.popup%28%7B%22maxWidth%22%3A%20%22100%25%22%7D%29%3B%0A%0A%20%20%20%20%20%20%20%20%0A%20%20%20%20%20%20%20%20%20%20%20%20var%20html_2547662d0d8647ec98cf433ffee07f7b%20%3D%20%24%28%60%3Cdiv%20id%3D%22html_2547662d0d8647ec98cf433ffee07f7b%22%20style%3D%22width%3A%20100.0%25%3B%20height%3A%20100.0%25%3B%22%3ECountry%20%3A%20Bosnia%20and%20Herzegovina%3Cbr%3E%20%20%20%20%20%20%20%20%20%20%20%20%20%20%20%20%20%20%20%20%20Happiness%20Score%20%3A%205.18200016021729%3Cbr%3E%20%20%20%20%20%20%20%20%20%20%20%20%20%20%20%20%20%20%20%20%20Year%20%3A%202017%3Cbr%3E%3C/div%3E%60%29%5B0%5D%3B%0A%20%20%20%20%20%20%20%20%20%20%20%20popup_903bcec1788a4e2c95c233d604d8a186.setContent%28html_2547662d0d8647ec98cf433ffee07f7b%29%3B%0A%20%20%20%20%20%20%20%20%0A%0A%20%20%20%20%20%20%20%20circle_marker_6f0ef584d4de413f9c101909900d9371.bindPopup%28popup_903bcec1788a4e2c95c233d604d8a186%29%0A%20%20%20%20%20%20%20%20%3B%0A%0A%20%20%20%20%20%20%20%20%0A%20%20%20%20%0A%20%20%20%20%0A%20%20%20%20%20%20%20%20%20%20%20%20var%20circle_marker_e34caa6e40c24d4d932157358c44698c%20%3D%20L.circleMarker%28%0A%20%20%20%20%20%20%20%20%20%20%20%20%20%20%20%20%5B44.3053476%2C%2017.5961467%5D%2C%0A%20%20%20%20%20%20%20%20%20%20%20%20%20%20%20%20%7B%22bubblingMouseEvents%22%3A%20true%2C%20%22color%22%3A%20%22%233388ff%22%2C%20%22dashArray%22%3A%20null%2C%20%22dashOffset%22%3A%20null%2C%20%22fill%22%3A%20true%2C%20%22fillColor%22%3A%20%22%233388ff%22%2C%20%22fillOpacity%22%3A%200.2%2C%20%22fillRule%22%3A%20%22evenodd%22%2C%20%22lineCap%22%3A%20%22round%22%2C%20%22lineJoin%22%3A%20%22round%22%2C%20%22opacity%22%3A%201.0%2C%20%22radius%22%3A%207%2C%20%22stroke%22%3A%20true%2C%20%22weight%22%3A%203%7D%0A%20%20%20%20%20%20%20%20%20%20%20%20%29.addTo%28marker_cluster_dbaf00fdfc5544c7b5c205caa5fb4ea7%29%3B%0A%20%20%20%20%20%20%20%20%0A%20%20%20%20%0A%20%20%20%20%20%20%20%20var%20popup_0b7457175e0d46b98a950101223b55a7%20%3D%20L.popup%28%7B%22maxWidth%22%3A%20%22100%25%22%7D%29%3B%0A%0A%20%20%20%20%20%20%20%20%0A%20%20%20%20%20%20%20%20%20%20%20%20var%20html_62ddb2406def47c3b18ea412fd773ed8%20%3D%20%24%28%60%3Cdiv%20id%3D%22html_62ddb2406def47c3b18ea412fd773ed8%22%20style%3D%22width%3A%20100.0%25%3B%20height%3A%20100.0%25%3B%22%3ECountry%20%3A%20Bosnia%20and%20Herzegovina%3Cbr%3E%20%20%20%20%20%20%20%20%20%20%20%20%20%20%20%20%20%20%20%20%20Happiness%20Score%20%3A%205.163%3Cbr%3E%20%20%20%20%20%20%20%20%20%20%20%20%20%20%20%20%20%20%20%20%20Year%20%3A%202016%3Cbr%3E%3C/div%3E%60%29%5B0%5D%3B%0A%20%20%20%20%20%20%20%20%20%20%20%20popup_0b7457175e0d46b98a950101223b55a7.setContent%28html_62ddb2406def47c3b18ea412fd773ed8%29%3B%0A%20%20%20%20%20%20%20%20%0A%0A%20%20%20%20%20%20%20%20circle_marker_e34caa6e40c24d4d932157358c44698c.bindPopup%28popup_0b7457175e0d46b98a950101223b55a7%29%0A%20%20%20%20%20%20%20%20%3B%0A%0A%20%20%20%20%20%20%20%20%0A%20%20%20%20%0A%20%20%20%20%0A%20%20%20%20%20%20%20%20%20%20%20%20var%20circle_marker_901b26630c934396aa49399ee75426d6%20%3D%20L.circleMarker%28%0A%20%20%20%20%20%20%20%20%20%20%20%20%20%20%20%20%5B44.3053476%2C%2017.5961467%5D%2C%0A%20%20%20%20%20%20%20%20%20%20%20%20%20%20%20%20%7B%22bubblingMouseEvents%22%3A%20true%2C%20%22color%22%3A%20%22%233388ff%22%2C%20%22dashArray%22%3A%20null%2C%20%22dashOffset%22%3A%20null%2C%20%22fill%22%3A%20true%2C%20%22fillColor%22%3A%20%22%233388ff%22%2C%20%22fillOpacity%22%3A%200.2%2C%20%22fillRule%22%3A%20%22evenodd%22%2C%20%22lineCap%22%3A%20%22round%22%2C%20%22lineJoin%22%3A%20%22round%22%2C%20%22opacity%22%3A%201.0%2C%20%22radius%22%3A%207%2C%20%22stroke%22%3A%20true%2C%20%22weight%22%3A%203%7D%0A%20%20%20%20%20%20%20%20%20%20%20%20%29.addTo%28marker_cluster_dbaf00fdfc5544c7b5c205caa5fb4ea7%29%3B%0A%20%20%20%20%20%20%20%20%0A%20%20%20%20%0A%20%20%20%20%20%20%20%20var%20popup_b151528ed8744b5992eb36c50a7776ce%20%3D%20L.popup%28%7B%22maxWidth%22%3A%20%22100%25%22%7D%29%3B%0A%0A%20%20%20%20%20%20%20%20%0A%20%20%20%20%20%20%20%20%20%20%20%20var%20html_7a133f9490eb465f96ba5fea4fe85dc8%20%3D%20%24%28%60%3Cdiv%20id%3D%22html_7a133f9490eb465f96ba5fea4fe85dc8%22%20style%3D%22width%3A%20100.0%25%3B%20height%3A%20100.0%25%3B%22%3ECountry%20%3A%20Bosnia%20and%20Herzegovina%3Cbr%3E%20%20%20%20%20%20%20%20%20%20%20%20%20%20%20%20%20%20%20%20%20Happiness%20Score%20%3A%205.129%3Cbr%3E%20%20%20%20%20%20%20%20%20%20%20%20%20%20%20%20%20%20%20%20%20Year%20%3A%202018%3Cbr%3E%3C/div%3E%60%29%5B0%5D%3B%0A%20%20%20%20%20%20%20%20%20%20%20%20popup_b151528ed8744b5992eb36c50a7776ce.setContent%28html_7a133f9490eb465f96ba5fea4fe85dc8%29%3B%0A%20%20%20%20%20%20%20%20%0A%0A%20%20%20%20%20%20%20%20circle_marker_901b26630c934396aa49399ee75426d6.bindPopup%28popup_b151528ed8744b5992eb36c50a7776ce%29%0A%20%20%20%20%20%20%20%20%3B%0A%0A%20%20%20%20%20%20%20%20%0A%20%20%20%20%0A%20%20%20%20%0A%20%20%20%20%20%20%20%20%20%20%20%20var%20circle_marker_7d1378d7cd1845f9a197f701c80c2386%20%3D%20L.circleMarker%28%0A%20%20%20%20%20%20%20%20%20%20%20%20%20%20%20%20%5B44.3053476%2C%2017.5961467%5D%2C%0A%20%20%20%20%20%20%20%20%20%20%20%20%20%20%20%20%7B%22bubblingMouseEvents%22%3A%20true%2C%20%22color%22%3A%20%22%233388ff%22%2C%20%22dashArray%22%3A%20null%2C%20%22dashOffset%22%3A%20null%2C%20%22fill%22%3A%20true%2C%20%22fillColor%22%3A%20%22%233388ff%22%2C%20%22fillOpacity%22%3A%200.2%2C%20%22fillRule%22%3A%20%22evenodd%22%2C%20%22lineCap%22%3A%20%22round%22%2C%20%22lineJoin%22%3A%20%22round%22%2C%20%22opacity%22%3A%201.0%2C%20%22radius%22%3A%207%2C%20%22stroke%22%3A%20true%2C%20%22weight%22%3A%203%7D%0A%20%20%20%20%20%20%20%20%20%20%20%20%29.addTo%28marker_cluster_dbaf00fdfc5544c7b5c205caa5fb4ea7%29%3B%0A%20%20%20%20%20%20%20%20%0A%20%20%20%20%0A%20%20%20%20%20%20%20%20var%20popup_4d3bf1499ebd49e0ab5ac3a9e9b5ed9b%20%3D%20L.popup%28%7B%22maxWidth%22%3A%20%22100%25%22%7D%29%3B%0A%0A%20%20%20%20%20%20%20%20%0A%20%20%20%20%20%20%20%20%20%20%20%20var%20html_1fd01cb8563b4eec93cc2f9771e97888%20%3D%20%24%28%60%3Cdiv%20id%3D%22html_1fd01cb8563b4eec93cc2f9771e97888%22%20style%3D%22width%3A%20100.0%25%3B%20height%3A%20100.0%25%3B%22%3ECountry%20%3A%20Bosnia%20and%20Herzegovina%3Cbr%3E%20%20%20%20%20%20%20%20%20%20%20%20%20%20%20%20%20%20%20%20%20Happiness%20Score%20%3A%204.949%3Cbr%3E%20%20%20%20%20%20%20%20%20%20%20%20%20%20%20%20%20%20%20%20%20Year%20%3A%202015%3Cbr%3E%3C/div%3E%60%29%5B0%5D%3B%0A%20%20%20%20%20%20%20%20%20%20%20%20popup_4d3bf1499ebd49e0ab5ac3a9e9b5ed9b.setContent%28html_1fd01cb8563b4eec93cc2f9771e97888%29%3B%0A%20%20%20%20%20%20%20%20%0A%0A%20%20%20%20%20%20%20%20circle_marker_7d1378d7cd1845f9a197f701c80c2386.bindPopup%28popup_4d3bf1499ebd49e0ab5ac3a9e9b5ed9b%29%0A%20%20%20%20%20%20%20%20%3B%0A%0A%20%20%20%20%20%20%20%20%0A%20%20%20%20%0A%20%20%20%20%0A%20%20%20%20%20%20%20%20%20%20%20%20var%20circle_marker_47b6a9f89d8945dfb5928fd08afcae41%20%3D%20L.circleMarker%28%0A%20%20%20%20%20%20%20%20%20%20%20%20%20%20%20%20%5B38.9953683%2C%2021.9877132%5D%2C%0A%20%20%20%20%20%20%20%20%20%20%20%20%20%20%20%20%7B%22bubblingMouseEvents%22%3A%20true%2C%20%22color%22%3A%20%22%233388ff%22%2C%20%22dashArray%22%3A%20null%2C%20%22dashOffset%22%3A%20null%2C%20%22fill%22%3A%20true%2C%20%22fillColor%22%3A%20%22%233388ff%22%2C%20%22fillOpacity%22%3A%200.2%2C%20%22fillRule%22%3A%20%22evenodd%22%2C%20%22lineCap%22%3A%20%22round%22%2C%20%22lineJoin%22%3A%20%22round%22%2C%20%22opacity%22%3A%201.0%2C%20%22radius%22%3A%207%2C%20%22stroke%22%3A%20true%2C%20%22weight%22%3A%203%7D%0A%20%20%20%20%20%20%20%20%20%20%20%20%29.addTo%28marker_cluster_dbaf00fdfc5544c7b5c205caa5fb4ea7%29%3B%0A%20%20%20%20%20%20%20%20%0A%20%20%20%20%0A%20%20%20%20%20%20%20%20var%20popup_474a4302ea924e5c96c3fa6e2bb70238%20%3D%20L.popup%28%7B%22maxWidth%22%3A%20%22100%25%22%7D%29%3B%0A%0A%20%20%20%20%20%20%20%20%0A%20%20%20%20%20%20%20%20%20%20%20%20var%20html_7a362387a39748f08a6507a4faa5ecf4%20%3D%20%24%28%60%3Cdiv%20id%3D%22html_7a362387a39748f08a6507a4faa5ecf4%22%20style%3D%22width%3A%20100.0%25%3B%20height%3A%20100.0%25%3B%22%3ECountry%20%3A%20Greece%3Cbr%3E%20%20%20%20%20%20%20%20%20%20%20%20%20%20%20%20%20%20%20%20%20Happiness%20Score%20%3A%205.358%3Cbr%3E%20%20%20%20%20%20%20%20%20%20%20%20%20%20%20%20%20%20%20%20%20Year%20%3A%202018%3Cbr%3E%3C/div%3E%60%29%5B0%5D%3B%0A%20%20%20%20%20%20%20%20%20%20%20%20popup_474a4302ea924e5c96c3fa6e2bb70238.setContent%28html_7a362387a39748f08a6507a4faa5ecf4%29%3B%0A%20%20%20%20%20%20%20%20%0A%0A%20%20%20%20%20%20%20%20circle_marker_47b6a9f89d8945dfb5928fd08afcae41.bindPopup%28popup_474a4302ea924e5c96c3fa6e2bb70238%29%0A%20%20%20%20%20%20%20%20%3B%0A%0A%20%20%20%20%20%20%20%20%0A%20%20%20%20%0A%20%20%20%20%0A%20%20%20%20%20%20%20%20%20%20%20%20var%20circle_marker_44935bb7e4ad4f1ea3def731cfe2ec15%20%3D%20L.circleMarker%28%0A%20%20%20%20%20%20%20%20%20%20%20%20%20%20%20%20%5B38.9953683%2C%2021.9877132%5D%2C%0A%20%20%20%20%20%20%20%20%20%20%20%20%20%20%20%20%7B%22bubblingMouseEvents%22%3A%20true%2C%20%22color%22%3A%20%22%233388ff%22%2C%20%22dashArray%22%3A%20null%2C%20%22dashOffset%22%3A%20null%2C%20%22fill%22%3A%20true%2C%20%22fillColor%22%3A%20%22%233388ff%22%2C%20%22fillOpacity%22%3A%200.2%2C%20%22fillRule%22%3A%20%22evenodd%22%2C%20%22lineCap%22%3A%20%22round%22%2C%20%22lineJoin%22%3A%20%22round%22%2C%20%22opacity%22%3A%201.0%2C%20%22radius%22%3A%207%2C%20%22stroke%22%3A%20true%2C%20%22weight%22%3A%203%7D%0A%20%20%20%20%20%20%20%20%20%20%20%20%29.addTo%28marker_cluster_dbaf00fdfc5544c7b5c205caa5fb4ea7%29%3B%0A%20%20%20%20%20%20%20%20%0A%20%20%20%20%0A%20%20%20%20%20%20%20%20var%20popup_fcb4d8ab55c84903bca26b44095834a6%20%3D%20L.popup%28%7B%22maxWidth%22%3A%20%22100%25%22%7D%29%3B%0A%0A%20%20%20%20%20%20%20%20%0A%20%20%20%20%20%20%20%20%20%20%20%20var%20html_ed57b03ecf444995a62e9f960c8e6e49%20%3D%20%24%28%60%3Cdiv%20id%3D%22html_ed57b03ecf444995a62e9f960c8e6e49%22%20style%3D%22width%3A%20100.0%25%3B%20height%3A%20100.0%25%3B%22%3ECountry%20%3A%20Greece%3Cbr%3E%20%20%20%20%20%20%20%20%20%20%20%20%20%20%20%20%20%20%20%20%20Happiness%20Score%20%3A%205.287%3Cbr%3E%20%20%20%20%20%20%20%20%20%20%20%20%20%20%20%20%20%20%20%20%20Year%20%3A%202019%3Cbr%3E%3C/div%3E%60%29%5B0%5D%3B%0A%20%20%20%20%20%20%20%20%20%20%20%20popup_fcb4d8ab55c84903bca26b44095834a6.setContent%28html_ed57b03ecf444995a62e9f960c8e6e49%29%3B%0A%20%20%20%20%20%20%20%20%0A%0A%20%20%20%20%20%20%20%20circle_marker_44935bb7e4ad4f1ea3def731cfe2ec15.bindPopup%28popup_fcb4d8ab55c84903bca26b44095834a6%29%0A%20%20%20%20%20%20%20%20%3B%0A%0A%20%20%20%20%20%20%20%20%0A%20%20%20%20%0A%20%20%20%20%0A%20%20%20%20%20%20%20%20%20%20%20%20var%20circle_marker_f04e989344254ac08563f3b588b275d3%20%3D%20L.circleMarker%28%0A%20%20%20%20%20%20%20%20%20%20%20%20%20%20%20%20%5B38.9953683%2C%2021.9877132%5D%2C%0A%20%20%20%20%20%20%20%20%20%20%20%20%20%20%20%20%7B%22bubblingMouseEvents%22%3A%20true%2C%20%22color%22%3A%20%22%233388ff%22%2C%20%22dashArray%22%3A%20null%2C%20%22dashOffset%22%3A%20null%2C%20%22fill%22%3A%20true%2C%20%22fillColor%22%3A%20%22%233388ff%22%2C%20%22fillOpacity%22%3A%200.2%2C%20%22fillRule%22%3A%20%22evenodd%22%2C%20%22lineCap%22%3A%20%22round%22%2C%20%22lineJoin%22%3A%20%22round%22%2C%20%22opacity%22%3A%201.0%2C%20%22radius%22%3A%207%2C%20%22stroke%22%3A%20true%2C%20%22weight%22%3A%203%7D%0A%20%20%20%20%20%20%20%20%20%20%20%20%29.addTo%28marker_cluster_dbaf00fdfc5544c7b5c205caa5fb4ea7%29%3B%0A%20%20%20%20%20%20%20%20%0A%20%20%20%20%0A%20%20%20%20%20%20%20%20var%20popup_d8dacf8e93b8482babff261d747b0781%20%3D%20L.popup%28%7B%22maxWidth%22%3A%20%22100%25%22%7D%29%3B%0A%0A%20%20%20%20%20%20%20%20%0A%20%20%20%20%20%20%20%20%20%20%20%20var%20html_768fb74366fb4947ba710495b3cd7ae6%20%3D%20%24%28%60%3Cdiv%20id%3D%22html_768fb74366fb4947ba710495b3cd7ae6%22%20style%3D%22width%3A%20100.0%25%3B%20height%3A%20100.0%25%3B%22%3ECountry%20%3A%20Greece%3Cbr%3E%20%20%20%20%20%20%20%20%20%20%20%20%20%20%20%20%20%20%20%20%20Happiness%20Score%20%3A%205.22700023651123%3Cbr%3E%20%20%20%20%20%20%20%20%20%20%20%20%20%20%20%20%20%20%20%20%20Year%20%3A%202017%3Cbr%3E%3C/div%3E%60%29%5B0%5D%3B%0A%20%20%20%20%20%20%20%20%20%20%20%20popup_d8dacf8e93b8482babff261d747b0781.setContent%28html_768fb74366fb4947ba710495b3cd7ae6%29%3B%0A%20%20%20%20%20%20%20%20%0A%0A%20%20%20%20%20%20%20%20circle_marker_f04e989344254ac08563f3b588b275d3.bindPopup%28popup_d8dacf8e93b8482babff261d747b0781%29%0A%20%20%20%20%20%20%20%20%3B%0A%0A%20%20%20%20%20%20%20%20%0A%20%20%20%20%0A%20%20%20%20%0A%20%20%20%20%20%20%20%20%20%20%20%20var%20circle_marker_8637e6ff5e1e4b5f9d5cbe4f8d7166b1%20%3D%20L.circleMarker%28%0A%20%20%20%20%20%20%20%20%20%20%20%20%20%20%20%20%5B38.9953683%2C%2021.9877132%5D%2C%0A%20%20%20%20%20%20%20%20%20%20%20%20%20%20%20%20%7B%22bubblingMouseEvents%22%3A%20true%2C%20%22color%22%3A%20%22%233388ff%22%2C%20%22dashArray%22%3A%20null%2C%20%22dashOffset%22%3A%20null%2C%20%22fill%22%3A%20true%2C%20%22fillColor%22%3A%20%22%233388ff%22%2C%20%22fillOpacity%22%3A%200.2%2C%20%22fillRule%22%3A%20%22evenodd%22%2C%20%22lineCap%22%3A%20%22round%22%2C%20%22lineJoin%22%3A%20%22round%22%2C%20%22opacity%22%3A%201.0%2C%20%22radius%22%3A%207%2C%20%22stroke%22%3A%20true%2C%20%22weight%22%3A%203%7D%0A%20%20%20%20%20%20%20%20%20%20%20%20%29.addTo%28marker_cluster_dbaf00fdfc5544c7b5c205caa5fb4ea7%29%3B%0A%20%20%20%20%20%20%20%20%0A%20%20%20%20%0A%20%20%20%20%20%20%20%20var%20popup_114fe14dd43949efb4b2ff7eac56fef5%20%3D%20L.popup%28%7B%22maxWidth%22%3A%20%22100%25%22%7D%29%3B%0A%0A%20%20%20%20%20%20%20%20%0A%20%20%20%20%20%20%20%20%20%20%20%20var%20html_cc35bd4b9b53421ab38cfd43fbd416ed%20%3D%20%24%28%60%3Cdiv%20id%3D%22html_cc35bd4b9b53421ab38cfd43fbd416ed%22%20style%3D%22width%3A%20100.0%25%3B%20height%3A%20100.0%25%3B%22%3ECountry%20%3A%20Greece%3Cbr%3E%20%20%20%20%20%20%20%20%20%20%20%20%20%20%20%20%20%20%20%20%20Happiness%20Score%20%3A%205.033%3Cbr%3E%20%20%20%20%20%20%20%20%20%20%20%20%20%20%20%20%20%20%20%20%20Year%20%3A%202016%3Cbr%3E%3C/div%3E%60%29%5B0%5D%3B%0A%20%20%20%20%20%20%20%20%20%20%20%20popup_114fe14dd43949efb4b2ff7eac56fef5.setContent%28html_cc35bd4b9b53421ab38cfd43fbd416ed%29%3B%0A%20%20%20%20%20%20%20%20%0A%0A%20%20%20%20%20%20%20%20circle_marker_8637e6ff5e1e4b5f9d5cbe4f8d7166b1.bindPopup%28popup_114fe14dd43949efb4b2ff7eac56fef5%29%0A%20%20%20%20%20%20%20%20%3B%0A%0A%20%20%20%20%20%20%20%20%0A%20%20%20%20%0A%20%20%20%20%0A%20%20%20%20%20%20%20%20%20%20%20%20var%20circle_marker_e6c4665201bb476b8a898144d596ab68%20%3D%20L.circleMarker%28%0A%20%20%20%20%20%20%20%20%20%20%20%20%20%20%20%20%5B38.9953683%2C%2021.9877132%5D%2C%0A%20%20%20%20%20%20%20%20%20%20%20%20%20%20%20%20%7B%22bubblingMouseEvents%22%3A%20true%2C%20%22color%22%3A%20%22%233388ff%22%2C%20%22dashArray%22%3A%20null%2C%20%22dashOffset%22%3A%20null%2C%20%22fill%22%3A%20true%2C%20%22fillColor%22%3A%20%22%233388ff%22%2C%20%22fillOpacity%22%3A%200.2%2C%20%22fillRule%22%3A%20%22evenodd%22%2C%20%22lineCap%22%3A%20%22round%22%2C%20%22lineJoin%22%3A%20%22round%22%2C%20%22opacity%22%3A%201.0%2C%20%22radius%22%3A%207%2C%20%22stroke%22%3A%20true%2C%20%22weight%22%3A%203%7D%0A%20%20%20%20%20%20%20%20%20%20%20%20%29.addTo%28marker_cluster_dbaf00fdfc5544c7b5c205caa5fb4ea7%29%3B%0A%20%20%20%20%20%20%20%20%0A%20%20%20%20%0A%20%20%20%20%20%20%20%20var%20popup_46f98d69e790494f9e42e4ffbcdc50ba%20%3D%20L.popup%28%7B%22maxWidth%22%3A%20%22100%25%22%7D%29%3B%0A%0A%20%20%20%20%20%20%20%20%0A%20%20%20%20%20%20%20%20%20%20%20%20var%20html_ddc668ad8ac8417a84274a10f1429a6c%20%3D%20%24%28%60%3Cdiv%20id%3D%22html_ddc668ad8ac8417a84274a10f1429a6c%22%20style%3D%22width%3A%20100.0%25%3B%20height%3A%20100.0%25%3B%22%3ECountry%20%3A%20Greece%3Cbr%3E%20%20%20%20%20%20%20%20%20%20%20%20%20%20%20%20%20%20%20%20%20Happiness%20Score%20%3A%204.857%3Cbr%3E%20%20%20%20%20%20%20%20%20%20%20%20%20%20%20%20%20%20%20%20%20Year%20%3A%202015%3Cbr%3E%3C/div%3E%60%29%5B0%5D%3B%0A%20%20%20%20%20%20%20%20%20%20%20%20popup_46f98d69e790494f9e42e4ffbcdc50ba.setContent%28html_ddc668ad8ac8417a84274a10f1429a6c%29%3B%0A%20%20%20%20%20%20%20%20%0A%0A%20%20%20%20%20%20%20%20circle_marker_e6c4665201bb476b8a898144d596ab68.bindPopup%28popup_46f98d69e790494f9e42e4ffbcdc50ba%29%0A%20%20%20%20%20%20%20%20%3B%0A%0A%20%20%20%20%20%20%20%20%0A%20%20%20%20%0A%20%20%20%20%0A%20%20%20%20%20%20%20%20%20%20%20%20var%20circle_marker_2c7cbebd05134224b5b1c7c34c88bf49%20%3D%20L.circleMarker%28%0A%20%20%20%20%20%20%20%20%20%20%20%20%20%20%20%20%5B42.6073975%2C%2025.4856617%5D%2C%0A%20%20%20%20%20%20%20%20%20%20%20%20%20%20%20%20%7B%22bubblingMouseEvents%22%3A%20true%2C%20%22color%22%3A%20%22%233388ff%22%2C%20%22dashArray%22%3A%20null%2C%20%22dashOffset%22%3A%20null%2C%20%22fill%22%3A%20true%2C%20%22fillColor%22%3A%20%22%233388ff%22%2C%20%22fillOpacity%22%3A%200.2%2C%20%22fillRule%22%3A%20%22evenodd%22%2C%20%22lineCap%22%3A%20%22round%22%2C%20%22lineJoin%22%3A%20%22round%22%2C%20%22opacity%22%3A%201.0%2C%20%22radius%22%3A%207%2C%20%22stroke%22%3A%20true%2C%20%22weight%22%3A%203%7D%0A%20%20%20%20%20%20%20%20%20%20%20%20%29.addTo%28marker_cluster_dbaf00fdfc5544c7b5c205caa5fb4ea7%29%3B%0A%20%20%20%20%20%20%20%20%0A%20%20%20%20%0A%20%20%20%20%20%20%20%20var%20popup_a452c16eae1d4e2c8982be392b5e48dc%20%3D%20L.popup%28%7B%22maxWidth%22%3A%20%22100%25%22%7D%29%3B%0A%0A%20%20%20%20%20%20%20%20%0A%20%20%20%20%20%20%20%20%20%20%20%20var%20html_b30cd75078a144b193a452cf8a469d9c%20%3D%20%24%28%60%3Cdiv%20id%3D%22html_b30cd75078a144b193a452cf8a469d9c%22%20style%3D%22width%3A%20100.0%25%3B%20height%3A%20100.0%25%3B%22%3ECountry%20%3A%20Bulgaria%3Cbr%3E%20%20%20%20%20%20%20%20%20%20%20%20%20%20%20%20%20%20%20%20%20Happiness%20Score%20%3A%205.011%3Cbr%3E%20%20%20%20%20%20%20%20%20%20%20%20%20%20%20%20%20%20%20%20%20Year%20%3A%202019%3Cbr%3E%3C/div%3E%60%29%5B0%5D%3B%0A%20%20%20%20%20%20%20%20%20%20%20%20popup_a452c16eae1d4e2c8982be392b5e48dc.setContent%28html_b30cd75078a144b193a452cf8a469d9c%29%3B%0A%20%20%20%20%20%20%20%20%0A%0A%20%20%20%20%20%20%20%20circle_marker_2c7cbebd05134224b5b1c7c34c88bf49.bindPopup%28popup_a452c16eae1d4e2c8982be392b5e48dc%29%0A%20%20%20%20%20%20%20%20%3B%0A%0A%20%20%20%20%20%20%20%20%0A%20%20%20%20%0A%20%20%20%20%0A%20%20%20%20%20%20%20%20%20%20%20%20var%20circle_marker_7663d376dd514c6db7920d5c5a0a1ac8%20%3D%20L.circleMarker%28%0A%20%20%20%20%20%20%20%20%20%20%20%20%20%20%20%20%5B42.6073975%2C%2025.4856617%5D%2C%0A%20%20%20%20%20%20%20%20%20%20%20%20%20%20%20%20%7B%22bubblingMouseEvents%22%3A%20true%2C%20%22color%22%3A%20%22%233388ff%22%2C%20%22dashArray%22%3A%20null%2C%20%22dashOffset%22%3A%20null%2C%20%22fill%22%3A%20true%2C%20%22fillColor%22%3A%20%22%233388ff%22%2C%20%22fillOpacity%22%3A%200.2%2C%20%22fillRule%22%3A%20%22evenodd%22%2C%20%22lineCap%22%3A%20%22round%22%2C%20%22lineJoin%22%3A%20%22round%22%2C%20%22opacity%22%3A%201.0%2C%20%22radius%22%3A%207%2C%20%22stroke%22%3A%20true%2C%20%22weight%22%3A%203%7D%0A%20%20%20%20%20%20%20%20%20%20%20%20%29.addTo%28marker_cluster_dbaf00fdfc5544c7b5c205caa5fb4ea7%29%3B%0A%20%20%20%20%20%20%20%20%0A%20%20%20%20%0A%20%20%20%20%20%20%20%20var%20popup_a5769e105314400aa3ced4af5b1b1c91%20%3D%20L.popup%28%7B%22maxWidth%22%3A%20%22100%25%22%7D%29%3B%0A%0A%20%20%20%20%20%20%20%20%0A%20%20%20%20%20%20%20%20%20%20%20%20var%20html_7cbcb977dcb74f62adb2d3183748f972%20%3D%20%24%28%60%3Cdiv%20id%3D%22html_7cbcb977dcb74f62adb2d3183748f972%22%20style%3D%22width%3A%20100.0%25%3B%20height%3A%20100.0%25%3B%22%3ECountry%20%3A%20Bulgaria%3Cbr%3E%20%20%20%20%20%20%20%20%20%20%20%20%20%20%20%20%20%20%20%20%20Happiness%20Score%20%3A%204.933%3Cbr%3E%20%20%20%20%20%20%20%20%20%20%20%20%20%20%20%20%20%20%20%20%20Year%20%3A%202018%3Cbr%3E%3C/div%3E%60%29%5B0%5D%3B%0A%20%20%20%20%20%20%20%20%20%20%20%20popup_a5769e105314400aa3ced4af5b1b1c91.setContent%28html_7cbcb977dcb74f62adb2d3183748f972%29%3B%0A%20%20%20%20%20%20%20%20%0A%0A%20%20%20%20%20%20%20%20circle_marker_7663d376dd514c6db7920d5c5a0a1ac8.bindPopup%28popup_a5769e105314400aa3ced4af5b1b1c91%29%0A%20%20%20%20%20%20%20%20%3B%0A%0A%20%20%20%20%20%20%20%20%0A%20%20%20%20%0A%20%20%20%20%0A%20%20%20%20%20%20%20%20%20%20%20%20var%20circle_marker_d6c2232864474c85af95aabb81011f8f%20%3D%20L.circleMarker%28%0A%20%20%20%20%20%20%20%20%20%20%20%20%20%20%20%20%5B42.6073975%2C%2025.4856617%5D%2C%0A%20%20%20%20%20%20%20%20%20%20%20%20%20%20%20%20%7B%22bubblingMouseEvents%22%3A%20true%2C%20%22color%22%3A%20%22%233388ff%22%2C%20%22dashArray%22%3A%20null%2C%20%22dashOffset%22%3A%20null%2C%20%22fill%22%3A%20true%2C%20%22fillColor%22%3A%20%22%233388ff%22%2C%20%22fillOpacity%22%3A%200.2%2C%20%22fillRule%22%3A%20%22evenodd%22%2C%20%22lineCap%22%3A%20%22round%22%2C%20%22lineJoin%22%3A%20%22round%22%2C%20%22opacity%22%3A%201.0%2C%20%22radius%22%3A%207%2C%20%22stroke%22%3A%20true%2C%20%22weight%22%3A%203%7D%0A%20%20%20%20%20%20%20%20%20%20%20%20%29.addTo%28marker_cluster_dbaf00fdfc5544c7b5c205caa5fb4ea7%29%3B%0A%20%20%20%20%20%20%20%20%0A%20%20%20%20%0A%20%20%20%20%20%20%20%20var%20popup_62953b5075294e778c681ace90f20978%20%3D%20L.popup%28%7B%22maxWidth%22%3A%20%22100%25%22%7D%29%3B%0A%0A%20%20%20%20%20%20%20%20%0A%20%20%20%20%20%20%20%20%20%20%20%20var%20html_8fdb3bbc560e46b5abf1e7c4dfecb823%20%3D%20%24%28%60%3Cdiv%20id%3D%22html_8fdb3bbc560e46b5abf1e7c4dfecb823%22%20style%3D%22width%3A%20100.0%25%3B%20height%3A%20100.0%25%3B%22%3ECountry%20%3A%20Bulgaria%3Cbr%3E%20%20%20%20%20%20%20%20%20%20%20%20%20%20%20%20%20%20%20%20%20Happiness%20Score%20%3A%204.71400022506714%3Cbr%3E%20%20%20%20%20%20%20%20%20%20%20%20%20%20%20%20%20%20%20%20%20Year%20%3A%202017%3Cbr%3E%3C/div%3E%60%29%5B0%5D%3B%0A%20%20%20%20%20%20%20%20%20%20%20%20popup_62953b5075294e778c681ace90f20978.setContent%28html_8fdb3bbc560e46b5abf1e7c4dfecb823%29%3B%0A%20%20%20%20%20%20%20%20%0A%0A%20%20%20%20%20%20%20%20circle_marker_d6c2232864474c85af95aabb81011f8f.bindPopup%28popup_62953b5075294e778c681ace90f20978%29%0A%20%20%20%20%20%20%20%20%3B%0A%0A%20%20%20%20%20%20%20%20%0A%20%20%20%20%0A%20%20%20%20%0A%20%20%20%20%20%20%20%20%20%20%20%20var%20circle_marker_58f0054f3982466987d2f496ad378cf0%20%3D%20L.circleMarker%28%0A%20%20%20%20%20%20%20%20%20%20%20%20%20%20%20%20%5B42.6073975%2C%2025.4856617%5D%2C%0A%20%20%20%20%20%20%20%20%20%20%20%20%20%20%20%20%7B%22bubblingMouseEvents%22%3A%20true%2C%20%22color%22%3A%20%22%233388ff%22%2C%20%22dashArray%22%3A%20null%2C%20%22dashOffset%22%3A%20null%2C%20%22fill%22%3A%20true%2C%20%22fillColor%22%3A%20%22%233388ff%22%2C%20%22fillOpacity%22%3A%200.2%2C%20%22fillRule%22%3A%20%22evenodd%22%2C%20%22lineCap%22%3A%20%22round%22%2C%20%22lineJoin%22%3A%20%22round%22%2C%20%22opacity%22%3A%201.0%2C%20%22radius%22%3A%207%2C%20%22stroke%22%3A%20true%2C%20%22weight%22%3A%203%7D%0A%20%20%20%20%20%20%20%20%20%20%20%20%29.addTo%28marker_cluster_dbaf00fdfc5544c7b5c205caa5fb4ea7%29%3B%0A%20%20%20%20%20%20%20%20%0A%20%20%20%20%0A%20%20%20%20%20%20%20%20var%20popup_b6b00e29e2d04736bb594c5a62b87644%20%3D%20L.popup%28%7B%22maxWidth%22%3A%20%22100%25%22%7D%29%3B%0A%0A%20%20%20%20%20%20%20%20%0A%20%20%20%20%20%20%20%20%20%20%20%20var%20html_4dca8b67f23e464eaa3f763c44952d0a%20%3D%20%24%28%60%3Cdiv%20id%3D%22html_4dca8b67f23e464eaa3f763c44952d0a%22%20style%3D%22width%3A%20100.0%25%3B%20height%3A%20100.0%25%3B%22%3ECountry%20%3A%20Bulgaria%3Cbr%3E%20%20%20%20%20%20%20%20%20%20%20%20%20%20%20%20%20%20%20%20%20Happiness%20Score%20%3A%204.218%3Cbr%3E%20%20%20%20%20%20%20%20%20%20%20%20%20%20%20%20%20%20%20%20%20Year%20%3A%202015%3Cbr%3E%3C/div%3E%60%29%5B0%5D%3B%0A%20%20%20%20%20%20%20%20%20%20%20%20popup_b6b00e29e2d04736bb594c5a62b87644.setContent%28html_4dca8b67f23e464eaa3f763c44952d0a%29%3B%0A%20%20%20%20%20%20%20%20%0A%0A%20%20%20%20%20%20%20%20circle_marker_58f0054f3982466987d2f496ad378cf0.bindPopup%28popup_b6b00e29e2d04736bb594c5a62b87644%29%0A%20%20%20%20%20%20%20%20%3B%0A%0A%20%20%20%20%20%20%20%20%0A%20%20%20%20%0A%20%20%20%20%0A%20%20%20%20%20%20%20%20%20%20%20%20var%20circle_marker_b1576f085f2e43ad8662124d6d8789dd%20%3D%20L.circleMarker%28%0A%20%20%20%20%20%20%20%20%20%20%20%20%20%20%20%20%5B42.6073975%2C%2025.4856617%5D%2C%0A%20%20%20%20%20%20%20%20%20%20%20%20%20%20%20%20%7B%22bubblingMouseEvents%22%3A%20true%2C%20%22color%22%3A%20%22%233388ff%22%2C%20%22dashArray%22%3A%20null%2C%20%22dashOffset%22%3A%20null%2C%20%22fill%22%3A%20true%2C%20%22fillColor%22%3A%20%22%233388ff%22%2C%20%22fillOpacity%22%3A%200.2%2C%20%22fillRule%22%3A%20%22evenodd%22%2C%20%22lineCap%22%3A%20%22round%22%2C%20%22lineJoin%22%3A%20%22round%22%2C%20%22opacity%22%3A%201.0%2C%20%22radius%22%3A%207%2C%20%22stroke%22%3A%20true%2C%20%22weight%22%3A%203%7D%0A%20%20%20%20%20%20%20%20%20%20%20%20%29.addTo%28marker_cluster_dbaf00fdfc5544c7b5c205caa5fb4ea7%29%3B%0A%20%20%20%20%20%20%20%20%0A%20%20%20%20%0A%20%20%20%20%20%20%20%20var%20popup_eff0471126bf4dd3a18d736140f1e25d%20%3D%20L.popup%28%7B%22maxWidth%22%3A%20%22100%25%22%7D%29%3B%0A%0A%20%20%20%20%20%20%20%20%0A%20%20%20%20%20%20%20%20%20%20%20%20var%20html_4f9e226c5e3e40fb926c3b5356a5d0c7%20%3D%20%24%28%60%3Cdiv%20id%3D%22html_4f9e226c5e3e40fb926c3b5356a5d0c7%22%20style%3D%22width%3A%20100.0%25%3B%20height%3A%20100.0%25%3B%22%3ECountry%20%3A%20Bulgaria%3Cbr%3E%20%20%20%20%20%20%20%20%20%20%20%20%20%20%20%20%20%20%20%20%20Happiness%20Score%20%3A%204.217%3Cbr%3E%20%20%20%20%20%20%20%20%20%20%20%20%20%20%20%20%20%20%20%20%20Year%20%3A%202016%3Cbr%3E%3C/div%3E%60%29%5B0%5D%3B%0A%20%20%20%20%20%20%20%20%20%20%20%20popup_eff0471126bf4dd3a18d736140f1e25d.setContent%28html_4f9e226c5e3e40fb926c3b5356a5d0c7%29%3B%0A%20%20%20%20%20%20%20%20%0A%0A%20%20%20%20%20%20%20%20circle_marker_b1576f085f2e43ad8662124d6d8789dd.bindPopup%28popup_eff0471126bf4dd3a18d736140f1e25d%29%0A%20%20%20%20%20%20%20%20%3B%0A%0A%20%20%20%20%20%20%20%20%0A%20%20%20%20%0A%20%20%20%20%0A%20%20%20%20%20%20%20%20%20%20%20%20var%20circle_marker_7471513de11b4172aa489dad98130f32%20%3D%20L.circleMarker%28%0A%20%20%20%20%20%20%20%20%20%20%20%20%20%20%20%20%5B41.000028%2C%2019.9999619%5D%2C%0A%20%20%20%20%20%20%20%20%20%20%20%20%20%20%20%20%7B%22bubblingMouseEvents%22%3A%20true%2C%20%22color%22%3A%20%22%233388ff%22%2C%20%22dashArray%22%3A%20null%2C%20%22dashOffset%22%3A%20null%2C%20%22fill%22%3A%20true%2C%20%22fillColor%22%3A%20%22%233388ff%22%2C%20%22fillOpacity%22%3A%200.2%2C%20%22fillRule%22%3A%20%22evenodd%22%2C%20%22lineCap%22%3A%20%22round%22%2C%20%22lineJoin%22%3A%20%22round%22%2C%20%22opacity%22%3A%201.0%2C%20%22radius%22%3A%207%2C%20%22stroke%22%3A%20true%2C%20%22weight%22%3A%203%7D%0A%20%20%20%20%20%20%20%20%20%20%20%20%29.addTo%28marker_cluster_dbaf00fdfc5544c7b5c205caa5fb4ea7%29%3B%0A%20%20%20%20%20%20%20%20%0A%20%20%20%20%0A%20%20%20%20%20%20%20%20var%20popup_e23aa9ab833a426fa088ad7b5e5e1bf8%20%3D%20L.popup%28%7B%22maxWidth%22%3A%20%22100%25%22%7D%29%3B%0A%0A%20%20%20%20%20%20%20%20%0A%20%20%20%20%20%20%20%20%20%20%20%20var%20html_fff022b0f17c4246a0b4c3eb808e8db4%20%3D%20%24%28%60%3Cdiv%20id%3D%22html_fff022b0f17c4246a0b4c3eb808e8db4%22%20style%3D%22width%3A%20100.0%25%3B%20height%3A%20100.0%25%3B%22%3ECountry%20%3A%20Albania%3Cbr%3E%20%20%20%20%20%20%20%20%20%20%20%20%20%20%20%20%20%20%20%20%20Happiness%20Score%20%3A%204.959%3Cbr%3E%20%20%20%20%20%20%20%20%20%20%20%20%20%20%20%20%20%20%20%20%20Year%20%3A%202015%3Cbr%3E%3C/div%3E%60%29%5B0%5D%3B%0A%20%20%20%20%20%20%20%20%20%20%20%20popup_e23aa9ab833a426fa088ad7b5e5e1bf8.setContent%28html_fff022b0f17c4246a0b4c3eb808e8db4%29%3B%0A%20%20%20%20%20%20%20%20%0A%0A%20%20%20%20%20%20%20%20circle_marker_7471513de11b4172aa489dad98130f32.bindPopup%28popup_e23aa9ab833a426fa088ad7b5e5e1bf8%29%0A%20%20%20%20%20%20%20%20%3B%0A%0A%20%20%20%20%20%20%20%20%0A%20%20%20%20%0A%20%20%20%20%0A%20%20%20%20%20%20%20%20%20%20%20%20var%20circle_marker_139e127ebc174df4905c0e8de30eac5f%20%3D%20L.circleMarker%28%0A%20%20%20%20%20%20%20%20%20%20%20%20%20%20%20%20%5B41.000028%2C%2019.9999619%5D%2C%0A%20%20%20%20%20%20%20%20%20%20%20%20%20%20%20%20%7B%22bubblingMouseEvents%22%3A%20true%2C%20%22color%22%3A%20%22%233388ff%22%2C%20%22dashArray%22%3A%20null%2C%20%22dashOffset%22%3A%20null%2C%20%22fill%22%3A%20true%2C%20%22fillColor%22%3A%20%22%233388ff%22%2C%20%22fillOpacity%22%3A%200.2%2C%20%22fillRule%22%3A%20%22evenodd%22%2C%20%22lineCap%22%3A%20%22round%22%2C%20%22lineJoin%22%3A%20%22round%22%2C%20%22opacity%22%3A%201.0%2C%20%22radius%22%3A%207%2C%20%22stroke%22%3A%20true%2C%20%22weight%22%3A%203%7D%0A%20%20%20%20%20%20%20%20%20%20%20%20%29.addTo%28marker_cluster_dbaf00fdfc5544c7b5c205caa5fb4ea7%29%3B%0A%20%20%20%20%20%20%20%20%0A%20%20%20%20%0A%20%20%20%20%20%20%20%20var%20popup_91b02b89dd244c81ad35594da78bc5bf%20%3D%20L.popup%28%7B%22maxWidth%22%3A%20%22100%25%22%7D%29%3B%0A%0A%20%20%20%20%20%20%20%20%0A%20%20%20%20%20%20%20%20%20%20%20%20var%20html_d6fcb3bfe6124d1c85b012e26d3e0898%20%3D%20%24%28%60%3Cdiv%20id%3D%22html_d6fcb3bfe6124d1c85b012e26d3e0898%22%20style%3D%22width%3A%20100.0%25%3B%20height%3A%20100.0%25%3B%22%3ECountry%20%3A%20Albania%3Cbr%3E%20%20%20%20%20%20%20%20%20%20%20%20%20%20%20%20%20%20%20%20%20Happiness%20Score%20%3A%204.719%3Cbr%3E%20%20%20%20%20%20%20%20%20%20%20%20%20%20%20%20%20%20%20%20%20Year%20%3A%202019%3Cbr%3E%3C/div%3E%60%29%5B0%5D%3B%0A%20%20%20%20%20%20%20%20%20%20%20%20popup_91b02b89dd244c81ad35594da78bc5bf.setContent%28html_d6fcb3bfe6124d1c85b012e26d3e0898%29%3B%0A%20%20%20%20%20%20%20%20%0A%0A%20%20%20%20%20%20%20%20circle_marker_139e127ebc174df4905c0e8de30eac5f.bindPopup%28popup_91b02b89dd244c81ad35594da78bc5bf%29%0A%20%20%20%20%20%20%20%20%3B%0A%0A%20%20%20%20%20%20%20%20%0A%20%20%20%20%0A%20%20%20%20%0A%20%20%20%20%20%20%20%20%20%20%20%20var%20circle_marker_7adc2b121d584752b05142915fc3c49a%20%3D%20L.circleMarker%28%0A%20%20%20%20%20%20%20%20%20%20%20%20%20%20%20%20%5B41.000028%2C%2019.9999619%5D%2C%0A%20%20%20%20%20%20%20%20%20%20%20%20%20%20%20%20%7B%22bubblingMouseEvents%22%3A%20true%2C%20%22color%22%3A%20%22%233388ff%22%2C%20%22dashArray%22%3A%20null%2C%20%22dashOffset%22%3A%20null%2C%20%22fill%22%3A%20true%2C%20%22fillColor%22%3A%20%22%233388ff%22%2C%20%22fillOpacity%22%3A%200.2%2C%20%22fillRule%22%3A%20%22evenodd%22%2C%20%22lineCap%22%3A%20%22round%22%2C%20%22lineJoin%22%3A%20%22round%22%2C%20%22opacity%22%3A%201.0%2C%20%22radius%22%3A%207%2C%20%22stroke%22%3A%20true%2C%20%22weight%22%3A%203%7D%0A%20%20%20%20%20%20%20%20%20%20%20%20%29.addTo%28marker_cluster_dbaf00fdfc5544c7b5c205caa5fb4ea7%29%3B%0A%20%20%20%20%20%20%20%20%0A%20%20%20%20%0A%20%20%20%20%20%20%20%20var%20popup_446b874e8fda41c18af2a1973d6e3149%20%3D%20L.popup%28%7B%22maxWidth%22%3A%20%22100%25%22%7D%29%3B%0A%0A%20%20%20%20%20%20%20%20%0A%20%20%20%20%20%20%20%20%20%20%20%20var%20html_b15b8140e66b49b8818908829479dd4a%20%3D%20%24%28%60%3Cdiv%20id%3D%22html_b15b8140e66b49b8818908829479dd4a%22%20style%3D%22width%3A%20100.0%25%3B%20height%3A%20100.0%25%3B%22%3ECountry%20%3A%20Albania%3Cbr%3E%20%20%20%20%20%20%20%20%20%20%20%20%20%20%20%20%20%20%20%20%20Happiness%20Score%20%3A%204.655%3Cbr%3E%20%20%20%20%20%20%20%20%20%20%20%20%20%20%20%20%20%20%20%20%20Year%20%3A%202016%3Cbr%3E%3C/div%3E%60%29%5B0%5D%3B%0A%20%20%20%20%20%20%20%20%20%20%20%20popup_446b874e8fda41c18af2a1973d6e3149.setContent%28html_b15b8140e66b49b8818908829479dd4a%29%3B%0A%20%20%20%20%20%20%20%20%0A%0A%20%20%20%20%20%20%20%20circle_marker_7adc2b121d584752b05142915fc3c49a.bindPopup%28popup_446b874e8fda41c18af2a1973d6e3149%29%0A%20%20%20%20%20%20%20%20%3B%0A%0A%20%20%20%20%20%20%20%20%0A%20%20%20%20%0A%20%20%20%20%0A%20%20%20%20%20%20%20%20%20%20%20%20var%20circle_marker_36eca34d00654edfa3e1347d3ad1b806%20%3D%20L.circleMarker%28%0A%20%20%20%20%20%20%20%20%20%20%20%20%20%20%20%20%5B41.000028%2C%2019.9999619%5D%2C%0A%20%20%20%20%20%20%20%20%20%20%20%20%20%20%20%20%7B%22bubblingMouseEvents%22%3A%20true%2C%20%22color%22%3A%20%22%233388ff%22%2C%20%22dashArray%22%3A%20null%2C%20%22dashOffset%22%3A%20null%2C%20%22fill%22%3A%20true%2C%20%22fillColor%22%3A%20%22%233388ff%22%2C%20%22fillOpacity%22%3A%200.2%2C%20%22fillRule%22%3A%20%22evenodd%22%2C%20%22lineCap%22%3A%20%22round%22%2C%20%22lineJoin%22%3A%20%22round%22%2C%20%22opacity%22%3A%201.0%2C%20%22radius%22%3A%207%2C%20%22stroke%22%3A%20true%2C%20%22weight%22%3A%203%7D%0A%20%20%20%20%20%20%20%20%20%20%20%20%29.addTo%28marker_cluster_dbaf00fdfc5544c7b5c205caa5fb4ea7%29%3B%0A%20%20%20%20%20%20%20%20%0A%20%20%20%20%0A%20%20%20%20%20%20%20%20var%20popup_764560f6f4704a90bc173ce1ef313c15%20%3D%20L.popup%28%7B%22maxWidth%22%3A%20%22100%25%22%7D%29%3B%0A%0A%20%20%20%20%20%20%20%20%0A%20%20%20%20%20%20%20%20%20%20%20%20var%20html_69abf3699b8b48868d9be4a6f0f60a49%20%3D%20%24%28%60%3Cdiv%20id%3D%22html_69abf3699b8b48868d9be4a6f0f60a49%22%20style%3D%22width%3A%20100.0%25%3B%20height%3A%20100.0%25%3B%22%3ECountry%20%3A%20Albania%3Cbr%3E%20%20%20%20%20%20%20%20%20%20%20%20%20%20%20%20%20%20%20%20%20Happiness%20Score%20%3A%204.64400005340576%3Cbr%3E%20%20%20%20%20%20%20%20%20%20%20%20%20%20%20%20%20%20%20%20%20Year%20%3A%202017%3Cbr%3E%3C/div%3E%60%29%5B0%5D%3B%0A%20%20%20%20%20%20%20%20%20%20%20%20popup_764560f6f4704a90bc173ce1ef313c15.setContent%28html_69abf3699b8b48868d9be4a6f0f60a49%29%3B%0A%20%20%20%20%20%20%20%20%0A%0A%20%20%20%20%20%20%20%20circle_marker_36eca34d00654edfa3e1347d3ad1b806.bindPopup%28popup_764560f6f4704a90bc173ce1ef313c15%29%0A%20%20%20%20%20%20%20%20%3B%0A%0A%20%20%20%20%20%20%20%20%0A%20%20%20%20%0A%20%20%20%20%0A%20%20%20%20%20%20%20%20%20%20%20%20var%20circle_marker_f9f36ca44aa94351adc1b51f370f3b7f%20%3D%20L.circleMarker%28%0A%20%20%20%20%20%20%20%20%20%20%20%20%20%20%20%20%5B41.000028%2C%2019.9999619%5D%2C%0A%20%20%20%20%20%20%20%20%20%20%20%20%20%20%20%20%7B%22bubblingMouseEvents%22%3A%20true%2C%20%22color%22%3A%20%22%233388ff%22%2C%20%22dashArray%22%3A%20null%2C%20%22dashOffset%22%3A%20null%2C%20%22fill%22%3A%20true%2C%20%22fillColor%22%3A%20%22%233388ff%22%2C%20%22fillOpacity%22%3A%200.2%2C%20%22fillRule%22%3A%20%22evenodd%22%2C%20%22lineCap%22%3A%20%22round%22%2C%20%22lineJoin%22%3A%20%22round%22%2C%20%22opacity%22%3A%201.0%2C%20%22radius%22%3A%207%2C%20%22stroke%22%3A%20true%2C%20%22weight%22%3A%203%7D%0A%20%20%20%20%20%20%20%20%20%20%20%20%29.addTo%28marker_cluster_dbaf00fdfc5544c7b5c205caa5fb4ea7%29%3B%0A%20%20%20%20%20%20%20%20%0A%20%20%20%20%0A%20%20%20%20%20%20%20%20var%20popup_d93cc3df6a8146cf96873b6b328adc41%20%3D%20L.popup%28%7B%22maxWidth%22%3A%20%22100%25%22%7D%29%3B%0A%0A%20%20%20%20%20%20%20%20%0A%20%20%20%20%20%20%20%20%20%20%20%20var%20html_be7e1f513841422a9d810d152c3d06fc%20%3D%20%24%28%60%3Cdiv%20id%3D%22html_be7e1f513841422a9d810d152c3d06fc%22%20style%3D%22width%3A%20100.0%25%3B%20height%3A%20100.0%25%3B%22%3ECountry%20%3A%20Albania%3Cbr%3E%20%20%20%20%20%20%20%20%20%20%20%20%20%20%20%20%20%20%20%20%20Happiness%20Score%20%3A%204.586%3Cbr%3E%20%20%20%20%20%20%20%20%20%20%20%20%20%20%20%20%20%20%20%20%20Year%20%3A%202018%3Cbr%3E%3C/div%3E%60%29%5B0%5D%3B%0A%20%20%20%20%20%20%20%20%20%20%20%20popup_d93cc3df6a8146cf96873b6b328adc41.setContent%28html_be7e1f513841422a9d810d152c3d06fc%29%3B%0A%20%20%20%20%20%20%20%20%0A%0A%20%20%20%20%20%20%20%20circle_marker_f9f36ca44aa94351adc1b51f370f3b7f.bindPopup%28popup_d93cc3df6a8146cf96873b6b328adc41%29%0A%20%20%20%20%20%20%20%20%3B%0A%0A%20%20%20%20%20%20%20%20%0A%20%20%20%20%0A%20%20%20%20%0A%20%20%20%20%20%20%20%20%20%20%20%20var%20circle_marker_238dde99ab28478db3d1f57867a878d1%20%3D%20L.circleMarker%28%0A%20%20%20%20%20%20%20%20%20%20%20%20%20%20%20%20%5B42.3154%2C%2043.3569%5D%2C%0A%20%20%20%20%20%20%20%20%20%20%20%20%20%20%20%20%7B%22bubblingMouseEvents%22%3A%20true%2C%20%22color%22%3A%20%22%233388ff%22%2C%20%22dashArray%22%3A%20null%2C%20%22dashOffset%22%3A%20null%2C%20%22fill%22%3A%20true%2C%20%22fillColor%22%3A%20%22%233388ff%22%2C%20%22fillOpacity%22%3A%200.2%2C%20%22fillRule%22%3A%20%22evenodd%22%2C%20%22lineCap%22%3A%20%22round%22%2C%20%22lineJoin%22%3A%20%22round%22%2C%20%22opacity%22%3A%201.0%2C%20%22radius%22%3A%207%2C%20%22stroke%22%3A%20true%2C%20%22weight%22%3A%203%7D%0A%20%20%20%20%20%20%20%20%20%20%20%20%29.addTo%28marker_cluster_dbaf00fdfc5544c7b5c205caa5fb4ea7%29%3B%0A%20%20%20%20%20%20%20%20%0A%20%20%20%20%0A%20%20%20%20%20%20%20%20var%20popup_9b2b80acf839428f9a73255aee5b2a64%20%3D%20L.popup%28%7B%22maxWidth%22%3A%20%22100%25%22%7D%29%3B%0A%0A%20%20%20%20%20%20%20%20%0A%20%20%20%20%20%20%20%20%20%20%20%20var%20html_149ab99bac4747df88b9580576f5cc9a%20%3D%20%24%28%60%3Cdiv%20id%3D%22html_149ab99bac4747df88b9580576f5cc9a%22%20style%3D%22width%3A%20100.0%25%3B%20height%3A%20100.0%25%3B%22%3ECountry%20%3A%20Georgia%3Cbr%3E%20%20%20%20%20%20%20%20%20%20%20%20%20%20%20%20%20%20%20%20%20Happiness%20Score%20%3A%204.519%3Cbr%3E%20%20%20%20%20%20%20%20%20%20%20%20%20%20%20%20%20%20%20%20%20Year%20%3A%202019%3Cbr%3E%3C/div%3E%60%29%5B0%5D%3B%0A%20%20%20%20%20%20%20%20%20%20%20%20popup_9b2b80acf839428f9a73255aee5b2a64.setContent%28html_149ab99bac4747df88b9580576f5cc9a%29%3B%0A%20%20%20%20%20%20%20%20%0A%0A%20%20%20%20%20%20%20%20circle_marker_238dde99ab28478db3d1f57867a878d1.bindPopup%28popup_9b2b80acf839428f9a73255aee5b2a64%29%0A%20%20%20%20%20%20%20%20%3B%0A%0A%20%20%20%20%20%20%20%20%0A%20%20%20%20%0A%20%20%20%20%0A%20%20%20%20%20%20%20%20%20%20%20%20var%20circle_marker_70e5a872fc834938bacb51078797ec55%20%3D%20L.circleMarker%28%0A%20%20%20%20%20%20%20%20%20%20%20%20%20%20%20%20%5B42.3154%2C%2043.3569%5D%2C%0A%20%20%20%20%20%20%20%20%20%20%20%20%20%20%20%20%7B%22bubblingMouseEvents%22%3A%20true%2C%20%22color%22%3A%20%22%233388ff%22%2C%20%22dashArray%22%3A%20null%2C%20%22dashOffset%22%3A%20null%2C%20%22fill%22%3A%20true%2C%20%22fillColor%22%3A%20%22%233388ff%22%2C%20%22fillOpacity%22%3A%200.2%2C%20%22fillRule%22%3A%20%22evenodd%22%2C%20%22lineCap%22%3A%20%22round%22%2C%20%22lineJoin%22%3A%20%22round%22%2C%20%22opacity%22%3A%201.0%2C%20%22radius%22%3A%207%2C%20%22stroke%22%3A%20true%2C%20%22weight%22%3A%203%7D%0A%20%20%20%20%20%20%20%20%20%20%20%20%29.addTo%28marker_cluster_dbaf00fdfc5544c7b5c205caa5fb4ea7%29%3B%0A%20%20%20%20%20%20%20%20%0A%20%20%20%20%0A%20%20%20%20%20%20%20%20var%20popup_da5179adb8f7489784c78681e552ab71%20%3D%20L.popup%28%7B%22maxWidth%22%3A%20%22100%25%22%7D%29%3B%0A%0A%20%20%20%20%20%20%20%20%0A%20%20%20%20%20%20%20%20%20%20%20%20var%20html_b5c0a0aebca54664ac2ef4e3fab540bd%20%3D%20%24%28%60%3Cdiv%20id%3D%22html_b5c0a0aebca54664ac2ef4e3fab540bd%22%20style%3D%22width%3A%20100.0%25%3B%20height%3A%20100.0%25%3B%22%3ECountry%20%3A%20Georgia%3Cbr%3E%20%20%20%20%20%20%20%20%20%20%20%20%20%20%20%20%20%20%20%20%20Happiness%20Score%20%3A%204.34%3Cbr%3E%20%20%20%20%20%20%20%20%20%20%20%20%20%20%20%20%20%20%20%20%20Year%20%3A%202018%3Cbr%3E%3C/div%3E%60%29%5B0%5D%3B%0A%20%20%20%20%20%20%20%20%20%20%20%20popup_da5179adb8f7489784c78681e552ab71.setContent%28html_b5c0a0aebca54664ac2ef4e3fab540bd%29%3B%0A%20%20%20%20%20%20%20%20%0A%0A%20%20%20%20%20%20%20%20circle_marker_70e5a872fc834938bacb51078797ec55.bindPopup%28popup_da5179adb8f7489784c78681e552ab71%29%0A%20%20%20%20%20%20%20%20%3B%0A%0A%20%20%20%20%20%20%20%20%0A%20%20%20%20%0A%20%20%20%20%0A%20%20%20%20%20%20%20%20%20%20%20%20var%20circle_marker_0ba070d2273d41609637226ddf2617c0%20%3D%20L.circleMarker%28%0A%20%20%20%20%20%20%20%20%20%20%20%20%20%20%20%20%5B42.3154%2C%2043.3569%5D%2C%0A%20%20%20%20%20%20%20%20%20%20%20%20%20%20%20%20%7B%22bubblingMouseEvents%22%3A%20true%2C%20%22color%22%3A%20%22%233388ff%22%2C%20%22dashArray%22%3A%20null%2C%20%22dashOffset%22%3A%20null%2C%20%22fill%22%3A%20true%2C%20%22fillColor%22%3A%20%22%233388ff%22%2C%20%22fillOpacity%22%3A%200.2%2C%20%22fillRule%22%3A%20%22evenodd%22%2C%20%22lineCap%22%3A%20%22round%22%2C%20%22lineJoin%22%3A%20%22round%22%2C%20%22opacity%22%3A%201.0%2C%20%22radius%22%3A%207%2C%20%22stroke%22%3A%20true%2C%20%22weight%22%3A%203%7D%0A%20%20%20%20%20%20%20%20%20%20%20%20%29.addTo%28marker_cluster_dbaf00fdfc5544c7b5c205caa5fb4ea7%29%3B%0A%20%20%20%20%20%20%20%20%0A%20%20%20%20%0A%20%20%20%20%20%20%20%20var%20popup_4a3f627ee37f4d17a619cf196d0f7076%20%3D%20L.popup%28%7B%22maxWidth%22%3A%20%22100%25%22%7D%29%3B%0A%0A%20%20%20%20%20%20%20%20%0A%20%20%20%20%20%20%20%20%20%20%20%20var%20html_73d1437848024ebea53eb4df7def3fb7%20%3D%20%24%28%60%3Cdiv%20id%3D%22html_73d1437848024ebea53eb4df7def3fb7%22%20style%3D%22width%3A%20100.0%25%3B%20height%3A%20100.0%25%3B%22%3ECountry%20%3A%20Georgia%3Cbr%3E%20%20%20%20%20%20%20%20%20%20%20%20%20%20%20%20%20%20%20%20%20Happiness%20Score%20%3A%204.297%3Cbr%3E%20%20%20%20%20%20%20%20%20%20%20%20%20%20%20%20%20%20%20%20%20Year%20%3A%202015%3Cbr%3E%3C/div%3E%60%29%5B0%5D%3B%0A%20%20%20%20%20%20%20%20%20%20%20%20popup_4a3f627ee37f4d17a619cf196d0f7076.setContent%28html_73d1437848024ebea53eb4df7def3fb7%29%3B%0A%20%20%20%20%20%20%20%20%0A%0A%20%20%20%20%20%20%20%20circle_marker_0ba070d2273d41609637226ddf2617c0.bindPopup%28popup_4a3f627ee37f4d17a619cf196d0f7076%29%0A%20%20%20%20%20%20%20%20%3B%0A%0A%20%20%20%20%20%20%20%20%0A%20%20%20%20%0A%20%20%20%20%0A%20%20%20%20%20%20%20%20%20%20%20%20var%20circle_marker_6493c5b64dd14ea79295f36c857f2066%20%3D%20L.circleMarker%28%0A%20%20%20%20%20%20%20%20%20%20%20%20%20%20%20%20%5B42.3154%2C%2043.3569%5D%2C%0A%20%20%20%20%20%20%20%20%20%20%20%20%20%20%20%20%7B%22bubblingMouseEvents%22%3A%20true%2C%20%22color%22%3A%20%22%233388ff%22%2C%20%22dashArray%22%3A%20null%2C%20%22dashOffset%22%3A%20null%2C%20%22fill%22%3A%20true%2C%20%22fillColor%22%3A%20%22%233388ff%22%2C%20%22fillOpacity%22%3A%200.2%2C%20%22fillRule%22%3A%20%22evenodd%22%2C%20%22lineCap%22%3A%20%22round%22%2C%20%22lineJoin%22%3A%20%22round%22%2C%20%22opacity%22%3A%201.0%2C%20%22radius%22%3A%207%2C%20%22stroke%22%3A%20true%2C%20%22weight%22%3A%203%7D%0A%20%20%20%20%20%20%20%20%20%20%20%20%29.addTo%28marker_cluster_dbaf00fdfc5544c7b5c205caa5fb4ea7%29%3B%0A%20%20%20%20%20%20%20%20%0A%20%20%20%20%0A%20%20%20%20%20%20%20%20var%20popup_489f6ed3a53e4fd192790718def6439e%20%3D%20L.popup%28%7B%22maxWidth%22%3A%20%22100%25%22%7D%29%3B%0A%0A%20%20%20%20%20%20%20%20%0A%20%20%20%20%20%20%20%20%20%20%20%20var%20html_13023a53db1e4ab0a3cf87beb4b00fd1%20%3D%20%24%28%60%3Cdiv%20id%3D%22html_13023a53db1e4ab0a3cf87beb4b00fd1%22%20style%3D%22width%3A%20100.0%25%3B%20height%3A%20100.0%25%3B%22%3ECountry%20%3A%20Georgia%3Cbr%3E%20%20%20%20%20%20%20%20%20%20%20%20%20%20%20%20%20%20%20%20%20Happiness%20Score%20%3A%204.28599977493286%3Cbr%3E%20%20%20%20%20%20%20%20%20%20%20%20%20%20%20%20%20%20%20%20%20Year%20%3A%202017%3Cbr%3E%3C/div%3E%60%29%5B0%5D%3B%0A%20%20%20%20%20%20%20%20%20%20%20%20popup_489f6ed3a53e4fd192790718def6439e.setContent%28html_13023a53db1e4ab0a3cf87beb4b00fd1%29%3B%0A%20%20%20%20%20%20%20%20%0A%0A%20%20%20%20%20%20%20%20circle_marker_6493c5b64dd14ea79295f36c857f2066.bindPopup%28popup_489f6ed3a53e4fd192790718def6439e%29%0A%20%20%20%20%20%20%20%20%3B%0A%0A%20%20%20%20%20%20%20%20%0A%20%20%20%20%0A%20%20%20%20%0A%20%20%20%20%20%20%20%20%20%20%20%20var%20circle_marker_fc06337d7fb74e49b8373449ee765118%20%3D%20L.circleMarker%28%0A%20%20%20%20%20%20%20%20%20%20%20%20%20%20%20%20%5B42.3154%2C%2043.3569%5D%2C%0A%20%20%20%20%20%20%20%20%20%20%20%20%20%20%20%20%7B%22bubblingMouseEvents%22%3A%20true%2C%20%22color%22%3A%20%22%233388ff%22%2C%20%22dashArray%22%3A%20null%2C%20%22dashOffset%22%3A%20null%2C%20%22fill%22%3A%20true%2C%20%22fillColor%22%3A%20%22%233388ff%22%2C%20%22fillOpacity%22%3A%200.2%2C%20%22fillRule%22%3A%20%22evenodd%22%2C%20%22lineCap%22%3A%20%22round%22%2C%20%22lineJoin%22%3A%20%22round%22%2C%20%22opacity%22%3A%201.0%2C%20%22radius%22%3A%207%2C%20%22stroke%22%3A%20true%2C%20%22weight%22%3A%203%7D%0A%20%20%20%20%20%20%20%20%20%20%20%20%29.addTo%28marker_cluster_dbaf00fdfc5544c7b5c205caa5fb4ea7%29%3B%0A%20%20%20%20%20%20%20%20%0A%20%20%20%20%0A%20%20%20%20%20%20%20%20var%20popup_eee653c95f5b4f8e9b6817bb390e8e13%20%3D%20L.popup%28%7B%22maxWidth%22%3A%20%22100%25%22%7D%29%3B%0A%0A%20%20%20%20%20%20%20%20%0A%20%20%20%20%20%20%20%20%20%20%20%20var%20html_367677b412ed4b6ea407a2c8e6049899%20%3D%20%24%28%60%3Cdiv%20id%3D%22html_367677b412ed4b6ea407a2c8e6049899%22%20style%3D%22width%3A%20100.0%25%3B%20height%3A%20100.0%25%3B%22%3ECountry%20%3A%20Georgia%3Cbr%3E%20%20%20%20%20%20%20%20%20%20%20%20%20%20%20%20%20%20%20%20%20Happiness%20Score%20%3A%204.252%3Cbr%3E%20%20%20%20%20%20%20%20%20%20%20%20%20%20%20%20%20%20%20%20%20Year%20%3A%202016%3Cbr%3E%3C/div%3E%60%29%5B0%5D%3B%0A%20%20%20%20%20%20%20%20%20%20%20%20popup_eee653c95f5b4f8e9b6817bb390e8e13.setContent%28html_367677b412ed4b6ea407a2c8e6049899%29%3B%0A%20%20%20%20%20%20%20%20%0A%0A%20%20%20%20%20%20%20%20circle_marker_fc06337d7fb74e49b8373449ee765118.bindPopup%28popup_eee653c95f5b4f8e9b6817bb390e8e13%29%0A%20%20%20%20%20%20%20%20%3B%0A%0A%20%20%20%20%20%20%20%20%0A%20%20%20%20%0A%3C/script%3E onload=\"this.contentDocument.open();this.contentDocument.write(    decodeURIComponent(this.getAttribute('data-html')));this.contentDocument.close();\" allowfullscreen webkitallowfullscreen mozallowfullscreen></iframe></div></div>"
      ],
      "text/plain": [
       "<folium.folium.Map at 0x28722c039d0>"
      ]
     },
     "execution_count": 67,
     "metadata": {},
     "output_type": "execute_result"
    }
   ],
   "source": [
    "world_map= folium.Map(tiles=\"cartodbpositron\",location=[54.5260, 15.2551], zoom_start=3)\n",
    "marker_cluster = MarkerCluster().add_to(world_map)\n",
    "\n",
    "for i in range(len(alcohol_consumption_AQValue_and_happiness_df)):\n",
    "        lat = alcohol_consumption_AQValue_and_happiness_df.iloc[i]['Latitude']\n",
    "        long = alcohol_consumption_AQValue_and_happiness_df.iloc[i]['Longitude']\n",
    "        radius = 7\n",
    "        popup_text = \"\"\"Country : {}<br>\n",
    "                    Happiness Score : {}<br>\n",
    "                    Year : {}<br>\"\"\"\n",
    "        popup_text = popup_text.format(alcohol_consumption_AQValue_and_happiness_df.iloc[i]['Country'],\n",
    "                                   alcohol_consumption_AQValue_and_happiness_df.iloc[i]['Happiness Score'],\n",
    "                                       alcohol_consumption_AQValue_and_happiness_df.iloc[i]['year']\n",
    "                                   )\n",
    "        folium.CircleMarker(location = [lat, long], radius=radius, popup= popup_text, fill = True).add_to(marker_cluster)\n",
    "world_map"
   ]
  },
  {
   "cell_type": "markdown",
   "id": "fb300c59",
   "metadata": {},
   "source": [
    "<a id=\"44\"></a>"
   ]
  },
  {
   "cell_type": "markdown",
   "id": "fb955803",
   "metadata": {},
   "source": [
    "## 4. Formulate and test a hypothesis"
   ]
  },
  {
   "cell_type": "markdown",
   "id": "6e93ed62",
   "metadata": {},
   "source": [
    "We can add a column for the region of the country so then we can group the data by region search for something interesting. So let's make the groups."
   ]
  },
  {
   "cell_type": "code",
   "execution_count": 68,
   "id": "7adb986d",
   "metadata": {},
   "outputs": [],
   "source": [
    "Northern_Europe = [\"Denmark\", \"Finland\", \"Iceland\", \"Norway\", \"Sweden\"]\n",
    "Western_Europe = [\"Belgium\", \"France\", \"Liechtenstein\", \"Monaco\", \"Netherlands\",\"United Kingdom\",\"Ireland\"]\n",
    "Central_Europe = [\"Croatia\", \"Czech Republic\", \"Hungary\", \"Poland\", \"Slovakia\", \"Slovenia\", \"Germany\", \"Luxembourg\", \"Switzerland\",\"Austria\"]\n",
    "Southwest_Europe = [\"Spain\",\"Portugal\"]\n",
    "Southern_Europe = [\"Greece\",\"Italy\",\"Malta\"]\n",
    "Southeast_Europe = [\"Bulgaria\",\"Albania\",\"Bosnia and Herzegovina\", \"Kosovo\", \"Montenegro\", \"North Macedonia\", \"Romania\",\"Serbia\",\"Turkey\", \"Cyprus\"]\n",
    "Eastern_Europe = [\"Lithuania\", \"Latvia\", \"Estonia\",\"Georgia\"]"
   ]
  },
  {
   "cell_type": "code",
   "execution_count": 69,
   "id": "035d1812",
   "metadata": {},
   "outputs": [],
   "source": [
    "def get_region(country):\n",
    "    if country in Northern_Europe:\n",
    "        return \"Northern_Europe\"\n",
    "    elif country in Western_Europe:\n",
    "        return \"Western_Europe\"\n",
    "    elif country in Central_Europe:\n",
    "        return \"Central_Europe\"\n",
    "    elif country in Southwest_Europe:\n",
    "        return \"Southwest_Europe\"\n",
    "    elif country in Southern_Europe:\n",
    "        return \"Southern_Europe\"\n",
    "    elif country in Southeast_Europe:\n",
    "        return \"Southeast_Europe\"\n",
    "    elif country in Eastern_Europe:\n",
    "        return \"Eastern_Europe\"\n",
    "    else:\n",
    "        return \"other\""
   ]
  },
  {
   "cell_type": "code",
   "execution_count": 70,
   "id": "cc76a51b",
   "metadata": {},
   "outputs": [
    {
     "data": {
      "text/html": [
       "<div>\n",
       "<style scoped>\n",
       "    .dataframe tbody tr th:only-of-type {\n",
       "        vertical-align: middle;\n",
       "    }\n",
       "\n",
       "    .dataframe tbody tr th {\n",
       "        vertical-align: top;\n",
       "    }\n",
       "\n",
       "    .dataframe thead th {\n",
       "        text-align: right;\n",
       "    }\n",
       "</style>\n",
       "<table border=\"1\" class=\"dataframe\">\n",
       "  <thead>\n",
       "    <tr style=\"text-align: right;\">\n",
       "      <th></th>\n",
       "      <th>Country</th>\n",
       "      <th>year</th>\n",
       "      <th>AQValue</th>\n",
       "      <th>Happiness Score</th>\n",
       "      <th>Economy (GDP per Capita)</th>\n",
       "      <th>Family</th>\n",
       "      <th>Health (Life Expectancy)</th>\n",
       "      <th>Freedom</th>\n",
       "      <th>Trust (Government Corruption)</th>\n",
       "      <th>alcohol_consumption</th>\n",
       "      <th>income_per_person</th>\n",
       "      <th>suicide_rate_per_100</th>\n",
       "      <th>employ_rate</th>\n",
       "      <th>urban_rate</th>\n",
       "      <th>Latitude</th>\n",
       "      <th>Longitude</th>\n",
       "      <th>Region</th>\n",
       "    </tr>\n",
       "    <tr>\n",
       "      <th>Happiness Rank</th>\n",
       "      <th></th>\n",
       "      <th></th>\n",
       "      <th></th>\n",
       "      <th></th>\n",
       "      <th></th>\n",
       "      <th></th>\n",
       "      <th></th>\n",
       "      <th></th>\n",
       "      <th></th>\n",
       "      <th></th>\n",
       "      <th></th>\n",
       "      <th></th>\n",
       "      <th></th>\n",
       "      <th></th>\n",
       "      <th></th>\n",
       "      <th></th>\n",
       "      <th></th>\n",
       "    </tr>\n",
       "  </thead>\n",
       "  <tbody>\n",
       "    <tr>\n",
       "      <th>1</th>\n",
       "      <td>Finland</td>\n",
       "      <td>2019</td>\n",
       "      <td>146.887879</td>\n",
       "      <td>7.769</td>\n",
       "      <td>1.340000</td>\n",
       "      <td>1.587000</td>\n",
       "      <td>98.600000</td>\n",
       "      <td>0.596000</td>\n",
       "      <td>0.393000</td>\n",
       "      <td>13.10</td>\n",
       "      <td>27110.731590</td>\n",
       "      <td>16.23437</td>\n",
       "      <td>57.200001</td>\n",
       "      <td>63.30</td>\n",
       "      <td>63.246778</td>\n",
       "      <td>25.920916</td>\n",
       "      <td>Northern_Europe</td>\n",
       "    </tr>\n",
       "    <tr>\n",
       "      <th>2</th>\n",
       "      <td>Finland</td>\n",
       "      <td>2018</td>\n",
       "      <td>455.536366</td>\n",
       "      <td>7.632</td>\n",
       "      <td>1.305000</td>\n",
       "      <td>1.592000</td>\n",
       "      <td>87.400000</td>\n",
       "      <td>0.681000</td>\n",
       "      <td>0.393000</td>\n",
       "      <td>13.10</td>\n",
       "      <td>27110.731590</td>\n",
       "      <td>16.23437</td>\n",
       "      <td>57.200001</td>\n",
       "      <td>63.30</td>\n",
       "      <td>63.246778</td>\n",
       "      <td>25.920916</td>\n",
       "      <td>Northern_Europe</td>\n",
       "    </tr>\n",
       "    <tr>\n",
       "      <th>3</th>\n",
       "      <td>Finland</td>\n",
       "      <td>2017</td>\n",
       "      <td>168.748344</td>\n",
       "      <td>7.469</td>\n",
       "      <td>1.443572</td>\n",
       "      <td>1.540247</td>\n",
       "      <td>80.915767</td>\n",
       "      <td>0.617951</td>\n",
       "      <td>0.245483</td>\n",
       "      <td>13.10</td>\n",
       "      <td>27110.731590</td>\n",
       "      <td>16.23437</td>\n",
       "      <td>57.200001</td>\n",
       "      <td>63.30</td>\n",
       "      <td>63.246778</td>\n",
       "      <td>25.920916</td>\n",
       "      <td>Northern_Europe</td>\n",
       "    </tr>\n",
       "    <tr>\n",
       "      <th>4</th>\n",
       "      <td>Finland</td>\n",
       "      <td>2016</td>\n",
       "      <td>287.209049</td>\n",
       "      <td>7.413</td>\n",
       "      <td>1.405980</td>\n",
       "      <td>1.134640</td>\n",
       "      <td>81.091000</td>\n",
       "      <td>0.571040</td>\n",
       "      <td>0.410040</td>\n",
       "      <td>13.10</td>\n",
       "      <td>27110.731590</td>\n",
       "      <td>16.23437</td>\n",
       "      <td>57.200001</td>\n",
       "      <td>63.30</td>\n",
       "      <td>63.246778</td>\n",
       "      <td>25.920916</td>\n",
       "      <td>Northern_Europe</td>\n",
       "    </tr>\n",
       "    <tr>\n",
       "      <th>5</th>\n",
       "      <td>Finland</td>\n",
       "      <td>2015</td>\n",
       "      <td>330.986899</td>\n",
       "      <td>7.406</td>\n",
       "      <td>1.290250</td>\n",
       "      <td>1.318260</td>\n",
       "      <td>88.911000</td>\n",
       "      <td>0.641690</td>\n",
       "      <td>0.413720</td>\n",
       "      <td>13.10</td>\n",
       "      <td>27110.731590</td>\n",
       "      <td>16.23437</td>\n",
       "      <td>57.200001</td>\n",
       "      <td>63.30</td>\n",
       "      <td>63.246778</td>\n",
       "      <td>25.920916</td>\n",
       "      <td>Northern_Europe</td>\n",
       "    </tr>\n",
       "    <tr>\n",
       "      <th>...</th>\n",
       "      <td>...</td>\n",
       "      <td>...</td>\n",
       "      <td>...</td>\n",
       "      <td>...</td>\n",
       "      <td>...</td>\n",
       "      <td>...</td>\n",
       "      <td>...</td>\n",
       "      <td>...</td>\n",
       "      <td>...</td>\n",
       "      <td>...</td>\n",
       "      <td>...</td>\n",
       "      <td>...</td>\n",
       "      <td>...</td>\n",
       "      <td>...</td>\n",
       "      <td>...</td>\n",
       "      <td>...</td>\n",
       "      <td>...</td>\n",
       "    </tr>\n",
       "    <tr>\n",
       "      <th>166</th>\n",
       "      <td>Georgia</td>\n",
       "      <td>2019</td>\n",
       "      <td>229.465868</td>\n",
       "      <td>4.519</td>\n",
       "      <td>0.886000</td>\n",
       "      <td>0.666000</td>\n",
       "      <td>75.200000</td>\n",
       "      <td>0.346000</td>\n",
       "      <td>0.164000</td>\n",
       "      <td>6.66</td>\n",
       "      <td>1258.762596</td>\n",
       "      <td>1.57435</td>\n",
       "      <td>55.599998</td>\n",
       "      <td>52.74</td>\n",
       "      <td>42.315400</td>\n",
       "      <td>43.356900</td>\n",
       "      <td>Eastern_Europe</td>\n",
       "    </tr>\n",
       "    <tr>\n",
       "      <th>167</th>\n",
       "      <td>Georgia</td>\n",
       "      <td>2018</td>\n",
       "      <td>0.214286</td>\n",
       "      <td>4.340</td>\n",
       "      <td>0.853000</td>\n",
       "      <td>0.592000</td>\n",
       "      <td>64.300000</td>\n",
       "      <td>0.375000</td>\n",
       "      <td>0.215000</td>\n",
       "      <td>6.66</td>\n",
       "      <td>1258.762596</td>\n",
       "      <td>1.57435</td>\n",
       "      <td>55.599998</td>\n",
       "      <td>52.74</td>\n",
       "      <td>42.315400</td>\n",
       "      <td>43.356900</td>\n",
       "      <td>Eastern_Europe</td>\n",
       "    </tr>\n",
       "    <tr>\n",
       "      <th>168</th>\n",
       "      <td>Georgia</td>\n",
       "      <td>2015</td>\n",
       "      <td>28182.499919</td>\n",
       "      <td>4.297</td>\n",
       "      <td>0.741900</td>\n",
       "      <td>0.385620</td>\n",
       "      <td>72.926000</td>\n",
       "      <td>0.405770</td>\n",
       "      <td>0.383310</td>\n",
       "      <td>6.66</td>\n",
       "      <td>1258.762596</td>\n",
       "      <td>1.57435</td>\n",
       "      <td>55.599998</td>\n",
       "      <td>52.74</td>\n",
       "      <td>42.315400</td>\n",
       "      <td>43.356900</td>\n",
       "      <td>Eastern_Europe</td>\n",
       "    </tr>\n",
       "    <tr>\n",
       "      <th>169</th>\n",
       "      <td>Georgia</td>\n",
       "      <td>2017</td>\n",
       "      <td>7995.112309</td>\n",
       "      <td>4.286</td>\n",
       "      <td>0.950613</td>\n",
       "      <td>0.570615</td>\n",
       "      <td>64.954698</td>\n",
       "      <td>0.309410</td>\n",
       "      <td>0.054009</td>\n",
       "      <td>6.66</td>\n",
       "      <td>1258.762596</td>\n",
       "      <td>1.57435</td>\n",
       "      <td>55.599998</td>\n",
       "      <td>52.74</td>\n",
       "      <td>42.315400</td>\n",
       "      <td>43.356900</td>\n",
       "      <td>Eastern_Europe</td>\n",
       "    </tr>\n",
       "    <tr>\n",
       "      <th>170</th>\n",
       "      <td>Georgia</td>\n",
       "      <td>2016</td>\n",
       "      <td>27162.194262</td>\n",
       "      <td>4.252</td>\n",
       "      <td>0.837920</td>\n",
       "      <td>0.192490</td>\n",
       "      <td>64.035000</td>\n",
       "      <td>0.324610</td>\n",
       "      <td>0.318800</td>\n",
       "      <td>6.66</td>\n",
       "      <td>1258.762596</td>\n",
       "      <td>1.57435</td>\n",
       "      <td>55.599998</td>\n",
       "      <td>52.74</td>\n",
       "      <td>42.315400</td>\n",
       "      <td>43.356900</td>\n",
       "      <td>Eastern_Europe</td>\n",
       "    </tr>\n",
       "  </tbody>\n",
       "</table>\n",
       "<p>170 rows × 17 columns</p>\n",
       "</div>"
      ],
      "text/plain": [
       "                Country  year       AQValue  Happiness Score  \\\n",
       "Happiness Rank                                                 \n",
       "1               Finland  2019    146.887879            7.769   \n",
       "2               Finland  2018    455.536366            7.632   \n",
       "3               Finland  2017    168.748344            7.469   \n",
       "4               Finland  2016    287.209049            7.413   \n",
       "5               Finland  2015    330.986899            7.406   \n",
       "...                 ...   ...           ...              ...   \n",
       "166             Georgia  2019    229.465868            4.519   \n",
       "167             Georgia  2018      0.214286            4.340   \n",
       "168             Georgia  2015  28182.499919            4.297   \n",
       "169             Georgia  2017   7995.112309            4.286   \n",
       "170             Georgia  2016  27162.194262            4.252   \n",
       "\n",
       "                Economy (GDP per Capita)    Family  Health (Life Expectancy)  \\\n",
       "Happiness Rank                                                                 \n",
       "1                               1.340000  1.587000                 98.600000   \n",
       "2                               1.305000  1.592000                 87.400000   \n",
       "3                               1.443572  1.540247                 80.915767   \n",
       "4                               1.405980  1.134640                 81.091000   \n",
       "5                               1.290250  1.318260                 88.911000   \n",
       "...                                  ...       ...                       ...   \n",
       "166                             0.886000  0.666000                 75.200000   \n",
       "167                             0.853000  0.592000                 64.300000   \n",
       "168                             0.741900  0.385620                 72.926000   \n",
       "169                             0.950613  0.570615                 64.954698   \n",
       "170                             0.837920  0.192490                 64.035000   \n",
       "\n",
       "                 Freedom  Trust (Government Corruption)  alcohol_consumption  \\\n",
       "Happiness Rank                                                                 \n",
       "1               0.596000                       0.393000                13.10   \n",
       "2               0.681000                       0.393000                13.10   \n",
       "3               0.617951                       0.245483                13.10   \n",
       "4               0.571040                       0.410040                13.10   \n",
       "5               0.641690                       0.413720                13.10   \n",
       "...                  ...                            ...                  ...   \n",
       "166             0.346000                       0.164000                 6.66   \n",
       "167             0.375000                       0.215000                 6.66   \n",
       "168             0.405770                       0.383310                 6.66   \n",
       "169             0.309410                       0.054009                 6.66   \n",
       "170             0.324610                       0.318800                 6.66   \n",
       "\n",
       "                income_per_person  suicide_rate_per_100  employ_rate  \\\n",
       "Happiness Rank                                                         \n",
       "1                    27110.731590              16.23437    57.200001   \n",
       "2                    27110.731590              16.23437    57.200001   \n",
       "3                    27110.731590              16.23437    57.200001   \n",
       "4                    27110.731590              16.23437    57.200001   \n",
       "5                    27110.731590              16.23437    57.200001   \n",
       "...                           ...                   ...          ...   \n",
       "166                   1258.762596               1.57435    55.599998   \n",
       "167                   1258.762596               1.57435    55.599998   \n",
       "168                   1258.762596               1.57435    55.599998   \n",
       "169                   1258.762596               1.57435    55.599998   \n",
       "170                   1258.762596               1.57435    55.599998   \n",
       "\n",
       "                urban_rate   Latitude  Longitude           Region  \n",
       "Happiness Rank                                                     \n",
       "1                    63.30  63.246778  25.920916  Northern_Europe  \n",
       "2                    63.30  63.246778  25.920916  Northern_Europe  \n",
       "3                    63.30  63.246778  25.920916  Northern_Europe  \n",
       "4                    63.30  63.246778  25.920916  Northern_Europe  \n",
       "5                    63.30  63.246778  25.920916  Northern_Europe  \n",
       "...                    ...        ...        ...              ...  \n",
       "166                  52.74  42.315400  43.356900   Eastern_Europe  \n",
       "167                  52.74  42.315400  43.356900   Eastern_Europe  \n",
       "168                  52.74  42.315400  43.356900   Eastern_Europe  \n",
       "169                  52.74  42.315400  43.356900   Eastern_Europe  \n",
       "170                  52.74  42.315400  43.356900   Eastern_Europe  \n",
       "\n",
       "[170 rows x 17 columns]"
      ]
     },
     "execution_count": 70,
     "metadata": {},
     "output_type": "execute_result"
    }
   ],
   "source": [
    "alcohol_consumption_AQValue_and_happiness_df['Region'] = alcohol_consumption_AQValue_and_happiness_df['Country'].apply(lambda x: get_region(x))\n",
    "alcohol_consumption_AQValue_and_happiness_df"
   ]
  },
  {
   "cell_type": "code",
   "execution_count": 71,
   "id": "f901e8be",
   "metadata": {},
   "outputs": [],
   "source": [
    "def groupBy_and_separete(df, groupedBy:str, second_column:str):\n",
    "    groupedBy_first = df.groupby(groupedBy)\n",
    "    groupedBy_first_with_second = groupedBy_first[second_column]\n",
    "    return groupedBy_first_with_second"
   ]
  },
  {
   "cell_type": "code",
   "execution_count": 72,
   "id": "9cd12815",
   "metadata": {},
   "outputs": [],
   "source": [
    "happiness_by_region = groupBy_and_separete(alcohol_consumption_AQValue_and_happiness_df,\"Region\",\"Happiness Score\")"
   ]
  },
  {
   "cell_type": "code",
   "execution_count": 73,
   "id": "ba2fedfd",
   "metadata": {},
   "outputs": [
    {
     "data": {
      "image/png": "[encoded data removed]",
      "text/plain": [
       "<Figure size 432x288 with 1 Axes>"
      ]
     },
     "metadata": {
      "needs_background": "light"
     },
     "output_type": "display_data"
    }
   ],
   "source": [
    "for region, happiness in happiness_by_region:\n",
    "    plt.hist(happiness, label = \"Class {}\".format(region), alpha = 0.6, bins = \"fd\")\n",
    "plt.title(\"Distribution of happiness per region\")\n",
    "plt.legend()\n",
    "plt.show()"
   ]
  },
  {
   "cell_type": "markdown",
   "id": "12df5905",
   "metadata": {},
   "source": [
    "We can see something really interesting. It seems that the population in Central, Northern and Western Europe are happier than the other . But is this really true? We can't tell for sure. We can't be sure whether there's a significant difference or not.\n",
    "\n",
    "Fortunately, there's a rigorous statistical method to find out. Enter hypothesis testing."
   ]
  },
  {
   "cell_type": "code",
   "execution_count": 74,
   "id": "cfcb060a",
   "metadata": {},
   "outputs": [],
   "source": [
    "def get_multiple_groups(grouped_by_something, something_that_is_used_for_the_grouping:list):\n",
    "    return pd.concat([group for (name, group) in grouped_by_something if name in something_that_is_used_for_the_grouping])"
   ]
  },
  {
   "cell_type": "code",
   "execution_count": 75,
   "id": "8e3add33",
   "metadata": {},
   "outputs": [],
   "source": [
    "hipotethical_happier_regions = get_multiple_groups(happiness_by_region, [\"Central_Europe\",\"Northern_Europe\",\"Western_Europe\"])\n",
    "rest_of_the_regions = get_multiple_groups(happiness_by_region, [\"Eastern_Eurogroupedpe\",\"Southern_Europe\",\"Southeast_Europe\",\"Southwest_Europe\"])"
   ]
  },
  {
   "cell_type": "markdown",
   "id": "f8bbd559",
   "metadata": {},
   "source": [
    "The \"null hypothesis\",  𝐻0  says that \"there's nothing interesting going on with the data\". The \"alternative hypothesis\",  𝐻1  says the opposite.\n",
    "\n",
    "We want to prove whether or not the the region is correlated with the happiness. Therefore:\n",
    "\n",
    "𝐻0:  Region is not correlated with the happiness. <b>hipotethical_happier_regions</b> and <b>rest_of_the_regions</b> are two samples from the same distribution.\n",
    "𝐻1:  <b>hipotethical_happier_regions</b> and <b>rest_of_the_regions</b> come from two different distributions.\n",
    "Ideally, we'd like to reject the null hypothesis.\n",
    "\n",
    "We have to agree on a \"threshold value\" of  𝑝 . Usually that's 5% (0.05). What does this mean? If we reject  𝐻0 , there will still be 5% chance that we rejected it wrongly.\n",
    "\n",
    "<b>If  𝑝 ≤ 5% , we will reject  𝐻0 .</b>"
   ]
  },
  {
   "cell_type": "code",
   "execution_count": 76,
   "id": "aec13a3f",
   "metadata": {},
   "outputs": [],
   "source": [
    "def test_hypothesis(group1, group2, message_if_we_reject_H0:str):\n",
    "    test_result = ttest_ind(group1, group2, equal_var = False)\n",
    "    print(test_result.pvalue)\n",
    "\n",
    "    if test_result.pvalue <= 0.05:\n",
    "        print(message_if_we_reject_H0)\n",
    "    else:\n",
    "        print(\"There's not enough evidence to reject H0. Don't accept or reject anything else.\")"
   ]
  },
  {
   "cell_type": "code",
   "execution_count": 77,
   "id": "bf999f6d",
   "metadata": {},
   "outputs": [
    {
     "name": "stdout",
     "output_type": "stream",
     "text": [
      "2.9778792392765427e-24\n",
      "The differences in happiness score of the regions is significant. Reject H0.\n"
     ]
    }
   ],
   "source": [
    "test_hypothesis( hipotethical_happier_regions, rest_of_the_regions, \"The differences in happiness score of the regions is significant. Reject H0.\")"
   ]
  },
  {
   "cell_type": "markdown",
   "id": "70f782cc",
   "metadata": {},
   "source": [
    "Now we can test more hypothesis. For example let's check <b>if the region is correlated with the amount of consumed alcohol.</b>"
   ]
  },
  {
   "cell_type": "code",
   "execution_count": 78,
   "id": "f12791e8",
   "metadata": {},
   "outputs": [],
   "source": [
    "alcohol_consumption_by_region = groupBy_and_separete( alcohol_consumption_AQValue_and_happiness_df, \"Region\",\"alcohol_consumption\")"
   ]
  },
  {
   "cell_type": "code",
   "execution_count": 79,
   "id": "306c26ec",
   "metadata": {},
   "outputs": [
    {
     "data": {
      "image/png": "[encoded data removed]",
      "text/plain": [
       "<Figure size 432x288 with 1 Axes>"
      ]
     },
     "metadata": {
      "needs_background": "light"
     },
     "output_type": "display_data"
    }
   ],
   "source": [
    "for region, amount_of_alcohol in alcohol_consumption_by_region:\n",
    "    plt.hist(amount_of_alcohol, label = \"Class {}\".format(region), alpha = 0.4, bins = \"fd\")\n",
    "plt.title(\"Distribution of consumed alcohol per region\")\n",
    "plt.legend()\n",
    "plt.show()"
   ]
  },
  {
   "cell_type": "markdown",
   "id": "b0e39d4d",
   "metadata": {},
   "source": [
    "From this histogram is hard to find something interesting, but we can suggest that people from South regions of Europe drinks more, so let's try it with hypotesis testing."
   ]
  },
  {
   "cell_type": "code",
   "execution_count": 80,
   "id": "d4b6a17e",
   "metadata": {},
   "outputs": [],
   "source": [
    "hypothetical_regions_with_more_consumption_of_alcohol = get_multiple_groups(alcohol_consumption_by_region, [\"Southwest_Europe\",\"Southeast_Europe\",\"Southern_Europe\"])\n",
    "hypothetical_regions_with_less_alcohol_consumption = get_multiple_groups(alcohol_consumption_by_region, [\"Central_Europe\",\"Northern_Europe\",\"Western_Europe\",\"Eastern_Europe\"])"
   ]
  },
  {
   "cell_type": "markdown",
   "id": "a30b1b2d",
   "metadata": {},
   "source": [
    "We want to prove whether or not the the region is correlated with the alcohol consumption. Therefore:\n",
    "\n",
    "𝐻0:  Region is not correlated with alcohol consumption. <b>hypothetical_regions_with_more_consumption_of_alcohol</b> and <b>hypothetical_regions_with_less_alcohol_consumption</b> are two samples from the same distribution.\n",
    "𝐻1:  <b>hypothetical_regions_with_more_consumption_of_alcohol</b> and <b>hypothetical_regions_with_less_alcohol_consumption</b> come from two different distributions.\n",
    "Ideally, we'd like to reject the null hypothesis.\n",
    "\n",
    "We have to agree on a \"threshold value\" of  𝑝 . Usually that's 5% (0.05). What does this mean? If we reject  𝐻0 , there will still be 5% chance that we rejected it wrongly.\n",
    "\n",
    "<b>If  𝑝 ≤ 5% , we will reject  𝐻0 .</b>"
   ]
  },
  {
   "cell_type": "code",
   "execution_count": 81,
   "id": "369673d5",
   "metadata": {},
   "outputs": [
    {
     "name": "stdout",
     "output_type": "stream",
     "text": [
      "9.12675296105432e-06\n",
      "The differences in alcohol consumption of the regions is significant. Reject H0.\n"
     ]
    }
   ],
   "source": [
    "test_hypothesis(hypothetical_regions_with_more_consumption_of_alcohol, hypothetical_regions_with_less_alcohol_consumption, \"The differences in alcohol consumption of the regions is significant. Reject H0.\")"
   ]
  },
  {
   "cell_type": "markdown",
   "id": "2c1aa965",
   "metadata": {},
   "source": [
    "<a id=\"12\"></a>"
   ]
  },
  {
   "cell_type": "markdown",
   "id": "ab5d540f",
   "metadata": {},
   "source": [
    "We previosly said that we will test the correlation from the research <b>\"According to the scientists of the research, wealth actually is correlated with happiness, particularly in poorer societies.\"</b> "
   ]
  },
  {
   "cell_type": "code",
   "execution_count": 82,
   "id": "647ecaf9",
   "metadata": {},
   "outputs": [
    {
     "data": {
      "image/png": "[encoded data removed]",
      "text/plain": [
       "<Figure size 432x288 with 1 Axes>"
      ]
     },
     "metadata": {
      "needs_background": "light"
     },
     "output_type": "display_data"
    }
   ],
   "source": [
    "plt.hist(alcohol_consumption_AQValue_and_happiness_df.income_per_person, alpha = 0.8, bins = \"fd\")\n",
    "plt.xlabel(\"Annual income per person\")\n",
    "plt.ylabel(\"Count of countries\")\n",
    "plt.show()"
   ]
  },
  {
   "cell_type": "code",
   "execution_count": 83,
   "id": "da3bf20d",
   "metadata": {},
   "outputs": [
    {
     "data": {
      "text/plain": [
       "(1194.711433, 52301.58718)"
      ]
     },
     "execution_count": 83,
     "metadata": {},
     "output_type": "execute_result"
    }
   ],
   "source": [
    "alcohol_consumption_AQValue_and_happiness_df.income_per_person.min(),alcohol_consumption_AQValue_and_happiness_df.income_per_person.max()"
   ]
  },
  {
   "cell_type": "code",
   "execution_count": 84,
   "id": "d55872cc",
   "metadata": {},
   "outputs": [
    {
     "data": {
      "text/plain": [
       "14445.869620000001"
      ]
     },
     "execution_count": 84,
     "metadata": {},
     "output_type": "execute_result"
    }
   ],
   "source": [
    "np.median(alcohol_consumption_AQValue_and_happiness_df.income_per_person)"
   ]
  },
  {
   "cell_type": "code",
   "execution_count": 85,
   "id": "0c79d5c2",
   "metadata": {},
   "outputs": [
    {
     "data": {
      "text/plain": [
       "17248.983704882365"
      ]
     },
     "execution_count": 85,
     "metadata": {},
     "output_type": "execute_result"
    }
   ],
   "source": [
    "alcohol_consumption_AQValue_and_happiness_df.income_per_person.mean()"
   ]
  },
  {
   "cell_type": "code",
   "execution_count": 86,
   "id": "5ea0e9fa",
   "metadata": {},
   "outputs": [
    {
     "data": {
      "text/plain": [
       "0.6061475123917012"
      ]
     },
     "execution_count": 86,
     "metadata": {},
     "output_type": "execute_result"
    }
   ],
   "source": [
    "alcohol_consumption_AQValue_and_happiness_df.income_per_person.skew()"
   ]
  },
  {
   "cell_type": "markdown",
   "id": "e25ec0d7",
   "metadata": {},
   "source": [
    "I think the the fairer separator of the groups will be the mean value."
   ]
  },
  {
   "cell_type": "code",
   "execution_count": 87,
   "id": "32d6044a",
   "metadata": {},
   "outputs": [],
   "source": [
    "mean_value = alcohol_consumption_AQValue_and_happiness_df.income_per_person.mean()"
   ]
  },
  {
   "cell_type": "code",
   "execution_count": 88,
   "id": "73938a8d",
   "metadata": {},
   "outputs": [],
   "source": [
    "first_group_of_countries = alcohol_consumption_AQValue_and_happiness_df[alcohol_consumption_AQValue_and_happiness_df.income_per_person < mean_value]\n",
    "second_group_of_countries = alcohol_consumption_AQValue_and_happiness_df[alcohol_consumption_AQValue_and_happiness_df.income_per_person >= mean_value]"
   ]
  },
  {
   "cell_type": "code",
   "execution_count": 89,
   "id": "3afc3d34",
   "metadata": {},
   "outputs": [
    {
     "data": {
      "text/plain": [
       "(95, 75)"
      ]
     },
     "execution_count": 89,
     "metadata": {},
     "output_type": "execute_result"
    }
   ],
   "source": [
    "len(first_group_of_countries),len(second_group_of_countries)"
   ]
  },
  {
   "cell_type": "code",
   "execution_count": 90,
   "id": "e3026d13",
   "metadata": {},
   "outputs": [],
   "source": [
    "happiness_per_income = groupBy_and_separete( alcohol_consumption_AQValue_and_happiness_df, \"income_per_person\",\"Happiness Score\")"
   ]
  },
  {
   "cell_type": "code",
   "execution_count": 91,
   "id": "242fbf59",
   "metadata": {},
   "outputs": [
    {
     "data": {
      "image/png": "[encoded data removed]",
      "text/plain": [
       "<Figure size 432x288 with 1 Axes>"
      ]
     },
     "metadata": {
      "needs_background": "light"
     },
     "output_type": "display_data"
    }
   ],
   "source": [
    "for income_per_person, happiness in happiness_per_income:\n",
    "    plt.hist(happiness, alpha = 0.45, bins = \"fd\")\n",
    "plt.title(\"Distribution of happiness per wealth\")\n",
    "plt.xlabel(\"Happiness Score\")\n",
    "plt.ylabel(\"Count\")\n",
    "plt.show()"
   ]
  },
  {
   "cell_type": "code",
   "execution_count": 92,
   "id": "e7faa705",
   "metadata": {},
   "outputs": [],
   "source": [
    "hypothetical_countries_with_more_happiness = pd.concat([group for (name, group) in happiness_per_income if name > mean_value])\n",
    "hypothetical_countries_with_less_happiness = pd.concat([group for (name, group) in happiness_per_income if name <= mean_value])"
   ]
  },
  {
   "cell_type": "markdown",
   "id": "3b876b53",
   "metadata": {},
   "source": [
    "We want to prove whether or not the the happiness of the people is correlated with their wealth. Therefore:\n",
    "\n",
    "𝐻0:  Happiness is not correlated with wealth. <b>hypothetical_countries_with_more_happiness</b> and <b>hypothetical_countries_with_less_happiness</b> are two samples from the same distribution.\n",
    "𝐻1:  <b>hypothetical_countries_with_more_happiness</b> and <b>hypothetical_countries_with_less_happiness</b> come from two different distributions.\n",
    "Ideally, we'd like to reject the null hypothesis.\n",
    "\n",
    "We have to agree on a \"threshold value\" of  𝑝 . Usually that's 5% (0.05). What does this mean? If we reject  𝐻0 , there will still be 5% chance that we rejected it wrongly.\n",
    "\n",
    "<b>If  𝑝 ≤ 5% , we will reject  𝐻0 .</b>"
   ]
  },
  {
   "cell_type": "code",
   "execution_count": 93,
   "id": "80f183f7",
   "metadata": {},
   "outputs": [
    {
     "name": "stdout",
     "output_type": "stream",
     "text": [
      "2.0873388397522427e-48\n",
      "The differences in happiness score compared to wealth is significant. Reject H0.\n"
     ]
    }
   ],
   "source": [
    "test_hypothesis( hypothetical_countries_with_more_happiness, hypothetical_countries_with_less_happiness, \"The differences in happiness score compared to wealth is significant. Reject H0.\")"
   ]
  },
  {
   "cell_type": "markdown",
   "id": "73c064ec",
   "metadata": {},
   "source": [
    "<a id=\"4\"></a>"
   ]
  },
  {
   "cell_type": "markdown",
   "id": "b1f1c137",
   "metadata": {},
   "source": [
    "# 4.Conclusion"
   ]
  },
  {
   "cell_type": "markdown",
   "id": "bd21f4a6",
   "metadata": {},
   "source": [
    "From this study we can conclude that the happiness of the people depends on many factors but in most cases the happiness of different regions are different, because of the lifestyle of the people, their habits and their wealth, while people in the same region has simillar values of the factors influencing the happiness."
   ]
  },
  {
   "cell_type": "markdown",
   "id": "7fc1ae13",
   "metadata": {},
   "source": [
    "### REFERENCES:\n",
    "<ul>\n",
    "    <li><a href=\"https://www.eea.europa.eu/\">The European Environment Agency</a></li>\n",
    "        <li><a href=\"https://www.psychologicalscience.org/observer/serious-research-on-happiness\">Serious Research on Happiness</a></li>\n",
    "            <li><a href=\"https://en.wikipedia.org/wiki/World_Happiness_Report\">World Happiness Report</a></li>\n",
    "    <li><a href=\"https://towardsdatascience.com/using-python-to-create-a-world-map-from-a-list-of-country-names-cd7480d03b10\">Using Python to create a world map from a list of country names</a></li>\n",
    "    <li><a href=\"https://www.kaggle.com/datasets\">Source for Datasets -kaggle</a></li>\n",
    "    <li><a href=\"https://softuni.bg/trainings/3283/data-science-june-2021\">Data Science course - June 2021</a></li>\n",
    "</ul>"
   ]
  }
 ],
 "metadata": {
  "kernelspec": {
   "display_name": "Python 3",
   "language": "python",
   "name": "python3"
  },
  "language_info": {
   "codemirror_mode": {
    "name": "ipython",
    "version": 3
   },
   "file_extension": ".py",
   "mimetype": "text/x-python",
   "name": "python",
   "nbconvert_exporter": "python",
   "pygments_lexer": "ipython3",
   "version": "3.8.10"
  }
 },
 "nbformat": 4,
 "nbformat_minor": 5
}
